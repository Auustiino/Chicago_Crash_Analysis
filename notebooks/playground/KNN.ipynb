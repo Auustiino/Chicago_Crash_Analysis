{
 "cells": [
  {
   "cell_type": "code",
   "execution_count": 2,
   "id": "bdd7f0a4",
   "metadata": {},
   "outputs": [],
   "source": [
    "#from sklearn.experimental import enable_iterative_imputer\n",
    "#from sklearn.preprocessing import FunctionTransformer\n",
    "import pandas as pd\n",
    "import numpy as np\n",
    "\n",
    "from sklearn.impute import SimpleImputer #, IterativeImputer\n",
    "from sklearn.preprocessing import LabelEncoder, OrdinalEncoder, OneHotEncoder, StandardScaler, MaxAbsScaler\n",
    "from sklearn.metrics import precision_score, recall_score, accuracy_score, classification_report, ConfusionMatrixDisplay\n",
    "from sklearn.metrics import roc_auc_score, roc_curve, auc\n",
    "\n",
    "from sklearn.linear_model import LogisticRegression\n",
    "from sklearn.neighbors import KNeighborsClassifier\n",
    "from sklearn.tree import DecisionTreeClassifier\n",
    "from sklearn.ensemble import BaggingClassifier, RandomForestClassifier, ExtraTreesClassifier, AdaBoostClassifier\n",
    "from sklearn.model_selection import GridSearchCV, train_test_split\n",
    "\n",
    "from sklearn.compose import ColumnTransformer\n",
    "from sklearn.pipeline import FeatureUnion, Pipeline\n",
    "\n",
    "\n",
    "from sklearn import set_config\n",
    "set_config(display =\"diagram\")\n",
    "\n",
    "import matplotlib.pyplot as plt\n",
    "%matplotlib inline"
   ]
  },
  {
   "cell_type": "code",
   "execution_count": 3,
   "id": "4457d4f8",
   "metadata": {},
   "outputs": [],
   "source": [
    "\n",
    "full_df=pd.read_csv('../data/processed/crashes.gz', compression='gzip', low_memory=False)"
   ]
  },
  {
   "cell_type": "code",
   "execution_count": 118,
   "id": "57c929aa",
   "metadata": {},
   "outputs": [],
   "source": [
    "selected_df=full_df[['GUILTY','DEVICE_CONDITION', 'FIRST_CRASH_TYPE', 'FIRST_CONTACT_POINT', \n",
    "           'TRAFFICWAY_TYPE','ROADWAY_SURFACE_COND','VEHICLE_DEFECT',\n",
    "             'DRIVERS_LICENSE_CLASS', 'AGE_GROUP', 'VEHICLE_AGE', 'AIRBAG_DEPLOYED',\n",
    "            'PHYSICAL_CONDITION', 'MANEUVER',  'DRIVER_VISION',  'ALIGNMENT' ,  'TRAFFIC_CONTROL_DEVICE',\n",
    "                    'NUM_PASSENGERS','SUN_GLARE','VEHICLE_YEAR']]\n"
   ]
  },
  {
   "cell_type": "code",
   "execution_count": 119,
   "id": "9df39de9",
   "metadata": {},
   "outputs": [],
   "source": [
    "#sample_df=selected_df.sample(80000, random_state=100)\n",
    "sample_df=selected_df.copy()\n",
    "\n",
    "\n",
    "y = sample_df['GUILTY']\n",
    "x = sample_df.drop(['GUILTY'],axis=1)\n",
    "\n",
    "X_train, X_test, y_train, y_test = train_test_split(x, y, random_state=100, test_size=0.25, stratify=y)\n"
   ]
  },
  {
   "cell_type": "code",
   "execution_count": 120,
   "id": "fc23606f",
   "metadata": {},
   "outputs": [],
   "source": [
    "numeric_columns = []\n",
    "\n",
    "#nominal_columns = [ 'FIRST_CRASH_TYPE', 'FIRST_CONTACT_POINT', \n",
    "#           'ROADWAY_SURFACE_COND','VEHICLE_DEFECT', 'AIRBAG_DEPLOYED',\n",
    "#             'DRIVERS_LICENSE_CLASS',  'VEHICLE_AGE', \n",
    "#            'PHYSICAL_CONDITION', 'MANEUVER',   'TRAFFIC_CONTROL_DEVICE']\n",
    "\n",
    "nominal_columns = [ 'FIRST_CRASH_TYPE', 'FIRST_CONTACT_POINT', 'MANEUVER']\n",
    "\n",
    "#'AGE_GROUP', 'TRAFFICWAY_TYPE', ,'SUN_GLARE'\n",
    "#'ALIGNMENT' ,  'DEVICE_CONDITION','DRIVER_VISION', \n",
    "\n",
    "X_train = X_train[numeric_columns+nominal_columns]\n",
    "X_test = X_test[numeric_columns+nominal_columns]\n",
    "\n",
    "X_train=X_train.apply(LabelEncoder().fit_transform)\n",
    "X_test=X_test.apply(LabelEncoder().fit_transform)"
   ]
  },
  {
   "cell_type": "code",
   "execution_count": 155,
   "id": "5250519d",
   "metadata": {},
   "outputs": [],
   "source": [
    "from sklearn.base import BaseEstimator, TransformerMixin\n",
    "\n",
    "class DataFrameSelector(BaseEstimator, TransformerMixin):\n",
    "    def __init__(self, attribute_names):\n",
    "        self.attribute_names=attribute_names\n",
    "    def fit(self, X, y=None):\n",
    "        return self\n",
    "    def transform(self, X):\n",
    "        return X[self.attribute_names].values\n",
    "    \n",
    "\n",
    "num_pipeline = Pipeline([\n",
    "        ('selector', DataFrameSelector(numeric_columns)),\n",
    "        ('imputer', SimpleImputer(strategy = 'constant', fill_value=0)),\n",
    "        ('std_scaler', StandardScaler())\n",
    "    ])\n",
    "\n",
    "cat_pipeline = Pipeline([\n",
    "        ('selector', DataFrameSelector(nominal_columns)),\n",
    "#        ('imputer', SimpleImputer(strategy = 'constant', fill_value='NA')),\n",
    "#        ('cat_encoder', OneHotEncoder(sparse=False, handle_unknown =  'ignore' )),\n",
    "    ])\n",
    "\n",
    "\n",
    "fu = FeatureUnion(transformer_list=[\n",
    "#        (\"num_pipeline\", num_pipeline),\n",
    "        (\"cat_pipeline\", cat_pipeline),\n",
    "    ])\n",
    "\n",
    "\n"
   ]
  },
  {
   "cell_type": "code",
   "execution_count": 156,
   "id": "af5566be",
   "metadata": {
    "scrolled": true
   },
   "outputs": [],
   "source": [
    "X_train_transformed = fu.fit_transform(X_train)\n",
    "#X_train.info(verbose=True, show_counts=True)\n",
    "\n",
    "#columns=fu.transformer_list[1][1][2].get_feature_names_out()\n",
    "#columns=np.insert(columns, 0, 'Intercept')\n",
    "#transformed_df=pd.DataFrame(X_train_transformed, columns=X_train[numeric_columns+nominal_columns].columns)\n",
    "transformed_df=pd.DataFrame(X_train_transformed)\n",
    "\n",
    "#transformed_df.info(verbose=True, show_counts=True)\n",
    "#transformed_df.info()"
   ]
  },
  {
   "cell_type": "code",
   "execution_count": 153,
   "id": "e919d0b5",
   "metadata": {},
   "outputs": [],
   "source": [
    "knn_pipe = Pipeline([\n",
    "#                          ('fu', fu),\n",
    "                          ('std_scaler', StandardScaler()),\n",
    "                          ('model',KNeighborsClassifier( n_jobs=-1 , n_neighbors=120, weights='uniform', p=1)),\n",
    "                              ])\n"
   ]
  },
  {
   "cell_type": "code",
   "execution_count": 157,
   "id": "b140fb67",
   "metadata": {},
   "outputs": [
    {
     "data": {
      "text/html": [
       "<style>#sk-ca1a4eb4-b52b-4079-9b72-8014916a345b {color: black;background-color: white;}#sk-ca1a4eb4-b52b-4079-9b72-8014916a345b pre{padding: 0;}#sk-ca1a4eb4-b52b-4079-9b72-8014916a345b div.sk-toggleable {background-color: white;}#sk-ca1a4eb4-b52b-4079-9b72-8014916a345b label.sk-toggleable__label {cursor: pointer;display: block;width: 100%;margin-bottom: 0;padding: 0.3em;box-sizing: border-box;text-align: center;}#sk-ca1a4eb4-b52b-4079-9b72-8014916a345b label.sk-toggleable__label-arrow:before {content: \"▸\";float: left;margin-right: 0.25em;color: #696969;}#sk-ca1a4eb4-b52b-4079-9b72-8014916a345b label.sk-toggleable__label-arrow:hover:before {color: black;}#sk-ca1a4eb4-b52b-4079-9b72-8014916a345b div.sk-estimator:hover label.sk-toggleable__label-arrow:before {color: black;}#sk-ca1a4eb4-b52b-4079-9b72-8014916a345b div.sk-toggleable__content {max-height: 0;max-width: 0;overflow: hidden;text-align: left;background-color: #f0f8ff;}#sk-ca1a4eb4-b52b-4079-9b72-8014916a345b div.sk-toggleable__content pre {margin: 0.2em;color: black;border-radius: 0.25em;background-color: #f0f8ff;}#sk-ca1a4eb4-b52b-4079-9b72-8014916a345b input.sk-toggleable__control:checked~div.sk-toggleable__content {max-height: 200px;max-width: 100%;overflow: auto;}#sk-ca1a4eb4-b52b-4079-9b72-8014916a345b input.sk-toggleable__control:checked~label.sk-toggleable__label-arrow:before {content: \"▾\";}#sk-ca1a4eb4-b52b-4079-9b72-8014916a345b div.sk-estimator input.sk-toggleable__control:checked~label.sk-toggleable__label {background-color: #d4ebff;}#sk-ca1a4eb4-b52b-4079-9b72-8014916a345b div.sk-label input.sk-toggleable__control:checked~label.sk-toggleable__label {background-color: #d4ebff;}#sk-ca1a4eb4-b52b-4079-9b72-8014916a345b input.sk-hidden--visually {border: 0;clip: rect(1px 1px 1px 1px);clip: rect(1px, 1px, 1px, 1px);height: 1px;margin: -1px;overflow: hidden;padding: 0;position: absolute;width: 1px;}#sk-ca1a4eb4-b52b-4079-9b72-8014916a345b div.sk-estimator {font-family: monospace;background-color: #f0f8ff;border: 1px dotted black;border-radius: 0.25em;box-sizing: border-box;margin-bottom: 0.5em;}#sk-ca1a4eb4-b52b-4079-9b72-8014916a345b div.sk-estimator:hover {background-color: #d4ebff;}#sk-ca1a4eb4-b52b-4079-9b72-8014916a345b div.sk-parallel-item::after {content: \"\";width: 100%;border-bottom: 1px solid gray;flex-grow: 1;}#sk-ca1a4eb4-b52b-4079-9b72-8014916a345b div.sk-label:hover label.sk-toggleable__label {background-color: #d4ebff;}#sk-ca1a4eb4-b52b-4079-9b72-8014916a345b div.sk-serial::before {content: \"\";position: absolute;border-left: 1px solid gray;box-sizing: border-box;top: 2em;bottom: 0;left: 50%;}#sk-ca1a4eb4-b52b-4079-9b72-8014916a345b div.sk-serial {display: flex;flex-direction: column;align-items: center;background-color: white;padding-right: 0.2em;padding-left: 0.2em;}#sk-ca1a4eb4-b52b-4079-9b72-8014916a345b div.sk-item {z-index: 1;}#sk-ca1a4eb4-b52b-4079-9b72-8014916a345b div.sk-parallel {display: flex;align-items: stretch;justify-content: center;background-color: white;}#sk-ca1a4eb4-b52b-4079-9b72-8014916a345b div.sk-parallel::before {content: \"\";position: absolute;border-left: 1px solid gray;box-sizing: border-box;top: 2em;bottom: 0;left: 50%;}#sk-ca1a4eb4-b52b-4079-9b72-8014916a345b div.sk-parallel-item {display: flex;flex-direction: column;position: relative;background-color: white;}#sk-ca1a4eb4-b52b-4079-9b72-8014916a345b div.sk-parallel-item:first-child::after {align-self: flex-end;width: 50%;}#sk-ca1a4eb4-b52b-4079-9b72-8014916a345b div.sk-parallel-item:last-child::after {align-self: flex-start;width: 50%;}#sk-ca1a4eb4-b52b-4079-9b72-8014916a345b div.sk-parallel-item:only-child::after {width: 0;}#sk-ca1a4eb4-b52b-4079-9b72-8014916a345b div.sk-dashed-wrapped {border: 1px dashed gray;margin: 0 0.4em 0.5em 0.4em;box-sizing: border-box;padding-bottom: 0.4em;background-color: white;position: relative;}#sk-ca1a4eb4-b52b-4079-9b72-8014916a345b div.sk-label label {font-family: monospace;font-weight: bold;background-color: white;display: inline-block;line-height: 1.2em;}#sk-ca1a4eb4-b52b-4079-9b72-8014916a345b div.sk-label-container {position: relative;z-index: 2;text-align: center;}#sk-ca1a4eb4-b52b-4079-9b72-8014916a345b div.sk-container {/* jupyter's `normalize.less` sets `[hidden] { display: none; }` but bootstrap.min.css set `[hidden] { display: none !important; }` so we also need the `!important` here to be able to override the default hidden behavior on the sphinx rendered scikit-learn.org. See: https://github.com/scikit-learn/scikit-learn/issues/21755 */display: inline-block !important;position: relative;}#sk-ca1a4eb4-b52b-4079-9b72-8014916a345b div.sk-text-repr-fallback {display: none;}</style><div id=\"sk-ca1a4eb4-b52b-4079-9b72-8014916a345b\" class=\"sk-top-container\"><div class=\"sk-text-repr-fallback\"><pre>GridSearchCV(cv=2,\n",
       "             estimator=Pipeline(steps=[(&#x27;std_scaler&#x27;, StandardScaler()),\n",
       "                                       (&#x27;model&#x27;,\n",
       "                                        KNeighborsClassifier(n_jobs=-1,\n",
       "                                                             n_neighbors=55,\n",
       "                                                             p=1))]),\n",
       "             param_grid={&#x27;model__n_neighbors&#x27;: [60, 120, 200], &#x27;model__p&#x27;: [1],\n",
       "                         &#x27;model__weights&#x27;: [&#x27;uniform&#x27;]},\n",
       "             scoring=&#x27;roc_auc&#x27;)</pre><b>Please rerun this cell to show the HTML repr or trust the notebook.</b></div><div class=\"sk-container\" hidden><div class=\"sk-item sk-dashed-wrapped\"><div class=\"sk-label-container\"><div class=\"sk-label sk-toggleable\"><input class=\"sk-toggleable__control sk-hidden--visually\" id=\"a9913208-aa9b-4731-ba63-861f5fea5ffb\" type=\"checkbox\" ><label for=\"a9913208-aa9b-4731-ba63-861f5fea5ffb\" class=\"sk-toggleable__label sk-toggleable__label-arrow\">GridSearchCV</label><div class=\"sk-toggleable__content\"><pre>GridSearchCV(cv=2,\n",
       "             estimator=Pipeline(steps=[(&#x27;std_scaler&#x27;, StandardScaler()),\n",
       "                                       (&#x27;model&#x27;,\n",
       "                                        KNeighborsClassifier(n_jobs=-1,\n",
       "                                                             n_neighbors=55,\n",
       "                                                             p=1))]),\n",
       "             param_grid={&#x27;model__n_neighbors&#x27;: [60, 120, 200], &#x27;model__p&#x27;: [1],\n",
       "                         &#x27;model__weights&#x27;: [&#x27;uniform&#x27;]},\n",
       "             scoring=&#x27;roc_auc&#x27;)</pre></div></div></div><div class=\"sk-parallel\"><div class=\"sk-parallel-item\"><div class=\"sk-item\"><div class=\"sk-serial\"><div class=\"sk-item\"><div class=\"sk-serial\"><div class=\"sk-item\"><div class=\"sk-estimator sk-toggleable\"><input class=\"sk-toggleable__control sk-hidden--visually\" id=\"4d1f6c81-d560-4f67-8cec-21a8872ee394\" type=\"checkbox\" ><label for=\"4d1f6c81-d560-4f67-8cec-21a8872ee394\" class=\"sk-toggleable__label sk-toggleable__label-arrow\">StandardScaler</label><div class=\"sk-toggleable__content\"><pre>StandardScaler()</pre></div></div></div><div class=\"sk-item\"><div class=\"sk-estimator sk-toggleable\"><input class=\"sk-toggleable__control sk-hidden--visually\" id=\"14497aa9-53b3-4814-9f9b-c33ad23708c6\" type=\"checkbox\" ><label for=\"14497aa9-53b3-4814-9f9b-c33ad23708c6\" class=\"sk-toggleable__label sk-toggleable__label-arrow\">KNeighborsClassifier</label><div class=\"sk-toggleable__content\"><pre>KNeighborsClassifier(n_jobs=-1, n_neighbors=55, p=1)</pre></div></div></div></div></div></div></div></div></div></div></div></div>"
      ],
      "text/plain": [
       "GridSearchCV(cv=2,\n",
       "             estimator=Pipeline(steps=[('std_scaler', StandardScaler()),\n",
       "                                       ('model',\n",
       "                                        KNeighborsClassifier(n_jobs=-1,\n",
       "                                                             n_neighbors=55,\n",
       "                                                             p=1))]),\n",
       "             param_grid={'model__n_neighbors': [60, 120, 200], 'model__p': [1],\n",
       "                         'model__weights': ['uniform']},\n",
       "             scoring='roc_auc')"
      ]
     },
     "execution_count": 157,
     "metadata": {},
     "output_type": "execute_result"
    }
   ],
   "source": [
    "#pipe_grid = { 'model__min_samples_split':[4,6,8,12,24]}\n",
    "pipe_grid = {}\n",
    "pipe_grid = {'model__n_neighbors':[60, 120,200], 'model__weights': ['uniform'],\n",
    "             'model__p':[1] }\n",
    "\n",
    "\n",
    "gs_pipe = GridSearchCV(estimator=knn_pipe, \n",
    "                       param_grid=pipe_grid, cv=2, scoring='roc_auc')\n",
    "\n",
    "gs_pipe"
   ]
  },
  {
   "cell_type": "code",
   "execution_count": 158,
   "id": "be49a0ca",
   "metadata": {},
   "outputs": [
    {
     "data": {
      "text/plain": [
       "{'model__n_neighbors': 120, 'model__p': 1, 'model__weights': 'uniform'}"
      ]
     },
     "execution_count": 158,
     "metadata": {},
     "output_type": "execute_result"
    }
   ],
   "source": [
    "gs_pipe.fit(X_train, y_train)\n",
    "gs_pipe.best_params_"
   ]
  },
  {
   "cell_type": "code",
   "execution_count": 159,
   "id": "8cb65859",
   "metadata": {},
   "outputs": [],
   "source": [
    "y_pred_train=gs_pipe.predict(X_train)\n",
    "y_pred_test=gs_pipe.predict(X_test)"
   ]
  },
  {
   "cell_type": "code",
   "execution_count": 163,
   "id": "6046a1de",
   "metadata": {},
   "outputs": [
    {
     "data": {
      "text/plain": [
       "0.8474092524156449"
      ]
     },
     "execution_count": 163,
     "metadata": {},
     "output_type": "execute_result"
    }
   ],
   "source": [
    "gs_pipe.score(X_train, y_train)"
   ]
  },
  {
   "cell_type": "code",
   "execution_count": 164,
   "id": "6e60211c",
   "metadata": {},
   "outputs": [
    {
     "name": "stdout",
     "output_type": "stream",
     "text": [
      "              precision    recall  f1-score   support\n",
      "\n",
      "           0       0.82      0.87      0.85    149107\n",
      "           1       0.73      0.64      0.68     79432\n",
      "\n",
      "    accuracy                           0.79    228539\n",
      "   macro avg       0.77      0.76      0.76    228539\n",
      "weighted avg       0.79      0.79      0.79    228539\n",
      "\n",
      "------------\n",
      "              precision    recall  f1-score   support\n",
      "\n",
      "           0       0.82      0.87      0.84     49703\n",
      "           1       0.72      0.64      0.68     26477\n",
      "\n",
      "    accuracy                           0.79     76180\n",
      "   macro avg       0.77      0.75      0.76     76180\n",
      "weighted avg       0.78      0.79      0.79     76180\n",
      "\n"
     ]
    }
   ],
   "source": [
    "print(classification_report(y_train, y_pred_train))\n",
    "print('------------')\n",
    "print(classification_report(y_test, y_pred_test))"
   ]
  },
  {
   "cell_type": "code",
   "execution_count": null,
   "id": "b7edebf5",
   "metadata": {},
   "outputs": [],
   "source": []
  },
  {
   "cell_type": "code",
   "execution_count": 77,
   "id": "d1bc3048",
   "metadata": {},
   "outputs": [],
   "source": [
    "#bagged_tree_pipe.fit(X_train, y_train)\n",
    "#y_pred_test = bagged_tree_pipe.predict(X_test)\n",
    "#y_pred_train = bagged_tree_pipe.predict(X_train)\n",
    "\n",
    "#print(classification_report(y_train, y_pred_train))\n",
    "#print('------------')\n",
    "#print(classification_report(y_test, y_pred_test))\n"
   ]
  }
 ],
 "metadata": {
  "kernelspec": {
   "display_name": "Python 3 (ipykernel)",
   "language": "python",
   "name": "python3"
  },
  "language_info": {
   "codemirror_mode": {
    "name": "ipython",
    "version": 3
   },
   "file_extension": ".py",
   "mimetype": "text/x-python",
   "name": "python",
   "nbconvert_exporter": "python",
   "pygments_lexer": "ipython3",
   "version": "3.9.7"
  }
 },
 "nbformat": 4,
 "nbformat_minor": 5
}
