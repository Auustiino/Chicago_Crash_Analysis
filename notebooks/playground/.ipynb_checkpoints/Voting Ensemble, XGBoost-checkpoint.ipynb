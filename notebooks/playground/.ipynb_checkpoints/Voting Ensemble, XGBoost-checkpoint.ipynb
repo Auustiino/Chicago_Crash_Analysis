{
 "cells": [
  {
   "cell_type": "code",
   "execution_count": 16,
   "id": "b6108bbd",
   "metadata": {},
   "outputs": [],
   "source": [
    "# Uncomment only if you want to reprocess the raw data using initial_prep.py\n",
    "# The script will re-create crashes.gz, comma separated gzipped file in ../data/processed\n",
    "\n",
    "## %run ../src/preprocessing/initial_prep.py"
   ]
  },
  {
   "cell_type": "code",
   "execution_count": 1,
   "id": "bdd7f0a4",
   "metadata": {},
   "outputs": [],
   "source": [
    "%run ../src/import_libraries.py\n",
    "\n",
    "%matplotlib inline"
   ]
  },
  {
   "cell_type": "code",
   "execution_count": 2,
   "id": "4457d4f8",
   "metadata": {},
   "outputs": [],
   "source": [
    "\n",
    "full_df=pd.read_csv('../data/processed/crashes.gz', compression='gzip', low_memory=False)"
   ]
  },
  {
   "cell_type": "code",
   "execution_count": 3,
   "id": "9df39de9",
   "metadata": {},
   "outputs": [],
   "source": [
    "sample_df=full_df.sample(100000, random_state=100)\n",
    "#sample_df=full_df.copy()\n",
    "\n",
    "\n",
    "y = sample_df['GUILTY']\n",
    "x = sample_df.drop(['GUILTY'],axis=1)\n",
    "\n",
    "X_train, X_test, y_train, y_test = train_test_split(x, y, random_state=100, test_size=0.25, stratify=y)\n"
   ]
  },
  {
   "cell_type": "code",
   "execution_count": 4,
   "id": "fc23606f",
   "metadata": {},
   "outputs": [],
   "source": [
    "numeric_columns = []\n",
    "nominal_columns = [ 'FIRST_CRASH_TYPE', 'FIRST_CONTACT_POINT', 'MANEUVER']\n",
    "\n",
    "\n",
    "X_train = X_train[numeric_columns+nominal_columns]\n",
    "X_test = X_test[numeric_columns+nominal_columns]\n",
    "\n"
   ]
  },
  {
   "cell_type": "markdown",
   "id": "970a7b00",
   "metadata": {},
   "source": [
    "# Defining Pipeline\n"
   ]
  },
  {
   "cell_type": "code",
   "execution_count": 6,
   "id": "5250519d",
   "metadata": {},
   "outputs": [],
   "source": [
    "from sklearn.base import BaseEstimator, TransformerMixin\n",
    "\n",
    "class DataFrameSelector(BaseEstimator, TransformerMixin):\n",
    "    def __init__(self, attribute_names):\n",
    "        self.attribute_names=attribute_names\n",
    "    def fit(self, X, y=None):\n",
    "        return self\n",
    "    def transform(self, X):\n",
    "        return X[self.attribute_names].values\n",
    "    \n",
    "\n",
    "\n",
    "\n",
    "cat_pipeline = Pipeline([\n",
    "        ('cat_encoder', OneHotEncoder(sparse=False, handle_unknown =  'ignore' )),\n",
    "         ('std_scaler', StandardScaler()),\n",
    "    \n",
    "    ])\n",
    "\n",
    "\n",
    "fu = FeatureUnion(transformer_list=[\n",
    "#        (\"num_pipeline\", num_pipeline),\n",
    "        (\"cat_pipeline\", cat_pipeline),\n",
    "    ])"
   ]
  },
  {
   "cell_type": "markdown",
   "id": "48ca58af",
   "metadata": {},
   "source": [
    "# Voting Ensemble"
   ]
  },
  {
   "cell_type": "code",
   "execution_count": 9,
   "id": "e919d0b5",
   "metadata": {},
   "outputs": [],
   "source": [
    "logreg = LogisticRegression( max_iter=5000, class_weight='balanced')\n",
    "extra = ExtraTreesClassifier( max_depth=13, min_samples_leaf=3, min_samples_split=6, n_estimators=200, class_weight='balanced' )\n",
    "rand = RandomForestClassifier( min_samples_leaf=8, n_estimators=200, class_weight='balanced' )\n",
    "dtree = DecisionTreeClassifier(criterion='entropy', random_state=100, class_weight='balanced')\n",
    "naive = QuadraticDiscriminantAnalysis()\n",
    "knn = KNeighborsClassifier( n_jobs=-1 , n_neighbors=120, weights='uniform', p=1)\n",
    "xgb = XGBClassifier(use_label_encoder=False, eval_metric='logloss', gamma= 0.01, max_depth=3, n_estimators=90, n_jobs=-1)\n",
    "\n",
    "\n",
    "vote_pipe = Pipeline([('fu', fu),\n",
    "                      ('model', VotingClassifier(estimators = [\n",
    "#                                                 ('logreg',logreg), \n",
    "                                                 ('extra',extra), \n",
    "                                                 ('rand',rand),\n",
    "                                                 ('dtree',dtree), \n",
    "                                                 ('naive',naive),\n",
    "                                                  ('knn',knn),\n",
    "                                                  ('xgb',xgb ),\n",
    "                                                  ], voting='hard'))   \n",
    "                     ])\n",
    "\n",
    "\n"
   ]
  },
  {
   "cell_type": "code",
   "execution_count": 17,
   "id": "b140fb67",
   "metadata": {},
   "outputs": [],
   "source": [
    "pipe_grid = {}\n",
    "\n",
    "gs_pipe = GridSearchCV(estimator=vote_pipe, \n",
    "                       param_grid=pipe_grid, cv=2, scoring='accuracy')\n",
    "\n"
   ]
  },
  {
   "cell_type": "code",
   "execution_count": 12,
   "id": "be49a0ca",
   "metadata": {},
   "outputs": [
    {
     "data": {
      "text/html": [
       "<style>#sk-d7d31977-f7b0-4372-bd29-26e385cc3aa6 {color: black;background-color: white;}#sk-d7d31977-f7b0-4372-bd29-26e385cc3aa6 pre{padding: 0;}#sk-d7d31977-f7b0-4372-bd29-26e385cc3aa6 div.sk-toggleable {background-color: white;}#sk-d7d31977-f7b0-4372-bd29-26e385cc3aa6 label.sk-toggleable__label {cursor: pointer;display: block;width: 100%;margin-bottom: 0;padding: 0.3em;box-sizing: border-box;text-align: center;}#sk-d7d31977-f7b0-4372-bd29-26e385cc3aa6 label.sk-toggleable__label-arrow:before {content: \"▸\";float: left;margin-right: 0.25em;color: #696969;}#sk-d7d31977-f7b0-4372-bd29-26e385cc3aa6 label.sk-toggleable__label-arrow:hover:before {color: black;}#sk-d7d31977-f7b0-4372-bd29-26e385cc3aa6 div.sk-estimator:hover label.sk-toggleable__label-arrow:before {color: black;}#sk-d7d31977-f7b0-4372-bd29-26e385cc3aa6 div.sk-toggleable__content {max-height: 0;max-width: 0;overflow: hidden;text-align: left;background-color: #f0f8ff;}#sk-d7d31977-f7b0-4372-bd29-26e385cc3aa6 div.sk-toggleable__content pre {margin: 0.2em;color: black;border-radius: 0.25em;background-color: #f0f8ff;}#sk-d7d31977-f7b0-4372-bd29-26e385cc3aa6 input.sk-toggleable__control:checked~div.sk-toggleable__content {max-height: 200px;max-width: 100%;overflow: auto;}#sk-d7d31977-f7b0-4372-bd29-26e385cc3aa6 input.sk-toggleable__control:checked~label.sk-toggleable__label-arrow:before {content: \"▾\";}#sk-d7d31977-f7b0-4372-bd29-26e385cc3aa6 div.sk-estimator input.sk-toggleable__control:checked~label.sk-toggleable__label {background-color: #d4ebff;}#sk-d7d31977-f7b0-4372-bd29-26e385cc3aa6 div.sk-label input.sk-toggleable__control:checked~label.sk-toggleable__label {background-color: #d4ebff;}#sk-d7d31977-f7b0-4372-bd29-26e385cc3aa6 input.sk-hidden--visually {border: 0;clip: rect(1px 1px 1px 1px);clip: rect(1px, 1px, 1px, 1px);height: 1px;margin: -1px;overflow: hidden;padding: 0;position: absolute;width: 1px;}#sk-d7d31977-f7b0-4372-bd29-26e385cc3aa6 div.sk-estimator {font-family: monospace;background-color: #f0f8ff;border: 1px dotted black;border-radius: 0.25em;box-sizing: border-box;margin-bottom: 0.5em;}#sk-d7d31977-f7b0-4372-bd29-26e385cc3aa6 div.sk-estimator:hover {background-color: #d4ebff;}#sk-d7d31977-f7b0-4372-bd29-26e385cc3aa6 div.sk-parallel-item::after {content: \"\";width: 100%;border-bottom: 1px solid gray;flex-grow: 1;}#sk-d7d31977-f7b0-4372-bd29-26e385cc3aa6 div.sk-label:hover label.sk-toggleable__label {background-color: #d4ebff;}#sk-d7d31977-f7b0-4372-bd29-26e385cc3aa6 div.sk-serial::before {content: \"\";position: absolute;border-left: 1px solid gray;box-sizing: border-box;top: 2em;bottom: 0;left: 50%;}#sk-d7d31977-f7b0-4372-bd29-26e385cc3aa6 div.sk-serial {display: flex;flex-direction: column;align-items: center;background-color: white;padding-right: 0.2em;padding-left: 0.2em;}#sk-d7d31977-f7b0-4372-bd29-26e385cc3aa6 div.sk-item {z-index: 1;}#sk-d7d31977-f7b0-4372-bd29-26e385cc3aa6 div.sk-parallel {display: flex;align-items: stretch;justify-content: center;background-color: white;}#sk-d7d31977-f7b0-4372-bd29-26e385cc3aa6 div.sk-parallel::before {content: \"\";position: absolute;border-left: 1px solid gray;box-sizing: border-box;top: 2em;bottom: 0;left: 50%;}#sk-d7d31977-f7b0-4372-bd29-26e385cc3aa6 div.sk-parallel-item {display: flex;flex-direction: column;position: relative;background-color: white;}#sk-d7d31977-f7b0-4372-bd29-26e385cc3aa6 div.sk-parallel-item:first-child::after {align-self: flex-end;width: 50%;}#sk-d7d31977-f7b0-4372-bd29-26e385cc3aa6 div.sk-parallel-item:last-child::after {align-self: flex-start;width: 50%;}#sk-d7d31977-f7b0-4372-bd29-26e385cc3aa6 div.sk-parallel-item:only-child::after {width: 0;}#sk-d7d31977-f7b0-4372-bd29-26e385cc3aa6 div.sk-dashed-wrapped {border: 1px dashed gray;margin: 0 0.4em 0.5em 0.4em;box-sizing: border-box;padding-bottom: 0.4em;background-color: white;position: relative;}#sk-d7d31977-f7b0-4372-bd29-26e385cc3aa6 div.sk-label label {font-family: monospace;font-weight: bold;background-color: white;display: inline-block;line-height: 1.2em;}#sk-d7d31977-f7b0-4372-bd29-26e385cc3aa6 div.sk-label-container {position: relative;z-index: 2;text-align: center;}#sk-d7d31977-f7b0-4372-bd29-26e385cc3aa6 div.sk-container {/* jupyter's `normalize.less` sets `[hidden] { display: none; }` but bootstrap.min.css set `[hidden] { display: none !important; }` so we also need the `!important` here to be able to override the default hidden behavior on the sphinx rendered scikit-learn.org. See: https://github.com/scikit-learn/scikit-learn/issues/21755 */display: inline-block !important;position: relative;}#sk-d7d31977-f7b0-4372-bd29-26e385cc3aa6 div.sk-text-repr-fallback {display: none;}</style><div id=\"sk-d7d31977-f7b0-4372-bd29-26e385cc3aa6\" class=\"sk-top-container\"><div class=\"sk-text-repr-fallback\"><pre>Pipeline(steps=[(&#x27;fu&#x27;,\n",
       "                 FeatureUnion(transformer_list=[(&#x27;cat_pipeline&#x27;,\n",
       "                                                 Pipeline(steps=[(&#x27;cat_encoder&#x27;,\n",
       "                                                                  OneHotEncoder(handle_unknown=&#x27;ignore&#x27;,\n",
       "                                                                                sparse=False)),\n",
       "                                                                 (&#x27;std_scaler&#x27;,\n",
       "                                                                  StandardScaler())]))])),\n",
       "                (&#x27;model&#x27;,\n",
       "                 VotingClassifier(estimators=[(&#x27;extra&#x27;,\n",
       "                                               ExtraTreesClassifier(class_weight=&#x27;balanced&#x27;,\n",
       "                                                                    max_depth=13,\n",
       "                                                                    min_samples_leaf=3,\n",
       "                                                                    min_samples_split=6,\n",
       "                                                                    n_estimators=20...\n",
       "                                                             grow_policy=None,\n",
       "                                                             importance_type=None,\n",
       "                                                             interaction_constraints=None,\n",
       "                                                             learning_rate=None,\n",
       "                                                             max_bin=None,\n",
       "                                                             max_cat_to_onehot=None,\n",
       "                                                             max_delta_step=None,\n",
       "                                                             max_depth=3,\n",
       "                                                             max_leaves=None,\n",
       "                                                             min_child_weight=None,\n",
       "                                                             missing=nan,\n",
       "                                                             monotone_constraints=None,\n",
       "                                                             n_estimators=90,\n",
       "                                                             n_jobs=-1,\n",
       "                                                             num_parallel_tree=None,\n",
       "                                                             predictor=None,\n",
       "                                                             random_state=None,\n",
       "                                                             reg_alpha=None,\n",
       "                                                             reg_lambda=None, ...))]))])</pre><b>Please rerun this cell to show the HTML repr or trust the notebook.</b></div><div class=\"sk-container\" hidden><div class=\"sk-item sk-dashed-wrapped\"><div class=\"sk-label-container\"><div class=\"sk-label sk-toggleable\"><input class=\"sk-toggleable__control sk-hidden--visually\" id=\"8fb57897-aaac-452f-b6ff-3ea8858f7ae3\" type=\"checkbox\" ><label for=\"8fb57897-aaac-452f-b6ff-3ea8858f7ae3\" class=\"sk-toggleable__label sk-toggleable__label-arrow\">Pipeline</label><div class=\"sk-toggleable__content\"><pre>Pipeline(steps=[(&#x27;fu&#x27;,\n",
       "                 FeatureUnion(transformer_list=[(&#x27;cat_pipeline&#x27;,\n",
       "                                                 Pipeline(steps=[(&#x27;cat_encoder&#x27;,\n",
       "                                                                  OneHotEncoder(handle_unknown=&#x27;ignore&#x27;,\n",
       "                                                                                sparse=False)),\n",
       "                                                                 (&#x27;std_scaler&#x27;,\n",
       "                                                                  StandardScaler())]))])),\n",
       "                (&#x27;model&#x27;,\n",
       "                 VotingClassifier(estimators=[(&#x27;extra&#x27;,\n",
       "                                               ExtraTreesClassifier(class_weight=&#x27;balanced&#x27;,\n",
       "                                                                    max_depth=13,\n",
       "                                                                    min_samples_leaf=3,\n",
       "                                                                    min_samples_split=6,\n",
       "                                                                    n_estimators=20...\n",
       "                                                             grow_policy=None,\n",
       "                                                             importance_type=None,\n",
       "                                                             interaction_constraints=None,\n",
       "                                                             learning_rate=None,\n",
       "                                                             max_bin=None,\n",
       "                                                             max_cat_to_onehot=None,\n",
       "                                                             max_delta_step=None,\n",
       "                                                             max_depth=3,\n",
       "                                                             max_leaves=None,\n",
       "                                                             min_child_weight=None,\n",
       "                                                             missing=nan,\n",
       "                                                             monotone_constraints=None,\n",
       "                                                             n_estimators=90,\n",
       "                                                             n_jobs=-1,\n",
       "                                                             num_parallel_tree=None,\n",
       "                                                             predictor=None,\n",
       "                                                             random_state=None,\n",
       "                                                             reg_alpha=None,\n",
       "                                                             reg_lambda=None, ...))]))])</pre></div></div></div><div class=\"sk-serial\"><div class=\"sk-item sk-dashed-wrapped\"><div class=\"sk-label-container\"><div class=\"sk-label sk-toggleable\"><input class=\"sk-toggleable__control sk-hidden--visually\" id=\"b6642a44-f044-452d-9277-726c818de3b2\" type=\"checkbox\" ><label for=\"b6642a44-f044-452d-9277-726c818de3b2\" class=\"sk-toggleable__label sk-toggleable__label-arrow\">fu: FeatureUnion</label><div class=\"sk-toggleable__content\"><pre>FeatureUnion(transformer_list=[(&#x27;cat_pipeline&#x27;,\n",
       "                                Pipeline(steps=[(&#x27;cat_encoder&#x27;,\n",
       "                                                 OneHotEncoder(handle_unknown=&#x27;ignore&#x27;,\n",
       "                                                               sparse=False)),\n",
       "                                                (&#x27;std_scaler&#x27;,\n",
       "                                                 StandardScaler())]))])</pre></div></div></div><div class=\"sk-parallel\"><div class=\"sk-parallel-item\"><div class=\"sk-item\"><div class=\"sk-label-container\"><div class=\"sk-label sk-toggleable\"><label>cat_pipeline</label></div></div><div class=\"sk-serial\"><div class=\"sk-item\"><div class=\"sk-serial\"><div class=\"sk-item\"><div class=\"sk-estimator sk-toggleable\"><input class=\"sk-toggleable__control sk-hidden--visually\" id=\"3442c4d0-b282-4fe1-84ac-7847e5f524b1\" type=\"checkbox\" ><label for=\"3442c4d0-b282-4fe1-84ac-7847e5f524b1\" class=\"sk-toggleable__label sk-toggleable__label-arrow\">OneHotEncoder</label><div class=\"sk-toggleable__content\"><pre>OneHotEncoder(handle_unknown=&#x27;ignore&#x27;, sparse=False)</pre></div></div></div><div class=\"sk-item\"><div class=\"sk-estimator sk-toggleable\"><input class=\"sk-toggleable__control sk-hidden--visually\" id=\"746c1814-3408-45d3-8bfc-c74a5f6fc88d\" type=\"checkbox\" ><label for=\"746c1814-3408-45d3-8bfc-c74a5f6fc88d\" class=\"sk-toggleable__label sk-toggleable__label-arrow\">StandardScaler</label><div class=\"sk-toggleable__content\"><pre>StandardScaler()</pre></div></div></div></div></div></div></div></div></div></div><div class=\"sk-item sk-dashed-wrapped\"><div class=\"sk-label-container\"><div class=\"sk-label sk-toggleable\"><input class=\"sk-toggleable__control sk-hidden--visually\" id=\"6d07f37e-c728-43f3-b301-34111eb9457c\" type=\"checkbox\" ><label for=\"6d07f37e-c728-43f3-b301-34111eb9457c\" class=\"sk-toggleable__label sk-toggleable__label-arrow\">model: VotingClassifier</label><div class=\"sk-toggleable__content\"><pre>VotingClassifier(estimators=[(&#x27;extra&#x27;,\n",
       "                              ExtraTreesClassifier(class_weight=&#x27;balanced&#x27;,\n",
       "                                                   max_depth=13,\n",
       "                                                   min_samples_leaf=3,\n",
       "                                                   min_samples_split=6,\n",
       "                                                   n_estimators=200)),\n",
       "                             (&#x27;rand&#x27;,\n",
       "                              RandomForestClassifier(class_weight=&#x27;balanced&#x27;,\n",
       "                                                     min_samples_leaf=8,\n",
       "                                                     n_estimators=200)),\n",
       "                             (&#x27;dtree&#x27;,\n",
       "                              DecisionTreeClassifier(class_weight=&#x27;balanced&#x27;,\n",
       "                                                     criterion=&#x27;entropy&#x27;,\n",
       "                                                     random_state=100)),\n",
       "                             (&#x27;naive&#x27;...\n",
       "                                            gpu_id=None, grow_policy=None,\n",
       "                                            importance_type=None,\n",
       "                                            interaction_constraints=None,\n",
       "                                            learning_rate=None, max_bin=None,\n",
       "                                            max_cat_to_onehot=None,\n",
       "                                            max_delta_step=None, max_depth=3,\n",
       "                                            max_leaves=None,\n",
       "                                            min_child_weight=None, missing=nan,\n",
       "                                            monotone_constraints=None,\n",
       "                                            n_estimators=90, n_jobs=-1,\n",
       "                                            num_parallel_tree=None,\n",
       "                                            predictor=None, random_state=None,\n",
       "                                            reg_alpha=None, reg_lambda=None, ...))])</pre></div></div></div><div class=\"sk-parallel\"><div class=\"sk-parallel-item\"><div class=\"sk-item\"><div class=\"sk-label-container\"><div class=\"sk-label sk-toggleable\"><label>extra</label></div></div><div class=\"sk-serial\"><div class=\"sk-item\"><div class=\"sk-estimator sk-toggleable\"><input class=\"sk-toggleable__control sk-hidden--visually\" id=\"c0223835-9454-4b2a-b6ed-fc2d6ee7a852\" type=\"checkbox\" ><label for=\"c0223835-9454-4b2a-b6ed-fc2d6ee7a852\" class=\"sk-toggleable__label sk-toggleable__label-arrow\">ExtraTreesClassifier</label><div class=\"sk-toggleable__content\"><pre>ExtraTreesClassifier(class_weight=&#x27;balanced&#x27;, max_depth=13, min_samples_leaf=3,\n",
       "                     min_samples_split=6, n_estimators=200)</pre></div></div></div></div></div></div><div class=\"sk-parallel-item\"><div class=\"sk-item\"><div class=\"sk-label-container\"><div class=\"sk-label sk-toggleable\"><label>rand</label></div></div><div class=\"sk-serial\"><div class=\"sk-item\"><div class=\"sk-estimator sk-toggleable\"><input class=\"sk-toggleable__control sk-hidden--visually\" id=\"8b0825cd-2b9a-4313-9d7d-7838b27f2e8b\" type=\"checkbox\" ><label for=\"8b0825cd-2b9a-4313-9d7d-7838b27f2e8b\" class=\"sk-toggleable__label sk-toggleable__label-arrow\">RandomForestClassifier</label><div class=\"sk-toggleable__content\"><pre>RandomForestClassifier(class_weight=&#x27;balanced&#x27;, min_samples_leaf=8,\n",
       "                       n_estimators=200)</pre></div></div></div></div></div></div><div class=\"sk-parallel-item\"><div class=\"sk-item\"><div class=\"sk-label-container\"><div class=\"sk-label sk-toggleable\"><label>dtree</label></div></div><div class=\"sk-serial\"><div class=\"sk-item\"><div class=\"sk-estimator sk-toggleable\"><input class=\"sk-toggleable__control sk-hidden--visually\" id=\"223b421a-a8c6-48da-8bf8-7ceecedaa5dc\" type=\"checkbox\" ><label for=\"223b421a-a8c6-48da-8bf8-7ceecedaa5dc\" class=\"sk-toggleable__label sk-toggleable__label-arrow\">DecisionTreeClassifier</label><div class=\"sk-toggleable__content\"><pre>DecisionTreeClassifier(class_weight=&#x27;balanced&#x27;, criterion=&#x27;entropy&#x27;,\n",
       "                       random_state=100)</pre></div></div></div></div></div></div><div class=\"sk-parallel-item\"><div class=\"sk-item\"><div class=\"sk-label-container\"><div class=\"sk-label sk-toggleable\"><label>naive</label></div></div><div class=\"sk-serial\"><div class=\"sk-item\"><div class=\"sk-estimator sk-toggleable\"><input class=\"sk-toggleable__control sk-hidden--visually\" id=\"b6ae2bc0-c418-497f-8c81-6ee664dc8081\" type=\"checkbox\" ><label for=\"b6ae2bc0-c418-497f-8c81-6ee664dc8081\" class=\"sk-toggleable__label sk-toggleable__label-arrow\">QuadraticDiscriminantAnalysis</label><div class=\"sk-toggleable__content\"><pre>QuadraticDiscriminantAnalysis()</pre></div></div></div></div></div></div><div class=\"sk-parallel-item\"><div class=\"sk-item\"><div class=\"sk-label-container\"><div class=\"sk-label sk-toggleable\"><label>knn</label></div></div><div class=\"sk-serial\"><div class=\"sk-item\"><div class=\"sk-estimator sk-toggleable\"><input class=\"sk-toggleable__control sk-hidden--visually\" id=\"d9e4d84e-a844-4b6a-8e63-0a7b3f426833\" type=\"checkbox\" ><label for=\"d9e4d84e-a844-4b6a-8e63-0a7b3f426833\" class=\"sk-toggleable__label sk-toggleable__label-arrow\">KNeighborsClassifier</label><div class=\"sk-toggleable__content\"><pre>KNeighborsClassifier(n_jobs=-1, n_neighbors=120, p=1)</pre></div></div></div></div></div></div><div class=\"sk-parallel-item\"><div class=\"sk-item\"><div class=\"sk-label-container\"><div class=\"sk-label sk-toggleable\"><label>xgb</label></div></div><div class=\"sk-serial\"><div class=\"sk-item\"><div class=\"sk-estimator sk-toggleable\"><input class=\"sk-toggleable__control sk-hidden--visually\" id=\"75c6f59b-20c3-468a-97af-bbb58e26ac9b\" type=\"checkbox\" ><label for=\"75c6f59b-20c3-468a-97af-bbb58e26ac9b\" class=\"sk-toggleable__label sk-toggleable__label-arrow\">XGBClassifier</label><div class=\"sk-toggleable__content\"><pre>XGBClassifier(base_score=None, booster=None, callbacks=None,\n",
       "              colsample_bylevel=None, colsample_bynode=None,\n",
       "              colsample_bytree=None, early_stopping_rounds=None,\n",
       "              enable_categorical=False, eval_metric=&#x27;logloss&#x27;, gamma=0.01,\n",
       "              gpu_id=None, grow_policy=None, importance_type=None,\n",
       "              interaction_constraints=None, learning_rate=None, max_bin=None,\n",
       "              max_cat_to_onehot=None, max_delta_step=None, max_depth=3,\n",
       "              max_leaves=None, min_child_weight=None, missing=nan,\n",
       "              monotone_constraints=None, n_estimators=90, n_jobs=-1,\n",
       "              num_parallel_tree=None, predictor=None, random_state=None,\n",
       "              reg_alpha=None, reg_lambda=None, ...)</pre></div></div></div></div></div></div></div></div></div></div></div></div>"
      ],
      "text/plain": [
       "Pipeline(steps=[('fu',\n",
       "                 FeatureUnion(transformer_list=[('cat_pipeline',\n",
       "                                                 Pipeline(steps=[('cat_encoder',\n",
       "                                                                  OneHotEncoder(handle_unknown='ignore',\n",
       "                                                                                sparse=False)),\n",
       "                                                                 ('std_scaler',\n",
       "                                                                  StandardScaler())]))])),\n",
       "                ('model',\n",
       "                 VotingClassifier(estimators=[('extra',\n",
       "                                               ExtraTreesClassifier(class_weight='balanced',\n",
       "                                                                    max_depth=13,\n",
       "                                                                    min_samples_leaf=3,\n",
       "                                                                    min_samples_split=6,\n",
       "                                                                    n_estimators=20...\n",
       "                                                             grow_policy=None,\n",
       "                                                             importance_type=None,\n",
       "                                                             interaction_constraints=None,\n",
       "                                                             learning_rate=None,\n",
       "                                                             max_bin=None,\n",
       "                                                             max_cat_to_onehot=None,\n",
       "                                                             max_delta_step=None,\n",
       "                                                             max_depth=3,\n",
       "                                                             max_leaves=None,\n",
       "                                                             min_child_weight=None,\n",
       "                                                             missing=nan,\n",
       "                                                             monotone_constraints=None,\n",
       "                                                             n_estimators=90,\n",
       "                                                             n_jobs=-1,\n",
       "                                                             num_parallel_tree=None,\n",
       "                                                             predictor=None,\n",
       "                                                             random_state=None,\n",
       "                                                             reg_alpha=None,\n",
       "                                                             reg_lambda=None, ...))]))])"
      ]
     },
     "execution_count": 12,
     "metadata": {},
     "output_type": "execute_result"
    }
   ],
   "source": [
    "vote_pipe.fit(X_train, y_train)\n",
    "#gs_pipe.fit(X_train, y_train)\n"
   ]
  },
  {
   "cell_type": "code",
   "execution_count": 13,
   "id": "8cb65859",
   "metadata": {},
   "outputs": [],
   "source": [
    "#y_pred_train=gs_pipe.predict(X_train)\n",
    "#y_pred_test=gs_pipe.predict(X_test)\n",
    "y_pred_test=vote_pipe.predict(X_test)"
   ]
  },
  {
   "cell_type": "code",
   "execution_count": 14,
   "id": "6046a1de",
   "metadata": {},
   "outputs": [],
   "source": [
    "#gs_pipe.score(X_train, y_train)"
   ]
  },
  {
   "cell_type": "code",
   "execution_count": 15,
   "id": "6e60211c",
   "metadata": {},
   "outputs": [
    {
     "name": "stdout",
     "output_type": "stream",
     "text": [
      "------------\n",
      "              precision    recall  f1-score   support\n",
      "\n",
      "           0       0.85      0.79      0.82     16124\n",
      "           1       0.67      0.75      0.71      8876\n",
      "\n",
      "    accuracy                           0.78     25000\n",
      "   macro avg       0.76      0.77      0.77     25000\n",
      "weighted avg       0.79      0.78      0.78     25000\n",
      "\n"
     ]
    }
   ],
   "source": [
    "#print(classification_report(y_train, y_pred_train))\n",
    "print('------------')\n",
    "print(classification_report(y_test, y_pred_test))"
   ]
  },
  {
   "cell_type": "markdown",
   "id": "b79740dd",
   "metadata": {},
   "source": [
    "# XGBoost"
   ]
  },
  {
   "cell_type": "code",
   "execution_count": 23,
   "id": "aac35219",
   "metadata": {},
   "outputs": [],
   "source": [
    "XGB_pipeline = Pipeline([ ( \"cat_pipeline\", cat_pipeline ),\n",
    "                  ('boost', XGBClassifier(use_label_encoder=False, \n",
    "                                          eval_metric='auc', gamma= 0.02, max_depth=3, n_estimators=90, n_jobs=-1))\n",
    "                 ])\n",
    "\n",
    "\n",
    "#pipe_grid={'boost__gamma':[0.01,0.015]}\n",
    "pipe_grid={'boost__gamma':[0.01,0.015], 'boost__n_estimators':[90,110,130]}\n",
    "\n",
    "gs_pipe = GridSearchCV(estimator=XGB_pipeline, param_grid=pipe_grid,  cv=3, scoring='roc_auc')\n"
   ]
  },
  {
   "cell_type": "code",
   "execution_count": 24,
   "id": "b6a5d030",
   "metadata": {},
   "outputs": [],
   "source": [
    "gs_pipe.fit(X_train, y_train)\n",
    "y_pred_train=gs_pipe.predict(X_train)\n",
    "y_pred_test=gs_pipe.predict(X_test)"
   ]
  },
  {
   "cell_type": "code",
   "execution_count": 25,
   "id": "f4819bea",
   "metadata": {},
   "outputs": [
    {
     "name": "stdout",
     "output_type": "stream",
     "text": [
      "0.8492490070504073\n",
      "              precision    recall  f1-score   support\n",
      "\n",
      "           0       0.82      0.87      0.84     48373\n",
      "           1       0.73      0.65      0.69     26627\n",
      "\n",
      "    accuracy                           0.79     75000\n",
      "   macro avg       0.77      0.76      0.76     75000\n",
      "weighted avg       0.79      0.79      0.79     75000\n",
      "\n",
      "------------\n",
      "              precision    recall  f1-score   support\n",
      "\n",
      "           0       0.82      0.86      0.84     16124\n",
      "           1       0.72      0.64      0.68      8876\n",
      "\n",
      "    accuracy                           0.79     25000\n",
      "   macro avg       0.77      0.75      0.76     25000\n",
      "weighted avg       0.78      0.79      0.78     25000\n",
      "\n"
     ]
    }
   ],
   "source": [
    "#print(XGB_pipeline.score(X_train, y_train ))\n",
    "print(gs_pipe.score(X_train, y_train ))\n",
    "print(classification_report(y_train, y_pred_train))\n",
    "print('------------')\n",
    "print(classification_report(y_test, y_pred_test))"
   ]
  }
 ],
 "metadata": {
  "kernelspec": {
   "display_name": "Python 3 (ipykernel)",
   "language": "python",
   "name": "python3"
  },
  "language_info": {
   "codemirror_mode": {
    "name": "ipython",
    "version": 3
   },
   "file_extension": ".py",
   "mimetype": "text/x-python",
   "name": "python",
   "nbconvert_exporter": "python",
   "pygments_lexer": "ipython3",
   "version": "3.7.9"
  }
 },
 "nbformat": 4,
 "nbformat_minor": 5
}
