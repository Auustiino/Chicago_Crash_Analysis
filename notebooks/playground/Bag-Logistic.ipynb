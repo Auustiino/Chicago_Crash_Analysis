{
 "cells": [
  {
   "cell_type": "code",
   "execution_count": null,
   "id": "bdd7f0a4",
   "metadata": {},
   "outputs": [],
   "source": [
    "#from sklearn.experimental import enable_iterative_imputer\n",
    "#from sklearn.preprocessing import FunctionTransformer\n",
    "import pandas as pd\n",
    "import numpy as np\n",
    "\n",
    "from sklearn.impute import SimpleImputer #, IterativeImputer\n",
    "from sklearn.preprocessing import LabelEncoder, OrdinalEncoder, OneHotEncoder, StandardScaler, MaxAbsScaler\n",
    "\n",
    "from sklearn.metrics import precision_score, recall_score, accuracy_score, classification_report, ConfusionMatrixDisplay\n",
    "from sklearn.metrics import roc_auc_score, roc_curve, auc, SCORERS\n",
    "from sklearn.linear_model import LogisticRegression\n",
    "from sklearn.compose import ColumnTransformer\n",
    "from sklearn.pipeline import FeatureUnion, Pipeline\n",
    "from sklearn.model_selection import GridSearchCV, train_test_split\n",
    "from sklearn.tree import DecisionTreeClassifier\n",
    "from sklearn.ensemble import BaggingClassifier, RandomForestClassifier, ExtraTreesClassifier\n",
    "\n",
    "from sklearn import set_config\n",
    "set_config(display =\"diagram\")\n",
    "\n",
    "import matplotlib.pyplot as plt\n",
    "%matplotlib inline"
   ]
  },
  {
   "cell_type": "code",
   "execution_count": null,
   "id": "4457d4f8",
   "metadata": {},
   "outputs": [],
   "source": [
    "\n",
    "full_df=pd.read_csv('../data/processed/crashes.gz', compression='gzip', low_memory=False)"
   ]
  },
  {
   "cell_type": "code",
   "execution_count": null,
   "id": "631f9a2f",
   "metadata": {},
   "outputs": [],
   "source": [
    "selected_df=full_df[['GUILTY','DEVICE_CONDITION', 'FIRST_CRASH_TYPE', 'FIRST_CONTACT_POINT', \n",
    "           'TRAFFICWAY_TYPE','ROADWAY_SURFACE_COND','VEHICLE_DEFECT',\n",
    "             'DRIVERS_LICENSE_CLASS', 'AGE_GROUP', 'VEHICLE_AGE', 'AIRBAG_DEPLOYED',\n",
    "            'PHYSICAL_CONDITION', 'MANEUVER',  'DRIVER_VISION',  'ALIGNMENT' ,  'TRAFFIC_CONTROL_DEVICE',\n",
    "            'NUM_PASSENGERS','SUN_GLARE']]"
   ]
  },
  {
   "cell_type": "code",
   "execution_count": null,
   "id": "9df39de9",
   "metadata": {},
   "outputs": [],
   "source": [
    "#sample_df=selected_df.sample(8000, random_state=100)\n",
    "sample_df=selected_df.copy()\n",
    "\n",
    "y = sample_df['GUILTY']\n",
    "x = sample_df.drop(['GUILTY'],axis=1)\n",
    "\n",
    "X_train, X_test, y_train, y_test = train_test_split(x, y, random_state=100, test_size=0.25, stratify=y)\n"
   ]
  },
  {
   "cell_type": "code",
   "execution_count": null,
   "id": "fc23606f",
   "metadata": {},
   "outputs": [],
   "source": [
    "#numeric_columns = ['NUM_PASSENGERS']\n",
    "\n",
    "nominal_columns = [ 'FIRST_CRASH_TYPE', 'FIRST_CONTACT_POINT', \n",
    "           'ROADWAY_SURFACE_COND','VEHICLE_DEFECT', 'AIRBAG_DEPLOYED',\n",
    "             'DRIVERS_LICENSE_CLASS',  'VEHICLE_AGE', \n",
    "            'PHYSICAL_CONDITION', 'MANEUVER',   'TRAFFIC_CONTROL_DEVICE']\n",
    "\n",
    "#'AGE_GROUP', 'TRAFFICWAY_TYPE', ,'SUN_GLARE'\n",
    "#'ALIGNMENT' ,  'DEVICE_CONDITION','DRIVER_VISION', \n",
    "\n",
    "X_train = X_train[numeric_columns+nominal_columns]\n",
    "X_test = X_test[numeric_columns+nominal_columns]\n",
    "\n",
    "#X_train.info()"
   ]
  },
  {
   "cell_type": "code",
   "execution_count": null,
   "id": "5250519d",
   "metadata": {},
   "outputs": [],
   "source": [
    "from sklearn.base import BaseEstimator, TransformerMixin\n",
    "\n",
    "class DataFrameSelector(BaseEstimator, TransformerMixin):\n",
    "    def __init__(self, attribute_names):\n",
    "        self.attribute_names=attribute_names\n",
    "    def fit(self, X, y=None):\n",
    "        return self\n",
    "    def transform(self, X):\n",
    "        return X[self.attribute_names].values\n",
    "    \n",
    "\n",
    "num_pipeline = Pipeline([\n",
    "        ('selector', DataFrameSelector(numeric_columns)),\n",
    "        ('imputer', SimpleImputer(strategy = 'constant', fill_value=0))\n",
    " #       ('std_scaler', StandardScaler())\n",
    "    ])\n",
    "\n",
    "cat_pipeline = Pipeline([\n",
    "        ('selector', DataFrameSelector(nominal_columns)),\n",
    "#        ('imputer', SimpleImputer(strategy = 'constant', fill_value='NA')),\n",
    "        ('cat_encoder', OneHotEncoder(sparse=False, handle_unknown =  'ignore' )),\n",
    "    ])\n",
    "\n",
    "\n",
    "fu = FeatureUnion(transformer_list=[\n",
    "#        (\"num_pipeline\", num_pipeline),\n",
    "        (\"cat_pipeline\", cat_pipeline),\n",
    "    ])\n",
    "\n"
   ]
  },
  {
   "cell_type": "code",
   "execution_count": null,
   "id": "af5566be",
   "metadata": {
    "scrolled": true
   },
   "outputs": [],
   "source": [
    "X_train_transformed = fu.fit_transform(X_train[numeric_columns+nominal_columns])\n",
    "#X_train.info(verbose=True, show_counts=True)\n",
    "\n",
    "#columns=fu.transformer_list[1][1][2].get_feature_names_out()\n",
    "#columns=np.insert(columns, 0, 'Intercept')\n",
    "#transformed_df=pd.DataFrame(X_train_transformed, columns=X_train[numeric_columns+nominal_columns].columns)\n",
    "transformed_df=pd.DataFrame(X_train_transformed)\n",
    "\n",
    "#transformed_df.info()\n",
    "#transformed_df.info(verbose=True, show_counts=True)\n"
   ]
  },
  {
   "cell_type": "code",
   "execution_count": null,
   "id": "e919d0b5",
   "metadata": {},
   "outputs": [],
   "source": [
    "bag_log_pipe = Pipeline([\n",
    "                          ('fu', fu),\n",
    "                          ('model', BaggingClassifier(LogisticRegression(solver = 'newton-cg', max_iter=5000), \n",
    "                                                      n_estimators=100, ))\n",
    " \n",
    "                              ])\n"
   ]
  },
  {
   "cell_type": "code",
   "execution_count": null,
   "id": "b140fb67",
   "metadata": {},
   "outputs": [],
   "source": [
    "pipe_grid = {}\n",
    "\n",
    "#pipe_grid = {'model__criterion': ['gini', 'entropy']}\n",
    "\n",
    "gs_pipe = GridSearchCV(estimator=bag_log_pipe, param_grid=pipe_grid, cv=2, scoring='roc_auc')\n",
    "\n",
    "#pd.DataFrame(SCORERS.values())"
   ]
  },
  {
   "cell_type": "code",
   "execution_count": null,
   "id": "be49a0ca",
   "metadata": {},
   "outputs": [],
   "source": [
    "gs_pipe.fit(X_train, y_train)"
   ]
  },
  {
   "cell_type": "code",
   "execution_count": null,
   "id": "8cb65859",
   "metadata": {},
   "outputs": [],
   "source": [
    "y_pred_train=gs_pipe.predict(X_train)\n",
    "y_pred_test=gs_pipe.predict(X_test)"
   ]
  },
  {
   "cell_type": "code",
   "execution_count": null,
   "id": "6046a1de",
   "metadata": {},
   "outputs": [],
   "source": [
    "gs_pipe.best_params_\n"
   ]
  },
  {
   "cell_type": "code",
   "execution_count": null,
   "id": "6e60211c",
   "metadata": {},
   "outputs": [],
   "source": [
    "print(gs_pipe.score(X_train, y_train ))\n",
    "print(classification_report(y_train, y_pred_train))\n",
    "print('------------')\n",
    "print(classification_report(y_test, y_pred_test))"
   ]
  },
  {
   "cell_type": "code",
   "execution_count": null,
   "id": "b7edebf5",
   "metadata": {},
   "outputs": [],
   "source": []
  }
 ],
 "metadata": {
  "kernelspec": {
   "display_name": "Python 3 (ipykernel)",
   "language": "python",
   "name": "python3"
  },
  "language_info": {
   "codemirror_mode": {
    "name": "ipython",
    "version": 3
   },
   "file_extension": ".py",
   "mimetype": "text/x-python",
   "name": "python",
   "nbconvert_exporter": "python",
   "pygments_lexer": "ipython3",
   "version": "3.9.7"
  }
 },
 "nbformat": 4,
 "nbformat_minor": 5
}
