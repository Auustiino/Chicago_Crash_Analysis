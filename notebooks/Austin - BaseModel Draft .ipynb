{
 "cells": [
  {
   "cell_type": "code",
   "execution_count": 2,
   "id": "9f39a621",
   "metadata": {},
   "outputs": [],
   "source": [
    "import pandas as pd\n",
    "import numpy as np\n",
    "from datetime import datetime, timedelta, timezone, date\n",
    "# from pysolar.solar import *\n",
    "# from zoneinfo import ZoneInfo\n",
    "from dateutil import tz\n",
    "#import datetime\n",
    "#import zoneinfo\n",
    "\n",
    "pd.set_option('display.max_columns', 80)\n",
    "pd.set_option('display.max_rows', 200)\n",
    "\n",
    "People_df=pd.read_csv(\"../data/raw/Traffic_Crashes_-_People.csv.gz\", low_memory=False, compression='gzip')\n",
    "Crashes_df=pd.read_csv(\"../data/raw/Traffic_Crashes_-_Crashes.csv.gz\",low_memory=False, compression='gzip')\n",
    "Vehicle_df=pd.read_csv(\"../data/raw/Traffic_Crashes_-_Vehicles.csv.gz\",low_memory=False, compression='gzip')\n",
    "\n",
    "#Crashes_df = pd.read_csv('Traffic_Crashes_-_Crashes.csv', low_memory=False)\n",
    "#People_df = pd.read_csv('Traffic_Crashes_-_People.csv', low_memory=False)\n",
    "#Vehicle_df = pd.read_csv('Traffic_Crashes_-_Vehicles.csv', low_memory=False)"
   ]
  },
  {
   "cell_type": "code",
   "execution_count": 3,
   "id": "75337a61",
   "metadata": {},
   "outputs": [],
   "source": [
    "Crashes=Crashes_df.copy()\n",
    "People=People_df.copy()\n",
    "Vehicle=Vehicle_df.copy()\n",
    "\n",
    "# INITIAL FILTERING BEFORE the JOIN, FOR PERFORMANCE REASONS:\n",
    "\n",
    "Crashes=Crashes[Crashes['REPORT_TYPE']=='ON SCENE']\n",
    "\n",
    "Crashes=Crashes.query(\"CRASH_TYPE == 'INJURY AND / OR TOW DUE TO CRASH'\")\n",
    "\n",
    "#Vehicle = Vehicle[Vehicle_df['UNIT_NO']>1]\n",
    "veh_type=['PASSENGER','SPORT UTILITY VEHICLE (SUV)','VAN/MINI-VAN','PICKUP','TRUCK - SINGLE UNIT','BUS OVER 15 PASS.']\n",
    "Vehicle=Vehicle[Vehicle['VEHICLE_TYPE'].isin(veh_type)]\n",
    "\n",
    "People=People[People['PERSON_TYPE']==\"DRIVER\"]\n",
    "\n",
    "temp_df1=pd.merge(People, Vehicle, on=['CRASH_RECORD_ID','VEHICLE_ID'])\n",
    "ALL_df=pd.merge(temp_df1, Crashes, on='CRASH_RECORD_ID')\n"
   ]
  },
  {
   "cell_type": "code",
   "execution_count": 4,
   "id": "aba58d43",
   "metadata": {},
   "outputs": [],
   "source": [
    "from sklearn.experimental import enable_iterative_imputer\n",
    "from sklearn.impute import IterativeImputer\n",
    "\n",
    "# ALL_df.AGE.value_counts()"
   ]
  },
  {
   "cell_type": "code",
   "execution_count": 5,
   "id": "2cb7a243",
   "metadata": {},
   "outputs": [],
   "source": [
    "# ALL_df = ALL_df.query('AGE >= 0.0')"
   ]
  },
  {
   "cell_type": "code",
   "execution_count": 6,
   "id": "9bccaccb",
   "metadata": {},
   "outputs": [],
   "source": [
    "# GENERATING TARGET THROUGH binning and combining sec and prim causes:\n",
    "\n",
    "targ_map ={ 'IMPROPER OVERTAKING/PASSING':'YES', 'UNABLE TO DETERMINE':'UNKNOWN',\n",
    "       'IMPROPER BACKING':'YES', 'IMPROPER LANE USAGE':'YES',\n",
    "       'UNDER THE INFLUENCE OF ALCOHOL/DRUGS (USE WHEN ARREST IS EFFECTED)':'YES',\n",
    "       'DISREGARDING TRAFFIC SIGNALS':'YES',\n",
    "       'FAILING TO REDUCE SPEED TO AVOID CRASH':'YES',\n",
    "       'OPERATING VEHICLE IN ERRATIC, RECKLESS, CARELESS, NEGLIGENT OR AGGRESSIVE MANNER':'YES',\n",
    "       'FAILING TO YIELD RIGHT-OF-WAY':'YES', 'EQUIPMENT - VEHICLE CONDITION':'NO',\n",
    "       'VISION OBSCURED (SIGNS, TREE LIMBS, BUILDINGS, ETC.)':'NO',\n",
    "       'IMPROPER TURNING/NO SIGNAL':'YES', 'FOLLOWING TOO CLOSELY':'YES',\n",
    "       'DRIVING SKILLS/KNOWLEDGE/EXPERIENCE':'YES', 'DISREGARDING STOP SIGN':'YES',\n",
    "       'NOT APPLICABLE':'UNKNOWN', 'DISTRACTION - FROM INSIDE VEHICLE':'NO',\n",
    "       'DISTRACTION - FROM OUTSIDE VEHICLE':'NO',\n",
    "       'HAD BEEN DRINKING (USE WHEN ARREST IS NOT MADE)':'YES',\n",
    "       'ROAD ENGINEERING/SURFACE/MARKING DEFECTS':'NO',\n",
    "       'DISREGARDING OTHER TRAFFIC SIGNS':'YES', 'TEXTING':'YES',\n",
    "       'DRIVING ON WRONG SIDE/WRONG WAY':'YES', 'PHYSICAL CONDITION OF DRIVER':'YES',\n",
    "       'ANIMAL':'NO', 'WEATHER':'NO', 'ROAD CONSTRUCTION/MAINTENANCE':'NO',\n",
    "       'DISREGARDING YIELD SIGN':'YES', 'CELL PHONE USE OTHER THAN TEXTING':'YES',\n",
    "       'EVASIVE ACTION DUE TO ANIMAL, OBJECT, NONMOTORIST':'NO',\n",
    "       'TURNING RIGHT ON RED':'YES', 'RELATED TO BUS STOP':'NO',\n",
    "       'DISTRACTION - OTHER ELECTRONIC DEVICE (NAVIGATION DEVICE, DVD PLAYER, ETC.)':'YES',\n",
    "       'DISREGARDING ROAD MARKINGS':'YES', 'OBSTRUCTED CROSSWALKS':'NO',\n",
    "       'PASSING STOPPED SCHOOL BUS':'YES',\n",
    "       'EXCEEDING SAFE SPEED FOR CONDITIONS':'YES',\n",
    "       'EXCEEDING AUTHORIZED SPEED LIMIT':'YES',\n",
    "       'MOTORCYCLE ADVANCING LEGALLY ON RED LIGHT':'NO',\n",
    "       'BICYCLE ADVANCING LEGALLY ON RED LIGHT':'NO'}\n",
    "\n",
    "def create_target(this_driver_action, driver_error, driver_sec_error, phys_condition):\n",
    "    if this_driver_action not in ['NONE','OTHER','UNKNOWN']:\n",
    "        guilty='YES'\n",
    "    elif this_driver_action == 'NONE':\n",
    "        guilty='NO'\n",
    "    elif this_driver_action in ['OTHER','UNKNOWN'] and phys_condition in ['MEDICATED','FATIGUED/ASLEEP','ILLNESS/FAINTED'] :\n",
    "        guilty='NO'        \n",
    "    else: \n",
    "        guilty = driver_error\n",
    "\n",
    "    if guilty == 'UNKNOWN' and driver_error == 'UNKNOWN' and driver_sec_error == 'NO':\n",
    "        guilty='NO'\n",
    "    return guilty\n",
    "\n",
    "ALL_df['SOME_DRIVER_ERROR']=ALL_df['PRIM_CONTRIBUTORY_CAUSE'].replace(targ_map)\n",
    "ALL_df['SOME_DRIVER_SEC_ERROR']=ALL_df['SEC_CONTRIBUTORY_CAUSE'].replace(targ_map)\n",
    "\n",
    "ALL_df['GUILTY']=ALL_df.apply(lambda row: create_target(row['DRIVER_ACTION'], row['SOME_DRIVER_ERROR'], \n",
    "                                                        row['SOME_DRIVER_SEC_ERROR'],row['PHYSICAL_CONDITION']), axis=1)\n",
    "\n",
    "ALL_df = ALL_df[ALL_df['GUILTY']!='UNKNOWN']"
   ]
  },
  {
   "cell_type": "code",
   "execution_count": 7,
   "id": "13461e28",
   "metadata": {},
   "outputs": [
    {
     "data": {
      "text/plain": [
       "YES    88968\n",
       "NO     76258\n",
       "Name: GUILTY, dtype: int64"
      ]
     },
     "execution_count": 7,
     "metadata": {},
     "output_type": "execute_result"
    }
   ],
   "source": [
    "ALL_df['GUILTY'].value_counts()\n",
    "#Crashes.CRASH_TYPE.unique()"
   ]
  },
  {
   "cell_type": "code",
   "execution_count": 8,
   "id": "15f3335f",
   "metadata": {},
   "outputs": [],
   "source": [
    "# ALL_df.info"
   ]
  },
  {
   "cell_type": "code",
   "execution_count": 9,
   "id": "c8479b8b",
   "metadata": {},
   "outputs": [],
   "source": [
    "#temp_df=ALL_df[ALL_df['GUILTY']=='MAYBE'].copy()\n",
    "#temp_df.head(80)[['CRASH_RECORD_ID','UNIT_NO','MODEL','GUILTY', 'DRIVER_ACTION','PRIM_CONTRIBUTORY_CAUSE','SEC_CONTRIBUTORY_CAUSE']].sort_values(by=['CRASH_RECORD_ID','UNIT_NO'])\n"
   ]
  },
  {
   "cell_type": "code",
   "execution_count": 10,
   "id": "8fce2b95",
   "metadata": {},
   "outputs": [],
   "source": [
    "# Dividing on training and testing sets\n",
    "\n",
    "y=ALL_df['GUILTY']\n",
    "ALL_COL=ALL_df.drop(['GUILTY'],axis=1)\n",
    "from sklearn.model_selection import train_test_split\n",
    "\n",
    "X_train, X_test, Y_train, Y_test = train_test_split(ALL_COL, y, random_state=100, stratify=y)\n",
    "\n",
    "train_df=pd.concat([X_train,Y_train], axis=1)\n",
    "test_df=pd.concat([X_test,Y_test], axis=1)\n",
    "\n"
   ]
  },
  {
   "cell_type": "code",
   "execution_count": 11,
   "id": "19c26a31",
   "metadata": {},
   "outputs": [],
   "source": [
    "df=train_df.copy()\n",
    "df.dropna(subset=['LONGITUDE','LATITUDE'], axis=0, inplace=True)\n",
    "\n",
    "# to_zone = tz.gettz('America/Chicago')\n",
    "# df[\"CRASH_DATE\"]= df[\"CRASH_DATE\"].map(lambda x: datetime.datetime.strptime(x, \"%m/%d/%Y %I:%M:%S %p\").replace(tzinfo=to_zone))\n",
    "\n",
    "\n",
    "# import pysolar.solar as pys\n",
    "\n",
    "# def get_sun_position (lat,long,date, direction, light, sun):\n",
    "#     az=get_azimuth_fast(lat, long, date)\n",
    "#     alt=get_altitude_fast(lat, long, date)\n",
    "#     glare=0\n",
    "#     if  alt < 40 and alt > 0 and light == 'DAYLIGHT' and sun == 'CLEAR':\n",
    "#         if az <= 180 and direction in ('E','SE','S'):\n",
    "#             glare=1\n",
    "#         elif az >= 180 and direction in ('W','SW','S'):\n",
    "#             glare=1\n",
    "#         else: glare=0\n",
    "#     return pd.Series([glare, az,alt])\n",
    "\n",
    "\n",
    "# lambdafunc= lambda row: get_sun_position(row['LATITUDE'], \n",
    "#                              row['LONGITUDE'], \n",
    "#                              row['CRASH_DATE'].to_pydatetime(), \n",
    "#                              row['TRAVEL_DIRECTION'],\n",
    "#                              row['LIGHTING_CONDITION'], \n",
    "#                              row['WEATHER_CONDITION'])\n",
    "# #temp_df=df.head(20000).copy()\n",
    "\n",
    "# df[['SUN_GLARE','SUN_AZIMUTH','SUN_ALTITUDE']]=df.apply(lambdafunc, axis=1)\n"
   ]
  },
  {
   "cell_type": "code",
   "execution_count": 12,
   "id": "a9b61fed",
   "metadata": {
    "scrolled": true
   },
   "outputs": [],
   "source": [
    "## REPLACE WITH SKLEARN IMPUTERS\n",
    "\n",
    "df['EXCEED_SPEED_LIMIT_I']=df['EXCEED_SPEED_LIMIT_I'].fillna('UNKNOWN')\n",
    "df['INTERSECTION_RELATED_I']=df['INTERSECTION_RELATED_I'].fillna('UNKNOWN')\n",
    "df['FIRST_CONTACT_POINT']=df['FIRST_CONTACT_POINT'].fillna('UNKNOWN')\n",
    "df['NUM_PASSENGERS']=df['NUM_PASSENGERS'].fillna(0)\n",
    "df['DRIVERS_LICENSE_CLASS']=df['DRIVERS_LICENSE_CLASS'].fillna('D')\n",
    "\n",
    "df.dropna(subset=['MAKE','MODEL','VEHICLE_YEAR'], axis=0, inplace=True)\n",
    "\n",
    "df['VEHICLE_DEFECT']=df['VEHICLE_DEFECT'].replace( {'UNKNOWN':'NONE'}).copy()\n",
    "\n",
    "df=df[df['WEATHER_CONDITION']!='UNKNOWN']\n",
    "df=df[df['LIGHTING_CONDITION']!='UNKNOWN']\n",
    "\n",
    "df=df[df['DRIVERS_LICENSE_CLASS'].isin([\"A\",\"B\",\"C\",\"D\",\"DM\",\"AM\",\"BM\",\"CD\"])]\n",
    "\n",
    "df['DRIVERS_LICENSE_CLASS']=np.where(df['DRIVERS_LICENSE_CLASS'].isin([\"A\",\"B\",\"C\",\"AM\",\"BM\",\"CD\",\"S\"]),'CDL',\n",
    "                                     df['DRIVERS_LICENSE_CLASS'])\n",
    "df['DRIVERS_LICENSE_CLASS']=np.where(df['DRIVERS_LICENSE_CLASS']=='DM','D', df['DRIVERS_LICENSE_CLASS'])\n",
    "\n",
    "df.loc[df.query(\"CELL_PHONE_USE =='Y' and DRIVER_ACTION in (['UNKNOWN','NONE'])\").index ,['DRIVER_ACTION']] = 'CELL PHONE USE'\n",
    "\n",
    "df=df.query('SEX!=\"X\"')\n",
    "\n",
    "proper_speed=np.arange(0,80,5)\n",
    "df=df[df['POSTED_SPEED_LIMIT'].isin(proper_speed)].copy()\n",
    "\n",
    "# df = df.query('AGE>14 and AGE <101')\n",
    "# df['AGE_GROUP'] = pd.cut(x=df['AGE'], bins=[15, 24, 35, 55, 70, 80, 100], \n",
    "#                          labels=['YOUNG', 'YOUNG ADULTS','ADULTS','MIDDLE AGED','SENIORS', '80+'])\n",
    "\n",
    "# df=df[df['VEHICLE_YEAR']<=date.today().year]\n",
    "# df=df[df['VEHICLE_YEAR']>1900]\n",
    "\n",
    "# latest=date.today().year\n",
    "# oldest=df['VEHICLE_YEAR'].min()\n",
    "\n",
    "# vehicle_age=[oldest-1, latest-25, latest-15, latest-8, latest-3, latest ]\n",
    "# vehicle_age_labels=['25+ years old', '15-25 years old','8-15 years old','3-8 years old','0-3 years old']\n",
    "# df['VEHICLE_AGE'] = pd.cut(x=df['VEHICLE_YEAR'], bins=vehicle_age, labels=vehicle_age_labels, right=False)\n"
   ]
  },
  {
   "cell_type": "markdown",
   "id": "53d8b371",
   "metadata": {},
   "source": [
    "# Clean Above -----------Modeling Below ----------------"
   ]
  },
  {
   "cell_type": "code",
   "execution_count": 13,
   "id": "54264aba",
   "metadata": {},
   "outputs": [],
   "source": [
    "cols=['GUILTY','DEVICE_CONDITION', 'FIRST_CRASH_TYPE', 'FIRST_CONTACT_POINT', \n",
    "           'TRAFFICWAY_TYPE','ROADWAY_SURFACE_COND','ROAD_DEFECT','POSTED_SPEED_LIMIT','VEHICLE_DEFECT',\n",
    "            'ALIGNMENT', 'LIGHTING_CONDITION', 'WEATHER_CONDITION','SEX','DRIVERS_LICENSE_CLASS',  \n",
    "            'PHYSICAL_CONDITION', 'MANEUVER','NUM_PASSENGERS', 'VEHICLE_YEAR', 'DRIVER_VISION', 'AGE']\n",
    "\n",
    "# Removed ,'SUN_GLARE' from cols \n",
    "\n",
    "X=df[cols].copy()\n",
    "# X=X.dropna()\n",
    "y_train = X['GUILTY']\n",
    "X_train = X.drop(columns = 'GUILTY')"
   ]
  },
  {
   "cell_type": "code",
   "execution_count": 14,
   "id": "d81e7459",
   "metadata": {},
   "outputs": [
    {
     "data": {
      "text/plain": [
       "Index(['DEVICE_CONDITION', 'FIRST_CRASH_TYPE', 'FIRST_CONTACT_POINT',\n",
       "       'TRAFFICWAY_TYPE', 'ROADWAY_SURFACE_COND', 'ROAD_DEFECT',\n",
       "       'POSTED_SPEED_LIMIT', 'VEHICLE_DEFECT', 'ALIGNMENT',\n",
       "       'LIGHTING_CONDITION', 'WEATHER_CONDITION', 'SEX',\n",
       "       'DRIVERS_LICENSE_CLASS', 'PHYSICAL_CONDITION', 'MANEUVER',\n",
       "       'NUM_PASSENGERS', 'VEHICLE_YEAR', 'DRIVER_VISION', 'AGE'],\n",
       "      dtype='object')"
      ]
     },
     "execution_count": 14,
     "metadata": {},
     "output_type": "execute_result"
    }
   ],
   "source": [
    "X_train.columns"
   ]
  },
  {
   "cell_type": "code",
   "execution_count": 15,
   "id": "2b34f78d",
   "metadata": {},
   "outputs": [
    {
     "data": {
      "text/plain": [
       "DEVICE_CONDITION           8\n",
       "FIRST_CRASH_TYPE          18\n",
       "FIRST_CONTACT_POINT       14\n",
       "TRAFFICWAY_TYPE           20\n",
       "ROADWAY_SURFACE_COND       7\n",
       "ROAD_DEFECT                7\n",
       "POSTED_SPEED_LIMIT        13\n",
       "VEHICLE_DEFECT            15\n",
       "ALIGNMENT                  6\n",
       "LIGHTING_CONDITION         5\n",
       "WEATHER_CONDITION         10\n",
       "SEX                        2\n",
       "DRIVERS_LICENSE_CLASS      2\n",
       "PHYSICAL_CONDITION        12\n",
       "MANEUVER                  25\n",
       "NUM_PASSENGERS            25\n",
       "VEHICLE_YEAR             101\n",
       "DRIVER_VISION             14\n",
       "AGE                      104\n",
       "dtype: int64"
      ]
     },
     "execution_count": 15,
     "metadata": {},
     "output_type": "execute_result"
    }
   ],
   "source": [
    "def explore_cat_vars(df, n):\n",
    "    col_counts=pd.DataFrame(df.nunique(),).reset_index()\n",
    "    col_counts.columns=([\"Col_Name\", \"Count\"])\n",
    "    for col in col_counts[col_counts['Count'] < n]['Col_Name']:\n",
    "        print('--------------------------------------')\n",
    "        print(col)\n",
    "        print('--------------------------------------')\n",
    "        print(df[col].value_counts())\n",
    "    print(\"=================================================================================================\")\n",
    "    print(col_counts[col_counts['Count'] >= n])\n",
    "\n",
    "#explore_cat_vars(X, 42)\n",
    "\n",
    "X_train.nunique()"
   ]
  },
  {
   "cell_type": "code",
   "execution_count": 16,
   "id": "7a184766",
   "metadata": {},
   "outputs": [],
   "source": [
    "from sklearn.pipeline import FeatureUnion\n",
    "from sklearn.pipeline import Pipeline\n",
    "from sklearn.impute import SimpleImputer\n",
    "from sklearn.preprocessing import LabelEncoder\n",
    "from sklearn.preprocessing import OrdinalEncoder\n",
    "from sklearn.preprocessing import OneHotEncoder\n",
    "from sklearn.preprocessing import StandardScaler\n",
    "from sklearn.preprocessing import MaxAbsScaler\n",
    "from sklearn.compose import ColumnTransformer\n",
    "from sklearn.linear_model import LogisticRegression\n",
    "from sklearn.metrics import precision_score, recall_score, accuracy_score\n",
    "from sklearn import set_config\n",
    "from sklearn.metrics import ConfusionMatrixDisplay\n",
    "from sklearn.tree import DecisionTreeClassifier\n",
    "set_config(display =\"diagram\")\n",
    "\n",
    "# cat_encoded = ColumnTransformer(transformers=[\n",
    "#     (\"ohe\", OneHotEncoder(drop='first', handle_unknown=\"ignore\"), [\"category\"])\n",
    "# ], remainder=\"passthrough\")"
   ]
  },
  {
   "cell_type": "code",
   "execution_count": 17,
   "id": "22a44bca",
   "metadata": {
    "scrolled": true
   },
   "outputs": [
    {
     "data": {
      "text/plain": [
       "Index(['DEVICE_CONDITION', 'FIRST_CRASH_TYPE', 'FIRST_CONTACT_POINT',\n",
       "       'TRAFFICWAY_TYPE', 'ROADWAY_SURFACE_COND', 'ROAD_DEFECT',\n",
       "       'POSTED_SPEED_LIMIT', 'VEHICLE_DEFECT', 'ALIGNMENT',\n",
       "       'LIGHTING_CONDITION', 'WEATHER_CONDITION', 'SEX',\n",
       "       'DRIVERS_LICENSE_CLASS', 'PHYSICAL_CONDITION', 'MANEUVER',\n",
       "       'NUM_PASSENGERS', 'VEHICLE_YEAR', 'DRIVER_VISION', 'AGE'],\n",
       "      dtype='object')"
      ]
     },
     "execution_count": 17,
     "metadata": {},
     "output_type": "execute_result"
    }
   ],
   "source": [
    "X_train.columns"
   ]
  },
  {
   "cell_type": "code",
   "execution_count": 18,
   "id": "b6c18fb3",
   "metadata": {},
   "outputs": [],
   "source": [
    "# X.NUM_PASSENGERS.value_counts()"
   ]
  },
  {
   "cell_type": "code",
   "execution_count": 19,
   "id": "9ca0fa56",
   "metadata": {},
   "outputs": [],
   "source": [
    "# explore_cat_vars(X_train, 25)"
   ]
  },
  {
   "cell_type": "code",
   "execution_count": 21,
   "id": "ffc9c433",
   "metadata": {},
   "outputs": [],
   "source": [
    "ordinal_columns = ['DRIVERS_LICENSE_CLASS']\n",
    "numeric_columns = ['AGE', 'VEHICLE_YEAR']\n",
    "nominal_columns = ['FIRST_CRASH_TYPE', 'FIRST_CONTACT_POINT', 'TRAFFICWAY_TYPE', \n",
    "                   'ROADWAY_SURFACE_COND', 'ROAD_DEFECT', 'POSTED_SPEED_LIMIT', 'VEHICLE_DEFECT',\n",
    "                  'ALIGNMENT', 'WEATHER_CONDITION', 'SEX', 'PHYSICAL_CONDITION',\n",
    "                   'MANEUVER', 'DRIVER_VISION', 'NUM_PASSENGERS',\n",
    "                   'DEVICE_CONDITION', 'LIGHTING_CONDITION']\n",
    "\n",
    "#drivers_order = "
   ]
  },
  {
   "cell_type": "code",
   "execution_count": null,
   "id": "2c5d6fb1",
   "metadata": {},
   "outputs": [],
   "source": []
  },
  {
   "cell_type": "code",
   "execution_count": 25,
   "id": "0ae3f6dc",
   "metadata": {},
   "outputs": [],
   "source": [
    "### Pipeline framework for numeric columns\n",
    "\n",
    "numeric_pipeline = Pipeline([('AGEimputer', IterativeImputer()), ('numnorm', StandardScaler())])\n",
    "\n",
    "\n",
    "\n",
    "\n",
    "### Pipeline framework for ordinal columns\n",
    "\n",
    "# ordinal_pipeline = Pipeline([\n",
    "#     ('ordimputer', SimpleImputer(strategy = 'most_frequent')),\n",
    "#     ('ordenc', OrdinalEncoder(categories = [ed_list])),\n",
    "#     ('ordnorm', StandardScaler())])\n",
    "\n",
    "\n",
    "\n",
    "### Pipeline framework for nominal columns\n",
    "\n",
    "nominal_pipeline = Pipeline([\n",
    "#     ('onehotimputer', SimpleImputer(strategy = 'most_frequent')),\n",
    "    ('onehotenc', OneHotEncoder(sparse = False, drop = 'first', handle_unknown =  'ignore'))])\n",
    "\n",
    "ct = ColumnTransformer(\n",
    "#     [(\"ordinalpipe\", ordinal_pipeline, ordinal_columns), \n",
    "     [(\"nominalpipe\", nominal_pipeline, nominal_columns),\n",
    "     ('ord_as_nom_temporarily', nominal_pipeline, ordinal_columns),\n",
    "     (\"numeric_pipe\", numeric_pipeline, numeric_columns)])\n"
   ]
  },
  {
   "cell_type": "code",
   "execution_count": 24,
   "id": "d78720a7",
   "metadata": {},
   "outputs": [
    {
     "data": {
      "text/plain": [
       "DEVICE_CONDITION            0\n",
       "FIRST_CRASH_TYPE            0\n",
       "FIRST_CONTACT_POINT         0\n",
       "TRAFFICWAY_TYPE             0\n",
       "ROADWAY_SURFACE_COND        0\n",
       "ROAD_DEFECT                 0\n",
       "POSTED_SPEED_LIMIT          0\n",
       "VEHICLE_DEFECT              0\n",
       "ALIGNMENT                   0\n",
       "LIGHTING_CONDITION          0\n",
       "WEATHER_CONDITION           0\n",
       "SEX                         0\n",
       "DRIVERS_LICENSE_CLASS       0\n",
       "PHYSICAL_CONDITION          0\n",
       "MANEUVER                    0\n",
       "NUM_PASSENGERS              0\n",
       "VEHICLE_YEAR                0\n",
       "DRIVER_VISION               0\n",
       "AGE                      5574\n",
       "dtype: int64"
      ]
     },
     "execution_count": 24,
     "metadata": {},
     "output_type": "execute_result"
    }
   ],
   "source": [
    "X_train.isna().sum()"
   ]
  },
  {
   "cell_type": "code",
   "execution_count": 117,
   "id": "d33d7664",
   "metadata": {},
   "outputs": [],
   "source": [
    "# pd.DataFrame(ct.fit_transform(X)).head()"
   ]
  },
  {
   "cell_type": "markdown",
   "id": "e3f24e93",
   "metadata": {},
   "source": [
    "# Baseline Logistic Regression"
   ]
  },
  {
   "cell_type": "code",
   "execution_count": 118,
   "id": "6965f3f3",
   "metadata": {},
   "outputs": [],
   "source": [
    "baseline_pipe = Pipeline([('preprocess', ct),\n",
    "                          ('standardscale', StandardScaler()),\n",
    "                          ('model',LogisticRegression(max_iter = 10000))])\n",
    "# baseline_pipe"
   ]
  },
  {
   "cell_type": "code",
   "execution_count": 119,
   "id": "5c4f6b8e",
   "metadata": {
    "scrolled": true
   },
   "outputs": [
    {
     "data": {
      "text/html": [
       "<style>#sk-689bd559-a90a-42f5-ba7e-9b230d143b2b {color: black;background-color: white;}#sk-689bd559-a90a-42f5-ba7e-9b230d143b2b pre{padding: 0;}#sk-689bd559-a90a-42f5-ba7e-9b230d143b2b div.sk-toggleable {background-color: white;}#sk-689bd559-a90a-42f5-ba7e-9b230d143b2b label.sk-toggleable__label {cursor: pointer;display: block;width: 100%;margin-bottom: 0;padding: 0.3em;box-sizing: border-box;text-align: center;}#sk-689bd559-a90a-42f5-ba7e-9b230d143b2b label.sk-toggleable__label-arrow:before {content: \"▸\";float: left;margin-right: 0.25em;color: #696969;}#sk-689bd559-a90a-42f5-ba7e-9b230d143b2b label.sk-toggleable__label-arrow:hover:before {color: black;}#sk-689bd559-a90a-42f5-ba7e-9b230d143b2b div.sk-estimator:hover label.sk-toggleable__label-arrow:before {color: black;}#sk-689bd559-a90a-42f5-ba7e-9b230d143b2b div.sk-toggleable__content {max-height: 0;max-width: 0;overflow: hidden;text-align: left;background-color: #f0f8ff;}#sk-689bd559-a90a-42f5-ba7e-9b230d143b2b div.sk-toggleable__content pre {margin: 0.2em;color: black;border-radius: 0.25em;background-color: #f0f8ff;}#sk-689bd559-a90a-42f5-ba7e-9b230d143b2b input.sk-toggleable__control:checked~div.sk-toggleable__content {max-height: 200px;max-width: 100%;overflow: auto;}#sk-689bd559-a90a-42f5-ba7e-9b230d143b2b input.sk-toggleable__control:checked~label.sk-toggleable__label-arrow:before {content: \"▾\";}#sk-689bd559-a90a-42f5-ba7e-9b230d143b2b div.sk-estimator input.sk-toggleable__control:checked~label.sk-toggleable__label {background-color: #d4ebff;}#sk-689bd559-a90a-42f5-ba7e-9b230d143b2b div.sk-label input.sk-toggleable__control:checked~label.sk-toggleable__label {background-color: #d4ebff;}#sk-689bd559-a90a-42f5-ba7e-9b230d143b2b input.sk-hidden--visually {border: 0;clip: rect(1px 1px 1px 1px);clip: rect(1px, 1px, 1px, 1px);height: 1px;margin: -1px;overflow: hidden;padding: 0;position: absolute;width: 1px;}#sk-689bd559-a90a-42f5-ba7e-9b230d143b2b div.sk-estimator {font-family: monospace;background-color: #f0f8ff;border: 1px dotted black;border-radius: 0.25em;box-sizing: border-box;margin-bottom: 0.5em;}#sk-689bd559-a90a-42f5-ba7e-9b230d143b2b div.sk-estimator:hover {background-color: #d4ebff;}#sk-689bd559-a90a-42f5-ba7e-9b230d143b2b div.sk-parallel-item::after {content: \"\";width: 100%;border-bottom: 1px solid gray;flex-grow: 1;}#sk-689bd559-a90a-42f5-ba7e-9b230d143b2b div.sk-label:hover label.sk-toggleable__label {background-color: #d4ebff;}#sk-689bd559-a90a-42f5-ba7e-9b230d143b2b div.sk-serial::before {content: \"\";position: absolute;border-left: 1px solid gray;box-sizing: border-box;top: 2em;bottom: 0;left: 50%;}#sk-689bd559-a90a-42f5-ba7e-9b230d143b2b div.sk-serial {display: flex;flex-direction: column;align-items: center;background-color: white;padding-right: 0.2em;padding-left: 0.2em;}#sk-689bd559-a90a-42f5-ba7e-9b230d143b2b div.sk-item {z-index: 1;}#sk-689bd559-a90a-42f5-ba7e-9b230d143b2b div.sk-parallel {display: flex;align-items: stretch;justify-content: center;background-color: white;}#sk-689bd559-a90a-42f5-ba7e-9b230d143b2b div.sk-parallel::before {content: \"\";position: absolute;border-left: 1px solid gray;box-sizing: border-box;top: 2em;bottom: 0;left: 50%;}#sk-689bd559-a90a-42f5-ba7e-9b230d143b2b div.sk-parallel-item {display: flex;flex-direction: column;position: relative;background-color: white;}#sk-689bd559-a90a-42f5-ba7e-9b230d143b2b div.sk-parallel-item:first-child::after {align-self: flex-end;width: 50%;}#sk-689bd559-a90a-42f5-ba7e-9b230d143b2b div.sk-parallel-item:last-child::after {align-self: flex-start;width: 50%;}#sk-689bd559-a90a-42f5-ba7e-9b230d143b2b div.sk-parallel-item:only-child::after {width: 0;}#sk-689bd559-a90a-42f5-ba7e-9b230d143b2b div.sk-dashed-wrapped {border: 1px dashed gray;margin: 0 0.4em 0.5em 0.4em;box-sizing: border-box;padding-bottom: 0.4em;background-color: white;position: relative;}#sk-689bd559-a90a-42f5-ba7e-9b230d143b2b div.sk-label label {font-family: monospace;font-weight: bold;background-color: white;display: inline-block;line-height: 1.2em;}#sk-689bd559-a90a-42f5-ba7e-9b230d143b2b div.sk-label-container {position: relative;z-index: 2;text-align: center;}#sk-689bd559-a90a-42f5-ba7e-9b230d143b2b div.sk-container {/* jupyter's `normalize.less` sets `[hidden] { display: none; }` but bootstrap.min.css set `[hidden] { display: none !important; }` so we also need the `!important` here to be able to override the default hidden behavior on the sphinx rendered scikit-learn.org. See: https://github.com/scikit-learn/scikit-learn/issues/21755 */display: inline-block !important;position: relative;}#sk-689bd559-a90a-42f5-ba7e-9b230d143b2b div.sk-text-repr-fallback {display: none;}</style><div id=\"sk-689bd559-a90a-42f5-ba7e-9b230d143b2b\" class=\"sk-top-container\"><div class=\"sk-text-repr-fallback\"><pre>Pipeline(steps=[(&#x27;preprocess&#x27;,\n",
       "                 ColumnTransformer(transformers=[(&#x27;nominalpipe&#x27;,\n",
       "                                                  Pipeline(steps=[(&#x27;onehotenc&#x27;,\n",
       "                                                                   OneHotEncoder(drop=&#x27;first&#x27;,\n",
       "                                                                                 handle_unknown=&#x27;ignore&#x27;,\n",
       "                                                                                 sparse=False))]),\n",
       "                                                  [&#x27;FIRST_CRASH_TYPE&#x27;,\n",
       "                                                   &#x27;FIRST_CONTACT_POINT&#x27;,\n",
       "                                                   &#x27;TRAFFICWAY_TYPE&#x27;,\n",
       "                                                   &#x27;ROADWAY_SURFACE_COND&#x27;,\n",
       "                                                   &#x27;ROAD_DEFECT&#x27;,\n",
       "                                                   &#x27;POSTED_SPEED_LIMIT&#x27;,\n",
       "                                                   &#x27;VEHICLE_DEFECT&#x27;,\n",
       "                                                   &#x27;ALIGNMENT&#x27;,\n",
       "                                                   &#x27;WEATHER_CONDITION&#x27;, &#x27;SEX&#x27;,\n",
       "                                                   &#x27;PH...\n",
       "                                                 (&#x27;ord_as_nom_temporarily&#x27;,\n",
       "                                                  Pipeline(steps=[(&#x27;onehotenc&#x27;,\n",
       "                                                                   OneHotEncoder(drop=&#x27;first&#x27;,\n",
       "                                                                                 handle_unknown=&#x27;ignore&#x27;,\n",
       "                                                                                 sparse=False))]),\n",
       "                                                  [&#x27;DRIVERS_LICENSE_CLASS&#x27;]),\n",
       "                                                 (&#x27;numeric_pipe&#x27;,\n",
       "                                                  Pipeline(steps=[(&#x27;AGEimputer&#x27;,\n",
       "                                                                   IterativeImputer()),\n",
       "                                                                  (&#x27;numnorm&#x27;,\n",
       "                                                                   StandardScaler())]),\n",
       "                                                  [&#x27;AGE&#x27;, &#x27;VEHICLE_YEAR&#x27;])])),\n",
       "                (&#x27;standardscale&#x27;, StandardScaler()),\n",
       "                (&#x27;model&#x27;, LogisticRegression(max_iter=10000))])</pre><b>Please rerun this cell to show the HTML repr or trust the notebook.</b></div><div class=\"sk-container\" hidden><div class=\"sk-item sk-dashed-wrapped\"><div class=\"sk-label-container\"><div class=\"sk-label sk-toggleable\"><input class=\"sk-toggleable__control sk-hidden--visually\" id=\"86d3e236-4fc2-4ef5-b154-e45959949ff8\" type=\"checkbox\" ><label for=\"86d3e236-4fc2-4ef5-b154-e45959949ff8\" class=\"sk-toggleable__label sk-toggleable__label-arrow\">Pipeline</label><div class=\"sk-toggleable__content\"><pre>Pipeline(steps=[(&#x27;preprocess&#x27;,\n",
       "                 ColumnTransformer(transformers=[(&#x27;nominalpipe&#x27;,\n",
       "                                                  Pipeline(steps=[(&#x27;onehotenc&#x27;,\n",
       "                                                                   OneHotEncoder(drop=&#x27;first&#x27;,\n",
       "                                                                                 handle_unknown=&#x27;ignore&#x27;,\n",
       "                                                                                 sparse=False))]),\n",
       "                                                  [&#x27;FIRST_CRASH_TYPE&#x27;,\n",
       "                                                   &#x27;FIRST_CONTACT_POINT&#x27;,\n",
       "                                                   &#x27;TRAFFICWAY_TYPE&#x27;,\n",
       "                                                   &#x27;ROADWAY_SURFACE_COND&#x27;,\n",
       "                                                   &#x27;ROAD_DEFECT&#x27;,\n",
       "                                                   &#x27;POSTED_SPEED_LIMIT&#x27;,\n",
       "                                                   &#x27;VEHICLE_DEFECT&#x27;,\n",
       "                                                   &#x27;ALIGNMENT&#x27;,\n",
       "                                                   &#x27;WEATHER_CONDITION&#x27;, &#x27;SEX&#x27;,\n",
       "                                                   &#x27;PH...\n",
       "                                                 (&#x27;ord_as_nom_temporarily&#x27;,\n",
       "                                                  Pipeline(steps=[(&#x27;onehotenc&#x27;,\n",
       "                                                                   OneHotEncoder(drop=&#x27;first&#x27;,\n",
       "                                                                                 handle_unknown=&#x27;ignore&#x27;,\n",
       "                                                                                 sparse=False))]),\n",
       "                                                  [&#x27;DRIVERS_LICENSE_CLASS&#x27;]),\n",
       "                                                 (&#x27;numeric_pipe&#x27;,\n",
       "                                                  Pipeline(steps=[(&#x27;AGEimputer&#x27;,\n",
       "                                                                   IterativeImputer()),\n",
       "                                                                  (&#x27;numnorm&#x27;,\n",
       "                                                                   StandardScaler())]),\n",
       "                                                  [&#x27;AGE&#x27;, &#x27;VEHICLE_YEAR&#x27;])])),\n",
       "                (&#x27;standardscale&#x27;, StandardScaler()),\n",
       "                (&#x27;model&#x27;, LogisticRegression(max_iter=10000))])</pre></div></div></div><div class=\"sk-serial\"><div class=\"sk-item sk-dashed-wrapped\"><div class=\"sk-label-container\"><div class=\"sk-label sk-toggleable\"><input class=\"sk-toggleable__control sk-hidden--visually\" id=\"71b6fbe0-bb50-40c9-9db6-862d353de62c\" type=\"checkbox\" ><label for=\"71b6fbe0-bb50-40c9-9db6-862d353de62c\" class=\"sk-toggleable__label sk-toggleable__label-arrow\">preprocess: ColumnTransformer</label><div class=\"sk-toggleable__content\"><pre>ColumnTransformer(transformers=[(&#x27;nominalpipe&#x27;,\n",
       "                                 Pipeline(steps=[(&#x27;onehotenc&#x27;,\n",
       "                                                  OneHotEncoder(drop=&#x27;first&#x27;,\n",
       "                                                                handle_unknown=&#x27;ignore&#x27;,\n",
       "                                                                sparse=False))]),\n",
       "                                 [&#x27;FIRST_CRASH_TYPE&#x27;, &#x27;FIRST_CONTACT_POINT&#x27;,\n",
       "                                  &#x27;TRAFFICWAY_TYPE&#x27;, &#x27;ROADWAY_SURFACE_COND&#x27;,\n",
       "                                  &#x27;ROAD_DEFECT&#x27;, &#x27;POSTED_SPEED_LIMIT&#x27;,\n",
       "                                  &#x27;VEHICLE_DEFECT&#x27;, &#x27;ALIGNMENT&#x27;,\n",
       "                                  &#x27;WEATHER_CONDITION&#x27;, &#x27;SEX&#x27;,\n",
       "                                  &#x27;PHYSICAL_CONDITION&#x27;, &#x27;MANEUVER&#x27;,\n",
       "                                  &#x27;DRIVER_VISION&#x27;, &#x27;NUM_PASSENGERS&#x27;,\n",
       "                                  &#x27;DEVICE_CONDITION&#x27;, &#x27;LIGHTING_CONDITION&#x27;]),\n",
       "                                (&#x27;ord_as_nom_temporarily&#x27;,\n",
       "                                 Pipeline(steps=[(&#x27;onehotenc&#x27;,\n",
       "                                                  OneHotEncoder(drop=&#x27;first&#x27;,\n",
       "                                                                handle_unknown=&#x27;ignore&#x27;,\n",
       "                                                                sparse=False))]),\n",
       "                                 [&#x27;DRIVERS_LICENSE_CLASS&#x27;]),\n",
       "                                (&#x27;numeric_pipe&#x27;,\n",
       "                                 Pipeline(steps=[(&#x27;AGEimputer&#x27;,\n",
       "                                                  IterativeImputer()),\n",
       "                                                 (&#x27;numnorm&#x27;,\n",
       "                                                  StandardScaler())]),\n",
       "                                 [&#x27;AGE&#x27;, &#x27;VEHICLE_YEAR&#x27;])])</pre></div></div></div><div class=\"sk-parallel\"><div class=\"sk-parallel-item\"><div class=\"sk-item\"><div class=\"sk-label-container\"><div class=\"sk-label sk-toggleable\"><input class=\"sk-toggleable__control sk-hidden--visually\" id=\"08e621d1-d93c-40de-a9da-76f8efbac639\" type=\"checkbox\" ><label for=\"08e621d1-d93c-40de-a9da-76f8efbac639\" class=\"sk-toggleable__label sk-toggleable__label-arrow\">nominalpipe</label><div class=\"sk-toggleable__content\"><pre>[&#x27;FIRST_CRASH_TYPE&#x27;, &#x27;FIRST_CONTACT_POINT&#x27;, &#x27;TRAFFICWAY_TYPE&#x27;, &#x27;ROADWAY_SURFACE_COND&#x27;, &#x27;ROAD_DEFECT&#x27;, &#x27;POSTED_SPEED_LIMIT&#x27;, &#x27;VEHICLE_DEFECT&#x27;, &#x27;ALIGNMENT&#x27;, &#x27;WEATHER_CONDITION&#x27;, &#x27;SEX&#x27;, &#x27;PHYSICAL_CONDITION&#x27;, &#x27;MANEUVER&#x27;, &#x27;DRIVER_VISION&#x27;, &#x27;NUM_PASSENGERS&#x27;, &#x27;DEVICE_CONDITION&#x27;, &#x27;LIGHTING_CONDITION&#x27;]</pre></div></div></div><div class=\"sk-serial\"><div class=\"sk-item\"><div class=\"sk-serial\"><div class=\"sk-item\"><div class=\"sk-estimator sk-toggleable\"><input class=\"sk-toggleable__control sk-hidden--visually\" id=\"b739f830-db0d-499a-b474-b77ec06b42b9\" type=\"checkbox\" ><label for=\"b739f830-db0d-499a-b474-b77ec06b42b9\" class=\"sk-toggleable__label sk-toggleable__label-arrow\">OneHotEncoder</label><div class=\"sk-toggleable__content\"><pre>OneHotEncoder(drop=&#x27;first&#x27;, handle_unknown=&#x27;ignore&#x27;, sparse=False)</pre></div></div></div></div></div></div></div></div><div class=\"sk-parallel-item\"><div class=\"sk-item\"><div class=\"sk-label-container\"><div class=\"sk-label sk-toggleable\"><input class=\"sk-toggleable__control sk-hidden--visually\" id=\"26cee9a5-f9e2-4eeb-b29b-e10189cf3d68\" type=\"checkbox\" ><label for=\"26cee9a5-f9e2-4eeb-b29b-e10189cf3d68\" class=\"sk-toggleable__label sk-toggleable__label-arrow\">ord_as_nom_temporarily</label><div class=\"sk-toggleable__content\"><pre>[&#x27;DRIVERS_LICENSE_CLASS&#x27;]</pre></div></div></div><div class=\"sk-serial\"><div class=\"sk-item\"><div class=\"sk-serial\"><div class=\"sk-item\"><div class=\"sk-estimator sk-toggleable\"><input class=\"sk-toggleable__control sk-hidden--visually\" id=\"099dba5b-3eee-49d8-ae95-52189720c174\" type=\"checkbox\" ><label for=\"099dba5b-3eee-49d8-ae95-52189720c174\" class=\"sk-toggleable__label sk-toggleable__label-arrow\">OneHotEncoder</label><div class=\"sk-toggleable__content\"><pre>OneHotEncoder(drop=&#x27;first&#x27;, handle_unknown=&#x27;ignore&#x27;, sparse=False)</pre></div></div></div></div></div></div></div></div><div class=\"sk-parallel-item\"><div class=\"sk-item\"><div class=\"sk-label-container\"><div class=\"sk-label sk-toggleable\"><input class=\"sk-toggleable__control sk-hidden--visually\" id=\"071643ff-c5c5-4d92-8027-014ddb180765\" type=\"checkbox\" ><label for=\"071643ff-c5c5-4d92-8027-014ddb180765\" class=\"sk-toggleable__label sk-toggleable__label-arrow\">numeric_pipe</label><div class=\"sk-toggleable__content\"><pre>[&#x27;AGE&#x27;, &#x27;VEHICLE_YEAR&#x27;]</pre></div></div></div><div class=\"sk-serial\"><div class=\"sk-item\"><div class=\"sk-serial\"><div class=\"sk-item\"><div class=\"sk-estimator sk-toggleable\"><input class=\"sk-toggleable__control sk-hidden--visually\" id=\"37f0c1bc-adf6-45b3-af3d-f1efd6cc0d21\" type=\"checkbox\" ><label for=\"37f0c1bc-adf6-45b3-af3d-f1efd6cc0d21\" class=\"sk-toggleable__label sk-toggleable__label-arrow\">IterativeImputer</label><div class=\"sk-toggleable__content\"><pre>IterativeImputer()</pre></div></div></div><div class=\"sk-item\"><div class=\"sk-estimator sk-toggleable\"><input class=\"sk-toggleable__control sk-hidden--visually\" id=\"df9f1e7a-eb73-4f56-a5a1-ebccda31b8ad\" type=\"checkbox\" ><label for=\"df9f1e7a-eb73-4f56-a5a1-ebccda31b8ad\" class=\"sk-toggleable__label sk-toggleable__label-arrow\">StandardScaler</label><div class=\"sk-toggleable__content\"><pre>StandardScaler()</pre></div></div></div></div></div></div></div></div></div></div><div class=\"sk-item\"><div class=\"sk-estimator sk-toggleable\"><input class=\"sk-toggleable__control sk-hidden--visually\" id=\"e9be9c33-6dae-44c9-8ba8-d377dde1f4b5\" type=\"checkbox\" ><label for=\"e9be9c33-6dae-44c9-8ba8-d377dde1f4b5\" class=\"sk-toggleable__label sk-toggleable__label-arrow\">StandardScaler</label><div class=\"sk-toggleable__content\"><pre>StandardScaler()</pre></div></div></div><div class=\"sk-item\"><div class=\"sk-estimator sk-toggleable\"><input class=\"sk-toggleable__control sk-hidden--visually\" id=\"eb3e1c69-2987-417a-9a4b-2bfe0ee872fc\" type=\"checkbox\" ><label for=\"eb3e1c69-2987-417a-9a4b-2bfe0ee872fc\" class=\"sk-toggleable__label sk-toggleable__label-arrow\">LogisticRegression</label><div class=\"sk-toggleable__content\"><pre>LogisticRegression(max_iter=10000)</pre></div></div></div></div></div></div></div>"
      ],
      "text/plain": [
       "Pipeline(steps=[('preprocess',\n",
       "                 ColumnTransformer(transformers=[('nominalpipe',\n",
       "                                                  Pipeline(steps=[('onehotenc',\n",
       "                                                                   OneHotEncoder(drop='first',\n",
       "                                                                                 handle_unknown='ignore',\n",
       "                                                                                 sparse=False))]),\n",
       "                                                  ['FIRST_CRASH_TYPE',\n",
       "                                                   'FIRST_CONTACT_POINT',\n",
       "                                                   'TRAFFICWAY_TYPE',\n",
       "                                                   'ROADWAY_SURFACE_COND',\n",
       "                                                   'ROAD_DEFECT',\n",
       "                                                   'POSTED_SPEED_LIMIT',\n",
       "                                                   'VEHICLE_DEFECT',\n",
       "                                                   'ALIGNMENT',\n",
       "                                                   'WEATHER_CONDITION', 'SEX',\n",
       "                                                   'PH...\n",
       "                                                 ('ord_as_nom_temporarily',\n",
       "                                                  Pipeline(steps=[('onehotenc',\n",
       "                                                                   OneHotEncoder(drop='first',\n",
       "                                                                                 handle_unknown='ignore',\n",
       "                                                                                 sparse=False))]),\n",
       "                                                  ['DRIVERS_LICENSE_CLASS']),\n",
       "                                                 ('numeric_pipe',\n",
       "                                                  Pipeline(steps=[('AGEimputer',\n",
       "                                                                   IterativeImputer()),\n",
       "                                                                  ('numnorm',\n",
       "                                                                   StandardScaler())]),\n",
       "                                                  ['AGE', 'VEHICLE_YEAR'])])),\n",
       "                ('standardscale', StandardScaler()),\n",
       "                ('model', LogisticRegression(max_iter=10000))])"
      ]
     },
     "execution_count": 119,
     "metadata": {},
     "output_type": "execute_result"
    }
   ],
   "source": [
    "baseline_pipe.fit(X_train, y_train)"
   ]
  },
  {
   "cell_type": "code",
   "execution_count": 87,
   "id": "e4ce9889",
   "metadata": {},
   "outputs": [],
   "source": [
    "# baseline_pipe"
   ]
  },
  {
   "cell_type": "code",
   "execution_count": 88,
   "id": "746dc788",
   "metadata": {},
   "outputs": [],
   "source": [
    "y_pred = baseline_pipe.predict(X_train)"
   ]
  },
  {
   "cell_type": "code",
   "execution_count": 89,
   "id": "b8e4a8ae",
   "metadata": {
    "scrolled": true
   },
   "outputs": [
    {
     "name": "stdout",
     "output_type": "stream",
     "text": [
      "Precision :  0.7276328755002313 \n",
      " Recall score:  0.7414701120924609 \n",
      " Score : 0.7377364732773918\n"
     ]
    }
   ],
   "source": [
    "print('Precision : ', precision_score(y_train, y_pred, pos_label=\"NO\"),\n",
    "      '\\n Recall score: ', recall_score(y_train, y_pred, pos_label=\"NO\"),\n",
    "      '\\n Score :', accuracy_score(y_train, y_pred,))"
   ]
  },
  {
   "cell_type": "code",
   "execution_count": 90,
   "id": "91d149b4",
   "metadata": {},
   "outputs": [
    {
     "data": {
      "text/plain": [
       "<sklearn.metrics._plot.confusion_matrix.ConfusionMatrixDisplay at 0x7f8ea9231070>"
      ]
     },
     "execution_count": 90,
     "metadata": {},
     "output_type": "execute_result"
    },
    {
     "data": {
      "image/png": "[encoded data removed]",
      "text/plain": [
       "<Figure size 432x288 with 2 Axes>"
      ]
     },
     "metadata": {
      "needs_background": "light"
     },
     "output_type": "display_data"
    }
   ],
   "source": [
    "ConfusionMatrixDisplay.from_predictions(y_train, y_pred)"
   ]
  },
  {
   "cell_type": "markdown",
   "id": "87531f41",
   "metadata": {
    "scrolled": true
   },
   "source": [
    "# Baseline Decision trees "
   ]
  },
  {
   "cell_type": "code",
   "execution_count": null,
   "id": "97f4017a",
   "metadata": {},
   "outputs": [],
   "source": []
  },
  {
   "cell_type": "code",
   "execution_count": 27,
   "id": "e56bdb61",
   "metadata": {},
   "outputs": [
    {
     "ename": "NameError",
     "evalue": "name 'BaggingClassifier' is not defined",
     "output_type": "error",
     "traceback": [
      "\u001b[1;31m---------------------------------------------------------------------------\u001b[0m",
      "\u001b[1;31mNameError\u001b[0m                                 Traceback (most recent call last)",
      "\u001b[1;32mC:\\Users\\DIMAFI~1\\AppData\\Local\\Temp/ipykernel_9116/137766500.py\u001b[0m in \u001b[0;36m<module>\u001b[1;34m\u001b[0m\n\u001b[0;32m      7\u001b[0m bagged_tree_pipe = Pipeline([('preprocess', ct),\n\u001b[0;32m      8\u001b[0m                                   \u001b[1;33m(\u001b[0m\u001b[1;34m'onehotss'\u001b[0m\u001b[1;33m,\u001b[0m \u001b[0mStandardScaler\u001b[0m\u001b[1;33m(\u001b[0m\u001b[0mwith_mean\u001b[0m \u001b[1;33m=\u001b[0m \u001b[1;32mFalse\u001b[0m\u001b[1;33m)\u001b[0m\u001b[1;33m)\u001b[0m\u001b[1;33m,\u001b[0m\u001b[1;33m\u001b[0m\u001b[1;33m\u001b[0m\u001b[0m\n\u001b[1;32m----> 9\u001b[1;33m                                   ('model', BaggingClassifier(DecisionTreeClassifier(criterion='gini', \n\u001b[0m\u001b[0;32m     10\u001b[0m                                                                   \u001b[0msplitter\u001b[0m\u001b[1;33m=\u001b[0m\u001b[1;34m'best'\u001b[0m\u001b[1;33m,\u001b[0m\u001b[0mmax_depth\u001b[0m\u001b[1;33m=\u001b[0m\u001b[1;36m20\u001b[0m\u001b[1;33m,\u001b[0m\u001b[1;33m\u001b[0m\u001b[1;33m\u001b[0m\u001b[0m\n\u001b[0;32m     11\u001b[0m                                                                   min_samples_split=10, min_samples_leaf=5),\n",
      "\u001b[1;31mNameError\u001b[0m: name 'BaggingClassifier' is not defined"
     ]
    }
   ],
   "source": [
    "#baseline_tree_pipe = Pipeline([('preprocess', ct),\n",
    "#                                  ('onehotss', StandardScaler(with_mean = False)),\n",
    "#                                  ('model',DecisionTreeClassifier(criterion='gini', splitter='best',max_depth=20,\n",
    "#                                                                  min_samples_split=10, min_samples_leaf=5))])\n",
    "\n",
    "\n",
    "bagged_tree_pipe = Pipeline([('preprocess', ct),\n",
    "                                  ('onehotss', StandardScaler(with_mean = False)),\n",
    "                                  ('model', BaggingClassifier(DecisionTreeClassifier(criterion='gini', \n",
    "                                                                  splitter='best',max_depth=20,\n",
    "                                                                  min_samples_split=10, min_samples_leaf=5),\n",
    "                                                             n_estimators=20) )])\n",
    "\n",
    "\n",
    "bagged_tree =  BaggingClassifier(DecisionTreeClassifier(criterion='gini', max_depth=5), \n",
    "                                 n_estimators=20)"
   ]
  },
  {
   "cell_type": "code",
   "execution_count": 92,
   "id": "696ed537",
   "metadata": {},
   "outputs": [
    {
     "data": {
      "text/html": [
       "<style>#sk-1b8bc4ef-9dfe-489f-b22d-1806324d76b9 {color: black;background-color: white;}#sk-1b8bc4ef-9dfe-489f-b22d-1806324d76b9 pre{padding: 0;}#sk-1b8bc4ef-9dfe-489f-b22d-1806324d76b9 div.sk-toggleable {background-color: white;}#sk-1b8bc4ef-9dfe-489f-b22d-1806324d76b9 label.sk-toggleable__label {cursor: pointer;display: block;width: 100%;margin-bottom: 0;padding: 0.3em;box-sizing: border-box;text-align: center;}#sk-1b8bc4ef-9dfe-489f-b22d-1806324d76b9 label.sk-toggleable__label-arrow:before {content: \"▸\";float: left;margin-right: 0.25em;color: #696969;}#sk-1b8bc4ef-9dfe-489f-b22d-1806324d76b9 label.sk-toggleable__label-arrow:hover:before {color: black;}#sk-1b8bc4ef-9dfe-489f-b22d-1806324d76b9 div.sk-estimator:hover label.sk-toggleable__label-arrow:before {color: black;}#sk-1b8bc4ef-9dfe-489f-b22d-1806324d76b9 div.sk-toggleable__content {max-height: 0;max-width: 0;overflow: hidden;text-align: left;background-color: #f0f8ff;}#sk-1b8bc4ef-9dfe-489f-b22d-1806324d76b9 div.sk-toggleable__content pre {margin: 0.2em;color: black;border-radius: 0.25em;background-color: #f0f8ff;}#sk-1b8bc4ef-9dfe-489f-b22d-1806324d76b9 input.sk-toggleable__control:checked~div.sk-toggleable__content {max-height: 200px;max-width: 100%;overflow: auto;}#sk-1b8bc4ef-9dfe-489f-b22d-1806324d76b9 input.sk-toggleable__control:checked~label.sk-toggleable__label-arrow:before {content: \"▾\";}#sk-1b8bc4ef-9dfe-489f-b22d-1806324d76b9 div.sk-estimator input.sk-toggleable__control:checked~label.sk-toggleable__label {background-color: #d4ebff;}#sk-1b8bc4ef-9dfe-489f-b22d-1806324d76b9 div.sk-label input.sk-toggleable__control:checked~label.sk-toggleable__label {background-color: #d4ebff;}#sk-1b8bc4ef-9dfe-489f-b22d-1806324d76b9 input.sk-hidden--visually {border: 0;clip: rect(1px 1px 1px 1px);clip: rect(1px, 1px, 1px, 1px);height: 1px;margin: -1px;overflow: hidden;padding: 0;position: absolute;width: 1px;}#sk-1b8bc4ef-9dfe-489f-b22d-1806324d76b9 div.sk-estimator {font-family: monospace;background-color: #f0f8ff;border: 1px dotted black;border-radius: 0.25em;box-sizing: border-box;margin-bottom: 0.5em;}#sk-1b8bc4ef-9dfe-489f-b22d-1806324d76b9 div.sk-estimator:hover {background-color: #d4ebff;}#sk-1b8bc4ef-9dfe-489f-b22d-1806324d76b9 div.sk-parallel-item::after {content: \"\";width: 100%;border-bottom: 1px solid gray;flex-grow: 1;}#sk-1b8bc4ef-9dfe-489f-b22d-1806324d76b9 div.sk-label:hover label.sk-toggleable__label {background-color: #d4ebff;}#sk-1b8bc4ef-9dfe-489f-b22d-1806324d76b9 div.sk-serial::before {content: \"\";position: absolute;border-left: 1px solid gray;box-sizing: border-box;top: 2em;bottom: 0;left: 50%;}#sk-1b8bc4ef-9dfe-489f-b22d-1806324d76b9 div.sk-serial {display: flex;flex-direction: column;align-items: center;background-color: white;padding-right: 0.2em;padding-left: 0.2em;}#sk-1b8bc4ef-9dfe-489f-b22d-1806324d76b9 div.sk-item {z-index: 1;}#sk-1b8bc4ef-9dfe-489f-b22d-1806324d76b9 div.sk-parallel {display: flex;align-items: stretch;justify-content: center;background-color: white;}#sk-1b8bc4ef-9dfe-489f-b22d-1806324d76b9 div.sk-parallel::before {content: \"\";position: absolute;border-left: 1px solid gray;box-sizing: border-box;top: 2em;bottom: 0;left: 50%;}#sk-1b8bc4ef-9dfe-489f-b22d-1806324d76b9 div.sk-parallel-item {display: flex;flex-direction: column;position: relative;background-color: white;}#sk-1b8bc4ef-9dfe-489f-b22d-1806324d76b9 div.sk-parallel-item:first-child::after {align-self: flex-end;width: 50%;}#sk-1b8bc4ef-9dfe-489f-b22d-1806324d76b9 div.sk-parallel-item:last-child::after {align-self: flex-start;width: 50%;}#sk-1b8bc4ef-9dfe-489f-b22d-1806324d76b9 div.sk-parallel-item:only-child::after {width: 0;}#sk-1b8bc4ef-9dfe-489f-b22d-1806324d76b9 div.sk-dashed-wrapped {border: 1px dashed gray;margin: 0 0.4em 0.5em 0.4em;box-sizing: border-box;padding-bottom: 0.4em;background-color: white;position: relative;}#sk-1b8bc4ef-9dfe-489f-b22d-1806324d76b9 div.sk-label label {font-family: monospace;font-weight: bold;background-color: white;display: inline-block;line-height: 1.2em;}#sk-1b8bc4ef-9dfe-489f-b22d-1806324d76b9 div.sk-label-container {position: relative;z-index: 2;text-align: center;}#sk-1b8bc4ef-9dfe-489f-b22d-1806324d76b9 div.sk-container {/* jupyter's `normalize.less` sets `[hidden] { display: none; }` but bootstrap.min.css set `[hidden] { display: none !important; }` so we also need the `!important` here to be able to override the default hidden behavior on the sphinx rendered scikit-learn.org. See: https://github.com/scikit-learn/scikit-learn/issues/21755 */display: inline-block !important;position: relative;}#sk-1b8bc4ef-9dfe-489f-b22d-1806324d76b9 div.sk-text-repr-fallback {display: none;}</style><div id=\"sk-1b8bc4ef-9dfe-489f-b22d-1806324d76b9\" class=\"sk-top-container\"><div class=\"sk-text-repr-fallback\"><pre>Pipeline(steps=[(&#x27;preprocess&#x27;,\n",
       "                 ColumnTransformer(transformers=[(&#x27;nominalpipe&#x27;,\n",
       "                                                  Pipeline(steps=[(&#x27;onehotenc&#x27;,\n",
       "                                                                   OneHotEncoder(drop=&#x27;first&#x27;,\n",
       "                                                                                 handle_unknown=&#x27;ignore&#x27;,\n",
       "                                                                                 sparse=False))]),\n",
       "                                                  [&#x27;FIRST_CRASH_TYPE&#x27;,\n",
       "                                                   &#x27;FIRST_CONTACT_POINT&#x27;,\n",
       "                                                   &#x27;TRAFFICWAY_TYPE&#x27;,\n",
       "                                                   &#x27;ROADWAY_SURFACE_COND&#x27;,\n",
       "                                                   &#x27;ROAD_DEFECT&#x27;,\n",
       "                                                   &#x27;POSTED_SPEED_LIMIT&#x27;,\n",
       "                                                   &#x27;VEHICLE_DEFECT&#x27;,\n",
       "                                                   &#x27;ALIGNMENT&#x27;,\n",
       "                                                   &#x27;WEATHER_CONDITION&#x27;, &#x27;SEX&#x27;,\n",
       "                                                   &#x27;PH...\n",
       "                                                                   OneHotEncoder(drop=&#x27;first&#x27;,\n",
       "                                                                                 handle_unknown=&#x27;ignore&#x27;,\n",
       "                                                                                 sparse=False))]),\n",
       "                                                  [&#x27;DRIVERS_LICENSE_CLASS&#x27;]),\n",
       "                                                 (&#x27;numeric_pipe&#x27;,\n",
       "                                                  Pipeline(steps=[(&#x27;AGEimputer&#x27;,\n",
       "                                                                   IterativeImputer()),\n",
       "                                                                  (&#x27;numnorm&#x27;,\n",
       "                                                                   StandardScaler())]),\n",
       "                                                  [&#x27;AGE&#x27;, &#x27;VEHICLE_YEAR&#x27;])])),\n",
       "                (&#x27;onehotss&#x27;, StandardScaler(with_mean=False)),\n",
       "                (&#x27;model&#x27;,\n",
       "                 DecisionTreeClassifier(max_depth=20, min_samples_leaf=5,\n",
       "                                        min_samples_split=10))])</pre><b>Please rerun this cell to show the HTML repr or trust the notebook.</b></div><div class=\"sk-container\" hidden><div class=\"sk-item sk-dashed-wrapped\"><div class=\"sk-label-container\"><div class=\"sk-label sk-toggleable\"><input class=\"sk-toggleable__control sk-hidden--visually\" id=\"956a4c3e-f99c-4402-be7e-56701d57505e\" type=\"checkbox\" ><label for=\"956a4c3e-f99c-4402-be7e-56701d57505e\" class=\"sk-toggleable__label sk-toggleable__label-arrow\">Pipeline</label><div class=\"sk-toggleable__content\"><pre>Pipeline(steps=[(&#x27;preprocess&#x27;,\n",
       "                 ColumnTransformer(transformers=[(&#x27;nominalpipe&#x27;,\n",
       "                                                  Pipeline(steps=[(&#x27;onehotenc&#x27;,\n",
       "                                                                   OneHotEncoder(drop=&#x27;first&#x27;,\n",
       "                                                                                 handle_unknown=&#x27;ignore&#x27;,\n",
       "                                                                                 sparse=False))]),\n",
       "                                                  [&#x27;FIRST_CRASH_TYPE&#x27;,\n",
       "                                                   &#x27;FIRST_CONTACT_POINT&#x27;,\n",
       "                                                   &#x27;TRAFFICWAY_TYPE&#x27;,\n",
       "                                                   &#x27;ROADWAY_SURFACE_COND&#x27;,\n",
       "                                                   &#x27;ROAD_DEFECT&#x27;,\n",
       "                                                   &#x27;POSTED_SPEED_LIMIT&#x27;,\n",
       "                                                   &#x27;VEHICLE_DEFECT&#x27;,\n",
       "                                                   &#x27;ALIGNMENT&#x27;,\n",
       "                                                   &#x27;WEATHER_CONDITION&#x27;, &#x27;SEX&#x27;,\n",
       "                                                   &#x27;PH...\n",
       "                                                                   OneHotEncoder(drop=&#x27;first&#x27;,\n",
       "                                                                                 handle_unknown=&#x27;ignore&#x27;,\n",
       "                                                                                 sparse=False))]),\n",
       "                                                  [&#x27;DRIVERS_LICENSE_CLASS&#x27;]),\n",
       "                                                 (&#x27;numeric_pipe&#x27;,\n",
       "                                                  Pipeline(steps=[(&#x27;AGEimputer&#x27;,\n",
       "                                                                   IterativeImputer()),\n",
       "                                                                  (&#x27;numnorm&#x27;,\n",
       "                                                                   StandardScaler())]),\n",
       "                                                  [&#x27;AGE&#x27;, &#x27;VEHICLE_YEAR&#x27;])])),\n",
       "                (&#x27;onehotss&#x27;, StandardScaler(with_mean=False)),\n",
       "                (&#x27;model&#x27;,\n",
       "                 DecisionTreeClassifier(max_depth=20, min_samples_leaf=5,\n",
       "                                        min_samples_split=10))])</pre></div></div></div><div class=\"sk-serial\"><div class=\"sk-item sk-dashed-wrapped\"><div class=\"sk-label-container\"><div class=\"sk-label sk-toggleable\"><input class=\"sk-toggleable__control sk-hidden--visually\" id=\"781509f8-53b6-4f86-b412-d4da11b2607b\" type=\"checkbox\" ><label for=\"781509f8-53b6-4f86-b412-d4da11b2607b\" class=\"sk-toggleable__label sk-toggleable__label-arrow\">preprocess: ColumnTransformer</label><div class=\"sk-toggleable__content\"><pre>ColumnTransformer(transformers=[(&#x27;nominalpipe&#x27;,\n",
       "                                 Pipeline(steps=[(&#x27;onehotenc&#x27;,\n",
       "                                                  OneHotEncoder(drop=&#x27;first&#x27;,\n",
       "                                                                handle_unknown=&#x27;ignore&#x27;,\n",
       "                                                                sparse=False))]),\n",
       "                                 [&#x27;FIRST_CRASH_TYPE&#x27;, &#x27;FIRST_CONTACT_POINT&#x27;,\n",
       "                                  &#x27;TRAFFICWAY_TYPE&#x27;, &#x27;ROADWAY_SURFACE_COND&#x27;,\n",
       "                                  &#x27;ROAD_DEFECT&#x27;, &#x27;POSTED_SPEED_LIMIT&#x27;,\n",
       "                                  &#x27;VEHICLE_DEFECT&#x27;, &#x27;ALIGNMENT&#x27;,\n",
       "                                  &#x27;WEATHER_CONDITION&#x27;, &#x27;SEX&#x27;,\n",
       "                                  &#x27;PHYSICAL_CONDITION&#x27;, &#x27;MANEUVER&#x27;,\n",
       "                                  &#x27;DRIVER_VISION&#x27;, &#x27;NUM_PASSENGERS&#x27;,\n",
       "                                  &#x27;DEVICE_CONDITION&#x27;, &#x27;LIGHTING_CONDITION&#x27;]),\n",
       "                                (&#x27;ord_as_nom_temporarily&#x27;,\n",
       "                                 Pipeline(steps=[(&#x27;onehotenc&#x27;,\n",
       "                                                  OneHotEncoder(drop=&#x27;first&#x27;,\n",
       "                                                                handle_unknown=&#x27;ignore&#x27;,\n",
       "                                                                sparse=False))]),\n",
       "                                 [&#x27;DRIVERS_LICENSE_CLASS&#x27;]),\n",
       "                                (&#x27;numeric_pipe&#x27;,\n",
       "                                 Pipeline(steps=[(&#x27;AGEimputer&#x27;,\n",
       "                                                  IterativeImputer()),\n",
       "                                                 (&#x27;numnorm&#x27;,\n",
       "                                                  StandardScaler())]),\n",
       "                                 [&#x27;AGE&#x27;, &#x27;VEHICLE_YEAR&#x27;])])</pre></div></div></div><div class=\"sk-parallel\"><div class=\"sk-parallel-item\"><div class=\"sk-item\"><div class=\"sk-label-container\"><div class=\"sk-label sk-toggleable\"><input class=\"sk-toggleable__control sk-hidden--visually\" id=\"b443488a-c65f-4b5d-bdad-bb2d19c99978\" type=\"checkbox\" ><label for=\"b443488a-c65f-4b5d-bdad-bb2d19c99978\" class=\"sk-toggleable__label sk-toggleable__label-arrow\">nominalpipe</label><div class=\"sk-toggleable__content\"><pre>[&#x27;FIRST_CRASH_TYPE&#x27;, &#x27;FIRST_CONTACT_POINT&#x27;, &#x27;TRAFFICWAY_TYPE&#x27;, &#x27;ROADWAY_SURFACE_COND&#x27;, &#x27;ROAD_DEFECT&#x27;, &#x27;POSTED_SPEED_LIMIT&#x27;, &#x27;VEHICLE_DEFECT&#x27;, &#x27;ALIGNMENT&#x27;, &#x27;WEATHER_CONDITION&#x27;, &#x27;SEX&#x27;, &#x27;PHYSICAL_CONDITION&#x27;, &#x27;MANEUVER&#x27;, &#x27;DRIVER_VISION&#x27;, &#x27;NUM_PASSENGERS&#x27;, &#x27;DEVICE_CONDITION&#x27;, &#x27;LIGHTING_CONDITION&#x27;]</pre></div></div></div><div class=\"sk-serial\"><div class=\"sk-item\"><div class=\"sk-serial\"><div class=\"sk-item\"><div class=\"sk-estimator sk-toggleable\"><input class=\"sk-toggleable__control sk-hidden--visually\" id=\"229320b3-e8bd-465a-88ee-edf8e88aab26\" type=\"checkbox\" ><label for=\"229320b3-e8bd-465a-88ee-edf8e88aab26\" class=\"sk-toggleable__label sk-toggleable__label-arrow\">OneHotEncoder</label><div class=\"sk-toggleable__content\"><pre>OneHotEncoder(drop=&#x27;first&#x27;, handle_unknown=&#x27;ignore&#x27;, sparse=False)</pre></div></div></div></div></div></div></div></div><div class=\"sk-parallel-item\"><div class=\"sk-item\"><div class=\"sk-label-container\"><div class=\"sk-label sk-toggleable\"><input class=\"sk-toggleable__control sk-hidden--visually\" id=\"9911bbc3-dd56-4e2a-95b4-6a832cf0e48d\" type=\"checkbox\" ><label for=\"9911bbc3-dd56-4e2a-95b4-6a832cf0e48d\" class=\"sk-toggleable__label sk-toggleable__label-arrow\">ord_as_nom_temporarily</label><div class=\"sk-toggleable__content\"><pre>[&#x27;DRIVERS_LICENSE_CLASS&#x27;]</pre></div></div></div><div class=\"sk-serial\"><div class=\"sk-item\"><div class=\"sk-serial\"><div class=\"sk-item\"><div class=\"sk-estimator sk-toggleable\"><input class=\"sk-toggleable__control sk-hidden--visually\" id=\"1a5ea84b-6441-46c3-b0e5-cd757fc4e2bb\" type=\"checkbox\" ><label for=\"1a5ea84b-6441-46c3-b0e5-cd757fc4e2bb\" class=\"sk-toggleable__label sk-toggleable__label-arrow\">OneHotEncoder</label><div class=\"sk-toggleable__content\"><pre>OneHotEncoder(drop=&#x27;first&#x27;, handle_unknown=&#x27;ignore&#x27;, sparse=False)</pre></div></div></div></div></div></div></div></div><div class=\"sk-parallel-item\"><div class=\"sk-item\"><div class=\"sk-label-container\"><div class=\"sk-label sk-toggleable\"><input class=\"sk-toggleable__control sk-hidden--visually\" id=\"aad5dcd4-4e58-45b4-9a7a-1c203ab24586\" type=\"checkbox\" ><label for=\"aad5dcd4-4e58-45b4-9a7a-1c203ab24586\" class=\"sk-toggleable__label sk-toggleable__label-arrow\">numeric_pipe</label><div class=\"sk-toggleable__content\"><pre>[&#x27;AGE&#x27;, &#x27;VEHICLE_YEAR&#x27;]</pre></div></div></div><div class=\"sk-serial\"><div class=\"sk-item\"><div class=\"sk-serial\"><div class=\"sk-item\"><div class=\"sk-estimator sk-toggleable\"><input class=\"sk-toggleable__control sk-hidden--visually\" id=\"370d6099-fba2-40f3-bd2b-3885a4a2114d\" type=\"checkbox\" ><label for=\"370d6099-fba2-40f3-bd2b-3885a4a2114d\" class=\"sk-toggleable__label sk-toggleable__label-arrow\">IterativeImputer</label><div class=\"sk-toggleable__content\"><pre>IterativeImputer()</pre></div></div></div><div class=\"sk-item\"><div class=\"sk-estimator sk-toggleable\"><input class=\"sk-toggleable__control sk-hidden--visually\" id=\"bc81e7dc-c0f1-4625-8af2-40ae4adc6d30\" type=\"checkbox\" ><label for=\"bc81e7dc-c0f1-4625-8af2-40ae4adc6d30\" class=\"sk-toggleable__label sk-toggleable__label-arrow\">StandardScaler</label><div class=\"sk-toggleable__content\"><pre>StandardScaler()</pre></div></div></div></div></div></div></div></div></div></div><div class=\"sk-item\"><div class=\"sk-estimator sk-toggleable\"><input class=\"sk-toggleable__control sk-hidden--visually\" id=\"11f17cc4-cc35-49b9-a94e-bbe83ff38752\" type=\"checkbox\" ><label for=\"11f17cc4-cc35-49b9-a94e-bbe83ff38752\" class=\"sk-toggleable__label sk-toggleable__label-arrow\">StandardScaler</label><div class=\"sk-toggleable__content\"><pre>StandardScaler(with_mean=False)</pre></div></div></div><div class=\"sk-item\"><div class=\"sk-estimator sk-toggleable\"><input class=\"sk-toggleable__control sk-hidden--visually\" id=\"6179fc48-98c8-4363-9bc7-14ac4ab20fb2\" type=\"checkbox\" ><label for=\"6179fc48-98c8-4363-9bc7-14ac4ab20fb2\" class=\"sk-toggleable__label sk-toggleable__label-arrow\">DecisionTreeClassifier</label><div class=\"sk-toggleable__content\"><pre>DecisionTreeClassifier(max_depth=20, min_samples_leaf=5, min_samples_split=10)</pre></div></div></div></div></div></div></div>"
      ],
      "text/plain": [
       "Pipeline(steps=[('preprocess',\n",
       "                 ColumnTransformer(transformers=[('nominalpipe',\n",
       "                                                  Pipeline(steps=[('onehotenc',\n",
       "                                                                   OneHotEncoder(drop='first',\n",
       "                                                                                 handle_unknown='ignore',\n",
       "                                                                                 sparse=False))]),\n",
       "                                                  ['FIRST_CRASH_TYPE',\n",
       "                                                   'FIRST_CONTACT_POINT',\n",
       "                                                   'TRAFFICWAY_TYPE',\n",
       "                                                   'ROADWAY_SURFACE_COND',\n",
       "                                                   'ROAD_DEFECT',\n",
       "                                                   'POSTED_SPEED_LIMIT',\n",
       "                                                   'VEHICLE_DEFECT',\n",
       "                                                   'ALIGNMENT',\n",
       "                                                   'WEATHER_CONDITION', 'SEX',\n",
       "                                                   'PH...\n",
       "                                                                   OneHotEncoder(drop='first',\n",
       "                                                                                 handle_unknown='ignore',\n",
       "                                                                                 sparse=False))]),\n",
       "                                                  ['DRIVERS_LICENSE_CLASS']),\n",
       "                                                 ('numeric_pipe',\n",
       "                                                  Pipeline(steps=[('AGEimputer',\n",
       "                                                                   IterativeImputer()),\n",
       "                                                                  ('numnorm',\n",
       "                                                                   StandardScaler())]),\n",
       "                                                  ['AGE', 'VEHICLE_YEAR'])])),\n",
       "                ('onehotss', StandardScaler(with_mean=False)),\n",
       "                ('model',\n",
       "                 DecisionTreeClassifier(max_depth=20, min_samples_leaf=5,\n",
       "                                        min_samples_split=10))])"
      ]
     },
     "execution_count": 92,
     "metadata": {},
     "output_type": "execute_result"
    }
   ],
   "source": [
    "baseline_tree_pipe.fit(X_train, y_train)"
   ]
  },
  {
   "cell_type": "code",
   "execution_count": 93,
   "id": "a6e548f8",
   "metadata": {},
   "outputs": [],
   "source": [
    "tree_pred = baseline_tree_pipe.predict(X_train)"
   ]
  },
  {
   "cell_type": "code",
   "execution_count": 94,
   "id": "02c3ccce",
   "metadata": {},
   "outputs": [
    {
     "name": "stdout",
     "output_type": "stream",
     "text": [
      "Precision :  0.7817371475953565 \n",
      " Recall score:  0.7727822291440398 \n",
      " Score : 0.7832817027078509\n"
     ]
    }
   ],
   "source": [
    "print('Precision : ', precision_score(y_train, tree_pred, pos_label=\"NO\"),\n",
    "      '\\n Recall score: ', recall_score(y_train, tree_pred, pos_label=\"NO\"),\n",
    "      '\\n Score :', accuracy_score(y_train, tree_pred,))"
   ]
  },
  {
   "cell_type": "code",
   "execution_count": 95,
   "id": "e59b6bcf",
   "metadata": {},
   "outputs": [
    {
     "data": {
      "text/plain": [
       "<sklearn.metrics._plot.confusion_matrix.ConfusionMatrixDisplay at 0x7f902ca69670>"
      ]
     },
     "execution_count": 95,
     "metadata": {},
     "output_type": "execute_result"
    },
    {
     "data": {
      "image/png": "[encoded data removed]",
      "text/plain": [
       "<Figure size 432x288 with 2 Axes>"
      ]
     },
     "metadata": {
      "needs_background": "light"
     },
     "output_type": "display_data"
    }
   ],
   "source": [
    "ConfusionMatrixDisplay.from_predictions(y_train, tree_pred)"
   ]
  },
  {
   "cell_type": "code",
   "execution_count": null,
   "id": "aec7e7e5",
   "metadata": {},
   "outputs": [],
   "source": []
  },
  {
   "cell_type": "code",
   "execution_count": null,
   "id": "27188c11",
   "metadata": {},
   "outputs": [],
   "source": []
  },
  {
   "cell_type": "code",
   "execution_count": null,
   "id": "5344248b",
   "metadata": {},
   "outputs": [],
   "source": []
  },
  {
   "cell_type": "code",
   "execution_count": null,
   "id": "f2632105",
   "metadata": {},
   "outputs": [],
   "source": []
  },
  {
   "cell_type": "markdown",
   "id": "008555a8",
   "metadata": {},
   "source": [
    "# Baseline Test =========================================="
   ]
  },
  {
   "cell_type": "code",
   "execution_count": 27,
   "id": "21a37136",
   "metadata": {},
   "outputs": [],
   "source": [
    "y_test = test_df['GUILTY']\n",
    "X_test = test_df.drop(columns = 'GUILTY')"
   ]
  },
  {
   "cell_type": "code",
   "execution_count": null,
   "id": "4256887b",
   "metadata": {},
   "outputs": [],
   "source": [
    "onehc = OneHotEncoder(sparse = False, drop = 'first', handle_unknown = 'ignore')\n",
    "X_test_transformed  = onehc.fit_transform(X_test)\n",
    "y_pred_test = baseline_pipe.predict(X_test_transformed)\n",
    "\n",
    "# ignore unknown "
   ]
  },
  {
   "cell_type": "code",
   "execution_count": null,
   "id": "d8a2d4f2",
   "metadata": {},
   "outputs": [],
   "source": [
    "print('Precision : ', precision_score(y_train, y_pred, pos_label=\"NO\"),\n",
    "      '\\n Recall score: ', recall_score(y_train, y_pred, pos_label=\"NO\"),\n",
    "      '\\n Score :', accuracy_score(y_train, y_pred,))"
   ]
  },
  {
   "cell_type": "code",
   "execution_count": null,
   "id": "3cf5b7d7",
   "metadata": {},
   "outputs": [],
   "source": [
    "plot_confusion_matrix(baseline_pipe, X_train,\n",
    "                      y_train)"
   ]
  }
 ],
 "metadata": {
  "kernelspec": {
   "display_name": "Python 3 (ipykernel)",
   "language": "python",
   "name": "python3"
  },
  "language_info": {
   "codemirror_mode": {
    "name": "ipython",
    "version": 3
   },
   "file_extension": ".py",
   "mimetype": "text/x-python",
   "name": "python",
   "nbconvert_exporter": "python",
   "pygments_lexer": "ipython3",
   "version": "3.9.7"
  }
 },
 "nbformat": 4,
 "nbformat_minor": 5
}
