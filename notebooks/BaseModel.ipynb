{
 "cells": [
  {
   "cell_type": "code",
   "execution_count": 849,
   "id": "1bafe4c4",
   "metadata": {},
   "outputs": [
    {
     "data": {
      "text/plain": [
       "<Figure size 432x288 with 0 Axes>"
      ]
     },
     "metadata": {},
     "output_type": "display_data"
    }
   ],
   "source": [
    "import pandas as pd\n",
    "import numpy as np\n",
    "\n",
    "%run ../src/preprocessing/initial_prep.py\n",
    "\n",
    "\n"
   ]
  },
  {
   "cell_type": "code",
   "execution_count": 923,
   "id": "26be92cd",
   "metadata": {},
   "outputs": [],
   "source": [
    "from sklearn.experimental import enable_iterative_imputer\n",
    "from sklearn.impute import SimpleImputer, IterativeImputer\n",
    "from sklearn.preprocessing import LabelEncoder, OrdinalEncoder, OneHotEncoder, StandardScaler, MaxAbsScaler\n",
    "from sklearn.preprocessing import FunctionTransformer\n",
    "from sklearn.metrics import precision_score, recall_score, accuracy_score, ConfusionMatrixDisplay\n",
    "from sklearn.linear_model import LogisticRegression\n",
    "from sklearn.compose import ColumnTransformer\n",
    "from sklearn.pipeline import FeatureUnion,Pipeline\n",
    "from sklearn.model_selection import GridSearchCV\n",
    "from sklearn.tree import DecisionTreeClassifier\n",
    "\n",
    "from sklearn import set_config\n",
    "set_config(display =\"diagram\")\n",
    "\n",
    "import matplotlib.pyplot as plt\n",
    "%matplotlib inline\n",
    "\n"
   ]
  },
  {
   "cell_type": "code",
   "execution_count": 924,
   "id": "db289d9b",
   "metadata": {},
   "outputs": [],
   "source": [
    "def age_categories (age, age_groups=[0, 16, 21, 24, 35, 55, 70, 80, 100]):\n",
    "    bins=[x for x in age_groups]\n",
    "    age_group=pd.cut(x=age, bins=bins)\n",
    "    return age_group\n",
    "\n",
    "def car_age_categories (year, age_groups=[0,3,8,15,25]):    \n",
    "    latest=date.today().year\n",
    "    oldest=1900\n",
    "    \n",
    "    bins=[x for x in age_groups]\n",
    "    bins=np.sort(np.abs(np.array(bins)-latest))\n",
    "    bins=np.insert(bins, 0, oldest)\n",
    "\n",
    "    car_age_cat=pd.cut(x=[year], bins=bins)\n",
    "    return car_age_cat\n",
    "\n",
    "def select_license_class(dl_code):\n",
    "    dl = 'Other'\n",
    "    if dl_code in [\"A\",\"B\",\"C\",\"AM\",\"BM\",\"CD\",\"S\"]:\n",
    "        dl='Commercial'\n",
    "    elif dl_code in ('DM','D'):\n",
    "        dl='Regular'\n",
    "    return dl\n",
    "\n"
   ]
  },
  {
   "cell_type": "code",
   "execution_count": 993,
   "id": "e73b26f5",
   "metadata": {},
   "outputs": [],
   "source": [
    "\n",
    "df=train_df.sample(8000)\n"
   ]
  },
  {
   "cell_type": "code",
   "execution_count": 994,
   "id": "ed461b38",
   "metadata": {},
   "outputs": [],
   "source": [
    "col=['DEVICE_CONDITION', 'FIRST_CRASH_TYPE', 'FIRST_CONTACT_POINT', \n",
    "           'TRAFFICWAY_TYPE','ROADWAY_SURFACE_COND','ROAD_DEFECT','POSTED_SPEED_LIMIT','VEHICLE_DEFECT',\n",
    "            'ALIGNMENT', 'LIGHTING_CONDITION', 'WEATHER_CONDITION','SEX','DRIVERS_LICENSE_CLASS', 'AGE_GROUP', \n",
    "            'PHYSICAL_CONDITION', 'MANEUVER','NUM_PASSENGERS',  'DRIVER_VISION','AGE', 'VEHICLE_YEAR', 'VEHICLE_AGE', ]\n",
    "\n",
    "col=['GUILTY','DEVICE_CONDITION', 'FIRST_CRASH_TYPE', 'FIRST_CONTACT_POINT', \n",
    "           'TRAFFICWAY_TYPE','ROADWAY_SURFACE_COND','VEHICLE_DEFECT',\n",
    "             'DRIVERS_LICENSE_CLASS', 'AGE_GROUP', \n",
    "            'PHYSICAL_CONDITION', 'MANEUVER',  'DRIVER_VISION',  'ALIGNMENT' ,'AIRBAG_DEPLOYED' ]\n",
    "\n",
    "df=df[col].copy()\n",
    "\n"
   ]
  },
  {
   "cell_type": "code",
   "execution_count": 995,
   "id": "2f16b88d",
   "metadata": {},
   "outputs": [],
   "source": [
    "\n",
    "y_train = df['GUILTY']\n",
    "X_train = df.drop(columns = 'GUILTY')\n",
    "\n"
   ]
  },
  {
   "cell_type": "code",
   "execution_count": 996,
   "id": "b1e1f1a5",
   "metadata": {},
   "outputs": [],
   "source": [
    "#ordinal_columns = ['DRIVERS_LICENSE_CLASS']\n",
    "#numeric_columns = ['AGE', 'VEHICLE_YEAR']\n",
    "nominal_columns = ['FIRST_CRASH_TYPE', 'FIRST_CONTACT_POINT', 'TRAFFICWAY_TYPE', \n",
    "                   'ROADWAY_SURFACE_COND', 'ROAD_DEFECT', 'POSTED_SPEED_LIMIT', 'VEHICLE_DEFECT',\n",
    "                  'ALIGNMENT', 'WEATHER_CONDITION', 'SEX', 'PHYSICAL_CONDITION',\n",
    "                   'MANEUVER', 'DRIVER_VISION', 'NUM_PASSENGERS',\n",
    "                   'DEVICE_CONDITION', 'LIGHTING_CONDITION', 'VEHICLE_AGE','AGE_GROUP']\n",
    "\n",
    "nominal_columns = ['FIRST_CRASH_TYPE', 'FIRST_CONTACT_POINT', 'TRAFFICWAY_TYPE', \n",
    "                   'ROADWAY_SURFACE_COND', 'ROAD_DEFECT', 'POSTED_SPEED_LIMIT', 'VEHICLE_DEFECT',\n",
    "                  'ALIGNMENT', 'WEATHER_CONDITION', 'SEX', 'PHYSICAL_CONDITION',\n",
    "                   'MANEUVER', 'DRIVER_VISION', 'NUM_PASSENGERS',\n",
    "                   'DEVICE_CONDITION', 'LIGHTING_CONDITION', 'VEHICLE_AGE','AGE_GROUP']"
   ]
  },
  {
   "cell_type": "code",
   "execution_count": null,
   "id": "ff11e283",
   "metadata": {},
   "outputs": [],
   "source": []
  },
  {
   "cell_type": "code",
   "execution_count": 997,
   "id": "c9d1a223",
   "metadata": {},
   "outputs": [
    {
     "data": {
      "text/html": [
       "<style>#sk-073aaa03-d724-49c9-98c5-688c321d213a {color: black;background-color: white;}#sk-073aaa03-d724-49c9-98c5-688c321d213a pre{padding: 0;}#sk-073aaa03-d724-49c9-98c5-688c321d213a div.sk-toggleable {background-color: white;}#sk-073aaa03-d724-49c9-98c5-688c321d213a label.sk-toggleable__label {cursor: pointer;display: block;width: 100%;margin-bottom: 0;padding: 0.3em;box-sizing: border-box;text-align: center;}#sk-073aaa03-d724-49c9-98c5-688c321d213a label.sk-toggleable__label-arrow:before {content: \"▸\";float: left;margin-right: 0.25em;color: #696969;}#sk-073aaa03-d724-49c9-98c5-688c321d213a label.sk-toggleable__label-arrow:hover:before {color: black;}#sk-073aaa03-d724-49c9-98c5-688c321d213a div.sk-estimator:hover label.sk-toggleable__label-arrow:before {color: black;}#sk-073aaa03-d724-49c9-98c5-688c321d213a div.sk-toggleable__content {max-height: 0;max-width: 0;overflow: hidden;text-align: left;background-color: #f0f8ff;}#sk-073aaa03-d724-49c9-98c5-688c321d213a div.sk-toggleable__content pre {margin: 0.2em;color: black;border-radius: 0.25em;background-color: #f0f8ff;}#sk-073aaa03-d724-49c9-98c5-688c321d213a input.sk-toggleable__control:checked~div.sk-toggleable__content {max-height: 200px;max-width: 100%;overflow: auto;}#sk-073aaa03-d724-49c9-98c5-688c321d213a input.sk-toggleable__control:checked~label.sk-toggleable__label-arrow:before {content: \"▾\";}#sk-073aaa03-d724-49c9-98c5-688c321d213a div.sk-estimator input.sk-toggleable__control:checked~label.sk-toggleable__label {background-color: #d4ebff;}#sk-073aaa03-d724-49c9-98c5-688c321d213a div.sk-label input.sk-toggleable__control:checked~label.sk-toggleable__label {background-color: #d4ebff;}#sk-073aaa03-d724-49c9-98c5-688c321d213a input.sk-hidden--visually {border: 0;clip: rect(1px 1px 1px 1px);clip: rect(1px, 1px, 1px, 1px);height: 1px;margin: -1px;overflow: hidden;padding: 0;position: absolute;width: 1px;}#sk-073aaa03-d724-49c9-98c5-688c321d213a div.sk-estimator {font-family: monospace;background-color: #f0f8ff;border: 1px dotted black;border-radius: 0.25em;box-sizing: border-box;margin-bottom: 0.5em;}#sk-073aaa03-d724-49c9-98c5-688c321d213a div.sk-estimator:hover {background-color: #d4ebff;}#sk-073aaa03-d724-49c9-98c5-688c321d213a div.sk-parallel-item::after {content: \"\";width: 100%;border-bottom: 1px solid gray;flex-grow: 1;}#sk-073aaa03-d724-49c9-98c5-688c321d213a div.sk-label:hover label.sk-toggleable__label {background-color: #d4ebff;}#sk-073aaa03-d724-49c9-98c5-688c321d213a div.sk-serial::before {content: \"\";position: absolute;border-left: 1px solid gray;box-sizing: border-box;top: 2em;bottom: 0;left: 50%;}#sk-073aaa03-d724-49c9-98c5-688c321d213a div.sk-serial {display: flex;flex-direction: column;align-items: center;background-color: white;padding-right: 0.2em;padding-left: 0.2em;}#sk-073aaa03-d724-49c9-98c5-688c321d213a div.sk-item {z-index: 1;}#sk-073aaa03-d724-49c9-98c5-688c321d213a div.sk-parallel {display: flex;align-items: stretch;justify-content: center;background-color: white;}#sk-073aaa03-d724-49c9-98c5-688c321d213a div.sk-parallel::before {content: \"\";position: absolute;border-left: 1px solid gray;box-sizing: border-box;top: 2em;bottom: 0;left: 50%;}#sk-073aaa03-d724-49c9-98c5-688c321d213a div.sk-parallel-item {display: flex;flex-direction: column;position: relative;background-color: white;}#sk-073aaa03-d724-49c9-98c5-688c321d213a div.sk-parallel-item:first-child::after {align-self: flex-end;width: 50%;}#sk-073aaa03-d724-49c9-98c5-688c321d213a div.sk-parallel-item:last-child::after {align-self: flex-start;width: 50%;}#sk-073aaa03-d724-49c9-98c5-688c321d213a div.sk-parallel-item:only-child::after {width: 0;}#sk-073aaa03-d724-49c9-98c5-688c321d213a div.sk-dashed-wrapped {border: 1px dashed gray;margin: 0 0.4em 0.5em 0.4em;box-sizing: border-box;padding-bottom: 0.4em;background-color: white;position: relative;}#sk-073aaa03-d724-49c9-98c5-688c321d213a div.sk-label label {font-family: monospace;font-weight: bold;background-color: white;display: inline-block;line-height: 1.2em;}#sk-073aaa03-d724-49c9-98c5-688c321d213a div.sk-label-container {position: relative;z-index: 2;text-align: center;}#sk-073aaa03-d724-49c9-98c5-688c321d213a div.sk-container {/* jupyter's `normalize.less` sets `[hidden] { display: none; }` but bootstrap.min.css set `[hidden] { display: none !important; }` so we also need the `!important` here to be able to override the default hidden behavior on the sphinx rendered scikit-learn.org. See: https://github.com/scikit-learn/scikit-learn/issues/21755 */display: inline-block !important;position: relative;}#sk-073aaa03-d724-49c9-98c5-688c321d213a div.sk-text-repr-fallback {display: none;}</style><div id=\"sk-073aaa03-d724-49c9-98c5-688c321d213a\" class=\"sk-top-container\"><div class=\"sk-text-repr-fallback\"><pre>ColumnTransformer(remainder=&#x27;passthrough&#x27;,\n",
       "                  transformers=[(&#x27;dlImputer&#x27;,\n",
       "                                 SimpleImputer(strategy=&#x27;most_frequent&#x27;),\n",
       "                                 [&#x27;DRIVERS_LICENSE_CLASS&#x27;])])</pre><b>Please rerun this cell to show the HTML repr or trust the notebook.</b></div><div class=\"sk-container\" hidden><div class=\"sk-item sk-dashed-wrapped\"><div class=\"sk-label-container\"><div class=\"sk-label sk-toggleable\"><input class=\"sk-toggleable__control sk-hidden--visually\" id=\"fa4dd263-4e8d-4f0e-8bd3-b2a36348b243\" type=\"checkbox\" ><label for=\"fa4dd263-4e8d-4f0e-8bd3-b2a36348b243\" class=\"sk-toggleable__label sk-toggleable__label-arrow\">ColumnTransformer</label><div class=\"sk-toggleable__content\"><pre>ColumnTransformer(remainder=&#x27;passthrough&#x27;,\n",
       "                  transformers=[(&#x27;dlImputer&#x27;,\n",
       "                                 SimpleImputer(strategy=&#x27;most_frequent&#x27;),\n",
       "                                 [&#x27;DRIVERS_LICENSE_CLASS&#x27;])])</pre></div></div></div><div class=\"sk-parallel\"><div class=\"sk-parallel-item\"><div class=\"sk-item\"><div class=\"sk-label-container\"><div class=\"sk-label sk-toggleable\"><input class=\"sk-toggleable__control sk-hidden--visually\" id=\"eb2cd372-f4c1-4f8b-9725-57da2c14b98f\" type=\"checkbox\" ><label for=\"eb2cd372-f4c1-4f8b-9725-57da2c14b98f\" class=\"sk-toggleable__label sk-toggleable__label-arrow\">dlImputer</label><div class=\"sk-toggleable__content\"><pre>[&#x27;DRIVERS_LICENSE_CLASS&#x27;]</pre></div></div></div><div class=\"sk-serial\"><div class=\"sk-item\"><div class=\"sk-estimator sk-toggleable\"><input class=\"sk-toggleable__control sk-hidden--visually\" id=\"6386ec2d-b028-4968-9920-e730426a74c6\" type=\"checkbox\" ><label for=\"6386ec2d-b028-4968-9920-e730426a74c6\" class=\"sk-toggleable__label sk-toggleable__label-arrow\">SimpleImputer</label><div class=\"sk-toggleable__content\"><pre>SimpleImputer(strategy=&#x27;most_frequent&#x27;)</pre></div></div></div></div></div></div><div class=\"sk-parallel-item\"><div class=\"sk-item\"><div class=\"sk-label-container\"><div class=\"sk-label sk-toggleable\"><input class=\"sk-toggleable__control sk-hidden--visually\" id=\"3911df2a-38b7-4b78-9ec4-e101cee76a13\" type=\"checkbox\" ><label for=\"3911df2a-38b7-4b78-9ec4-e101cee76a13\" class=\"sk-toggleable__label sk-toggleable__label-arrow\">remainder</label><div class=\"sk-toggleable__content\"><pre></pre></div></div></div><div class=\"sk-serial\"><div class=\"sk-item\"><div class=\"sk-estimator sk-toggleable\"><input class=\"sk-toggleable__control sk-hidden--visually\" id=\"c6300420-b471-4489-8604-d08ab534c784\" type=\"checkbox\" ><label for=\"c6300420-b471-4489-8604-d08ab534c784\" class=\"sk-toggleable__label sk-toggleable__label-arrow\">passthrough</label><div class=\"sk-toggleable__content\"><pre>passthrough</pre></div></div></div></div></div></div></div></div></div></div>"
      ],
      "text/plain": [
       "ColumnTransformer(remainder='passthrough',\n",
       "                  transformers=[('dlImputer',\n",
       "                                 SimpleImputer(strategy='most_frequent'),\n",
       "                                 ['DRIVERS_LICENSE_CLASS'])])"
      ]
     },
     "execution_count": 997,
     "metadata": {},
     "output_type": "execute_result"
    }
   ],
   "source": [
    "#dl_pipeline = Pipeline([\n",
    "#('dlImputer', SimpleImputer(strategy = 'most_frequent'))\n",
    "#('dlFunction', FunctionTransformer(select_license_class))\n",
    "#('dlOrdencoder', OrdinalEncoder(categories = ['Regular','Commercial']))\n",
    "#])\n",
    "\n",
    "#carAge_pipeline = Pipeline([\n",
    "#('carAgeIterImputer', IterativeImputer())\n",
    "#('car_age_categories', FunctionTransformer(car_age_categories))\n",
    "# ])\n",
    "\n",
    "\n",
    "age_pipeline = Pipeline([\n",
    "('ageIterImputer', IterativeImputer()),\n",
    "#(\"ageCatFunction\", FunctionTransformer(age_categories))\n",
    "#('ageOnehotenc', OneHotEncoder(sparse = False,  handle_unknown =  'ignore'))\n",
    "])\n",
    "\n",
    "#nominal_pipeline = Pipeline([\n",
    "#    ('onehotenc', OneHotEncoder(sparse = False, handle_unknown =  'ignore'))])\n",
    "\n",
    "#newfeat = ColumnTransformer(transformers=[\n",
    "#    ('dlFunction', FunctionTransformer(select_license_class),['DRIVERS_LICENSE_CLASS']),\n",
    "#    (\"ageCatFunction\", FunctionTransformer(age_categories),['AGE']),\n",
    "#    ('car_age_categories', FunctionTransformer(car_age_categories),['VEHICLE_YEAR'])\n",
    "#], remainder=\"drop\")    \n",
    "    \n",
    "    \n",
    "preproc = ColumnTransformer(transformers=[\n",
    "#    ('age_pipeline', age_pipeline, ['VEHICLE_YEAR','AGE']),\n",
    "    ('dlImputer', SimpleImputer(strategy = 'most_frequent'),['DRIVERS_LICENSE_CLASS']),\n",
    "#    ( \"passeng_imputer\", SimpleImputer(strategy = 'constant', fill_value=0),['NUM_PASSENGERS'])\n",
    "#    (\"nominalpipe\", nominal_pipeline, nominal_columns)\n",
    "], remainder=\"passthrough\")\n",
    "\n",
    "#feature_union = FeatureUnion(transformer_list=[\n",
    "#    (\"preproc\", preproc),\n",
    "#    (\"newfeat\", newfeat)\n",
    "#])\n",
    "\n",
    "\n",
    "#feature_union\n",
    "preproc"
   ]
  },
  {
   "cell_type": "code",
   "execution_count": 998,
   "id": "5593b06d",
   "metadata": {},
   "outputs": [
    {
     "data": {
      "text/html": [
       "<style>#sk-dcdbbbf3-4dde-4148-8b9d-5a5cf21472ae {color: black;background-color: white;}#sk-dcdbbbf3-4dde-4148-8b9d-5a5cf21472ae pre{padding: 0;}#sk-dcdbbbf3-4dde-4148-8b9d-5a5cf21472ae div.sk-toggleable {background-color: white;}#sk-dcdbbbf3-4dde-4148-8b9d-5a5cf21472ae label.sk-toggleable__label {cursor: pointer;display: block;width: 100%;margin-bottom: 0;padding: 0.3em;box-sizing: border-box;text-align: center;}#sk-dcdbbbf3-4dde-4148-8b9d-5a5cf21472ae label.sk-toggleable__label-arrow:before {content: \"▸\";float: left;margin-right: 0.25em;color: #696969;}#sk-dcdbbbf3-4dde-4148-8b9d-5a5cf21472ae label.sk-toggleable__label-arrow:hover:before {color: black;}#sk-dcdbbbf3-4dde-4148-8b9d-5a5cf21472ae div.sk-estimator:hover label.sk-toggleable__label-arrow:before {color: black;}#sk-dcdbbbf3-4dde-4148-8b9d-5a5cf21472ae div.sk-toggleable__content {max-height: 0;max-width: 0;overflow: hidden;text-align: left;background-color: #f0f8ff;}#sk-dcdbbbf3-4dde-4148-8b9d-5a5cf21472ae div.sk-toggleable__content pre {margin: 0.2em;color: black;border-radius: 0.25em;background-color: #f0f8ff;}#sk-dcdbbbf3-4dde-4148-8b9d-5a5cf21472ae input.sk-toggleable__control:checked~div.sk-toggleable__content {max-height: 200px;max-width: 100%;overflow: auto;}#sk-dcdbbbf3-4dde-4148-8b9d-5a5cf21472ae input.sk-toggleable__control:checked~label.sk-toggleable__label-arrow:before {content: \"▾\";}#sk-dcdbbbf3-4dde-4148-8b9d-5a5cf21472ae div.sk-estimator input.sk-toggleable__control:checked~label.sk-toggleable__label {background-color: #d4ebff;}#sk-dcdbbbf3-4dde-4148-8b9d-5a5cf21472ae div.sk-label input.sk-toggleable__control:checked~label.sk-toggleable__label {background-color: #d4ebff;}#sk-dcdbbbf3-4dde-4148-8b9d-5a5cf21472ae input.sk-hidden--visually {border: 0;clip: rect(1px 1px 1px 1px);clip: rect(1px, 1px, 1px, 1px);height: 1px;margin: -1px;overflow: hidden;padding: 0;position: absolute;width: 1px;}#sk-dcdbbbf3-4dde-4148-8b9d-5a5cf21472ae div.sk-estimator {font-family: monospace;background-color: #f0f8ff;border: 1px dotted black;border-radius: 0.25em;box-sizing: border-box;margin-bottom: 0.5em;}#sk-dcdbbbf3-4dde-4148-8b9d-5a5cf21472ae div.sk-estimator:hover {background-color: #d4ebff;}#sk-dcdbbbf3-4dde-4148-8b9d-5a5cf21472ae div.sk-parallel-item::after {content: \"\";width: 100%;border-bottom: 1px solid gray;flex-grow: 1;}#sk-dcdbbbf3-4dde-4148-8b9d-5a5cf21472ae div.sk-label:hover label.sk-toggleable__label {background-color: #d4ebff;}#sk-dcdbbbf3-4dde-4148-8b9d-5a5cf21472ae div.sk-serial::before {content: \"\";position: absolute;border-left: 1px solid gray;box-sizing: border-box;top: 2em;bottom: 0;left: 50%;}#sk-dcdbbbf3-4dde-4148-8b9d-5a5cf21472ae div.sk-serial {display: flex;flex-direction: column;align-items: center;background-color: white;padding-right: 0.2em;padding-left: 0.2em;}#sk-dcdbbbf3-4dde-4148-8b9d-5a5cf21472ae div.sk-item {z-index: 1;}#sk-dcdbbbf3-4dde-4148-8b9d-5a5cf21472ae div.sk-parallel {display: flex;align-items: stretch;justify-content: center;background-color: white;}#sk-dcdbbbf3-4dde-4148-8b9d-5a5cf21472ae div.sk-parallel::before {content: \"\";position: absolute;border-left: 1px solid gray;box-sizing: border-box;top: 2em;bottom: 0;left: 50%;}#sk-dcdbbbf3-4dde-4148-8b9d-5a5cf21472ae div.sk-parallel-item {display: flex;flex-direction: column;position: relative;background-color: white;}#sk-dcdbbbf3-4dde-4148-8b9d-5a5cf21472ae div.sk-parallel-item:first-child::after {align-self: flex-end;width: 50%;}#sk-dcdbbbf3-4dde-4148-8b9d-5a5cf21472ae div.sk-parallel-item:last-child::after {align-self: flex-start;width: 50%;}#sk-dcdbbbf3-4dde-4148-8b9d-5a5cf21472ae div.sk-parallel-item:only-child::after {width: 0;}#sk-dcdbbbf3-4dde-4148-8b9d-5a5cf21472ae div.sk-dashed-wrapped {border: 1px dashed gray;margin: 0 0.4em 0.5em 0.4em;box-sizing: border-box;padding-bottom: 0.4em;background-color: white;position: relative;}#sk-dcdbbbf3-4dde-4148-8b9d-5a5cf21472ae div.sk-label label {font-family: monospace;font-weight: bold;background-color: white;display: inline-block;line-height: 1.2em;}#sk-dcdbbbf3-4dde-4148-8b9d-5a5cf21472ae div.sk-label-container {position: relative;z-index: 2;text-align: center;}#sk-dcdbbbf3-4dde-4148-8b9d-5a5cf21472ae div.sk-container {/* jupyter's `normalize.less` sets `[hidden] { display: none; }` but bootstrap.min.css set `[hidden] { display: none !important; }` so we also need the `!important` here to be able to override the default hidden behavior on the sphinx rendered scikit-learn.org. See: https://github.com/scikit-learn/scikit-learn/issues/21755 */display: inline-block !important;position: relative;}#sk-dcdbbbf3-4dde-4148-8b9d-5a5cf21472ae div.sk-text-repr-fallback {display: none;}</style><div id=\"sk-dcdbbbf3-4dde-4148-8b9d-5a5cf21472ae\" class=\"sk-top-container\"><div class=\"sk-text-repr-fallback\"><pre>Pipeline(steps=[(&#x27;preproc&#x27;,\n",
       "                 ColumnTransformer(remainder=&#x27;passthrough&#x27;,\n",
       "                                   transformers=[(&#x27;dlImputer&#x27;,\n",
       "                                                  SimpleImputer(strategy=&#x27;most_frequent&#x27;),\n",
       "                                                  [&#x27;DRIVERS_LICENSE_CLASS&#x27;])])),\n",
       "                (&#x27;onehotenc&#x27;,\n",
       "                 OneHotEncoder(drop=&#x27;first&#x27;, handle_unknown=&#x27;ignore&#x27;,\n",
       "                               sparse=False)),\n",
       "                (&#x27;standardscale&#x27;, StandardScaler()),\n",
       "                (&#x27;model&#x27;,\n",
       "                 LogisticRegression(max_iter=10000, solver=&#x27;newton-cg&#x27;))])</pre><b>Please rerun this cell to show the HTML repr or trust the notebook.</b></div><div class=\"sk-container\" hidden><div class=\"sk-item sk-dashed-wrapped\"><div class=\"sk-label-container\"><div class=\"sk-label sk-toggleable\"><input class=\"sk-toggleable__control sk-hidden--visually\" id=\"36d96518-68a8-445e-92d1-a5eb8d4fe1da\" type=\"checkbox\" ><label for=\"36d96518-68a8-445e-92d1-a5eb8d4fe1da\" class=\"sk-toggleable__label sk-toggleable__label-arrow\">Pipeline</label><div class=\"sk-toggleable__content\"><pre>Pipeline(steps=[(&#x27;preproc&#x27;,\n",
       "                 ColumnTransformer(remainder=&#x27;passthrough&#x27;,\n",
       "                                   transformers=[(&#x27;dlImputer&#x27;,\n",
       "                                                  SimpleImputer(strategy=&#x27;most_frequent&#x27;),\n",
       "                                                  [&#x27;DRIVERS_LICENSE_CLASS&#x27;])])),\n",
       "                (&#x27;onehotenc&#x27;,\n",
       "                 OneHotEncoder(drop=&#x27;first&#x27;, handle_unknown=&#x27;ignore&#x27;,\n",
       "                               sparse=False)),\n",
       "                (&#x27;standardscale&#x27;, StandardScaler()),\n",
       "                (&#x27;model&#x27;,\n",
       "                 LogisticRegression(max_iter=10000, solver=&#x27;newton-cg&#x27;))])</pre></div></div></div><div class=\"sk-serial\"><div class=\"sk-item sk-dashed-wrapped\"><div class=\"sk-label-container\"><div class=\"sk-label sk-toggleable\"><input class=\"sk-toggleable__control sk-hidden--visually\" id=\"0bf14b59-c59c-4f2d-8368-33eafa31efd0\" type=\"checkbox\" ><label for=\"0bf14b59-c59c-4f2d-8368-33eafa31efd0\" class=\"sk-toggleable__label sk-toggleable__label-arrow\">preproc: ColumnTransformer</label><div class=\"sk-toggleable__content\"><pre>ColumnTransformer(remainder=&#x27;passthrough&#x27;,\n",
       "                  transformers=[(&#x27;dlImputer&#x27;,\n",
       "                                 SimpleImputer(strategy=&#x27;most_frequent&#x27;),\n",
       "                                 [&#x27;DRIVERS_LICENSE_CLASS&#x27;])])</pre></div></div></div><div class=\"sk-parallel\"><div class=\"sk-parallel-item\"><div class=\"sk-item\"><div class=\"sk-label-container\"><div class=\"sk-label sk-toggleable\"><input class=\"sk-toggleable__control sk-hidden--visually\" id=\"0e336efb-9e61-4455-b18c-e973485c2d91\" type=\"checkbox\" ><label for=\"0e336efb-9e61-4455-b18c-e973485c2d91\" class=\"sk-toggleable__label sk-toggleable__label-arrow\">dlImputer</label><div class=\"sk-toggleable__content\"><pre>[&#x27;DRIVERS_LICENSE_CLASS&#x27;]</pre></div></div></div><div class=\"sk-serial\"><div class=\"sk-item\"><div class=\"sk-estimator sk-toggleable\"><input class=\"sk-toggleable__control sk-hidden--visually\" id=\"778bf2fe-500e-445e-9778-1a8c76962de6\" type=\"checkbox\" ><label for=\"778bf2fe-500e-445e-9778-1a8c76962de6\" class=\"sk-toggleable__label sk-toggleable__label-arrow\">SimpleImputer</label><div class=\"sk-toggleable__content\"><pre>SimpleImputer(strategy=&#x27;most_frequent&#x27;)</pre></div></div></div></div></div></div><div class=\"sk-parallel-item\"><div class=\"sk-item\"><div class=\"sk-label-container\"><div class=\"sk-label sk-toggleable\"><input class=\"sk-toggleable__control sk-hidden--visually\" id=\"90fe2751-dc8e-4590-a57c-f54599a1f48b\" type=\"checkbox\" ><label for=\"90fe2751-dc8e-4590-a57c-f54599a1f48b\" class=\"sk-toggleable__label sk-toggleable__label-arrow\">remainder</label><div class=\"sk-toggleable__content\"><pre></pre></div></div></div><div class=\"sk-serial\"><div class=\"sk-item\"><div class=\"sk-estimator sk-toggleable\"><input class=\"sk-toggleable__control sk-hidden--visually\" id=\"a6bd0cef-7877-4d51-a9b4-5d0c4aefdd86\" type=\"checkbox\" ><label for=\"a6bd0cef-7877-4d51-a9b4-5d0c4aefdd86\" class=\"sk-toggleable__label sk-toggleable__label-arrow\">passthrough</label><div class=\"sk-toggleable__content\"><pre>passthrough</pre></div></div></div></div></div></div></div></div><div class=\"sk-item\"><div class=\"sk-estimator sk-toggleable\"><input class=\"sk-toggleable__control sk-hidden--visually\" id=\"7a08c2ce-6f89-4bf6-b4a4-6c5f0d113e81\" type=\"checkbox\" ><label for=\"7a08c2ce-6f89-4bf6-b4a4-6c5f0d113e81\" class=\"sk-toggleable__label sk-toggleable__label-arrow\">OneHotEncoder</label><div class=\"sk-toggleable__content\"><pre>OneHotEncoder(drop=&#x27;first&#x27;, handle_unknown=&#x27;ignore&#x27;, sparse=False)</pre></div></div></div><div class=\"sk-item\"><div class=\"sk-estimator sk-toggleable\"><input class=\"sk-toggleable__control sk-hidden--visually\" id=\"60b9342f-bcbf-43d3-96c0-923dd222149c\" type=\"checkbox\" ><label for=\"60b9342f-bcbf-43d3-96c0-923dd222149c\" class=\"sk-toggleable__label sk-toggleable__label-arrow\">StandardScaler</label><div class=\"sk-toggleable__content\"><pre>StandardScaler()</pre></div></div></div><div class=\"sk-item\"><div class=\"sk-estimator sk-toggleable\"><input class=\"sk-toggleable__control sk-hidden--visually\" id=\"6f68b9ae-902b-4d0d-9e8b-04e094aee954\" type=\"checkbox\" ><label for=\"6f68b9ae-902b-4d0d-9e8b-04e094aee954\" class=\"sk-toggleable__label sk-toggleable__label-arrow\">LogisticRegression</label><div class=\"sk-toggleable__content\"><pre>LogisticRegression(max_iter=10000, solver=&#x27;newton-cg&#x27;)</pre></div></div></div></div></div></div></div>"
      ],
      "text/plain": [
       "Pipeline(steps=[('preproc',\n",
       "                 ColumnTransformer(remainder='passthrough',\n",
       "                                   transformers=[('dlImputer',\n",
       "                                                  SimpleImputer(strategy='most_frequent'),\n",
       "                                                  ['DRIVERS_LICENSE_CLASS'])])),\n",
       "                ('onehotenc',\n",
       "                 OneHotEncoder(drop='first', handle_unknown='ignore',\n",
       "                               sparse=False)),\n",
       "                ('standardscale', StandardScaler()),\n",
       "                ('model',\n",
       "                 LogisticRegression(max_iter=10000, solver='newton-cg'))])"
      ]
     },
     "execution_count": 998,
     "metadata": {},
     "output_type": "execute_result"
    }
   ],
   "source": [
    "baseline_pipe = Pipeline([('preproc', preproc),\n",
    "                          ('onehotenc', OneHotEncoder(sparse = False, drop = 'first', handle_unknown =  'ignore')),\n",
    "                          ('standardscale', StandardScaler()),\n",
    "                          ('model',LogisticRegression(max_iter = 10000, solver = 'newton-cg'))])\n",
    "baseline_pipe"
   ]
  },
  {
   "cell_type": "code",
   "execution_count": 999,
   "id": "9def87e4",
   "metadata": {},
   "outputs": [
    {
     "data": {
      "text/html": [
       "<style>#sk-eee36367-819e-496d-8973-8f76ce4c3a8c {color: black;background-color: white;}#sk-eee36367-819e-496d-8973-8f76ce4c3a8c pre{padding: 0;}#sk-eee36367-819e-496d-8973-8f76ce4c3a8c div.sk-toggleable {background-color: white;}#sk-eee36367-819e-496d-8973-8f76ce4c3a8c label.sk-toggleable__label {cursor: pointer;display: block;width: 100%;margin-bottom: 0;padding: 0.3em;box-sizing: border-box;text-align: center;}#sk-eee36367-819e-496d-8973-8f76ce4c3a8c label.sk-toggleable__label-arrow:before {content: \"▸\";float: left;margin-right: 0.25em;color: #696969;}#sk-eee36367-819e-496d-8973-8f76ce4c3a8c label.sk-toggleable__label-arrow:hover:before {color: black;}#sk-eee36367-819e-496d-8973-8f76ce4c3a8c div.sk-estimator:hover label.sk-toggleable__label-arrow:before {color: black;}#sk-eee36367-819e-496d-8973-8f76ce4c3a8c div.sk-toggleable__content {max-height: 0;max-width: 0;overflow: hidden;text-align: left;background-color: #f0f8ff;}#sk-eee36367-819e-496d-8973-8f76ce4c3a8c div.sk-toggleable__content pre {margin: 0.2em;color: black;border-radius: 0.25em;background-color: #f0f8ff;}#sk-eee36367-819e-496d-8973-8f76ce4c3a8c input.sk-toggleable__control:checked~div.sk-toggleable__content {max-height: 200px;max-width: 100%;overflow: auto;}#sk-eee36367-819e-496d-8973-8f76ce4c3a8c input.sk-toggleable__control:checked~label.sk-toggleable__label-arrow:before {content: \"▾\";}#sk-eee36367-819e-496d-8973-8f76ce4c3a8c div.sk-estimator input.sk-toggleable__control:checked~label.sk-toggleable__label {background-color: #d4ebff;}#sk-eee36367-819e-496d-8973-8f76ce4c3a8c div.sk-label input.sk-toggleable__control:checked~label.sk-toggleable__label {background-color: #d4ebff;}#sk-eee36367-819e-496d-8973-8f76ce4c3a8c input.sk-hidden--visually {border: 0;clip: rect(1px 1px 1px 1px);clip: rect(1px, 1px, 1px, 1px);height: 1px;margin: -1px;overflow: hidden;padding: 0;position: absolute;width: 1px;}#sk-eee36367-819e-496d-8973-8f76ce4c3a8c div.sk-estimator {font-family: monospace;background-color: #f0f8ff;border: 1px dotted black;border-radius: 0.25em;box-sizing: border-box;margin-bottom: 0.5em;}#sk-eee36367-819e-496d-8973-8f76ce4c3a8c div.sk-estimator:hover {background-color: #d4ebff;}#sk-eee36367-819e-496d-8973-8f76ce4c3a8c div.sk-parallel-item::after {content: \"\";width: 100%;border-bottom: 1px solid gray;flex-grow: 1;}#sk-eee36367-819e-496d-8973-8f76ce4c3a8c div.sk-label:hover label.sk-toggleable__label {background-color: #d4ebff;}#sk-eee36367-819e-496d-8973-8f76ce4c3a8c div.sk-serial::before {content: \"\";position: absolute;border-left: 1px solid gray;box-sizing: border-box;top: 2em;bottom: 0;left: 50%;}#sk-eee36367-819e-496d-8973-8f76ce4c3a8c div.sk-serial {display: flex;flex-direction: column;align-items: center;background-color: white;padding-right: 0.2em;padding-left: 0.2em;}#sk-eee36367-819e-496d-8973-8f76ce4c3a8c div.sk-item {z-index: 1;}#sk-eee36367-819e-496d-8973-8f76ce4c3a8c div.sk-parallel {display: flex;align-items: stretch;justify-content: center;background-color: white;}#sk-eee36367-819e-496d-8973-8f76ce4c3a8c div.sk-parallel::before {content: \"\";position: absolute;border-left: 1px solid gray;box-sizing: border-box;top: 2em;bottom: 0;left: 50%;}#sk-eee36367-819e-496d-8973-8f76ce4c3a8c div.sk-parallel-item {display: flex;flex-direction: column;position: relative;background-color: white;}#sk-eee36367-819e-496d-8973-8f76ce4c3a8c div.sk-parallel-item:first-child::after {align-self: flex-end;width: 50%;}#sk-eee36367-819e-496d-8973-8f76ce4c3a8c div.sk-parallel-item:last-child::after {align-self: flex-start;width: 50%;}#sk-eee36367-819e-496d-8973-8f76ce4c3a8c div.sk-parallel-item:only-child::after {width: 0;}#sk-eee36367-819e-496d-8973-8f76ce4c3a8c div.sk-dashed-wrapped {border: 1px dashed gray;margin: 0 0.4em 0.5em 0.4em;box-sizing: border-box;padding-bottom: 0.4em;background-color: white;position: relative;}#sk-eee36367-819e-496d-8973-8f76ce4c3a8c div.sk-label label {font-family: monospace;font-weight: bold;background-color: white;display: inline-block;line-height: 1.2em;}#sk-eee36367-819e-496d-8973-8f76ce4c3a8c div.sk-label-container {position: relative;z-index: 2;text-align: center;}#sk-eee36367-819e-496d-8973-8f76ce4c3a8c div.sk-container {/* jupyter's `normalize.less` sets `[hidden] { display: none; }` but bootstrap.min.css set `[hidden] { display: none !important; }` so we also need the `!important` here to be able to override the default hidden behavior on the sphinx rendered scikit-learn.org. See: https://github.com/scikit-learn/scikit-learn/issues/21755 */display: inline-block !important;position: relative;}#sk-eee36367-819e-496d-8973-8f76ce4c3a8c div.sk-text-repr-fallback {display: none;}</style><div id=\"sk-eee36367-819e-496d-8973-8f76ce4c3a8c\" class=\"sk-top-container\"><div class=\"sk-text-repr-fallback\"><pre>Pipeline(steps=[(&#x27;preproc&#x27;,\n",
       "                 ColumnTransformer(remainder=&#x27;passthrough&#x27;,\n",
       "                                   transformers=[(&#x27;dlImputer&#x27;,\n",
       "                                                  SimpleImputer(strategy=&#x27;most_frequent&#x27;),\n",
       "                                                  [&#x27;DRIVERS_LICENSE_CLASS&#x27;])])),\n",
       "                (&#x27;onehotenc&#x27;,\n",
       "                 OneHotEncoder(drop=&#x27;first&#x27;, handle_unknown=&#x27;ignore&#x27;,\n",
       "                               sparse=False)),\n",
       "                (&#x27;standardscale&#x27;, StandardScaler()),\n",
       "                (&#x27;model&#x27;,\n",
       "                 LogisticRegression(max_iter=10000, solver=&#x27;newton-cg&#x27;))])</pre><b>Please rerun this cell to show the HTML repr or trust the notebook.</b></div><div class=\"sk-container\" hidden><div class=\"sk-item sk-dashed-wrapped\"><div class=\"sk-label-container\"><div class=\"sk-label sk-toggleable\"><input class=\"sk-toggleable__control sk-hidden--visually\" id=\"9a6aca0e-d5e6-43dd-bdf4-e369a0222c4a\" type=\"checkbox\" ><label for=\"9a6aca0e-d5e6-43dd-bdf4-e369a0222c4a\" class=\"sk-toggleable__label sk-toggleable__label-arrow\">Pipeline</label><div class=\"sk-toggleable__content\"><pre>Pipeline(steps=[(&#x27;preproc&#x27;,\n",
       "                 ColumnTransformer(remainder=&#x27;passthrough&#x27;,\n",
       "                                   transformers=[(&#x27;dlImputer&#x27;,\n",
       "                                                  SimpleImputer(strategy=&#x27;most_frequent&#x27;),\n",
       "                                                  [&#x27;DRIVERS_LICENSE_CLASS&#x27;])])),\n",
       "                (&#x27;onehotenc&#x27;,\n",
       "                 OneHotEncoder(drop=&#x27;first&#x27;, handle_unknown=&#x27;ignore&#x27;,\n",
       "                               sparse=False)),\n",
       "                (&#x27;standardscale&#x27;, StandardScaler()),\n",
       "                (&#x27;model&#x27;,\n",
       "                 LogisticRegression(max_iter=10000, solver=&#x27;newton-cg&#x27;))])</pre></div></div></div><div class=\"sk-serial\"><div class=\"sk-item sk-dashed-wrapped\"><div class=\"sk-label-container\"><div class=\"sk-label sk-toggleable\"><input class=\"sk-toggleable__control sk-hidden--visually\" id=\"c8dcbe58-e519-49f5-a121-591f9ae747b7\" type=\"checkbox\" ><label for=\"c8dcbe58-e519-49f5-a121-591f9ae747b7\" class=\"sk-toggleable__label sk-toggleable__label-arrow\">preproc: ColumnTransformer</label><div class=\"sk-toggleable__content\"><pre>ColumnTransformer(remainder=&#x27;passthrough&#x27;,\n",
       "                  transformers=[(&#x27;dlImputer&#x27;,\n",
       "                                 SimpleImputer(strategy=&#x27;most_frequent&#x27;),\n",
       "                                 [&#x27;DRIVERS_LICENSE_CLASS&#x27;])])</pre></div></div></div><div class=\"sk-parallel\"><div class=\"sk-parallel-item\"><div class=\"sk-item\"><div class=\"sk-label-container\"><div class=\"sk-label sk-toggleable\"><input class=\"sk-toggleable__control sk-hidden--visually\" id=\"506d2cde-1c38-44d5-8711-e378d417feea\" type=\"checkbox\" ><label for=\"506d2cde-1c38-44d5-8711-e378d417feea\" class=\"sk-toggleable__label sk-toggleable__label-arrow\">dlImputer</label><div class=\"sk-toggleable__content\"><pre>[&#x27;DRIVERS_LICENSE_CLASS&#x27;]</pre></div></div></div><div class=\"sk-serial\"><div class=\"sk-item\"><div class=\"sk-estimator sk-toggleable\"><input class=\"sk-toggleable__control sk-hidden--visually\" id=\"d91f1da1-245e-40ec-9fcd-184416884e0a\" type=\"checkbox\" ><label for=\"d91f1da1-245e-40ec-9fcd-184416884e0a\" class=\"sk-toggleable__label sk-toggleable__label-arrow\">SimpleImputer</label><div class=\"sk-toggleable__content\"><pre>SimpleImputer(strategy=&#x27;most_frequent&#x27;)</pre></div></div></div></div></div></div><div class=\"sk-parallel-item\"><div class=\"sk-item\"><div class=\"sk-label-container\"><div class=\"sk-label sk-toggleable\"><input class=\"sk-toggleable__control sk-hidden--visually\" id=\"40e3ccf2-4de8-482e-9366-2f35d33b8f77\" type=\"checkbox\" ><label for=\"40e3ccf2-4de8-482e-9366-2f35d33b8f77\" class=\"sk-toggleable__label sk-toggleable__label-arrow\">remainder</label><div class=\"sk-toggleable__content\"><pre>[&#x27;DEVICE_CONDITION&#x27;, &#x27;FIRST_CRASH_TYPE&#x27;, &#x27;FIRST_CONTACT_POINT&#x27;, &#x27;TRAFFICWAY_TYPE&#x27;, &#x27;ROADWAY_SURFACE_COND&#x27;, &#x27;VEHICLE_DEFECT&#x27;, &#x27;AGE_GROUP&#x27;, &#x27;PHYSICAL_CONDITION&#x27;, &#x27;MANEUVER&#x27;, &#x27;DRIVER_VISION&#x27;, &#x27;ALIGNMENT&#x27;, &#x27;AIRBAG_DEPLOYED&#x27;]</pre></div></div></div><div class=\"sk-serial\"><div class=\"sk-item\"><div class=\"sk-estimator sk-toggleable\"><input class=\"sk-toggleable__control sk-hidden--visually\" id=\"eed156a5-3c86-422a-a059-0f9c78f93991\" type=\"checkbox\" ><label for=\"eed156a5-3c86-422a-a059-0f9c78f93991\" class=\"sk-toggleable__label sk-toggleable__label-arrow\">passthrough</label><div class=\"sk-toggleable__content\"><pre>passthrough</pre></div></div></div></div></div></div></div></div><div class=\"sk-item\"><div class=\"sk-estimator sk-toggleable\"><input class=\"sk-toggleable__control sk-hidden--visually\" id=\"0c891d33-0466-4c26-b41a-1b954ebc61ca\" type=\"checkbox\" ><label for=\"0c891d33-0466-4c26-b41a-1b954ebc61ca\" class=\"sk-toggleable__label sk-toggleable__label-arrow\">OneHotEncoder</label><div class=\"sk-toggleable__content\"><pre>OneHotEncoder(drop=&#x27;first&#x27;, handle_unknown=&#x27;ignore&#x27;, sparse=False)</pre></div></div></div><div class=\"sk-item\"><div class=\"sk-estimator sk-toggleable\"><input class=\"sk-toggleable__control sk-hidden--visually\" id=\"46d051c2-ab36-46da-b535-87953db562eb\" type=\"checkbox\" ><label for=\"46d051c2-ab36-46da-b535-87953db562eb\" class=\"sk-toggleable__label sk-toggleable__label-arrow\">StandardScaler</label><div class=\"sk-toggleable__content\"><pre>StandardScaler()</pre></div></div></div><div class=\"sk-item\"><div class=\"sk-estimator sk-toggleable\"><input class=\"sk-toggleable__control sk-hidden--visually\" id=\"a817b7d7-6883-4995-8ea8-392999932791\" type=\"checkbox\" ><label for=\"a817b7d7-6883-4995-8ea8-392999932791\" class=\"sk-toggleable__label sk-toggleable__label-arrow\">LogisticRegression</label><div class=\"sk-toggleable__content\"><pre>LogisticRegression(max_iter=10000, solver=&#x27;newton-cg&#x27;)</pre></div></div></div></div></div></div></div>"
      ],
      "text/plain": [
       "Pipeline(steps=[('preproc',\n",
       "                 ColumnTransformer(remainder='passthrough',\n",
       "                                   transformers=[('dlImputer',\n",
       "                                                  SimpleImputer(strategy='most_frequent'),\n",
       "                                                  ['DRIVERS_LICENSE_CLASS'])])),\n",
       "                ('onehotenc',\n",
       "                 OneHotEncoder(drop='first', handle_unknown='ignore',\n",
       "                               sparse=False)),\n",
       "                ('standardscale', StandardScaler()),\n",
       "                ('model',\n",
       "                 LogisticRegression(max_iter=10000, solver='newton-cg'))])"
      ]
     },
     "execution_count": 999,
     "metadata": {},
     "output_type": "execute_result"
    }
   ],
   "source": [
    "baseline_pipe.fit(X_train, y_train)"
   ]
  },
  {
   "cell_type": "code",
   "execution_count": 1000,
   "id": "d38c8fcc",
   "metadata": {},
   "outputs": [
    {
     "data": {
      "text/plain": [
       "array(['DEVICE_CONDITION', 'FIRST_CRASH_TYPE', 'FIRST_CONTACT_POINT',\n",
       "       'TRAFFICWAY_TYPE', 'ROADWAY_SURFACE_COND', 'VEHICLE_DEFECT',\n",
       "       'DRIVERS_LICENSE_CLASS', 'AGE_GROUP', 'PHYSICAL_CONDITION',\n",
       "       'MANEUVER', 'DRIVER_VISION', 'ALIGNMENT', 'AIRBAG_DEPLOYED'],\n",
       "      dtype=object)"
      ]
     },
     "execution_count": 1000,
     "metadata": {},
     "output_type": "execute_result"
    }
   ],
   "source": [
    "baseline_pipe.feature_names_in_"
   ]
  },
  {
   "cell_type": "code",
   "execution_count": null,
   "id": "3f8ee57c",
   "metadata": {},
   "outputs": [],
   "source": []
  },
  {
   "cell_type": "code",
   "execution_count": 1001,
   "id": "fae03291",
   "metadata": {},
   "outputs": [
    {
     "name": "stderr",
     "output_type": "stream",
     "text": [
      "C:\\anaconda3\\lib\\site-packages\\sklearn\\preprocessing\\_encoders.py:170: UserWarning: Found unknown categories in columns [2, 4] during transform. These unknown categories will be encoded as all zeros\n",
      "  warnings.warn(\n"
     ]
    }
   ],
   "source": [
    "y_pred_test = baseline_pipe.predict(X_test)\n",
    "y_pred_train = baseline_pipe.predict(X_train)"
   ]
  },
  {
   "cell_type": "code",
   "execution_count": 1002,
   "id": "d281cac2",
   "metadata": {},
   "outputs": [
    {
     "name": "stdout",
     "output_type": "stream",
     "text": [
      "Precision :  0.7371625198517734 \n",
      " Recall score:  0.7434596903363588 \n",
      " Score : 0.75575\n",
      "------------\n"
     ]
    },
    {
     "ename": "ValueError",
     "evalue": "Found input variables with inconsistent numbers of samples: [7963, 8000]",
     "output_type": "error",
     "traceback": [
      "\u001b[1;31m---------------------------------------------------------------------------\u001b[0m",
      "\u001b[1;31mValueError\u001b[0m                                Traceback (most recent call last)",
      "\u001b[1;32mC:\\Users\\DIMAFI~1\\AppData\\Local\\Temp/ipykernel_19332/2426687492.py\u001b[0m in \u001b[0;36m<module>\u001b[1;34m\u001b[0m\n\u001b[0;32m      3\u001b[0m       '\\n Score :', accuracy_score(y_train, y_pred_train,))\n\u001b[0;32m      4\u001b[0m \u001b[0mprint\u001b[0m\u001b[1;33m(\u001b[0m\u001b[1;34m'------------'\u001b[0m\u001b[1;33m)\u001b[0m\u001b[1;33m\u001b[0m\u001b[1;33m\u001b[0m\u001b[0m\n\u001b[1;32m----> 5\u001b[1;33m print('Precision : ', precision_score(y_test, y_pred_test, pos_label=\"NO\"),\n\u001b[0m\u001b[0;32m      6\u001b[0m       \u001b[1;34m'\\n Recall score: '\u001b[0m\u001b[1;33m,\u001b[0m \u001b[0mrecall_score\u001b[0m\u001b[1;33m(\u001b[0m\u001b[0my_test\u001b[0m\u001b[1;33m,\u001b[0m \u001b[0my_pred_test\u001b[0m\u001b[1;33m,\u001b[0m \u001b[0mpos_label\u001b[0m\u001b[1;33m=\u001b[0m\u001b[1;34m\"NO\"\u001b[0m\u001b[1;33m)\u001b[0m\u001b[1;33m,\u001b[0m\u001b[1;33m\u001b[0m\u001b[1;33m\u001b[0m\u001b[0m\n\u001b[0;32m      7\u001b[0m       '\\n Score :', accuracy_score(y_test, y_pred_test,))\n",
      "\u001b[1;32mC:\\anaconda3\\lib\\site-packages\\sklearn\\metrics\\_classification.py\u001b[0m in \u001b[0;36mprecision_score\u001b[1;34m(y_true, y_pred, labels, pos_label, average, sample_weight, zero_division)\u001b[0m\n\u001b[0;32m   1755\u001b[0m     \u001b[0marray\u001b[0m\u001b[1;33m(\u001b[0m\u001b[1;33m[\u001b[0m\u001b[1;36m0.5\u001b[0m\u001b[1;33m,\u001b[0m \u001b[1;36m1.\u001b[0m \u001b[1;33m,\u001b[0m \u001b[1;36m1.\u001b[0m \u001b[1;33m]\u001b[0m\u001b[1;33m)\u001b[0m\u001b[1;33m\u001b[0m\u001b[1;33m\u001b[0m\u001b[0m\n\u001b[0;32m   1756\u001b[0m     \"\"\"\n\u001b[1;32m-> 1757\u001b[1;33m     p, _, _, _ = precision_recall_fscore_support(\n\u001b[0m\u001b[0;32m   1758\u001b[0m         \u001b[0my_true\u001b[0m\u001b[1;33m,\u001b[0m\u001b[1;33m\u001b[0m\u001b[1;33m\u001b[0m\u001b[0m\n\u001b[0;32m   1759\u001b[0m         \u001b[0my_pred\u001b[0m\u001b[1;33m,\u001b[0m\u001b[1;33m\u001b[0m\u001b[1;33m\u001b[0m\u001b[0m\n",
      "\u001b[1;32mC:\\anaconda3\\lib\\site-packages\\sklearn\\metrics\\_classification.py\u001b[0m in \u001b[0;36mprecision_recall_fscore_support\u001b[1;34m(y_true, y_pred, beta, labels, pos_label, average, warn_for, sample_weight, zero_division)\u001b[0m\n\u001b[0;32m   1542\u001b[0m     \u001b[1;32mif\u001b[0m \u001b[0mbeta\u001b[0m \u001b[1;33m<\u001b[0m \u001b[1;36m0\u001b[0m\u001b[1;33m:\u001b[0m\u001b[1;33m\u001b[0m\u001b[1;33m\u001b[0m\u001b[0m\n\u001b[0;32m   1543\u001b[0m         \u001b[1;32mraise\u001b[0m \u001b[0mValueError\u001b[0m\u001b[1;33m(\u001b[0m\u001b[1;34m\"beta should be >=0 in the F-beta score\"\u001b[0m\u001b[1;33m)\u001b[0m\u001b[1;33m\u001b[0m\u001b[1;33m\u001b[0m\u001b[0m\n\u001b[1;32m-> 1544\u001b[1;33m     \u001b[0mlabels\u001b[0m \u001b[1;33m=\u001b[0m \u001b[0m_check_set_wise_labels\u001b[0m\u001b[1;33m(\u001b[0m\u001b[0my_true\u001b[0m\u001b[1;33m,\u001b[0m \u001b[0my_pred\u001b[0m\u001b[1;33m,\u001b[0m \u001b[0maverage\u001b[0m\u001b[1;33m,\u001b[0m \u001b[0mlabels\u001b[0m\u001b[1;33m,\u001b[0m \u001b[0mpos_label\u001b[0m\u001b[1;33m)\u001b[0m\u001b[1;33m\u001b[0m\u001b[1;33m\u001b[0m\u001b[0m\n\u001b[0m\u001b[0;32m   1545\u001b[0m \u001b[1;33m\u001b[0m\u001b[0m\n\u001b[0;32m   1546\u001b[0m     \u001b[1;31m# Calculate tp_sum, pred_sum, true_sum ###\u001b[0m\u001b[1;33m\u001b[0m\u001b[1;33m\u001b[0m\u001b[0m\n",
      "\u001b[1;32mC:\\anaconda3\\lib\\site-packages\\sklearn\\metrics\\_classification.py\u001b[0m in \u001b[0;36m_check_set_wise_labels\u001b[1;34m(y_true, y_pred, average, labels, pos_label)\u001b[0m\n\u001b[0;32m   1346\u001b[0m         \u001b[1;32mraise\u001b[0m \u001b[0mValueError\u001b[0m\u001b[1;33m(\u001b[0m\u001b[1;34m\"average has to be one of \"\u001b[0m \u001b[1;33m+\u001b[0m \u001b[0mstr\u001b[0m\u001b[1;33m(\u001b[0m\u001b[0maverage_options\u001b[0m\u001b[1;33m)\u001b[0m\u001b[1;33m)\u001b[0m\u001b[1;33m\u001b[0m\u001b[1;33m\u001b[0m\u001b[0m\n\u001b[0;32m   1347\u001b[0m \u001b[1;33m\u001b[0m\u001b[0m\n\u001b[1;32m-> 1348\u001b[1;33m     \u001b[0my_type\u001b[0m\u001b[1;33m,\u001b[0m \u001b[0my_true\u001b[0m\u001b[1;33m,\u001b[0m \u001b[0my_pred\u001b[0m \u001b[1;33m=\u001b[0m \u001b[0m_check_targets\u001b[0m\u001b[1;33m(\u001b[0m\u001b[0my_true\u001b[0m\u001b[1;33m,\u001b[0m \u001b[0my_pred\u001b[0m\u001b[1;33m)\u001b[0m\u001b[1;33m\u001b[0m\u001b[1;33m\u001b[0m\u001b[0m\n\u001b[0m\u001b[0;32m   1349\u001b[0m     \u001b[1;31m# Convert to Python primitive type to avoid NumPy type / Python str\u001b[0m\u001b[1;33m\u001b[0m\u001b[1;33m\u001b[0m\u001b[0m\n\u001b[0;32m   1350\u001b[0m     \u001b[1;31m# comparison. See https://github.com/numpy/numpy/issues/6784\u001b[0m\u001b[1;33m\u001b[0m\u001b[1;33m\u001b[0m\u001b[0m\n",
      "\u001b[1;32mC:\\anaconda3\\lib\\site-packages\\sklearn\\metrics\\_classification.py\u001b[0m in \u001b[0;36m_check_targets\u001b[1;34m(y_true, y_pred)\u001b[0m\n\u001b[0;32m     82\u001b[0m     \u001b[0my_pred\u001b[0m \u001b[1;33m:\u001b[0m \u001b[0marray\u001b[0m \u001b[1;32mor\u001b[0m \u001b[0mindicator\u001b[0m \u001b[0mmatrix\u001b[0m\u001b[1;33m\u001b[0m\u001b[1;33m\u001b[0m\u001b[0m\n\u001b[0;32m     83\u001b[0m     \"\"\"\n\u001b[1;32m---> 84\u001b[1;33m     \u001b[0mcheck_consistent_length\u001b[0m\u001b[1;33m(\u001b[0m\u001b[0my_true\u001b[0m\u001b[1;33m,\u001b[0m \u001b[0my_pred\u001b[0m\u001b[1;33m)\u001b[0m\u001b[1;33m\u001b[0m\u001b[1;33m\u001b[0m\u001b[0m\n\u001b[0m\u001b[0;32m     85\u001b[0m     \u001b[0mtype_true\u001b[0m \u001b[1;33m=\u001b[0m \u001b[0mtype_of_target\u001b[0m\u001b[1;33m(\u001b[0m\u001b[0my_true\u001b[0m\u001b[1;33m)\u001b[0m\u001b[1;33m\u001b[0m\u001b[1;33m\u001b[0m\u001b[0m\n\u001b[0;32m     86\u001b[0m     \u001b[0mtype_pred\u001b[0m \u001b[1;33m=\u001b[0m \u001b[0mtype_of_target\u001b[0m\u001b[1;33m(\u001b[0m\u001b[0my_pred\u001b[0m\u001b[1;33m)\u001b[0m\u001b[1;33m\u001b[0m\u001b[1;33m\u001b[0m\u001b[0m\n",
      "\u001b[1;32mC:\\anaconda3\\lib\\site-packages\\sklearn\\utils\\validation.py\u001b[0m in \u001b[0;36mcheck_consistent_length\u001b[1;34m(*arrays)\u001b[0m\n\u001b[0;32m    330\u001b[0m     \u001b[0muniques\u001b[0m \u001b[1;33m=\u001b[0m \u001b[0mnp\u001b[0m\u001b[1;33m.\u001b[0m\u001b[0munique\u001b[0m\u001b[1;33m(\u001b[0m\u001b[0mlengths\u001b[0m\u001b[1;33m)\u001b[0m\u001b[1;33m\u001b[0m\u001b[1;33m\u001b[0m\u001b[0m\n\u001b[0;32m    331\u001b[0m     \u001b[1;32mif\u001b[0m \u001b[0mlen\u001b[0m\u001b[1;33m(\u001b[0m\u001b[0muniques\u001b[0m\u001b[1;33m)\u001b[0m \u001b[1;33m>\u001b[0m \u001b[1;36m1\u001b[0m\u001b[1;33m:\u001b[0m\u001b[1;33m\u001b[0m\u001b[1;33m\u001b[0m\u001b[0m\n\u001b[1;32m--> 332\u001b[1;33m         raise ValueError(\n\u001b[0m\u001b[0;32m    333\u001b[0m             \u001b[1;34m\"Found input variables with inconsistent numbers of samples: %r\"\u001b[0m\u001b[1;33m\u001b[0m\u001b[1;33m\u001b[0m\u001b[0m\n\u001b[0;32m    334\u001b[0m             \u001b[1;33m%\u001b[0m \u001b[1;33m[\u001b[0m\u001b[0mint\u001b[0m\u001b[1;33m(\u001b[0m\u001b[0ml\u001b[0m\u001b[1;33m)\u001b[0m \u001b[1;32mfor\u001b[0m \u001b[0ml\u001b[0m \u001b[1;32min\u001b[0m \u001b[0mlengths\u001b[0m\u001b[1;33m]\u001b[0m\u001b[1;33m\u001b[0m\u001b[1;33m\u001b[0m\u001b[0m\n",
      "\u001b[1;31mValueError\u001b[0m: Found input variables with inconsistent numbers of samples: [7963, 8000]"
     ]
    }
   ],
   "source": [
    "print('Precision : ', precision_score(y_train, y_pred_train, pos_label=\"NO\"),\n",
    "      '\\n Recall score: ', recall_score(y_train, y_pred_train, pos_label=\"NO\"),\n",
    "      '\\n Score :', accuracy_score(y_train, y_pred_train,))\n",
    "print('------------')\n",
    "print('Precision : ', precision_score(y_test, y_pred_test, pos_label=\"NO\"),\n",
    "      '\\n Recall score: ', recall_score(y_test, y_pred_test, pos_label=\"NO\"),\n",
    "      '\\n Score :', accuracy_score(y_test, y_pred_test,))"
   ]
  },
  {
   "cell_type": "code",
   "execution_count": 935,
   "id": "1b621ed7",
   "metadata": {},
   "outputs": [
    {
     "data": {
      "text/plain": [
       "<sklearn.metrics._plot.confusion_matrix.ConfusionMatrixDisplay at 0x2183773d190>"
      ]
     },
     "execution_count": 935,
     "metadata": {},
     "output_type": "execute_result"
    },
    {
     "data": {
      "image/png": "[encoded data removed]",
      "text/plain": [
       "<Figure size 432x288 with 2 Axes>"
      ]
     },
     "metadata": {
      "needs_background": "light"
     },
     "output_type": "display_data"
    }
   ],
   "source": [
    "\n",
    "ConfusionMatrixDisplay.from_predictions(y_test, y_pred_test)"
   ]
  },
  {
   "cell_type": "code",
   "execution_count": 659,
   "id": "407effba",
   "metadata": {},
   "outputs": [],
   "source": [
    "baseline_tree_pipe = Pipeline([('preproc', preproc),\n",
    "                          ('onehotenc', OneHotEncoder(sparse = False, drop = 'first', handle_unknown =  'ignore')),\n",
    "                          ('standardscale', StandardScaler()),\n",
    "                          ('model',DecisionTreeClassifier(splitter='best', max_depth=9,\n",
    "                                                                  min_samples_split=6, min_samples_leaf=12))])"
   ]
  },
  {
   "cell_type": "code",
   "execution_count": 660,
   "id": "db5d4aa0",
   "metadata": {},
   "outputs": [
    {
     "data": {
      "text/html": [
       "<style>#sk-25c3d904-ee45-4b8f-b962-3fecb4a43b30 {color: black;background-color: white;}#sk-25c3d904-ee45-4b8f-b962-3fecb4a43b30 pre{padding: 0;}#sk-25c3d904-ee45-4b8f-b962-3fecb4a43b30 div.sk-toggleable {background-color: white;}#sk-25c3d904-ee45-4b8f-b962-3fecb4a43b30 label.sk-toggleable__label {cursor: pointer;display: block;width: 100%;margin-bottom: 0;padding: 0.3em;box-sizing: border-box;text-align: center;}#sk-25c3d904-ee45-4b8f-b962-3fecb4a43b30 label.sk-toggleable__label-arrow:before {content: \"▸\";float: left;margin-right: 0.25em;color: #696969;}#sk-25c3d904-ee45-4b8f-b962-3fecb4a43b30 label.sk-toggleable__label-arrow:hover:before {color: black;}#sk-25c3d904-ee45-4b8f-b962-3fecb4a43b30 div.sk-estimator:hover label.sk-toggleable__label-arrow:before {color: black;}#sk-25c3d904-ee45-4b8f-b962-3fecb4a43b30 div.sk-toggleable__content {max-height: 0;max-width: 0;overflow: hidden;text-align: left;background-color: #f0f8ff;}#sk-25c3d904-ee45-4b8f-b962-3fecb4a43b30 div.sk-toggleable__content pre {margin: 0.2em;color: black;border-radius: 0.25em;background-color: #f0f8ff;}#sk-25c3d904-ee45-4b8f-b962-3fecb4a43b30 input.sk-toggleable__control:checked~div.sk-toggleable__content {max-height: 200px;max-width: 100%;overflow: auto;}#sk-25c3d904-ee45-4b8f-b962-3fecb4a43b30 input.sk-toggleable__control:checked~label.sk-toggleable__label-arrow:before {content: \"▾\";}#sk-25c3d904-ee45-4b8f-b962-3fecb4a43b30 div.sk-estimator input.sk-toggleable__control:checked~label.sk-toggleable__label {background-color: #d4ebff;}#sk-25c3d904-ee45-4b8f-b962-3fecb4a43b30 div.sk-label input.sk-toggleable__control:checked~label.sk-toggleable__label {background-color: #d4ebff;}#sk-25c3d904-ee45-4b8f-b962-3fecb4a43b30 input.sk-hidden--visually {border: 0;clip: rect(1px 1px 1px 1px);clip: rect(1px, 1px, 1px, 1px);height: 1px;margin: -1px;overflow: hidden;padding: 0;position: absolute;width: 1px;}#sk-25c3d904-ee45-4b8f-b962-3fecb4a43b30 div.sk-estimator {font-family: monospace;background-color: #f0f8ff;border: 1px dotted black;border-radius: 0.25em;box-sizing: border-box;margin-bottom: 0.5em;}#sk-25c3d904-ee45-4b8f-b962-3fecb4a43b30 div.sk-estimator:hover {background-color: #d4ebff;}#sk-25c3d904-ee45-4b8f-b962-3fecb4a43b30 div.sk-parallel-item::after {content: \"\";width: 100%;border-bottom: 1px solid gray;flex-grow: 1;}#sk-25c3d904-ee45-4b8f-b962-3fecb4a43b30 div.sk-label:hover label.sk-toggleable__label {background-color: #d4ebff;}#sk-25c3d904-ee45-4b8f-b962-3fecb4a43b30 div.sk-serial::before {content: \"\";position: absolute;border-left: 1px solid gray;box-sizing: border-box;top: 2em;bottom: 0;left: 50%;}#sk-25c3d904-ee45-4b8f-b962-3fecb4a43b30 div.sk-serial {display: flex;flex-direction: column;align-items: center;background-color: white;padding-right: 0.2em;padding-left: 0.2em;}#sk-25c3d904-ee45-4b8f-b962-3fecb4a43b30 div.sk-item {z-index: 1;}#sk-25c3d904-ee45-4b8f-b962-3fecb4a43b30 div.sk-parallel {display: flex;align-items: stretch;justify-content: center;background-color: white;}#sk-25c3d904-ee45-4b8f-b962-3fecb4a43b30 div.sk-parallel::before {content: \"\";position: absolute;border-left: 1px solid gray;box-sizing: border-box;top: 2em;bottom: 0;left: 50%;}#sk-25c3d904-ee45-4b8f-b962-3fecb4a43b30 div.sk-parallel-item {display: flex;flex-direction: column;position: relative;background-color: white;}#sk-25c3d904-ee45-4b8f-b962-3fecb4a43b30 div.sk-parallel-item:first-child::after {align-self: flex-end;width: 50%;}#sk-25c3d904-ee45-4b8f-b962-3fecb4a43b30 div.sk-parallel-item:last-child::after {align-self: flex-start;width: 50%;}#sk-25c3d904-ee45-4b8f-b962-3fecb4a43b30 div.sk-parallel-item:only-child::after {width: 0;}#sk-25c3d904-ee45-4b8f-b962-3fecb4a43b30 div.sk-dashed-wrapped {border: 1px dashed gray;margin: 0 0.4em 0.5em 0.4em;box-sizing: border-box;padding-bottom: 0.4em;background-color: white;position: relative;}#sk-25c3d904-ee45-4b8f-b962-3fecb4a43b30 div.sk-label label {font-family: monospace;font-weight: bold;background-color: white;display: inline-block;line-height: 1.2em;}#sk-25c3d904-ee45-4b8f-b962-3fecb4a43b30 div.sk-label-container {position: relative;z-index: 2;text-align: center;}#sk-25c3d904-ee45-4b8f-b962-3fecb4a43b30 div.sk-container {/* jupyter's `normalize.less` sets `[hidden] { display: none; }` but bootstrap.min.css set `[hidden] { display: none !important; }` so we also need the `!important` here to be able to override the default hidden behavior on the sphinx rendered scikit-learn.org. See: https://github.com/scikit-learn/scikit-learn/issues/21755 */display: inline-block !important;position: relative;}#sk-25c3d904-ee45-4b8f-b962-3fecb4a43b30 div.sk-text-repr-fallback {display: none;}</style><div id=\"sk-25c3d904-ee45-4b8f-b962-3fecb4a43b30\" class=\"sk-top-container\"><div class=\"sk-text-repr-fallback\"><pre>Pipeline(steps=[(&#x27;preproc&#x27;,\n",
       "                 ColumnTransformer(remainder=&#x27;passthrough&#x27;,\n",
       "                                   transformers=[(&#x27;dlImputer&#x27;,\n",
       "                                                  SimpleImputer(strategy=&#x27;most_frequent&#x27;),\n",
       "                                                  [&#x27;DRIVERS_LICENSE_CLASS&#x27;])])),\n",
       "                (&#x27;onehotenc&#x27;,\n",
       "                 OneHotEncoder(drop=&#x27;first&#x27;, handle_unknown=&#x27;ignore&#x27;,\n",
       "                               sparse=False)),\n",
       "                (&#x27;standardscale&#x27;, StandardScaler()),\n",
       "                (&#x27;model&#x27;,\n",
       "                 DecisionTreeClassifier(max_depth=9, min_samples_leaf=12,\n",
       "                                        min_samples_split=6))])</pre><b>Please rerun this cell to show the HTML repr or trust the notebook.</b></div><div class=\"sk-container\" hidden><div class=\"sk-item sk-dashed-wrapped\"><div class=\"sk-label-container\"><div class=\"sk-label sk-toggleable\"><input class=\"sk-toggleable__control sk-hidden--visually\" id=\"39e010bc-ca50-4dcc-af48-1fc87d9c3738\" type=\"checkbox\" ><label for=\"39e010bc-ca50-4dcc-af48-1fc87d9c3738\" class=\"sk-toggleable__label sk-toggleable__label-arrow\">Pipeline</label><div class=\"sk-toggleable__content\"><pre>Pipeline(steps=[(&#x27;preproc&#x27;,\n",
       "                 ColumnTransformer(remainder=&#x27;passthrough&#x27;,\n",
       "                                   transformers=[(&#x27;dlImputer&#x27;,\n",
       "                                                  SimpleImputer(strategy=&#x27;most_frequent&#x27;),\n",
       "                                                  [&#x27;DRIVERS_LICENSE_CLASS&#x27;])])),\n",
       "                (&#x27;onehotenc&#x27;,\n",
       "                 OneHotEncoder(drop=&#x27;first&#x27;, handle_unknown=&#x27;ignore&#x27;,\n",
       "                               sparse=False)),\n",
       "                (&#x27;standardscale&#x27;, StandardScaler()),\n",
       "                (&#x27;model&#x27;,\n",
       "                 DecisionTreeClassifier(max_depth=9, min_samples_leaf=12,\n",
       "                                        min_samples_split=6))])</pre></div></div></div><div class=\"sk-serial\"><div class=\"sk-item sk-dashed-wrapped\"><div class=\"sk-label-container\"><div class=\"sk-label sk-toggleable\"><input class=\"sk-toggleable__control sk-hidden--visually\" id=\"5a005053-9be2-4a6c-a088-9bc42c67c091\" type=\"checkbox\" ><label for=\"5a005053-9be2-4a6c-a088-9bc42c67c091\" class=\"sk-toggleable__label sk-toggleable__label-arrow\">preproc: ColumnTransformer</label><div class=\"sk-toggleable__content\"><pre>ColumnTransformer(remainder=&#x27;passthrough&#x27;,\n",
       "                  transformers=[(&#x27;dlImputer&#x27;,\n",
       "                                 SimpleImputer(strategy=&#x27;most_frequent&#x27;),\n",
       "                                 [&#x27;DRIVERS_LICENSE_CLASS&#x27;])])</pre></div></div></div><div class=\"sk-parallel\"><div class=\"sk-parallel-item\"><div class=\"sk-item\"><div class=\"sk-label-container\"><div class=\"sk-label sk-toggleable\"><input class=\"sk-toggleable__control sk-hidden--visually\" id=\"b0d1435f-4086-473f-a0d1-cdc172836436\" type=\"checkbox\" ><label for=\"b0d1435f-4086-473f-a0d1-cdc172836436\" class=\"sk-toggleable__label sk-toggleable__label-arrow\">dlImputer</label><div class=\"sk-toggleable__content\"><pre>[&#x27;DRIVERS_LICENSE_CLASS&#x27;]</pre></div></div></div><div class=\"sk-serial\"><div class=\"sk-item\"><div class=\"sk-estimator sk-toggleable\"><input class=\"sk-toggleable__control sk-hidden--visually\" id=\"d3dac26a-b828-46f3-bbeb-395278577d33\" type=\"checkbox\" ><label for=\"d3dac26a-b828-46f3-bbeb-395278577d33\" class=\"sk-toggleable__label sk-toggleable__label-arrow\">SimpleImputer</label><div class=\"sk-toggleable__content\"><pre>SimpleImputer(strategy=&#x27;most_frequent&#x27;)</pre></div></div></div></div></div></div><div class=\"sk-parallel-item\"><div class=\"sk-item\"><div class=\"sk-label-container\"><div class=\"sk-label sk-toggleable\"><input class=\"sk-toggleable__control sk-hidden--visually\" id=\"94948133-aee7-49a7-8bf1-ad62657efefc\" type=\"checkbox\" ><label for=\"94948133-aee7-49a7-8bf1-ad62657efefc\" class=\"sk-toggleable__label sk-toggleable__label-arrow\">remainder</label><div class=\"sk-toggleable__content\"><pre>[&#x27;DEVICE_CONDITION&#x27;, &#x27;FIRST_CRASH_TYPE&#x27;, &#x27;FIRST_CONTACT_POINT&#x27;, &#x27;TRAFFICWAY_TYPE&#x27;, &#x27;ROADWAY_SURFACE_COND&#x27;, &#x27;VEHICLE_DEFECT&#x27;, &#x27;WEATHER_CONDITION&#x27;, &#x27;AGE_GROUP&#x27;, &#x27;PHYSICAL_CONDITION&#x27;, &#x27;MANEUVER&#x27;, &#x27;DRIVER_VISION&#x27;, &#x27;ALIGNMENT&#x27;]</pre></div></div></div><div class=\"sk-serial\"><div class=\"sk-item\"><div class=\"sk-estimator sk-toggleable\"><input class=\"sk-toggleable__control sk-hidden--visually\" id=\"342b5c5f-80d7-4251-a1a3-f61a0d5cd267\" type=\"checkbox\" ><label for=\"342b5c5f-80d7-4251-a1a3-f61a0d5cd267\" class=\"sk-toggleable__label sk-toggleable__label-arrow\">passthrough</label><div class=\"sk-toggleable__content\"><pre>passthrough</pre></div></div></div></div></div></div></div></div><div class=\"sk-item\"><div class=\"sk-estimator sk-toggleable\"><input class=\"sk-toggleable__control sk-hidden--visually\" id=\"565fb877-d54f-4145-95c4-c3bf29fe8025\" type=\"checkbox\" ><label for=\"565fb877-d54f-4145-95c4-c3bf29fe8025\" class=\"sk-toggleable__label sk-toggleable__label-arrow\">OneHotEncoder</label><div class=\"sk-toggleable__content\"><pre>OneHotEncoder(drop=&#x27;first&#x27;, handle_unknown=&#x27;ignore&#x27;, sparse=False)</pre></div></div></div><div class=\"sk-item\"><div class=\"sk-estimator sk-toggleable\"><input class=\"sk-toggleable__control sk-hidden--visually\" id=\"b1acdc3d-b1b2-435e-9479-a2389c1bd645\" type=\"checkbox\" ><label for=\"b1acdc3d-b1b2-435e-9479-a2389c1bd645\" class=\"sk-toggleable__label sk-toggleable__label-arrow\">StandardScaler</label><div class=\"sk-toggleable__content\"><pre>StandardScaler()</pre></div></div></div><div class=\"sk-item\"><div class=\"sk-estimator sk-toggleable\"><input class=\"sk-toggleable__control sk-hidden--visually\" id=\"41f21c38-9bb9-4008-8c65-f7836bcaed73\" type=\"checkbox\" ><label for=\"41f21c38-9bb9-4008-8c65-f7836bcaed73\" class=\"sk-toggleable__label sk-toggleable__label-arrow\">DecisionTreeClassifier</label><div class=\"sk-toggleable__content\"><pre>DecisionTreeClassifier(max_depth=9, min_samples_leaf=12, min_samples_split=6)</pre></div></div></div></div></div></div></div>"
      ],
      "text/plain": [
       "Pipeline(steps=[('preproc',\n",
       "                 ColumnTransformer(remainder='passthrough',\n",
       "                                   transformers=[('dlImputer',\n",
       "                                                  SimpleImputer(strategy='most_frequent'),\n",
       "                                                  ['DRIVERS_LICENSE_CLASS'])])),\n",
       "                ('onehotenc',\n",
       "                 OneHotEncoder(drop='first', handle_unknown='ignore',\n",
       "                               sparse=False)),\n",
       "                ('standardscale', StandardScaler()),\n",
       "                ('model',\n",
       "                 DecisionTreeClassifier(max_depth=9, min_samples_leaf=12,\n",
       "                                        min_samples_split=6))])"
      ]
     },
     "execution_count": 660,
     "metadata": {},
     "output_type": "execute_result"
    }
   ],
   "source": [
    "baseline_tree_pipe.fit(X_train, y_train)"
   ]
  },
  {
   "cell_type": "code",
   "execution_count": 661,
   "id": "2a7bc758",
   "metadata": {},
   "outputs": [
    {
     "name": "stderr",
     "output_type": "stream",
     "text": [
      "C:\\anaconda3\\lib\\site-packages\\sklearn\\preprocessing\\_encoders.py:170: UserWarning: Found unknown categories in columns [6, 10, 11] during transform. These unknown categories will be encoded as all zeros\n",
      "  warnings.warn(\n"
     ]
    }
   ],
   "source": [
    "y_pred_test = baseline_tree_pipe.predict(X_test)\n",
    "y_pred_train = baseline_tree_pipe.predict(X_train)"
   ]
  },
  {
   "cell_type": "code",
   "execution_count": 662,
   "id": "249057ea",
   "metadata": {},
   "outputs": [
    {
     "name": "stdout",
     "output_type": "stream",
     "text": [
      "Precision :  0.731764097258148 \n",
      " Recall score:  0.7486107435829584 \n",
      " Score : 0.751625\n",
      "------------\n",
      "Precision :  0.7176060118089104 \n",
      " Recall score:  0.7241752884459131 \n",
      " Score : 0.7344295095423764\n"
     ]
    }
   ],
   "source": [
    "print('Precision : ', precision_score(y_train, y_pred_train, pos_label=\"NO\"),\n",
    "      '\\n Recall score: ', recall_score(y_train, y_pred_train, pos_label=\"NO\"),\n",
    "      '\\n Score :', accuracy_score(y_train, y_pred_train,))\n",
    "print('------------')\n",
    "print('Precision : ', precision_score(y_test, y_pred_test, pos_label=\"NO\"),\n",
    "      '\\n Recall score: ', recall_score(y_test, y_pred_test, pos_label=\"NO\"),\n",
    "      '\\n Score :', accuracy_score(y_test, y_pred_test,))"
   ]
  },
  {
   "cell_type": "code",
   "execution_count": 663,
   "id": "100662ab",
   "metadata": {},
   "outputs": [
    {
     "name": "stdout",
     "output_type": "stream",
     "text": [
      "[('preproc', ColumnTransformer(remainder='passthrough',\n",
      "                  transformers=[('dlImputer',\n",
      "                                 SimpleImputer(strategy='most_frequent'),\n",
      "                                 ['DRIVERS_LICENSE_CLASS'])])), ('onehotenc', OneHotEncoder(drop='first', handle_unknown='ignore', sparse=False)), ('standardscale', StandardScaler()), ('model', DecisionTreeClassifier(max_depth=9, min_samples_leaf=12, min_samples_split=6))]\n"
     ]
    }
   ],
   "source": [
    "print(baseline_tree_pipe.steps)"
   ]
  },
  {
   "cell_type": "code",
   "execution_count": 936,
   "id": "a156ecd6",
   "metadata": {},
   "outputs": [],
   "source": [
    "pipe_grid = {'model__max_depth': [ 7,8, 9, 10,11],\n",
    "            'model__min_samples_split':[6,7,8,9],'model__min_samples_leaf':[11,12,13]}\n",
    "\n",
    "gs_pipe = GridSearchCV(estimator=baseline_tree_pipe, \n",
    "                       param_grid=pipe_grid, cv=2)"
   ]
  },
  {
   "cell_type": "code",
   "execution_count": 937,
   "id": "d6b9b5b5",
   "metadata": {
    "scrolled": true
   },
   "outputs": [
    {
     "name": "stderr",
     "output_type": "stream",
     "text": [
      "C:\\anaconda3\\lib\\site-packages\\sklearn\\preprocessing\\_encoders.py:170: UserWarning: Found unknown categories in columns [2, 4, 6, 10] during transform. These unknown categories will be encoded as all zeros\n",
      "  warnings.warn(\n",
      "C:\\anaconda3\\lib\\site-packages\\sklearn\\preprocessing\\_encoders.py:170: UserWarning: Found unknown categories in columns [2, 4, 6, 9] during transform. These unknown categories will be encoded as all zeros\n",
      "  warnings.warn(\n",
      "C:\\anaconda3\\lib\\site-packages\\sklearn\\preprocessing\\_encoders.py:170: UserWarning: Found unknown categories in columns [2, 4, 6, 10] during transform. These unknown categories will be encoded as all zeros\n",
      "  warnings.warn(\n",
      "C:\\anaconda3\\lib\\site-packages\\sklearn\\preprocessing\\_encoders.py:170: UserWarning: Found unknown categories in columns [2, 4, 6, 9] during transform. These unknown categories will be encoded as all zeros\n",
      "  warnings.warn(\n",
      "C:\\anaconda3\\lib\\site-packages\\sklearn\\preprocessing\\_encoders.py:170: UserWarning: Found unknown categories in columns [2, 4, 6, 10] during transform. These unknown categories will be encoded as all zeros\n",
      "  warnings.warn(\n",
      "C:\\anaconda3\\lib\\site-packages\\sklearn\\preprocessing\\_encoders.py:170: UserWarning: Found unknown categories in columns [2, 4, 6, 9] during transform. These unknown categories will be encoded as all zeros\n",
      "  warnings.warn(\n",
      "C:\\anaconda3\\lib\\site-packages\\sklearn\\preprocessing\\_encoders.py:170: UserWarning: Found unknown categories in columns [2, 4, 6, 10] during transform. These unknown categories will be encoded as all zeros\n",
      "  warnings.warn(\n",
      "C:\\anaconda3\\lib\\site-packages\\sklearn\\preprocessing\\_encoders.py:170: UserWarning: Found unknown categories in columns [2, 4, 6, 9] during transform. These unknown categories will be encoded as all zeros\n",
      "  warnings.warn(\n",
      "C:\\anaconda3\\lib\\site-packages\\sklearn\\preprocessing\\_encoders.py:170: UserWarning: Found unknown categories in columns [2, 4, 6, 10] during transform. These unknown categories will be encoded as all zeros\n",
      "  warnings.warn(\n",
      "C:\\anaconda3\\lib\\site-packages\\sklearn\\preprocessing\\_encoders.py:170: UserWarning: Found unknown categories in columns [2, 4, 6, 9] during transform. These unknown categories will be encoded as all zeros\n",
      "  warnings.warn(\n",
      "C:\\anaconda3\\lib\\site-packages\\sklearn\\preprocessing\\_encoders.py:170: UserWarning: Found unknown categories in columns [2, 4, 6, 10] during transform. These unknown categories will be encoded as all zeros\n",
      "  warnings.warn(\n",
      "C:\\anaconda3\\lib\\site-packages\\sklearn\\preprocessing\\_encoders.py:170: UserWarning: Found unknown categories in columns [2, 4, 6, 9] during transform. These unknown categories will be encoded as all zeros\n",
      "  warnings.warn(\n",
      "C:\\anaconda3\\lib\\site-packages\\sklearn\\preprocessing\\_encoders.py:170: UserWarning: Found unknown categories in columns [2, 4, 6, 10] during transform. These unknown categories will be encoded as all zeros\n",
      "  warnings.warn(\n",
      "C:\\anaconda3\\lib\\site-packages\\sklearn\\preprocessing\\_encoders.py:170: UserWarning: Found unknown categories in columns [2, 4, 6, 9] during transform. These unknown categories will be encoded as all zeros\n",
      "  warnings.warn(\n",
      "C:\\anaconda3\\lib\\site-packages\\sklearn\\preprocessing\\_encoders.py:170: UserWarning: Found unknown categories in columns [2, 4, 6, 10] during transform. These unknown categories will be encoded as all zeros\n",
      "  warnings.warn(\n",
      "C:\\anaconda3\\lib\\site-packages\\sklearn\\preprocessing\\_encoders.py:170: UserWarning: Found unknown categories in columns [2, 4, 6, 9] during transform. These unknown categories will be encoded as all zeros\n",
      "  warnings.warn(\n",
      "C:\\anaconda3\\lib\\site-packages\\sklearn\\preprocessing\\_encoders.py:170: UserWarning: Found unknown categories in columns [2, 4, 6, 10] during transform. These unknown categories will be encoded as all zeros\n",
      "  warnings.warn(\n",
      "C:\\anaconda3\\lib\\site-packages\\sklearn\\preprocessing\\_encoders.py:170: UserWarning: Found unknown categories in columns [2, 4, 6, 9] during transform. These unknown categories will be encoded as all zeros\n",
      "  warnings.warn(\n",
      "C:\\anaconda3\\lib\\site-packages\\sklearn\\preprocessing\\_encoders.py:170: UserWarning: Found unknown categories in columns [2, 4, 6, 10] during transform. These unknown categories will be encoded as all zeros\n",
      "  warnings.warn(\n",
      "C:\\anaconda3\\lib\\site-packages\\sklearn\\preprocessing\\_encoders.py:170: UserWarning: Found unknown categories in columns [2, 4, 6, 9] during transform. These unknown categories will be encoded as all zeros\n",
      "  warnings.warn(\n",
      "C:\\anaconda3\\lib\\site-packages\\sklearn\\preprocessing\\_encoders.py:170: UserWarning: Found unknown categories in columns [2, 4, 6, 10] during transform. These unknown categories will be encoded as all zeros\n",
      "  warnings.warn(\n",
      "C:\\anaconda3\\lib\\site-packages\\sklearn\\preprocessing\\_encoders.py:170: UserWarning: Found unknown categories in columns [2, 4, 6, 9] during transform. These unknown categories will be encoded as all zeros\n",
      "  warnings.warn(\n",
      "C:\\anaconda3\\lib\\site-packages\\sklearn\\preprocessing\\_encoders.py:170: UserWarning: Found unknown categories in columns [2, 4, 6, 10] during transform. These unknown categories will be encoded as all zeros\n",
      "  warnings.warn(\n",
      "C:\\anaconda3\\lib\\site-packages\\sklearn\\preprocessing\\_encoders.py:170: UserWarning: Found unknown categories in columns [2, 4, 6, 9] during transform. These unknown categories will be encoded as all zeros\n",
      "  warnings.warn(\n",
      "C:\\anaconda3\\lib\\site-packages\\sklearn\\preprocessing\\_encoders.py:170: UserWarning: Found unknown categories in columns [2, 4, 6, 10] during transform. These unknown categories will be encoded as all zeros\n",
      "  warnings.warn(\n",
      "C:\\anaconda3\\lib\\site-packages\\sklearn\\preprocessing\\_encoders.py:170: UserWarning: Found unknown categories in columns [2, 4, 6, 9] during transform. These unknown categories will be encoded as all zeros\n",
      "  warnings.warn(\n",
      "C:\\anaconda3\\lib\\site-packages\\sklearn\\preprocessing\\_encoders.py:170: UserWarning: Found unknown categories in columns [2, 4, 6, 10] during transform. These unknown categories will be encoded as all zeros\n",
      "  warnings.warn(\n",
      "C:\\anaconda3\\lib\\site-packages\\sklearn\\preprocessing\\_encoders.py:170: UserWarning: Found unknown categories in columns [2, 4, 6, 9] during transform. These unknown categories will be encoded as all zeros\n",
      "  warnings.warn(\n",
      "C:\\anaconda3\\lib\\site-packages\\sklearn\\preprocessing\\_encoders.py:170: UserWarning: Found unknown categories in columns [2, 4, 6, 10] during transform. These unknown categories will be encoded as all zeros\n",
      "  warnings.warn(\n",
      "C:\\anaconda3\\lib\\site-packages\\sklearn\\preprocessing\\_encoders.py:170: UserWarning: Found unknown categories in columns [2, 4, 6, 9] during transform. These unknown categories will be encoded as all zeros\n",
      "  warnings.warn(\n",
      "C:\\anaconda3\\lib\\site-packages\\sklearn\\preprocessing\\_encoders.py:170: UserWarning: Found unknown categories in columns [2, 4, 6, 10] during transform. These unknown categories will be encoded as all zeros\n",
      "  warnings.warn(\n",
      "C:\\anaconda3\\lib\\site-packages\\sklearn\\preprocessing\\_encoders.py:170: UserWarning: Found unknown categories in columns [2, 4, 6, 9] during transform. These unknown categories will be encoded as all zeros\n",
      "  warnings.warn(\n",
      "C:\\anaconda3\\lib\\site-packages\\sklearn\\preprocessing\\_encoders.py:170: UserWarning: Found unknown categories in columns [2, 4, 6, 10] during transform. These unknown categories will be encoded as all zeros\n",
      "  warnings.warn(\n",
      "C:\\anaconda3\\lib\\site-packages\\sklearn\\preprocessing\\_encoders.py:170: UserWarning: Found unknown categories in columns [2, 4, 6, 9] during transform. These unknown categories will be encoded as all zeros\n",
      "  warnings.warn(\n",
      "C:\\anaconda3\\lib\\site-packages\\sklearn\\preprocessing\\_encoders.py:170: UserWarning: Found unknown categories in columns [2, 4, 6, 10] during transform. These unknown categories will be encoded as all zeros\n",
      "  warnings.warn(\n",
      "C:\\anaconda3\\lib\\site-packages\\sklearn\\preprocessing\\_encoders.py:170: UserWarning: Found unknown categories in columns [2, 4, 6, 9] during transform. These unknown categories will be encoded as all zeros\n",
      "  warnings.warn(\n",
      "C:\\anaconda3\\lib\\site-packages\\sklearn\\preprocessing\\_encoders.py:170: UserWarning: Found unknown categories in columns [2, 4, 6, 10] during transform. These unknown categories will be encoded as all zeros\n",
      "  warnings.warn(\n"
     ]
    },
    {
     "name": "stderr",
     "output_type": "stream",
     "text": [
      "C:\\anaconda3\\lib\\site-packages\\sklearn\\preprocessing\\_encoders.py:170: UserWarning: Found unknown categories in columns [2, 4, 6, 9] during transform. These unknown categories will be encoded as all zeros\n",
      "  warnings.warn(\n",
      "C:\\anaconda3\\lib\\site-packages\\sklearn\\preprocessing\\_encoders.py:170: UserWarning: Found unknown categories in columns [2, 4, 6, 10] during transform. These unknown categories will be encoded as all zeros\n",
      "  warnings.warn(\n",
      "C:\\anaconda3\\lib\\site-packages\\sklearn\\preprocessing\\_encoders.py:170: UserWarning: Found unknown categories in columns [2, 4, 6, 9] during transform. These unknown categories will be encoded as all zeros\n",
      "  warnings.warn(\n",
      "C:\\anaconda3\\lib\\site-packages\\sklearn\\preprocessing\\_encoders.py:170: UserWarning: Found unknown categories in columns [2, 4, 6, 10] during transform. These unknown categories will be encoded as all zeros\n",
      "  warnings.warn(\n",
      "C:\\anaconda3\\lib\\site-packages\\sklearn\\preprocessing\\_encoders.py:170: UserWarning: Found unknown categories in columns [2, 4, 6, 9] during transform. These unknown categories will be encoded as all zeros\n",
      "  warnings.warn(\n",
      "C:\\anaconda3\\lib\\site-packages\\sklearn\\preprocessing\\_encoders.py:170: UserWarning: Found unknown categories in columns [2, 4, 6, 10] during transform. These unknown categories will be encoded as all zeros\n",
      "  warnings.warn(\n",
      "C:\\anaconda3\\lib\\site-packages\\sklearn\\preprocessing\\_encoders.py:170: UserWarning: Found unknown categories in columns [2, 4, 6, 9] during transform. These unknown categories will be encoded as all zeros\n",
      "  warnings.warn(\n",
      "C:\\anaconda3\\lib\\site-packages\\sklearn\\preprocessing\\_encoders.py:170: UserWarning: Found unknown categories in columns [2, 4, 6, 10] during transform. These unknown categories will be encoded as all zeros\n",
      "  warnings.warn(\n",
      "C:\\anaconda3\\lib\\site-packages\\sklearn\\preprocessing\\_encoders.py:170: UserWarning: Found unknown categories in columns [2, 4, 6, 9] during transform. These unknown categories will be encoded as all zeros\n",
      "  warnings.warn(\n",
      "C:\\anaconda3\\lib\\site-packages\\sklearn\\preprocessing\\_encoders.py:170: UserWarning: Found unknown categories in columns [2, 4, 6, 10] during transform. These unknown categories will be encoded as all zeros\n",
      "  warnings.warn(\n",
      "C:\\anaconda3\\lib\\site-packages\\sklearn\\preprocessing\\_encoders.py:170: UserWarning: Found unknown categories in columns [2, 4, 6, 9] during transform. These unknown categories will be encoded as all zeros\n",
      "  warnings.warn(\n",
      "C:\\anaconda3\\lib\\site-packages\\sklearn\\preprocessing\\_encoders.py:170: UserWarning: Found unknown categories in columns [2, 4, 6, 10] during transform. These unknown categories will be encoded as all zeros\n",
      "  warnings.warn(\n",
      "C:\\anaconda3\\lib\\site-packages\\sklearn\\preprocessing\\_encoders.py:170: UserWarning: Found unknown categories in columns [2, 4, 6, 9] during transform. These unknown categories will be encoded as all zeros\n",
      "  warnings.warn(\n",
      "C:\\anaconda3\\lib\\site-packages\\sklearn\\preprocessing\\_encoders.py:170: UserWarning: Found unknown categories in columns [2, 4, 6, 10] during transform. These unknown categories will be encoded as all zeros\n",
      "  warnings.warn(\n",
      "C:\\anaconda3\\lib\\site-packages\\sklearn\\preprocessing\\_encoders.py:170: UserWarning: Found unknown categories in columns [2, 4, 6, 9] during transform. These unknown categories will be encoded as all zeros\n",
      "  warnings.warn(\n",
      "C:\\anaconda3\\lib\\site-packages\\sklearn\\preprocessing\\_encoders.py:170: UserWarning: Found unknown categories in columns [2, 4, 6, 10] during transform. These unknown categories will be encoded as all zeros\n",
      "  warnings.warn(\n",
      "C:\\anaconda3\\lib\\site-packages\\sklearn\\preprocessing\\_encoders.py:170: UserWarning: Found unknown categories in columns [2, 4, 6, 9] during transform. These unknown categories will be encoded as all zeros\n",
      "  warnings.warn(\n",
      "C:\\anaconda3\\lib\\site-packages\\sklearn\\preprocessing\\_encoders.py:170: UserWarning: Found unknown categories in columns [2, 4, 6, 10] during transform. These unknown categories will be encoded as all zeros\n",
      "  warnings.warn(\n",
      "C:\\anaconda3\\lib\\site-packages\\sklearn\\preprocessing\\_encoders.py:170: UserWarning: Found unknown categories in columns [2, 4, 6, 9] during transform. These unknown categories will be encoded as all zeros\n",
      "  warnings.warn(\n",
      "C:\\anaconda3\\lib\\site-packages\\sklearn\\preprocessing\\_encoders.py:170: UserWarning: Found unknown categories in columns [2, 4, 6, 10] during transform. These unknown categories will be encoded as all zeros\n",
      "  warnings.warn(\n",
      "C:\\anaconda3\\lib\\site-packages\\sklearn\\preprocessing\\_encoders.py:170: UserWarning: Found unknown categories in columns [2, 4, 6, 9] during transform. These unknown categories will be encoded as all zeros\n",
      "  warnings.warn(\n",
      "C:\\anaconda3\\lib\\site-packages\\sklearn\\preprocessing\\_encoders.py:170: UserWarning: Found unknown categories in columns [2, 4, 6, 10] during transform. These unknown categories will be encoded as all zeros\n",
      "  warnings.warn(\n",
      "C:\\anaconda3\\lib\\site-packages\\sklearn\\preprocessing\\_encoders.py:170: UserWarning: Found unknown categories in columns [2, 4, 6, 9] during transform. These unknown categories will be encoded as all zeros\n",
      "  warnings.warn(\n",
      "C:\\anaconda3\\lib\\site-packages\\sklearn\\preprocessing\\_encoders.py:170: UserWarning: Found unknown categories in columns [2, 4, 6, 10] during transform. These unknown categories will be encoded as all zeros\n",
      "  warnings.warn(\n",
      "C:\\anaconda3\\lib\\site-packages\\sklearn\\preprocessing\\_encoders.py:170: UserWarning: Found unknown categories in columns [2, 4, 6, 9] during transform. These unknown categories will be encoded as all zeros\n",
      "  warnings.warn(\n",
      "C:\\anaconda3\\lib\\site-packages\\sklearn\\preprocessing\\_encoders.py:170: UserWarning: Found unknown categories in columns [2, 4, 6, 10] during transform. These unknown categories will be encoded as all zeros\n",
      "  warnings.warn(\n",
      "C:\\anaconda3\\lib\\site-packages\\sklearn\\preprocessing\\_encoders.py:170: UserWarning: Found unknown categories in columns [2, 4, 6, 9] during transform. These unknown categories will be encoded as all zeros\n",
      "  warnings.warn(\n",
      "C:\\anaconda3\\lib\\site-packages\\sklearn\\preprocessing\\_encoders.py:170: UserWarning: Found unknown categories in columns [2, 4, 6, 10] during transform. These unknown categories will be encoded as all zeros\n",
      "  warnings.warn(\n",
      "C:\\anaconda3\\lib\\site-packages\\sklearn\\preprocessing\\_encoders.py:170: UserWarning: Found unknown categories in columns [2, 4, 6, 9] during transform. These unknown categories will be encoded as all zeros\n",
      "  warnings.warn(\n",
      "C:\\anaconda3\\lib\\site-packages\\sklearn\\preprocessing\\_encoders.py:170: UserWarning: Found unknown categories in columns [2, 4, 6, 10] during transform. These unknown categories will be encoded as all zeros\n",
      "  warnings.warn(\n",
      "C:\\anaconda3\\lib\\site-packages\\sklearn\\preprocessing\\_encoders.py:170: UserWarning: Found unknown categories in columns [2, 4, 6, 9] during transform. These unknown categories will be encoded as all zeros\n",
      "  warnings.warn(\n",
      "C:\\anaconda3\\lib\\site-packages\\sklearn\\preprocessing\\_encoders.py:170: UserWarning: Found unknown categories in columns [2, 4, 6, 10] during transform. These unknown categories will be encoded as all zeros\n",
      "  warnings.warn(\n",
      "C:\\anaconda3\\lib\\site-packages\\sklearn\\preprocessing\\_encoders.py:170: UserWarning: Found unknown categories in columns [2, 4, 6, 9] during transform. These unknown categories will be encoded as all zeros\n",
      "  warnings.warn(\n",
      "C:\\anaconda3\\lib\\site-packages\\sklearn\\preprocessing\\_encoders.py:170: UserWarning: Found unknown categories in columns [2, 4, 6, 10] during transform. These unknown categories will be encoded as all zeros\n",
      "  warnings.warn(\n",
      "C:\\anaconda3\\lib\\site-packages\\sklearn\\preprocessing\\_encoders.py:170: UserWarning: Found unknown categories in columns [2, 4, 6, 9] during transform. These unknown categories will be encoded as all zeros\n",
      "  warnings.warn(\n",
      "C:\\anaconda3\\lib\\site-packages\\sklearn\\preprocessing\\_encoders.py:170: UserWarning: Found unknown categories in columns [2, 4, 6, 10] during transform. These unknown categories will be encoded as all zeros\n",
      "  warnings.warn(\n",
      "C:\\anaconda3\\lib\\site-packages\\sklearn\\preprocessing\\_encoders.py:170: UserWarning: Found unknown categories in columns [2, 4, 6, 9] during transform. These unknown categories will be encoded as all zeros\n",
      "  warnings.warn(\n"
     ]
    },
    {
     "name": "stderr",
     "output_type": "stream",
     "text": [
      "C:\\anaconda3\\lib\\site-packages\\sklearn\\preprocessing\\_encoders.py:170: UserWarning: Found unknown categories in columns [2, 4, 6, 10] during transform. These unknown categories will be encoded as all zeros\n",
      "  warnings.warn(\n",
      "C:\\anaconda3\\lib\\site-packages\\sklearn\\preprocessing\\_encoders.py:170: UserWarning: Found unknown categories in columns [2, 4, 6, 9] during transform. These unknown categories will be encoded as all zeros\n",
      "  warnings.warn(\n",
      "C:\\anaconda3\\lib\\site-packages\\sklearn\\preprocessing\\_encoders.py:170: UserWarning: Found unknown categories in columns [2, 4, 6, 10] during transform. These unknown categories will be encoded as all zeros\n",
      "  warnings.warn(\n",
      "C:\\anaconda3\\lib\\site-packages\\sklearn\\preprocessing\\_encoders.py:170: UserWarning: Found unknown categories in columns [2, 4, 6, 9] during transform. These unknown categories will be encoded as all zeros\n",
      "  warnings.warn(\n",
      "C:\\anaconda3\\lib\\site-packages\\sklearn\\preprocessing\\_encoders.py:170: UserWarning: Found unknown categories in columns [2, 4, 6, 10] during transform. These unknown categories will be encoded as all zeros\n",
      "  warnings.warn(\n",
      "C:\\anaconda3\\lib\\site-packages\\sklearn\\preprocessing\\_encoders.py:170: UserWarning: Found unknown categories in columns [2, 4, 6, 9] during transform. These unknown categories will be encoded as all zeros\n",
      "  warnings.warn(\n",
      "C:\\anaconda3\\lib\\site-packages\\sklearn\\preprocessing\\_encoders.py:170: UserWarning: Found unknown categories in columns [2, 4, 6, 10] during transform. These unknown categories will be encoded as all zeros\n",
      "  warnings.warn(\n",
      "C:\\anaconda3\\lib\\site-packages\\sklearn\\preprocessing\\_encoders.py:170: UserWarning: Found unknown categories in columns [2, 4, 6, 9] during transform. These unknown categories will be encoded as all zeros\n",
      "  warnings.warn(\n",
      "C:\\anaconda3\\lib\\site-packages\\sklearn\\preprocessing\\_encoders.py:170: UserWarning: Found unknown categories in columns [2, 4, 6, 10] during transform. These unknown categories will be encoded as all zeros\n",
      "  warnings.warn(\n",
      "C:\\anaconda3\\lib\\site-packages\\sklearn\\preprocessing\\_encoders.py:170: UserWarning: Found unknown categories in columns [2, 4, 6, 9] during transform. These unknown categories will be encoded as all zeros\n",
      "  warnings.warn(\n",
      "C:\\anaconda3\\lib\\site-packages\\sklearn\\preprocessing\\_encoders.py:170: UserWarning: Found unknown categories in columns [2, 4, 6, 10] during transform. These unknown categories will be encoded as all zeros\n",
      "  warnings.warn(\n",
      "C:\\anaconda3\\lib\\site-packages\\sklearn\\preprocessing\\_encoders.py:170: UserWarning: Found unknown categories in columns [2, 4, 6, 9] during transform. These unknown categories will be encoded as all zeros\n",
      "  warnings.warn(\n",
      "C:\\anaconda3\\lib\\site-packages\\sklearn\\preprocessing\\_encoders.py:170: UserWarning: Found unknown categories in columns [2, 4, 6, 10] during transform. These unknown categories will be encoded as all zeros\n",
      "  warnings.warn(\n",
      "C:\\anaconda3\\lib\\site-packages\\sklearn\\preprocessing\\_encoders.py:170: UserWarning: Found unknown categories in columns [2, 4, 6, 9] during transform. These unknown categories will be encoded as all zeros\n",
      "  warnings.warn(\n",
      "C:\\anaconda3\\lib\\site-packages\\sklearn\\preprocessing\\_encoders.py:170: UserWarning: Found unknown categories in columns [2, 4, 6, 10] during transform. These unknown categories will be encoded as all zeros\n",
      "  warnings.warn(\n",
      "C:\\anaconda3\\lib\\site-packages\\sklearn\\preprocessing\\_encoders.py:170: UserWarning: Found unknown categories in columns [2, 4, 6, 9] during transform. These unknown categories will be encoded as all zeros\n",
      "  warnings.warn(\n",
      "C:\\anaconda3\\lib\\site-packages\\sklearn\\preprocessing\\_encoders.py:170: UserWarning: Found unknown categories in columns [2, 4, 6, 10] during transform. These unknown categories will be encoded as all zeros\n",
      "  warnings.warn(\n",
      "C:\\anaconda3\\lib\\site-packages\\sklearn\\preprocessing\\_encoders.py:170: UserWarning: Found unknown categories in columns [2, 4, 6, 9] during transform. These unknown categories will be encoded as all zeros\n",
      "  warnings.warn(\n",
      "C:\\anaconda3\\lib\\site-packages\\sklearn\\preprocessing\\_encoders.py:170: UserWarning: Found unknown categories in columns [2, 4, 6, 10] during transform. These unknown categories will be encoded as all zeros\n",
      "  warnings.warn(\n",
      "C:\\anaconda3\\lib\\site-packages\\sklearn\\preprocessing\\_encoders.py:170: UserWarning: Found unknown categories in columns [2, 4, 6, 9] during transform. These unknown categories will be encoded as all zeros\n",
      "  warnings.warn(\n",
      "C:\\anaconda3\\lib\\site-packages\\sklearn\\preprocessing\\_encoders.py:170: UserWarning: Found unknown categories in columns [2, 4, 6, 10] during transform. These unknown categories will be encoded as all zeros\n",
      "  warnings.warn(\n",
      "C:\\anaconda3\\lib\\site-packages\\sklearn\\preprocessing\\_encoders.py:170: UserWarning: Found unknown categories in columns [2, 4, 6, 9] during transform. These unknown categories will be encoded as all zeros\n",
      "  warnings.warn(\n",
      "C:\\anaconda3\\lib\\site-packages\\sklearn\\preprocessing\\_encoders.py:170: UserWarning: Found unknown categories in columns [2, 4, 6, 10] during transform. These unknown categories will be encoded as all zeros\n",
      "  warnings.warn(\n",
      "C:\\anaconda3\\lib\\site-packages\\sklearn\\preprocessing\\_encoders.py:170: UserWarning: Found unknown categories in columns [2, 4, 6, 9] during transform. These unknown categories will be encoded as all zeros\n",
      "  warnings.warn(\n",
      "C:\\anaconda3\\lib\\site-packages\\sklearn\\preprocessing\\_encoders.py:170: UserWarning: Found unknown categories in columns [2, 4, 6, 10] during transform. These unknown categories will be encoded as all zeros\n",
      "  warnings.warn(\n",
      "C:\\anaconda3\\lib\\site-packages\\sklearn\\preprocessing\\_encoders.py:170: UserWarning: Found unknown categories in columns [2, 4, 6, 9] during transform. These unknown categories will be encoded as all zeros\n",
      "  warnings.warn(\n",
      "C:\\anaconda3\\lib\\site-packages\\sklearn\\preprocessing\\_encoders.py:170: UserWarning: Found unknown categories in columns [2, 4, 6, 10] during transform. These unknown categories will be encoded as all zeros\n",
      "  warnings.warn(\n",
      "C:\\anaconda3\\lib\\site-packages\\sklearn\\preprocessing\\_encoders.py:170: UserWarning: Found unknown categories in columns [2, 4, 6, 9] during transform. These unknown categories will be encoded as all zeros\n",
      "  warnings.warn(\n",
      "C:\\anaconda3\\lib\\site-packages\\sklearn\\preprocessing\\_encoders.py:170: UserWarning: Found unknown categories in columns [2, 4, 6, 10] during transform. These unknown categories will be encoded as all zeros\n",
      "  warnings.warn(\n",
      "C:\\anaconda3\\lib\\site-packages\\sklearn\\preprocessing\\_encoders.py:170: UserWarning: Found unknown categories in columns [2, 4, 6, 9] during transform. These unknown categories will be encoded as all zeros\n",
      "  warnings.warn(\n",
      "C:\\anaconda3\\lib\\site-packages\\sklearn\\preprocessing\\_encoders.py:170: UserWarning: Found unknown categories in columns [2, 4, 6, 10] during transform. These unknown categories will be encoded as all zeros\n",
      "  warnings.warn(\n",
      "C:\\anaconda3\\lib\\site-packages\\sklearn\\preprocessing\\_encoders.py:170: UserWarning: Found unknown categories in columns [2, 4, 6, 9] during transform. These unknown categories will be encoded as all zeros\n",
      "  warnings.warn(\n",
      "C:\\anaconda3\\lib\\site-packages\\sklearn\\preprocessing\\_encoders.py:170: UserWarning: Found unknown categories in columns [2, 4, 6, 10] during transform. These unknown categories will be encoded as all zeros\n",
      "  warnings.warn(\n",
      "C:\\anaconda3\\lib\\site-packages\\sklearn\\preprocessing\\_encoders.py:170: UserWarning: Found unknown categories in columns [2, 4, 6, 9] during transform. These unknown categories will be encoded as all zeros\n",
      "  warnings.warn(\n",
      "C:\\anaconda3\\lib\\site-packages\\sklearn\\preprocessing\\_encoders.py:170: UserWarning: Found unknown categories in columns [2, 4, 6, 10] during transform. These unknown categories will be encoded as all zeros\n",
      "  warnings.warn(\n",
      "C:\\anaconda3\\lib\\site-packages\\sklearn\\preprocessing\\_encoders.py:170: UserWarning: Found unknown categories in columns [2, 4, 6, 9] during transform. These unknown categories will be encoded as all zeros\n",
      "  warnings.warn(\n",
      "C:\\anaconda3\\lib\\site-packages\\sklearn\\preprocessing\\_encoders.py:170: UserWarning: Found unknown categories in columns [2, 4, 6, 10] during transform. These unknown categories will be encoded as all zeros\n",
      "  warnings.warn(\n"
     ]
    },
    {
     "name": "stderr",
     "output_type": "stream",
     "text": [
      "C:\\anaconda3\\lib\\site-packages\\sklearn\\preprocessing\\_encoders.py:170: UserWarning: Found unknown categories in columns [2, 4, 6, 9] during transform. These unknown categories will be encoded as all zeros\n",
      "  warnings.warn(\n",
      "C:\\anaconda3\\lib\\site-packages\\sklearn\\preprocessing\\_encoders.py:170: UserWarning: Found unknown categories in columns [2, 4, 6, 10] during transform. These unknown categories will be encoded as all zeros\n",
      "  warnings.warn(\n",
      "C:\\anaconda3\\lib\\site-packages\\sklearn\\preprocessing\\_encoders.py:170: UserWarning: Found unknown categories in columns [2, 4, 6, 9] during transform. These unknown categories will be encoded as all zeros\n",
      "  warnings.warn(\n",
      "C:\\anaconda3\\lib\\site-packages\\sklearn\\preprocessing\\_encoders.py:170: UserWarning: Found unknown categories in columns [2, 4, 6, 10] during transform. These unknown categories will be encoded as all zeros\n",
      "  warnings.warn(\n",
      "C:\\anaconda3\\lib\\site-packages\\sklearn\\preprocessing\\_encoders.py:170: UserWarning: Found unknown categories in columns [2, 4, 6, 9] during transform. These unknown categories will be encoded as all zeros\n",
      "  warnings.warn(\n",
      "C:\\anaconda3\\lib\\site-packages\\sklearn\\preprocessing\\_encoders.py:170: UserWarning: Found unknown categories in columns [2, 4, 6, 10] during transform. These unknown categories will be encoded as all zeros\n",
      "  warnings.warn(\n",
      "C:\\anaconda3\\lib\\site-packages\\sklearn\\preprocessing\\_encoders.py:170: UserWarning: Found unknown categories in columns [2, 4, 6, 9] during transform. These unknown categories will be encoded as all zeros\n",
      "  warnings.warn(\n",
      "C:\\anaconda3\\lib\\site-packages\\sklearn\\preprocessing\\_encoders.py:170: UserWarning: Found unknown categories in columns [2, 4, 6, 10] during transform. These unknown categories will be encoded as all zeros\n",
      "  warnings.warn(\n",
      "C:\\anaconda3\\lib\\site-packages\\sklearn\\preprocessing\\_encoders.py:170: UserWarning: Found unknown categories in columns [2, 4, 6, 9] during transform. These unknown categories will be encoded as all zeros\n",
      "  warnings.warn(\n"
     ]
    },
    {
     "data": {
      "text/html": [
       "<style>#sk-e447f373-3e7a-4acf-a2a2-8df71bc4f9b6 {color: black;background-color: white;}#sk-e447f373-3e7a-4acf-a2a2-8df71bc4f9b6 pre{padding: 0;}#sk-e447f373-3e7a-4acf-a2a2-8df71bc4f9b6 div.sk-toggleable {background-color: white;}#sk-e447f373-3e7a-4acf-a2a2-8df71bc4f9b6 label.sk-toggleable__label {cursor: pointer;display: block;width: 100%;margin-bottom: 0;padding: 0.3em;box-sizing: border-box;text-align: center;}#sk-e447f373-3e7a-4acf-a2a2-8df71bc4f9b6 label.sk-toggleable__label-arrow:before {content: \"▸\";float: left;margin-right: 0.25em;color: #696969;}#sk-e447f373-3e7a-4acf-a2a2-8df71bc4f9b6 label.sk-toggleable__label-arrow:hover:before {color: black;}#sk-e447f373-3e7a-4acf-a2a2-8df71bc4f9b6 div.sk-estimator:hover label.sk-toggleable__label-arrow:before {color: black;}#sk-e447f373-3e7a-4acf-a2a2-8df71bc4f9b6 div.sk-toggleable__content {max-height: 0;max-width: 0;overflow: hidden;text-align: left;background-color: #f0f8ff;}#sk-e447f373-3e7a-4acf-a2a2-8df71bc4f9b6 div.sk-toggleable__content pre {margin: 0.2em;color: black;border-radius: 0.25em;background-color: #f0f8ff;}#sk-e447f373-3e7a-4acf-a2a2-8df71bc4f9b6 input.sk-toggleable__control:checked~div.sk-toggleable__content {max-height: 200px;max-width: 100%;overflow: auto;}#sk-e447f373-3e7a-4acf-a2a2-8df71bc4f9b6 input.sk-toggleable__control:checked~label.sk-toggleable__label-arrow:before {content: \"▾\";}#sk-e447f373-3e7a-4acf-a2a2-8df71bc4f9b6 div.sk-estimator input.sk-toggleable__control:checked~label.sk-toggleable__label {background-color: #d4ebff;}#sk-e447f373-3e7a-4acf-a2a2-8df71bc4f9b6 div.sk-label input.sk-toggleable__control:checked~label.sk-toggleable__label {background-color: #d4ebff;}#sk-e447f373-3e7a-4acf-a2a2-8df71bc4f9b6 input.sk-hidden--visually {border: 0;clip: rect(1px 1px 1px 1px);clip: rect(1px, 1px, 1px, 1px);height: 1px;margin: -1px;overflow: hidden;padding: 0;position: absolute;width: 1px;}#sk-e447f373-3e7a-4acf-a2a2-8df71bc4f9b6 div.sk-estimator {font-family: monospace;background-color: #f0f8ff;border: 1px dotted black;border-radius: 0.25em;box-sizing: border-box;margin-bottom: 0.5em;}#sk-e447f373-3e7a-4acf-a2a2-8df71bc4f9b6 div.sk-estimator:hover {background-color: #d4ebff;}#sk-e447f373-3e7a-4acf-a2a2-8df71bc4f9b6 div.sk-parallel-item::after {content: \"\";width: 100%;border-bottom: 1px solid gray;flex-grow: 1;}#sk-e447f373-3e7a-4acf-a2a2-8df71bc4f9b6 div.sk-label:hover label.sk-toggleable__label {background-color: #d4ebff;}#sk-e447f373-3e7a-4acf-a2a2-8df71bc4f9b6 div.sk-serial::before {content: \"\";position: absolute;border-left: 1px solid gray;box-sizing: border-box;top: 2em;bottom: 0;left: 50%;}#sk-e447f373-3e7a-4acf-a2a2-8df71bc4f9b6 div.sk-serial {display: flex;flex-direction: column;align-items: center;background-color: white;padding-right: 0.2em;padding-left: 0.2em;}#sk-e447f373-3e7a-4acf-a2a2-8df71bc4f9b6 div.sk-item {z-index: 1;}#sk-e447f373-3e7a-4acf-a2a2-8df71bc4f9b6 div.sk-parallel {display: flex;align-items: stretch;justify-content: center;background-color: white;}#sk-e447f373-3e7a-4acf-a2a2-8df71bc4f9b6 div.sk-parallel::before {content: \"\";position: absolute;border-left: 1px solid gray;box-sizing: border-box;top: 2em;bottom: 0;left: 50%;}#sk-e447f373-3e7a-4acf-a2a2-8df71bc4f9b6 div.sk-parallel-item {display: flex;flex-direction: column;position: relative;background-color: white;}#sk-e447f373-3e7a-4acf-a2a2-8df71bc4f9b6 div.sk-parallel-item:first-child::after {align-self: flex-end;width: 50%;}#sk-e447f373-3e7a-4acf-a2a2-8df71bc4f9b6 div.sk-parallel-item:last-child::after {align-self: flex-start;width: 50%;}#sk-e447f373-3e7a-4acf-a2a2-8df71bc4f9b6 div.sk-parallel-item:only-child::after {width: 0;}#sk-e447f373-3e7a-4acf-a2a2-8df71bc4f9b6 div.sk-dashed-wrapped {border: 1px dashed gray;margin: 0 0.4em 0.5em 0.4em;box-sizing: border-box;padding-bottom: 0.4em;background-color: white;position: relative;}#sk-e447f373-3e7a-4acf-a2a2-8df71bc4f9b6 div.sk-label label {font-family: monospace;font-weight: bold;background-color: white;display: inline-block;line-height: 1.2em;}#sk-e447f373-3e7a-4acf-a2a2-8df71bc4f9b6 div.sk-label-container {position: relative;z-index: 2;text-align: center;}#sk-e447f373-3e7a-4acf-a2a2-8df71bc4f9b6 div.sk-container {/* jupyter's `normalize.less` sets `[hidden] { display: none; }` but bootstrap.min.css set `[hidden] { display: none !important; }` so we also need the `!important` here to be able to override the default hidden behavior on the sphinx rendered scikit-learn.org. See: https://github.com/scikit-learn/scikit-learn/issues/21755 */display: inline-block !important;position: relative;}#sk-e447f373-3e7a-4acf-a2a2-8df71bc4f9b6 div.sk-text-repr-fallback {display: none;}</style><div id=\"sk-e447f373-3e7a-4acf-a2a2-8df71bc4f9b6\" class=\"sk-top-container\"><div class=\"sk-text-repr-fallback\"><pre>GridSearchCV(cv=2,\n",
       "             estimator=Pipeline(steps=[(&#x27;preproc&#x27;,\n",
       "                                        ColumnTransformer(remainder=&#x27;passthrough&#x27;,\n",
       "                                                          transformers=[(&#x27;dlImputer&#x27;,\n",
       "                                                                         SimpleImputer(strategy=&#x27;most_frequent&#x27;),\n",
       "                                                                         [&#x27;DRIVERS_LICENSE_CLASS&#x27;])])),\n",
       "                                       (&#x27;onehotenc&#x27;,\n",
       "                                        OneHotEncoder(drop=&#x27;first&#x27;,\n",
       "                                                      handle_unknown=&#x27;ignore&#x27;,\n",
       "                                                      sparse=False)),\n",
       "                                       (&#x27;standardscale&#x27;, StandardScaler()),\n",
       "                                       (&#x27;model&#x27;,\n",
       "                                        DecisionTreeClassifier(max_depth=9,\n",
       "                                                               min_samples_leaf=12,\n",
       "                                                               min_samples_split=6))]),\n",
       "             param_grid={&#x27;model__max_depth&#x27;: [7, 8, 9, 10, 11],\n",
       "                         &#x27;model__min_samples_leaf&#x27;: [11, 12, 13],\n",
       "                         &#x27;model__min_samples_split&#x27;: [6, 7, 8, 9]})</pre><b>Please rerun this cell to show the HTML repr or trust the notebook.</b></div><div class=\"sk-container\" hidden><div class=\"sk-item sk-dashed-wrapped\"><div class=\"sk-label-container\"><div class=\"sk-label sk-toggleable\"><input class=\"sk-toggleable__control sk-hidden--visually\" id=\"f51bf8ce-36b5-4278-ba5f-b06abf6a5284\" type=\"checkbox\" ><label for=\"f51bf8ce-36b5-4278-ba5f-b06abf6a5284\" class=\"sk-toggleable__label sk-toggleable__label-arrow\">GridSearchCV</label><div class=\"sk-toggleable__content\"><pre>GridSearchCV(cv=2,\n",
       "             estimator=Pipeline(steps=[(&#x27;preproc&#x27;,\n",
       "                                        ColumnTransformer(remainder=&#x27;passthrough&#x27;,\n",
       "                                                          transformers=[(&#x27;dlImputer&#x27;,\n",
       "                                                                         SimpleImputer(strategy=&#x27;most_frequent&#x27;),\n",
       "                                                                         [&#x27;DRIVERS_LICENSE_CLASS&#x27;])])),\n",
       "                                       (&#x27;onehotenc&#x27;,\n",
       "                                        OneHotEncoder(drop=&#x27;first&#x27;,\n",
       "                                                      handle_unknown=&#x27;ignore&#x27;,\n",
       "                                                      sparse=False)),\n",
       "                                       (&#x27;standardscale&#x27;, StandardScaler()),\n",
       "                                       (&#x27;model&#x27;,\n",
       "                                        DecisionTreeClassifier(max_depth=9,\n",
       "                                                               min_samples_leaf=12,\n",
       "                                                               min_samples_split=6))]),\n",
       "             param_grid={&#x27;model__max_depth&#x27;: [7, 8, 9, 10, 11],\n",
       "                         &#x27;model__min_samples_leaf&#x27;: [11, 12, 13],\n",
       "                         &#x27;model__min_samples_split&#x27;: [6, 7, 8, 9]})</pre></div></div></div><div class=\"sk-parallel\"><div class=\"sk-parallel-item\"><div class=\"sk-item\"><div class=\"sk-serial\"><div class=\"sk-item\"><div class=\"sk-serial\"><div class=\"sk-item sk-dashed-wrapped\"><div class=\"sk-label-container\"><div class=\"sk-label sk-toggleable\"><input class=\"sk-toggleable__control sk-hidden--visually\" id=\"a89820b1-f3d8-4d09-8ff8-fdde18b533a9\" type=\"checkbox\" ><label for=\"a89820b1-f3d8-4d09-8ff8-fdde18b533a9\" class=\"sk-toggleable__label sk-toggleable__label-arrow\">preproc: ColumnTransformer</label><div class=\"sk-toggleable__content\"><pre>ColumnTransformer(remainder=&#x27;passthrough&#x27;,\n",
       "                  transformers=[(&#x27;dlImputer&#x27;,\n",
       "                                 SimpleImputer(strategy=&#x27;most_frequent&#x27;),\n",
       "                                 [&#x27;DRIVERS_LICENSE_CLASS&#x27;])])</pre></div></div></div><div class=\"sk-parallel\"><div class=\"sk-parallel-item\"><div class=\"sk-item\"><div class=\"sk-label-container\"><div class=\"sk-label sk-toggleable\"><input class=\"sk-toggleable__control sk-hidden--visually\" id=\"73390bae-d0be-4a47-8bf9-49b762a9fba3\" type=\"checkbox\" ><label for=\"73390bae-d0be-4a47-8bf9-49b762a9fba3\" class=\"sk-toggleable__label sk-toggleable__label-arrow\">dlImputer</label><div class=\"sk-toggleable__content\"><pre>[&#x27;DRIVERS_LICENSE_CLASS&#x27;]</pre></div></div></div><div class=\"sk-serial\"><div class=\"sk-item\"><div class=\"sk-estimator sk-toggleable\"><input class=\"sk-toggleable__control sk-hidden--visually\" id=\"9129c261-7d9d-4a62-aa57-d54b7bd19b7b\" type=\"checkbox\" ><label for=\"9129c261-7d9d-4a62-aa57-d54b7bd19b7b\" class=\"sk-toggleable__label sk-toggleable__label-arrow\">SimpleImputer</label><div class=\"sk-toggleable__content\"><pre>SimpleImputer(strategy=&#x27;most_frequent&#x27;)</pre></div></div></div></div></div></div><div class=\"sk-parallel-item\"><div class=\"sk-item\"><div class=\"sk-label-container\"><div class=\"sk-label sk-toggleable\"><input class=\"sk-toggleable__control sk-hidden--visually\" id=\"6cbb2bd1-92ee-4c35-ae03-73b2c3f62c13\" type=\"checkbox\" ><label for=\"6cbb2bd1-92ee-4c35-ae03-73b2c3f62c13\" class=\"sk-toggleable__label sk-toggleable__label-arrow\">remainder</label><div class=\"sk-toggleable__content\"><pre>[&#x27;DEVICE_CONDITION&#x27;, &#x27;FIRST_CRASH_TYPE&#x27;, &#x27;FIRST_CONTACT_POINT&#x27;, &#x27;TRAFFICWAY_TYPE&#x27;, &#x27;ROADWAY_SURFACE_COND&#x27;, &#x27;VEHICLE_DEFECT&#x27;, &#x27;WEATHER_CONDITION&#x27;, &#x27;AGE_GROUP&#x27;, &#x27;PHYSICAL_CONDITION&#x27;, &#x27;MANEUVER&#x27;, &#x27;DRIVER_VISION&#x27;, &#x27;ALIGNMENT&#x27;]</pre></div></div></div><div class=\"sk-serial\"><div class=\"sk-item\"><div class=\"sk-estimator sk-toggleable\"><input class=\"sk-toggleable__control sk-hidden--visually\" id=\"34bd264f-72bb-40b4-9a99-b586e9f11435\" type=\"checkbox\" ><label for=\"34bd264f-72bb-40b4-9a99-b586e9f11435\" class=\"sk-toggleable__label sk-toggleable__label-arrow\">passthrough</label><div class=\"sk-toggleable__content\"><pre>passthrough</pre></div></div></div></div></div></div></div></div><div class=\"sk-item\"><div class=\"sk-estimator sk-toggleable\"><input class=\"sk-toggleable__control sk-hidden--visually\" id=\"3f7b3f75-5eba-4a1a-b22b-1840bcc7db4e\" type=\"checkbox\" ><label for=\"3f7b3f75-5eba-4a1a-b22b-1840bcc7db4e\" class=\"sk-toggleable__label sk-toggleable__label-arrow\">OneHotEncoder</label><div class=\"sk-toggleable__content\"><pre>OneHotEncoder(drop=&#x27;first&#x27;, handle_unknown=&#x27;ignore&#x27;, sparse=False)</pre></div></div></div><div class=\"sk-item\"><div class=\"sk-estimator sk-toggleable\"><input class=\"sk-toggleable__control sk-hidden--visually\" id=\"397de97b-1c26-4d6b-9694-2e9260a68efe\" type=\"checkbox\" ><label for=\"397de97b-1c26-4d6b-9694-2e9260a68efe\" class=\"sk-toggleable__label sk-toggleable__label-arrow\">StandardScaler</label><div class=\"sk-toggleable__content\"><pre>StandardScaler()</pre></div></div></div><div class=\"sk-item\"><div class=\"sk-estimator sk-toggleable\"><input class=\"sk-toggleable__control sk-hidden--visually\" id=\"e430d651-cb52-4a97-8871-c7be8023d6e4\" type=\"checkbox\" ><label for=\"e430d651-cb52-4a97-8871-c7be8023d6e4\" class=\"sk-toggleable__label sk-toggleable__label-arrow\">DecisionTreeClassifier</label><div class=\"sk-toggleable__content\"><pre>DecisionTreeClassifier(max_depth=9, min_samples_leaf=12, min_samples_split=6)</pre></div></div></div></div></div></div></div></div></div></div></div></div>"
      ],
      "text/plain": [
       "GridSearchCV(cv=2,\n",
       "             estimator=Pipeline(steps=[('preproc',\n",
       "                                        ColumnTransformer(remainder='passthrough',\n",
       "                                                          transformers=[('dlImputer',\n",
       "                                                                         SimpleImputer(strategy='most_frequent'),\n",
       "                                                                         ['DRIVERS_LICENSE_CLASS'])])),\n",
       "                                       ('onehotenc',\n",
       "                                        OneHotEncoder(drop='first',\n",
       "                                                      handle_unknown='ignore',\n",
       "                                                      sparse=False)),\n",
       "                                       ('standardscale', StandardScaler()),\n",
       "                                       ('model',\n",
       "                                        DecisionTreeClassifier(max_depth=9,\n",
       "                                                               min_samples_leaf=12,\n",
       "                                                               min_samples_split=6))]),\n",
       "             param_grid={'model__max_depth': [7, 8, 9, 10, 11],\n",
       "                         'model__min_samples_leaf': [11, 12, 13],\n",
       "                         'model__min_samples_split': [6, 7, 8, 9]})"
      ]
     },
     "execution_count": 937,
     "metadata": {},
     "output_type": "execute_result"
    }
   ],
   "source": [
    "gs_pipe.fit(X_train, y_train)"
   ]
  },
  {
   "cell_type": "code",
   "execution_count": 938,
   "id": "1875aa8a",
   "metadata": {},
   "outputs": [
    {
     "name": "stderr",
     "output_type": "stream",
     "text": [
      "C:\\anaconda3\\lib\\site-packages\\sklearn\\preprocessing\\_encoders.py:170: UserWarning: Found unknown categories in columns [6, 9, 10] during transform. These unknown categories will be encoded as all zeros\n",
      "  warnings.warn(\n"
     ]
    },
    {
     "data": {
      "text/plain": [
       "0.7341454225794298"
      ]
     },
     "execution_count": 938,
     "metadata": {},
     "output_type": "execute_result"
    }
   ],
   "source": [
    "gs_pipe.best_estimator_.score(X_test, y_test)"
   ]
  },
  {
   "cell_type": "code",
   "execution_count": 939,
   "id": "aa2890d4",
   "metadata": {},
   "outputs": [
    {
     "name": "stderr",
     "output_type": "stream",
     "text": [
      "C:\\anaconda3\\lib\\site-packages\\sklearn\\preprocessing\\_encoders.py:170: UserWarning: Found unknown categories in columns [6, 9, 10] during transform. These unknown categories will be encoded as all zeros\n",
      "  warnings.warn(\n"
     ]
    }
   ],
   "source": [
    "y_pred_train=gs_pipe.predict(X_train)\n",
    "y_pred_test=gs_pipe.predict(X_test)"
   ]
  },
  {
   "cell_type": "code",
   "execution_count": 940,
   "id": "281b8213",
   "metadata": {},
   "outputs": [
    {
     "name": "stdout",
     "output_type": "stream",
     "text": [
      "Precision :  0.7044917257683215 \n",
      " Recall score:  0.7925531914893617 \n",
      " Score : 0.74625\n",
      "------------\n",
      "Precision :  0.7005799903334945 \n",
      " Recall score:  0.7675403759597564 \n",
      " Score : 0.7341454225794298\n"
     ]
    }
   ],
   "source": [
    "print('Precision : ', precision_score(y_train, y_pred_train, pos_label=\"NO\"),\n",
    "      '\\n Recall score: ', recall_score(y_train, y_pred_train, pos_label=\"NO\"),\n",
    "      '\\n Score :', accuracy_score(y_train, y_pred_train,))\n",
    "print('------------')\n",
    "print('Precision : ', precision_score(y_test, y_pred_test, pos_label=\"NO\"),\n",
    "      '\\n Recall score: ', recall_score(y_test, y_pred_test, pos_label=\"NO\"),\n",
    "      '\\n Score :', accuracy_score(y_test, y_pred_test,))"
   ]
  },
  {
   "cell_type": "code",
   "execution_count": 941,
   "id": "ae723c02",
   "metadata": {},
   "outputs": [],
   "source": [
    "pipe_grid = {'model__solver': ['newton-cg']}\n",
    "\n",
    "gs_pipe = GridSearchCV(estimator=baseline_pipe, param_grid=pipe_grid, cv=5)"
   ]
  },
  {
   "cell_type": "code",
   "execution_count": 942,
   "id": "3beb43c1",
   "metadata": {},
   "outputs": [
    {
     "data": {
      "text/plain": [
       "0                                        (memory, None)\n",
       "1     (steps, [(preproc, ColumnTransformer(remainder...\n",
       "2                                      (verbose, False)\n",
       "3     (preproc, ColumnTransformer(remainder='passthr...\n",
       "4     (onehotenc, OneHotEncoder(drop='first', handle...\n",
       "5                     (standardscale, StandardScaler())\n",
       "6     (model, LogisticRegression(max_iter=10000, sol...\n",
       "7                               (preproc__n_jobs, None)\n",
       "8                     (preproc__remainder, passthrough)\n",
       "9                      (preproc__sparse_threshold, 0.3)\n",
       "10                 (preproc__transformer_weights, None)\n",
       "11    (preproc__transformers, [(dlImputer, SimpleImp...\n",
       "12                            (preproc__verbose, False)\n",
       "13           (preproc__verbose_feature_names_out, True)\n",
       "14    (preproc__dlImputer, SimpleImputer(strategy='m...\n",
       "15           (preproc__dlImputer__add_indicator, False)\n",
       "16                     (preproc__dlImputer__copy, True)\n",
       "17               (preproc__dlImputer__fill_value, None)\n",
       "18            (preproc__dlImputer__missing_values, nan)\n",
       "19        (preproc__dlImputer__strategy, most_frequent)\n",
       "20                     (preproc__dlImputer__verbose, 0)\n",
       "21                        (onehotenc__categories, auto)\n",
       "22                             (onehotenc__drop, first)\n",
       "23          (onehotenc__dtype, <class 'numpy.float64'>)\n",
       "24                  (onehotenc__handle_unknown, ignore)\n",
       "25                           (onehotenc__sparse, False)\n",
       "26                          (standardscale__copy, True)\n",
       "27                     (standardscale__with_mean, True)\n",
       "28                      (standardscale__with_std, True)\n",
       "29                                      (model__C, 1.0)\n",
       "30                          (model__class_weight, None)\n",
       "31                                 (model__dual, False)\n",
       "32                         (model__fit_intercept, True)\n",
       "33                        (model__intercept_scaling, 1)\n",
       "34                              (model__l1_ratio, None)\n",
       "35                             (model__max_iter, 10000)\n",
       "36                           (model__multi_class, auto)\n",
       "37                                (model__n_jobs, None)\n",
       "38                                 (model__penalty, l2)\n",
       "39                          (model__random_state, None)\n",
       "40                           (model__solver, newton-cg)\n",
       "41                                 (model__tol, 0.0001)\n",
       "42                                  (model__verbose, 0)\n",
       "43                           (model__warm_start, False)\n",
       "dtype: object"
      ]
     },
     "execution_count": 942,
     "metadata": {},
     "output_type": "execute_result"
    }
   ],
   "source": [
    "pd.Series(gs_pipe.estimator.get_params().items())"
   ]
  },
  {
   "cell_type": "code",
   "execution_count": 943,
   "id": "2b5b9c73",
   "metadata": {},
   "outputs": [
    {
     "name": "stderr",
     "output_type": "stream",
     "text": [
      "C:\\anaconda3\\lib\\site-packages\\sklearn\\preprocessing\\_encoders.py:170: UserWarning: Found unknown categories in columns [2, 4, 10] during transform. These unknown categories will be encoded as all zeros\n",
      "  warnings.warn(\n",
      "C:\\anaconda3\\lib\\site-packages\\sklearn\\preprocessing\\_encoders.py:170: UserWarning: Found unknown categories in columns [6] during transform. These unknown categories will be encoded as all zeros\n",
      "  warnings.warn(\n",
      "C:\\anaconda3\\lib\\site-packages\\sklearn\\preprocessing\\_encoders.py:170: UserWarning: Found unknown categories in columns [6] during transform. These unknown categories will be encoded as all zeros\n",
      "  warnings.warn(\n",
      "C:\\anaconda3\\lib\\site-packages\\sklearn\\preprocessing\\_encoders.py:170: UserWarning: Found unknown categories in columns [4] during transform. These unknown categories will be encoded as all zeros\n",
      "  warnings.warn(\n",
      "C:\\anaconda3\\lib\\site-packages\\sklearn\\preprocessing\\_encoders.py:170: UserWarning: Found unknown categories in columns [2, 6] during transform. These unknown categories will be encoded as all zeros\n",
      "  warnings.warn(\n"
     ]
    },
    {
     "data": {
      "text/html": [
       "<style>#sk-1f698878-0b16-4fc6-b5bc-855429212dff {color: black;background-color: white;}#sk-1f698878-0b16-4fc6-b5bc-855429212dff pre{padding: 0;}#sk-1f698878-0b16-4fc6-b5bc-855429212dff div.sk-toggleable {background-color: white;}#sk-1f698878-0b16-4fc6-b5bc-855429212dff label.sk-toggleable__label {cursor: pointer;display: block;width: 100%;margin-bottom: 0;padding: 0.3em;box-sizing: border-box;text-align: center;}#sk-1f698878-0b16-4fc6-b5bc-855429212dff label.sk-toggleable__label-arrow:before {content: \"▸\";float: left;margin-right: 0.25em;color: #696969;}#sk-1f698878-0b16-4fc6-b5bc-855429212dff label.sk-toggleable__label-arrow:hover:before {color: black;}#sk-1f698878-0b16-4fc6-b5bc-855429212dff div.sk-estimator:hover label.sk-toggleable__label-arrow:before {color: black;}#sk-1f698878-0b16-4fc6-b5bc-855429212dff div.sk-toggleable__content {max-height: 0;max-width: 0;overflow: hidden;text-align: left;background-color: #f0f8ff;}#sk-1f698878-0b16-4fc6-b5bc-855429212dff div.sk-toggleable__content pre {margin: 0.2em;color: black;border-radius: 0.25em;background-color: #f0f8ff;}#sk-1f698878-0b16-4fc6-b5bc-855429212dff input.sk-toggleable__control:checked~div.sk-toggleable__content {max-height: 200px;max-width: 100%;overflow: auto;}#sk-1f698878-0b16-4fc6-b5bc-855429212dff input.sk-toggleable__control:checked~label.sk-toggleable__label-arrow:before {content: \"▾\";}#sk-1f698878-0b16-4fc6-b5bc-855429212dff div.sk-estimator input.sk-toggleable__control:checked~label.sk-toggleable__label {background-color: #d4ebff;}#sk-1f698878-0b16-4fc6-b5bc-855429212dff div.sk-label input.sk-toggleable__control:checked~label.sk-toggleable__label {background-color: #d4ebff;}#sk-1f698878-0b16-4fc6-b5bc-855429212dff input.sk-hidden--visually {border: 0;clip: rect(1px 1px 1px 1px);clip: rect(1px, 1px, 1px, 1px);height: 1px;margin: -1px;overflow: hidden;padding: 0;position: absolute;width: 1px;}#sk-1f698878-0b16-4fc6-b5bc-855429212dff div.sk-estimator {font-family: monospace;background-color: #f0f8ff;border: 1px dotted black;border-radius: 0.25em;box-sizing: border-box;margin-bottom: 0.5em;}#sk-1f698878-0b16-4fc6-b5bc-855429212dff div.sk-estimator:hover {background-color: #d4ebff;}#sk-1f698878-0b16-4fc6-b5bc-855429212dff div.sk-parallel-item::after {content: \"\";width: 100%;border-bottom: 1px solid gray;flex-grow: 1;}#sk-1f698878-0b16-4fc6-b5bc-855429212dff div.sk-label:hover label.sk-toggleable__label {background-color: #d4ebff;}#sk-1f698878-0b16-4fc6-b5bc-855429212dff div.sk-serial::before {content: \"\";position: absolute;border-left: 1px solid gray;box-sizing: border-box;top: 2em;bottom: 0;left: 50%;}#sk-1f698878-0b16-4fc6-b5bc-855429212dff div.sk-serial {display: flex;flex-direction: column;align-items: center;background-color: white;padding-right: 0.2em;padding-left: 0.2em;}#sk-1f698878-0b16-4fc6-b5bc-855429212dff div.sk-item {z-index: 1;}#sk-1f698878-0b16-4fc6-b5bc-855429212dff div.sk-parallel {display: flex;align-items: stretch;justify-content: center;background-color: white;}#sk-1f698878-0b16-4fc6-b5bc-855429212dff div.sk-parallel::before {content: \"\";position: absolute;border-left: 1px solid gray;box-sizing: border-box;top: 2em;bottom: 0;left: 50%;}#sk-1f698878-0b16-4fc6-b5bc-855429212dff div.sk-parallel-item {display: flex;flex-direction: column;position: relative;background-color: white;}#sk-1f698878-0b16-4fc6-b5bc-855429212dff div.sk-parallel-item:first-child::after {align-self: flex-end;width: 50%;}#sk-1f698878-0b16-4fc6-b5bc-855429212dff div.sk-parallel-item:last-child::after {align-self: flex-start;width: 50%;}#sk-1f698878-0b16-4fc6-b5bc-855429212dff div.sk-parallel-item:only-child::after {width: 0;}#sk-1f698878-0b16-4fc6-b5bc-855429212dff div.sk-dashed-wrapped {border: 1px dashed gray;margin: 0 0.4em 0.5em 0.4em;box-sizing: border-box;padding-bottom: 0.4em;background-color: white;position: relative;}#sk-1f698878-0b16-4fc6-b5bc-855429212dff div.sk-label label {font-family: monospace;font-weight: bold;background-color: white;display: inline-block;line-height: 1.2em;}#sk-1f698878-0b16-4fc6-b5bc-855429212dff div.sk-label-container {position: relative;z-index: 2;text-align: center;}#sk-1f698878-0b16-4fc6-b5bc-855429212dff div.sk-container {/* jupyter's `normalize.less` sets `[hidden] { display: none; }` but bootstrap.min.css set `[hidden] { display: none !important; }` so we also need the `!important` here to be able to override the default hidden behavior on the sphinx rendered scikit-learn.org. See: https://github.com/scikit-learn/scikit-learn/issues/21755 */display: inline-block !important;position: relative;}#sk-1f698878-0b16-4fc6-b5bc-855429212dff div.sk-text-repr-fallback {display: none;}</style><div id=\"sk-1f698878-0b16-4fc6-b5bc-855429212dff\" class=\"sk-top-container\"><div class=\"sk-text-repr-fallback\"><pre>GridSearchCV(cv=5,\n",
       "             estimator=Pipeline(steps=[(&#x27;preproc&#x27;,\n",
       "                                        ColumnTransformer(remainder=&#x27;passthrough&#x27;,\n",
       "                                                          transformers=[(&#x27;dlImputer&#x27;,\n",
       "                                                                         SimpleImputer(strategy=&#x27;most_frequent&#x27;),\n",
       "                                                                         [&#x27;DRIVERS_LICENSE_CLASS&#x27;])])),\n",
       "                                       (&#x27;onehotenc&#x27;,\n",
       "                                        OneHotEncoder(drop=&#x27;first&#x27;,\n",
       "                                                      handle_unknown=&#x27;ignore&#x27;,\n",
       "                                                      sparse=False)),\n",
       "                                       (&#x27;standardscale&#x27;, StandardScaler()),\n",
       "                                       (&#x27;model&#x27;,\n",
       "                                        LogisticRegression(max_iter=10000,\n",
       "                                                           solver=&#x27;newton-cg&#x27;))]),\n",
       "             param_grid={&#x27;model__solver&#x27;: [&#x27;newton-cg&#x27;]})</pre><b>Please rerun this cell to show the HTML repr or trust the notebook.</b></div><div class=\"sk-container\" hidden><div class=\"sk-item sk-dashed-wrapped\"><div class=\"sk-label-container\"><div class=\"sk-label sk-toggleable\"><input class=\"sk-toggleable__control sk-hidden--visually\" id=\"386f180c-7a5c-45a0-9d06-bbbce246221f\" type=\"checkbox\" ><label for=\"386f180c-7a5c-45a0-9d06-bbbce246221f\" class=\"sk-toggleable__label sk-toggleable__label-arrow\">GridSearchCV</label><div class=\"sk-toggleable__content\"><pre>GridSearchCV(cv=5,\n",
       "             estimator=Pipeline(steps=[(&#x27;preproc&#x27;,\n",
       "                                        ColumnTransformer(remainder=&#x27;passthrough&#x27;,\n",
       "                                                          transformers=[(&#x27;dlImputer&#x27;,\n",
       "                                                                         SimpleImputer(strategy=&#x27;most_frequent&#x27;),\n",
       "                                                                         [&#x27;DRIVERS_LICENSE_CLASS&#x27;])])),\n",
       "                                       (&#x27;onehotenc&#x27;,\n",
       "                                        OneHotEncoder(drop=&#x27;first&#x27;,\n",
       "                                                      handle_unknown=&#x27;ignore&#x27;,\n",
       "                                                      sparse=False)),\n",
       "                                       (&#x27;standardscale&#x27;, StandardScaler()),\n",
       "                                       (&#x27;model&#x27;,\n",
       "                                        LogisticRegression(max_iter=10000,\n",
       "                                                           solver=&#x27;newton-cg&#x27;))]),\n",
       "             param_grid={&#x27;model__solver&#x27;: [&#x27;newton-cg&#x27;]})</pre></div></div></div><div class=\"sk-parallel\"><div class=\"sk-parallel-item\"><div class=\"sk-item\"><div class=\"sk-serial\"><div class=\"sk-item\"><div class=\"sk-serial\"><div class=\"sk-item sk-dashed-wrapped\"><div class=\"sk-label-container\"><div class=\"sk-label sk-toggleable\"><input class=\"sk-toggleable__control sk-hidden--visually\" id=\"8b607a79-1ae7-4b17-97d8-69fb81385f78\" type=\"checkbox\" ><label for=\"8b607a79-1ae7-4b17-97d8-69fb81385f78\" class=\"sk-toggleable__label sk-toggleable__label-arrow\">preproc: ColumnTransformer</label><div class=\"sk-toggleable__content\"><pre>ColumnTransformer(remainder=&#x27;passthrough&#x27;,\n",
       "                  transformers=[(&#x27;dlImputer&#x27;,\n",
       "                                 SimpleImputer(strategy=&#x27;most_frequent&#x27;),\n",
       "                                 [&#x27;DRIVERS_LICENSE_CLASS&#x27;])])</pre></div></div></div><div class=\"sk-parallel\"><div class=\"sk-parallel-item\"><div class=\"sk-item\"><div class=\"sk-label-container\"><div class=\"sk-label sk-toggleable\"><input class=\"sk-toggleable__control sk-hidden--visually\" id=\"aaabd6cb-e56a-4820-b164-486cf95f6ae9\" type=\"checkbox\" ><label for=\"aaabd6cb-e56a-4820-b164-486cf95f6ae9\" class=\"sk-toggleable__label sk-toggleable__label-arrow\">dlImputer</label><div class=\"sk-toggleable__content\"><pre>[&#x27;DRIVERS_LICENSE_CLASS&#x27;]</pre></div></div></div><div class=\"sk-serial\"><div class=\"sk-item\"><div class=\"sk-estimator sk-toggleable\"><input class=\"sk-toggleable__control sk-hidden--visually\" id=\"7df2b1fa-d962-4a62-925b-1dfac32ebe79\" type=\"checkbox\" ><label for=\"7df2b1fa-d962-4a62-925b-1dfac32ebe79\" class=\"sk-toggleable__label sk-toggleable__label-arrow\">SimpleImputer</label><div class=\"sk-toggleable__content\"><pre>SimpleImputer(strategy=&#x27;most_frequent&#x27;)</pre></div></div></div></div></div></div><div class=\"sk-parallel-item\"><div class=\"sk-item\"><div class=\"sk-label-container\"><div class=\"sk-label sk-toggleable\"><input class=\"sk-toggleable__control sk-hidden--visually\" id=\"0382cfa9-dc11-4adc-8cb0-0b286664e6c4\" type=\"checkbox\" ><label for=\"0382cfa9-dc11-4adc-8cb0-0b286664e6c4\" class=\"sk-toggleable__label sk-toggleable__label-arrow\">remainder</label><div class=\"sk-toggleable__content\"><pre>[&#x27;DEVICE_CONDITION&#x27;, &#x27;FIRST_CRASH_TYPE&#x27;, &#x27;FIRST_CONTACT_POINT&#x27;, &#x27;TRAFFICWAY_TYPE&#x27;, &#x27;ROADWAY_SURFACE_COND&#x27;, &#x27;VEHICLE_DEFECT&#x27;, &#x27;AGE_GROUP&#x27;, &#x27;PHYSICAL_CONDITION&#x27;, &#x27;MANEUVER&#x27;, &#x27;DRIVER_VISION&#x27;, &#x27;ALIGNMENT&#x27;]</pre></div></div></div><div class=\"sk-serial\"><div class=\"sk-item\"><div class=\"sk-estimator sk-toggleable\"><input class=\"sk-toggleable__control sk-hidden--visually\" id=\"6cde7f2c-aea5-42fd-869d-ad89c4a12a70\" type=\"checkbox\" ><label for=\"6cde7f2c-aea5-42fd-869d-ad89c4a12a70\" class=\"sk-toggleable__label sk-toggleable__label-arrow\">passthrough</label><div class=\"sk-toggleable__content\"><pre>passthrough</pre></div></div></div></div></div></div></div></div><div class=\"sk-item\"><div class=\"sk-estimator sk-toggleable\"><input class=\"sk-toggleable__control sk-hidden--visually\" id=\"662cf468-25f0-423c-b80a-3d5e5671c6d0\" type=\"checkbox\" ><label for=\"662cf468-25f0-423c-b80a-3d5e5671c6d0\" class=\"sk-toggleable__label sk-toggleable__label-arrow\">OneHotEncoder</label><div class=\"sk-toggleable__content\"><pre>OneHotEncoder(drop=&#x27;first&#x27;, handle_unknown=&#x27;ignore&#x27;, sparse=False)</pre></div></div></div><div class=\"sk-item\"><div class=\"sk-estimator sk-toggleable\"><input class=\"sk-toggleable__control sk-hidden--visually\" id=\"db54e9dc-1f47-4e71-a16a-157d1c1eaf5d\" type=\"checkbox\" ><label for=\"db54e9dc-1f47-4e71-a16a-157d1c1eaf5d\" class=\"sk-toggleable__label sk-toggleable__label-arrow\">StandardScaler</label><div class=\"sk-toggleable__content\"><pre>StandardScaler()</pre></div></div></div><div class=\"sk-item\"><div class=\"sk-estimator sk-toggleable\"><input class=\"sk-toggleable__control sk-hidden--visually\" id=\"d3859511-b145-4fc2-b044-15fba1de4548\" type=\"checkbox\" ><label for=\"d3859511-b145-4fc2-b044-15fba1de4548\" class=\"sk-toggleable__label sk-toggleable__label-arrow\">LogisticRegression</label><div class=\"sk-toggleable__content\"><pre>LogisticRegression(max_iter=10000, solver=&#x27;newton-cg&#x27;)</pre></div></div></div></div></div></div></div></div></div></div></div></div>"
      ],
      "text/plain": [
       "GridSearchCV(cv=5,\n",
       "             estimator=Pipeline(steps=[('preproc',\n",
       "                                        ColumnTransformer(remainder='passthrough',\n",
       "                                                          transformers=[('dlImputer',\n",
       "                                                                         SimpleImputer(strategy='most_frequent'),\n",
       "                                                                         ['DRIVERS_LICENSE_CLASS'])])),\n",
       "                                       ('onehotenc',\n",
       "                                        OneHotEncoder(drop='first',\n",
       "                                                      handle_unknown='ignore',\n",
       "                                                      sparse=False)),\n",
       "                                       ('standardscale', StandardScaler()),\n",
       "                                       ('model',\n",
       "                                        LogisticRegression(max_iter=10000,\n",
       "                                                           solver='newton-cg'))]),\n",
       "             param_grid={'model__solver': ['newton-cg']})"
      ]
     },
     "execution_count": 943,
     "metadata": {},
     "output_type": "execute_result"
    }
   ],
   "source": [
    "gs_pipe.fit(X_train, y_train)"
   ]
  },
  {
   "cell_type": "code",
   "execution_count": 944,
   "id": "ba283367",
   "metadata": {},
   "outputs": [
    {
     "data": {
      "text/plain": [
       "{'model__solver': 'newton-cg'}"
      ]
     },
     "execution_count": 944,
     "metadata": {},
     "output_type": "execute_result"
    }
   ],
   "source": [
    "gs_pipe.best_params_"
   ]
  },
  {
   "cell_type": "code",
   "execution_count": 945,
   "id": "fe9f9dca",
   "metadata": {},
   "outputs": [
    {
     "name": "stderr",
     "output_type": "stream",
     "text": [
      "C:\\anaconda3\\lib\\site-packages\\sklearn\\preprocessing\\_encoders.py:170: UserWarning: Found unknown categories in columns [6, 9, 10] during transform. These unknown categories will be encoded as all zeros\n",
      "  warnings.warn(\n"
     ]
    }
   ],
   "source": [
    "y_pred_train=gs_pipe.predict(X_train)\n",
    "y_pred_test=gs_pipe.predict(X_test)"
   ]
  },
  {
   "cell_type": "code",
   "execution_count": 946,
   "id": "fa4e7f74",
   "metadata": {},
   "outputs": [
    {
     "name": "stdout",
     "output_type": "stream",
     "text": [
      "Precision :  0.7426838913788558 \n",
      " Recall score:  0.7492021276595745 \n",
      " Score : 0.760125\n",
      "------------\n",
      "Precision :  0.7400587136375767 \n",
      " Recall score:  0.7341805665872385 \n",
      " Score : 0.7516011553434635\n"
     ]
    }
   ],
   "source": [
    "print('Precision : ', precision_score(y_train, y_pred_train, pos_label=\"NO\"),\n",
    "      '\\n Recall score: ', recall_score(y_train, y_pred_train, pos_label=\"NO\"),\n",
    "      '\\n Score :', accuracy_score(y_train, y_pred_train,))\n",
    "print('------------')\n",
    "print('Precision : ', precision_score(y_test, y_pred_test, pos_label=\"NO\"),\n",
    "      '\\n Recall score: ', recall_score(y_test, y_pred_test, pos_label=\"NO\"),\n",
    "      '\\n Score :', accuracy_score(y_test, y_pred_test,))"
   ]
  },
  {
   "cell_type": "code",
   "execution_count": null,
   "id": "b47bad70",
   "metadata": {},
   "outputs": [],
   "source": []
  }
 ],
 "metadata": {
  "kernelspec": {
   "display_name": "Python 3 (ipykernel)",
   "language": "python",
   "name": "python3"
  },
  "language_info": {
   "codemirror_mode": {
    "name": "ipython",
    "version": 3
   },
   "file_extension": ".py",
   "mimetype": "text/x-python",
   "name": "python",
   "nbconvert_exporter": "python",
   "pygments_lexer": "ipython3",
   "version": "3.9.7"
  }
 },
 "nbformat": 4,
 "nbformat_minor": 5
}
