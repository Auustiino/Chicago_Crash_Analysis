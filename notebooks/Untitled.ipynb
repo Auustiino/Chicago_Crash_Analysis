{
 "cells": [
  {
   "cell_type": "code",
   "execution_count": null,
   "id": "a5f355e8",
   "metadata": {},
   "outputs": [],
   "source": [
    "import joblib\n",
    "import pickle\n",
    "\n",
    "from sklearn.base import BaseEstimator, TransformerMixin\n",
    "\n",
    "class DataFrameSelector(BaseEstimator, TransformerMixin):\n",
    "    def __init__(self, attribute_names):\n",
    "        self.attribute_names=attribute_names\n",
    "    def fit(self, X, y=None):\n",
    "        return self\n",
    "    def transform(self, X):\n",
    "        return X[self.attribute_names].values\n",
    "    \n",
    "\n",
    "model_dic={}\n",
    "\n",
    "joblib_file='XGB_models.pkl'\n",
    "pkl_file_name='XGB_models.pikle'\n",
    "\n",
    "with open (pkl_file_name, 'rb') as file:\n",
    "    model_dic=pickle.load(file)"
   ]
  },
  {
   "cell_type": "code",
   "execution_count": null,
   "id": "102e0e6b",
   "metadata": {},
   "outputs": [],
   "source": []
  }
 ],
 "metadata": {
  "kernelspec": {
   "display_name": "Python 3 (ipykernel)",
   "language": "python",
   "name": "python3"
  }
 },
 "nbformat": 4,
 "nbformat_minor": 5
}
