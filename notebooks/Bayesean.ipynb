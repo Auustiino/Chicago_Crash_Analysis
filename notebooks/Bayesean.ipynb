{
 "cells": [
  {
   "cell_type": "code",
   "execution_count": 3,
   "id": "bdd7f0a4",
   "metadata": {},
   "outputs": [],
   "source": [
    "#from sklearn.experimental import enable_iterative_imputer\n",
    "#from sklearn.preprocessing import FunctionTransformer\n",
    "import pandas as pd\n",
    "import numpy as np\n",
    "\n",
    "from sklearn.impute import SimpleImputer #, IterativeImputer\n",
    "from sklearn.preprocessing import LabelEncoder, OrdinalEncoder, OneHotEncoder, StandardScaler, MaxAbsScaler\n",
    "\n",
    "from sklearn.metrics import precision_score, recall_score, accuracy_score, classification_report, ConfusionMatrixDisplay\n",
    "from sklearn.metrics import roc_auc_score, roc_curve, auc, SCORERS\n",
    "from sklearn.linear_model import LogisticRegression\n",
    "from sklearn.compose import ColumnTransformer\n",
    "from sklearn.pipeline import FeatureUnion, Pipeline\n",
    "from sklearn.model_selection import GridSearchCV, train_test_split\n",
    "from sklearn.tree import DecisionTreeClassifier\n",
    "from sklearn.ensemble import BaggingClassifier, RandomForestClassifier, ExtraTreesClassifier\n",
    "\n",
    "from sklearn.discriminant_analysis import QuadraticDiscriminantAnalysis\n",
    "from sklearn import set_config\n",
    "set_config(display =\"diagram\")\n",
    "\n",
    "import matplotlib.pyplot as plt\n",
    "%matplotlib inline"
   ]
  },
  {
   "cell_type": "code",
   "execution_count": 4,
   "id": "4457d4f8",
   "metadata": {},
   "outputs": [],
   "source": [
    "\n",
    "full_df=pd.read_csv('../data/processed/crashes.gz', compression='gzip', low_memory=False)"
   ]
  },
  {
   "cell_type": "code",
   "execution_count": 124,
   "id": "9df39de9",
   "metadata": {},
   "outputs": [],
   "source": [
    "sample_df=full_df.sample(8000, random_state=100)\n",
    "#sample_df=df.copy()\n",
    "\n",
    "y = sample_df['GUILTY']\n",
    "x = sample_df.drop(['GUILTY'],axis=1)\n",
    "\n",
    "X_train, X_test, y_train, y_test = train_test_split(x, y, random_state=100, test_size=0.25, stratify=y)\n"
   ]
  },
  {
   "cell_type": "code",
   "execution_count": 125,
   "id": "fc23606f",
   "metadata": {},
   "outputs": [],
   "source": [
    "numeric_columns = []\n",
    "\n",
    "nominal_columns = [ 'FIRST_CRASH_TYPE', 'FIRST_CONTACT_POINT', 'MANEUVER'] \n",
    "\n",
    "# 'AIRBAG_DEPLOYED',  'PHYSICAL_CONDITION', 'AGE_GROUP', 'VEHICLE_AGE', 'DRIVERS_LICENSE_CLASS', \n",
    "#, 'TRAFFICWAY_TYPE', ,'SUN_GLARE' , 'AGE',\n",
    "#'ALIGNMENT' ,  'DEVICE_CONDITION','DRIVER_VISION',\n",
    "#'NUM_PASSENGERS' , \n",
    "# 'SAFETY_EQUIPMENT',  'ROAD_DEFECT', 'ROADWAY_SURFACE_COND', \n",
    "#'TRAFFIC_CONTROL_DEVICE', \n",
    "###'VEHICLE_DEFECT', \n",
    "\n",
    "X_train = X_train[numeric_columns+nominal_columns]\n",
    "X_test = X_test[numeric_columns+nominal_columns]\n",
    "\n",
    "#X_train.info()\n",
    "\n",
    "X_train=X_train.apply(LabelEncoder().fit_transform)\n",
    "X_test=X_test.apply(LabelEncoder().fit_transform)"
   ]
  },
  {
   "cell_type": "code",
   "execution_count": 126,
   "id": "5250519d",
   "metadata": {},
   "outputs": [],
   "source": [
    "from sklearn.base import BaseEstimator, TransformerMixin\n",
    "\n",
    "class DataFrameSelector(BaseEstimator, TransformerMixin):\n",
    "    def __init__(self, attribute_names):\n",
    "        self.attribute_names=attribute_names\n",
    "    def fit(self, X, y=None):\n",
    "        return self\n",
    "    def transform(self, X):\n",
    "        return X[self.attribute_names].values\n",
    "    \n",
    "    \n",
    "\n",
    "num_pipeline = Pipeline([\n",
    "        ('selector', DataFrameSelector(numeric_columns)),\n",
    "        ('imputer', SimpleImputer(strategy = 'constant', fill_value=0))\n",
    " #       ('std_scaler', StandardScaler())\n",
    "    ])\n",
    "\n",
    "cat_pipeline = Pipeline([\n",
    "        ('selector', DataFrameSelector(nominal_columns)),\n",
    "#        ('imputer', SimpleImputer(strategy = 'constant', fill_value='NA')),\n",
    "#        ('cat_encoder', OneHotEncoder(sparse=False, handle_unknown =  'ignore' )),\n",
    "    ])\n",
    "\n",
    "\n",
    "fu = FeatureUnion(transformer_list=[\n",
    "#        (\"num_pipeline\", num_pipeline),\n",
    "        (\"cat_pipeline\", cat_pipeline),\n",
    "    ])\n",
    "\n",
    "\n"
   ]
  },
  {
   "cell_type": "code",
   "execution_count": 127,
   "id": "af5566be",
   "metadata": {
    "scrolled": true
   },
   "outputs": [],
   "source": [
    "#X_train_transformed = fu.fit_transform(X_train[numeric_columns+nominal_columns])\n",
    "#X_train.info(verbose=True, show_counts=True)\n",
    "\n",
    "#columns=fu.transformer_list[1][1][2].get_feature_names_out()\n",
    "#columns=np.insert(columns, 0, 'Intercept')\n",
    "#transformed_df=pd.DataFrame(X_train_transformed, columns=X_train[numeric_columns+nominal_columns].columns)\n",
    "transformed_df=pd.DataFrame(X_train_transformed)\n",
    "\n",
    "#transformed_df.info()\n",
    "#transformed_df.info(verbose=True, show_counts=True)\n"
   ]
  },
  {
   "cell_type": "code",
   "execution_count": 128,
   "id": "e919d0b5",
   "metadata": {},
   "outputs": [],
   "source": [
    "from sklearn.naive_bayes import GaussianNB\n",
    "bayesian_pipe = Pipeline([\n",
    "                          ('fu', fu),\n",
    "#                           ('label_encoder', ModifiedLabelEncoder),\n",
    "                          ('model', BaggingClassifier(QuadraticDiscriminantAnalysis(), \n",
    "                                                      n_estimators=100, ))\n",
    " \n",
    "                              ])\n"
   ]
  },
  {
   "cell_type": "code",
   "execution_count": 129,
   "id": "b140fb67",
   "metadata": {},
   "outputs": [],
   "source": [
    "pipe_grid = {}\n",
    "\n",
    "#pipe_grid = {'model__criterion': ['gini', 'entropy']}\n",
    "\n",
    "gs_pipe = GridSearchCV(estimator=bayesian_pipe,\n",
    "                       param_grid=pipe_grid, cv=5)\n",
    "\n",
    "\n",
    "#pd.DataFrame(SCORERS.values())"
   ]
  },
  {
   "cell_type": "code",
   "execution_count": 130,
   "id": "be49a0ca",
   "metadata": {},
   "outputs": [
    {
     "data": {
      "text/html": [
       "<style>#sk-d7d42812-3280-4c3a-a887-89d020668feb {color: black;background-color: white;}#sk-d7d42812-3280-4c3a-a887-89d020668feb pre{padding: 0;}#sk-d7d42812-3280-4c3a-a887-89d020668feb div.sk-toggleable {background-color: white;}#sk-d7d42812-3280-4c3a-a887-89d020668feb label.sk-toggleable__label {cursor: pointer;display: block;width: 100%;margin-bottom: 0;padding: 0.3em;box-sizing: border-box;text-align: center;}#sk-d7d42812-3280-4c3a-a887-89d020668feb label.sk-toggleable__label-arrow:before {content: \"▸\";float: left;margin-right: 0.25em;color: #696969;}#sk-d7d42812-3280-4c3a-a887-89d020668feb label.sk-toggleable__label-arrow:hover:before {color: black;}#sk-d7d42812-3280-4c3a-a887-89d020668feb div.sk-estimator:hover label.sk-toggleable__label-arrow:before {color: black;}#sk-d7d42812-3280-4c3a-a887-89d020668feb div.sk-toggleable__content {max-height: 0;max-width: 0;overflow: hidden;text-align: left;background-color: #f0f8ff;}#sk-d7d42812-3280-4c3a-a887-89d020668feb div.sk-toggleable__content pre {margin: 0.2em;color: black;border-radius: 0.25em;background-color: #f0f8ff;}#sk-d7d42812-3280-4c3a-a887-89d020668feb input.sk-toggleable__control:checked~div.sk-toggleable__content {max-height: 200px;max-width: 100%;overflow: auto;}#sk-d7d42812-3280-4c3a-a887-89d020668feb input.sk-toggleable__control:checked~label.sk-toggleable__label-arrow:before {content: \"▾\";}#sk-d7d42812-3280-4c3a-a887-89d020668feb div.sk-estimator input.sk-toggleable__control:checked~label.sk-toggleable__label {background-color: #d4ebff;}#sk-d7d42812-3280-4c3a-a887-89d020668feb div.sk-label input.sk-toggleable__control:checked~label.sk-toggleable__label {background-color: #d4ebff;}#sk-d7d42812-3280-4c3a-a887-89d020668feb input.sk-hidden--visually {border: 0;clip: rect(1px 1px 1px 1px);clip: rect(1px, 1px, 1px, 1px);height: 1px;margin: -1px;overflow: hidden;padding: 0;position: absolute;width: 1px;}#sk-d7d42812-3280-4c3a-a887-89d020668feb div.sk-estimator {font-family: monospace;background-color: #f0f8ff;border: 1px dotted black;border-radius: 0.25em;box-sizing: border-box;margin-bottom: 0.5em;}#sk-d7d42812-3280-4c3a-a887-89d020668feb div.sk-estimator:hover {background-color: #d4ebff;}#sk-d7d42812-3280-4c3a-a887-89d020668feb div.sk-parallel-item::after {content: \"\";width: 100%;border-bottom: 1px solid gray;flex-grow: 1;}#sk-d7d42812-3280-4c3a-a887-89d020668feb div.sk-label:hover label.sk-toggleable__label {background-color: #d4ebff;}#sk-d7d42812-3280-4c3a-a887-89d020668feb div.sk-serial::before {content: \"\";position: absolute;border-left: 1px solid gray;box-sizing: border-box;top: 2em;bottom: 0;left: 50%;}#sk-d7d42812-3280-4c3a-a887-89d020668feb div.sk-serial {display: flex;flex-direction: column;align-items: center;background-color: white;padding-right: 0.2em;padding-left: 0.2em;}#sk-d7d42812-3280-4c3a-a887-89d020668feb div.sk-item {z-index: 1;}#sk-d7d42812-3280-4c3a-a887-89d020668feb div.sk-parallel {display: flex;align-items: stretch;justify-content: center;background-color: white;}#sk-d7d42812-3280-4c3a-a887-89d020668feb div.sk-parallel::before {content: \"\";position: absolute;border-left: 1px solid gray;box-sizing: border-box;top: 2em;bottom: 0;left: 50%;}#sk-d7d42812-3280-4c3a-a887-89d020668feb div.sk-parallel-item {display: flex;flex-direction: column;position: relative;background-color: white;}#sk-d7d42812-3280-4c3a-a887-89d020668feb div.sk-parallel-item:first-child::after {align-self: flex-end;width: 50%;}#sk-d7d42812-3280-4c3a-a887-89d020668feb div.sk-parallel-item:last-child::after {align-self: flex-start;width: 50%;}#sk-d7d42812-3280-4c3a-a887-89d020668feb div.sk-parallel-item:only-child::after {width: 0;}#sk-d7d42812-3280-4c3a-a887-89d020668feb div.sk-dashed-wrapped {border: 1px dashed gray;margin: 0 0.4em 0.5em 0.4em;box-sizing: border-box;padding-bottom: 0.4em;background-color: white;position: relative;}#sk-d7d42812-3280-4c3a-a887-89d020668feb div.sk-label label {font-family: monospace;font-weight: bold;background-color: white;display: inline-block;line-height: 1.2em;}#sk-d7d42812-3280-4c3a-a887-89d020668feb div.sk-label-container {position: relative;z-index: 2;text-align: center;}#sk-d7d42812-3280-4c3a-a887-89d020668feb div.sk-container {/* jupyter's `normalize.less` sets `[hidden] { display: none; }` but bootstrap.min.css set `[hidden] { display: none !important; }` so we also need the `!important` here to be able to override the default hidden behavior on the sphinx rendered scikit-learn.org. See: https://github.com/scikit-learn/scikit-learn/issues/21755 */display: inline-block !important;position: relative;}#sk-d7d42812-3280-4c3a-a887-89d020668feb div.sk-text-repr-fallback {display: none;}</style><div id=\"sk-d7d42812-3280-4c3a-a887-89d020668feb\" class=\"sk-top-container\"><div class=\"sk-text-repr-fallback\"><pre>GridSearchCV(cv=5,\n",
       "             estimator=Pipeline(steps=[(&#x27;fu&#x27;,\n",
       "                                        FeatureUnion(transformer_list=[(&#x27;cat_pipeline&#x27;,\n",
       "                                                                        Pipeline(steps=[(&#x27;selector&#x27;,\n",
       "                                                                                         DataFrameSelector(attribute_names=[&#x27;FIRST_CRASH_TYPE&#x27;,\n",
       "                                                                                                                            &#x27;FIRST_CONTACT_POINT&#x27;,\n",
       "                                                                                                                            &#x27;MANEUVER&#x27;]))]))])),\n",
       "                                       (&#x27;model&#x27;,\n",
       "                                        BaggingClassifier(base_estimator=QuadraticDiscriminantAnalysis(),\n",
       "                                                          n_estimators=100))]),\n",
       "             param_grid={})</pre><b>Please rerun this cell to show the HTML repr or trust the notebook.</b></div><div class=\"sk-container\" hidden><div class=\"sk-item sk-dashed-wrapped\"><div class=\"sk-label-container\"><div class=\"sk-label sk-toggleable\"><input class=\"sk-toggleable__control sk-hidden--visually\" id=\"c2200232-1c46-4538-b444-118b53ce721f\" type=\"checkbox\" ><label for=\"c2200232-1c46-4538-b444-118b53ce721f\" class=\"sk-toggleable__label sk-toggleable__label-arrow\">GridSearchCV</label><div class=\"sk-toggleable__content\"><pre>GridSearchCV(cv=5,\n",
       "             estimator=Pipeline(steps=[(&#x27;fu&#x27;,\n",
       "                                        FeatureUnion(transformer_list=[(&#x27;cat_pipeline&#x27;,\n",
       "                                                                        Pipeline(steps=[(&#x27;selector&#x27;,\n",
       "                                                                                         DataFrameSelector(attribute_names=[&#x27;FIRST_CRASH_TYPE&#x27;,\n",
       "                                                                                                                            &#x27;FIRST_CONTACT_POINT&#x27;,\n",
       "                                                                                                                            &#x27;MANEUVER&#x27;]))]))])),\n",
       "                                       (&#x27;model&#x27;,\n",
       "                                        BaggingClassifier(base_estimator=QuadraticDiscriminantAnalysis(),\n",
       "                                                          n_estimators=100))]),\n",
       "             param_grid={})</pre></div></div></div><div class=\"sk-parallel\"><div class=\"sk-parallel-item\"><div class=\"sk-item\"><div class=\"sk-serial\"><div class=\"sk-item\"><div class=\"sk-serial\"><div class=\"sk-item sk-dashed-wrapped\"><div class=\"sk-label-container\"><div class=\"sk-label sk-toggleable\"><input class=\"sk-toggleable__control sk-hidden--visually\" id=\"06cdc9bb-b794-4682-a796-dd57f54a75c7\" type=\"checkbox\" ><label for=\"06cdc9bb-b794-4682-a796-dd57f54a75c7\" class=\"sk-toggleable__label sk-toggleable__label-arrow\">fu: FeatureUnion</label><div class=\"sk-toggleable__content\"><pre>FeatureUnion(transformer_list=[(&#x27;cat_pipeline&#x27;,\n",
       "                                Pipeline(steps=[(&#x27;selector&#x27;,\n",
       "                                                 DataFrameSelector(attribute_names=[&#x27;FIRST_CRASH_TYPE&#x27;,\n",
       "                                                                                    &#x27;FIRST_CONTACT_POINT&#x27;,\n",
       "                                                                                    &#x27;MANEUVER&#x27;]))]))])</pre></div></div></div><div class=\"sk-parallel\"><div class=\"sk-parallel-item\"><div class=\"sk-item\"><div class=\"sk-label-container\"><div class=\"sk-label sk-toggleable\"><label>cat_pipeline</label></div></div><div class=\"sk-serial\"><div class=\"sk-item\"><div class=\"sk-serial\"><div class=\"sk-item\"><div class=\"sk-estimator sk-toggleable\"><input class=\"sk-toggleable__control sk-hidden--visually\" id=\"b92e1207-98ac-4841-b739-3378ba20f70b\" type=\"checkbox\" ><label for=\"b92e1207-98ac-4841-b739-3378ba20f70b\" class=\"sk-toggleable__label sk-toggleable__label-arrow\">DataFrameSelector</label><div class=\"sk-toggleable__content\"><pre>DataFrameSelector(attribute_names=[&#x27;FIRST_CRASH_TYPE&#x27;, &#x27;FIRST_CONTACT_POINT&#x27;,\n",
       "                                   &#x27;MANEUVER&#x27;])</pre></div></div></div></div></div></div></div></div></div></div><div class=\"sk-item sk-dashed-wrapped\"><div class=\"sk-label-container\"><div class=\"sk-label sk-toggleable\"><input class=\"sk-toggleable__control sk-hidden--visually\" id=\"f0983a9c-b95a-4ac2-b8a2-b6a5c703b657\" type=\"checkbox\" ><label for=\"f0983a9c-b95a-4ac2-b8a2-b6a5c703b657\" class=\"sk-toggleable__label sk-toggleable__label-arrow\">model: BaggingClassifier</label><div class=\"sk-toggleable__content\"><pre>BaggingClassifier(base_estimator=QuadraticDiscriminantAnalysis(),\n",
       "                  n_estimators=100)</pre></div></div></div><div class=\"sk-parallel\"><div class=\"sk-parallel-item\"><div class=\"sk-item\"><div class=\"sk-serial\"><div class=\"sk-item\"><div class=\"sk-estimator sk-toggleable\"><input class=\"sk-toggleable__control sk-hidden--visually\" id=\"81e9d54c-3a56-4b36-8f76-b73a2973f975\" type=\"checkbox\" ><label for=\"81e9d54c-3a56-4b36-8f76-b73a2973f975\" class=\"sk-toggleable__label sk-toggleable__label-arrow\">QuadraticDiscriminantAnalysis</label><div class=\"sk-toggleable__content\"><pre>QuadraticDiscriminantAnalysis()</pre></div></div></div></div></div></div></div></div></div></div></div></div></div></div></div></div></div>"
      ],
      "text/plain": [
       "GridSearchCV(cv=5,\n",
       "             estimator=Pipeline(steps=[('fu',\n",
       "                                        FeatureUnion(transformer_list=[('cat_pipeline',\n",
       "                                                                        Pipeline(steps=[('selector',\n",
       "                                                                                         DataFrameSelector(attribute_names=['FIRST_CRASH_TYPE',\n",
       "                                                                                                                            'FIRST_CONTACT_POINT',\n",
       "                                                                                                                            'MANEUVER']))]))])),\n",
       "                                       ('model',\n",
       "                                        BaggingClassifier(base_estimator=QuadraticDiscriminantAnalysis(),\n",
       "                                                          n_estimators=100))]),\n",
       "             param_grid={})"
      ]
     },
     "execution_count": 130,
     "metadata": {},
     "output_type": "execute_result"
    }
   ],
   "source": [
    "gs_pipe.fit(X_train, y_train)"
   ]
  },
  {
   "cell_type": "code",
   "execution_count": 131,
   "id": "8cb65859",
   "metadata": {},
   "outputs": [],
   "source": [
    "y_pred_train=gs_pipe.predict(X_train)\n",
    "y_pred_test=gs_pipe.predict(X_test)"
   ]
  },
  {
   "cell_type": "code",
   "execution_count": 132,
   "id": "6046a1de",
   "metadata": {},
   "outputs": [
    {
     "data": {
      "text/plain": [
       "{}"
      ]
     },
     "execution_count": 132,
     "metadata": {},
     "output_type": "execute_result"
    }
   ],
   "source": [
    "gs_pipe.best_params_\n"
   ]
  },
  {
   "cell_type": "code",
   "execution_count": 133,
   "id": "6e60211c",
   "metadata": {},
   "outputs": [
    {
     "name": "stdout",
     "output_type": "stream",
     "text": [
      "0.7141666666666666\n",
      "              precision    recall  f1-score   support\n",
      "\n",
      "           0       0.71      0.94      0.81      3951\n",
      "           1       0.71      0.28      0.40      2049\n",
      "\n",
      "    accuracy                           0.71      6000\n",
      "   macro avg       0.71      0.61      0.61      6000\n",
      "weighted avg       0.71      0.71      0.67      6000\n",
      "\n",
      "------------\n",
      "              precision    recall  f1-score   support\n",
      "\n",
      "           0       0.71      0.95      0.81      1317\n",
      "           1       0.73      0.25      0.37       683\n",
      "\n",
      "    accuracy                           0.71      2000\n",
      "   macro avg       0.72      0.60      0.59      2000\n",
      "weighted avg       0.72      0.71      0.66      2000\n",
      "\n"
     ]
    }
   ],
   "source": [
    "print(gs_pipe.score(X_train, y_train ))\n",
    "print(classification_report(y_train, y_pred_train))\n",
    "print('------------')\n",
    "print(classification_report(y_test, y_pred_test))"
   ]
  },
  {
   "cell_type": "code",
   "execution_count": null,
   "id": "b7edebf5",
   "metadata": {},
   "outputs": [],
   "source": []
  }
 ],
 "metadata": {
  "kernelspec": {
   "display_name": "Python 3 (ipykernel)",
   "language": "python",
   "name": "python3"
  },
  "language_info": {
   "codemirror_mode": {
    "name": "ipython",
    "version": 3
   },
   "file_extension": ".py",
   "mimetype": "text/x-python",
   "name": "python",
   "nbconvert_exporter": "python",
   "pygments_lexer": "ipython3",
   "version": "3.9.7"
  }
 },
 "nbformat": 4,
 "nbformat_minor": 5
}
