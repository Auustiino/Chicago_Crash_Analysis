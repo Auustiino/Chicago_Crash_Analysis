{
 "cells": [
  {
   "cell_type": "code",
   "execution_count": 3,
   "id": "bdd7f0a4",
   "metadata": {},
   "outputs": [],
   "source": [
    "#from sklearn.experimental import enable_iterative_imputer\n",
    "#from sklearn.preprocessing import FunctionTransformer\n",
    "import pandas as pd\n",
    "import numpy as np\n",
    "\n",
    "from sklearn.impute import SimpleImputer #, IterativeImputer\n",
    "from sklearn.preprocessing import LabelEncoder, OrdinalEncoder, OneHotEncoder, StandardScaler, MaxAbsScaler\n",
    "\n",
    "from sklearn.metrics import precision_score, recall_score, accuracy_score, classification_report, ConfusionMatrixDisplay\n",
    "from sklearn.metrics import roc_auc_score, roc_curve, auc, SCORERS\n",
    "from sklearn.linear_model import LogisticRegression\n",
    "from sklearn.compose import ColumnTransformer\n",
    "from sklearn.pipeline import FeatureUnion, Pipeline\n",
    "from sklearn.model_selection import GridSearchCV, train_test_split\n",
    "from sklearn.tree import DecisionTreeClassifier\n",
    "from sklearn.ensemble import BaggingClassifier, RandomForestClassifier, ExtraTreesClassifier\n",
    "\n",
    "from sklearn.discriminant_analysis import QuadraticDiscriminantAnalysis\n",
    "from sklearn import set_config\n",
    "set_config(display =\"diagram\")\n",
    "\n",
    "import matplotlib.pyplot as plt\n",
    "%matplotlib inline"
   ]
  },
  {
   "cell_type": "code",
   "execution_count": 4,
   "id": "4457d4f8",
   "metadata": {},
   "outputs": [],
   "source": [
    "\n",
    "full_df=pd.read_csv('../data/processed/crashes.gz', compression='gzip', low_memory=False)"
   ]
  },
  {
   "cell_type": "code",
   "execution_count": 108,
   "id": "9df39de9",
   "metadata": {},
   "outputs": [],
   "source": [
    "sample_df=full_df.sample(8000, random_state=100)\n",
    "#sample_df=df.copy()\n",
    "\n",
    "y = sample_df['GUILTY']\n",
    "x = sample_df.drop(['GUILTY'],axis=1)\n",
    "\n",
    "X_train, X_test, y_train, y_test = train_test_split(x, y, random_state=100, test_size=0.25, stratify=y)\n"
   ]
  },
  {
   "cell_type": "code",
   "execution_count": 109,
   "id": "fc23606f",
   "metadata": {},
   "outputs": [],
   "source": [
    "numeric_columns = ['NUM_PASSENGERS','SUN_GLARE']\n",
    "\n",
    "nominal_columns = ['DEVICE_CONDITION', 'FIRST_CRASH_TYPE', 'FIRST_CONTACT_POINT', \n",
    "           'TRAFFICWAY_TYPE','ROADWAY_SURFACE_COND','VEHICLE_DEFECT',\n",
    "             'DRIVERS_LICENSE_CLASS', 'AGE_GROUP', 'VEHICLE_AGE', 'AIRBAG_DEPLOYED',\n",
    "            'PHYSICAL_CONDITION', 'MANEUVER',  'DRIVER_VISION',  'ALIGNMENT' ,  'TRAFFIC_CONTROL_DEVICE']\n",
    "\n",
    "\n",
    "X_train=X_train[numeric_columns+nominal_columns]\n",
    "X_test=X_test[numeric_columns+nominal_columns]\n",
    "\n",
    "X_train=X_train.apply(LabelEncoder().fit_transform)\n",
    "X_test=X_test.apply(LabelEncoder().fit_transform)"
   ]
  },
  {
   "cell_type": "code",
   "execution_count": 110,
   "id": "5250519d",
   "metadata": {},
   "outputs": [],
   "source": [
    "from sklearn.base import BaseEstimator, TransformerMixin\n",
    "\n",
    "class DataFrameSelector(BaseEstimator, TransformerMixin):\n",
    "    def __init__(self, attribute_names):\n",
    "        self.attribute_names=attribute_names\n",
    "    def fit(self, X, y=None):\n",
    "        return self\n",
    "    def transform(self, X):\n",
    "        return X[self.attribute_names].values\n",
    "    \n",
    "    \n",
    "\n",
    "num_pipeline = Pipeline([\n",
    "        ('selector', DataFrameSelector(numeric_columns)),\n",
    "        ('imputer', SimpleImputer(strategy = 'constant', fill_value=0))\n",
    " #       ('std_scaler', StandardScaler())\n",
    "    ])\n",
    "\n",
    "cat_pipeline = Pipeline([\n",
    "        ('selector', DataFrameSelector(nominal_columns)),\n",
    "#        ('imputer', SimpleImputer(strategy = 'constant', fill_value='NA')),\n",
    "#        ('cat_encoder', OneHotEncoder(sparse=False, handle_unknown =  'ignore' )),\n",
    "    ])\n",
    "\n",
    "\n",
    "fu = FeatureUnion(transformer_list=[\n",
    "        (\"num_pipeline\", num_pipeline),\n",
    "        (\"cat_pipeline\", cat_pipeline),\n",
    "    ])\n",
    "\n",
    "\n"
   ]
  },
  {
   "cell_type": "code",
   "execution_count": 111,
   "id": "af5566be",
   "metadata": {
    "scrolled": true
   },
   "outputs": [],
   "source": [
    "#X_train_transformed = fu.fit_transform(X_train[numeric_columns+nominal_columns])\n",
    "#X_train.info(verbose=True, show_counts=True)\n",
    "\n",
    "#columns=fu.transformer_list[1][1][2].get_feature_names_out()\n",
    "#columns=np.insert(columns, 0, 'Intercept')\n",
    "#transformed_df=pd.DataFrame(X_train_transformed, columns=X_train[numeric_columns+nominal_columns].columns)\n",
    "transformed_df=pd.DataFrame(X_train_transformed)\n",
    "\n",
    "#transformed_df.info()\n",
    "#transformed_df.info(verbose=True, show_counts=True)\n"
   ]
  },
  {
   "cell_type": "code",
   "execution_count": 118,
   "id": "e919d0b5",
   "metadata": {},
   "outputs": [],
   "source": [
    "from sklearn.naive_bayes import GaussianNB\n",
    "bayesian_pipe = Pipeline([\n",
    "                          ('fu', fu),\n",
    "#                           ('label_encoder', ModifiedLabelEncoder),\n",
    "                          ('model', BaggingClassifier(QuadraticDiscriminantAnalysis(), \n",
    "                                                      n_estimators=100, ))\n",
    " \n",
    "                              ])\n"
   ]
  },
  {
   "cell_type": "code",
   "execution_count": 119,
   "id": "b140fb67",
   "metadata": {},
   "outputs": [],
   "source": [
    "pipe_grid = {}\n",
    "\n",
    "#pipe_grid = {'model__criterion': ['gini', 'entropy']}\n",
    "\n",
    "gs_pipe = GridSearchCV(estimator=bayesian_pipe,\n",
    "                       param_grid=pipe_grid, cv=5)\n",
    "\n",
    "\n",
    "#pd.DataFrame(SCORERS.values())"
   ]
  },
  {
   "cell_type": "code",
   "execution_count": 120,
   "id": "be49a0ca",
   "metadata": {},
   "outputs": [
    {
     "data": {
      "text/html": [
       "<style>#sk-12ddf820-f7f6-433d-858e-bd4728c794c1 {color: black;background-color: white;}#sk-12ddf820-f7f6-433d-858e-bd4728c794c1 pre{padding: 0;}#sk-12ddf820-f7f6-433d-858e-bd4728c794c1 div.sk-toggleable {background-color: white;}#sk-12ddf820-f7f6-433d-858e-bd4728c794c1 label.sk-toggleable__label {cursor: pointer;display: block;width: 100%;margin-bottom: 0;padding: 0.3em;box-sizing: border-box;text-align: center;}#sk-12ddf820-f7f6-433d-858e-bd4728c794c1 label.sk-toggleable__label-arrow:before {content: \"▸\";float: left;margin-right: 0.25em;color: #696969;}#sk-12ddf820-f7f6-433d-858e-bd4728c794c1 label.sk-toggleable__label-arrow:hover:before {color: black;}#sk-12ddf820-f7f6-433d-858e-bd4728c794c1 div.sk-estimator:hover label.sk-toggleable__label-arrow:before {color: black;}#sk-12ddf820-f7f6-433d-858e-bd4728c794c1 div.sk-toggleable__content {max-height: 0;max-width: 0;overflow: hidden;text-align: left;background-color: #f0f8ff;}#sk-12ddf820-f7f6-433d-858e-bd4728c794c1 div.sk-toggleable__content pre {margin: 0.2em;color: black;border-radius: 0.25em;background-color: #f0f8ff;}#sk-12ddf820-f7f6-433d-858e-bd4728c794c1 input.sk-toggleable__control:checked~div.sk-toggleable__content {max-height: 200px;max-width: 100%;overflow: auto;}#sk-12ddf820-f7f6-433d-858e-bd4728c794c1 input.sk-toggleable__control:checked~label.sk-toggleable__label-arrow:before {content: \"▾\";}#sk-12ddf820-f7f6-433d-858e-bd4728c794c1 div.sk-estimator input.sk-toggleable__control:checked~label.sk-toggleable__label {background-color: #d4ebff;}#sk-12ddf820-f7f6-433d-858e-bd4728c794c1 div.sk-label input.sk-toggleable__control:checked~label.sk-toggleable__label {background-color: #d4ebff;}#sk-12ddf820-f7f6-433d-858e-bd4728c794c1 input.sk-hidden--visually {border: 0;clip: rect(1px 1px 1px 1px);clip: rect(1px, 1px, 1px, 1px);height: 1px;margin: -1px;overflow: hidden;padding: 0;position: absolute;width: 1px;}#sk-12ddf820-f7f6-433d-858e-bd4728c794c1 div.sk-estimator {font-family: monospace;background-color: #f0f8ff;border: 1px dotted black;border-radius: 0.25em;box-sizing: border-box;margin-bottom: 0.5em;}#sk-12ddf820-f7f6-433d-858e-bd4728c794c1 div.sk-estimator:hover {background-color: #d4ebff;}#sk-12ddf820-f7f6-433d-858e-bd4728c794c1 div.sk-parallel-item::after {content: \"\";width: 100%;border-bottom: 1px solid gray;flex-grow: 1;}#sk-12ddf820-f7f6-433d-858e-bd4728c794c1 div.sk-label:hover label.sk-toggleable__label {background-color: #d4ebff;}#sk-12ddf820-f7f6-433d-858e-bd4728c794c1 div.sk-serial::before {content: \"\";position: absolute;border-left: 1px solid gray;box-sizing: border-box;top: 2em;bottom: 0;left: 50%;}#sk-12ddf820-f7f6-433d-858e-bd4728c794c1 div.sk-serial {display: flex;flex-direction: column;align-items: center;background-color: white;padding-right: 0.2em;padding-left: 0.2em;}#sk-12ddf820-f7f6-433d-858e-bd4728c794c1 div.sk-item {z-index: 1;}#sk-12ddf820-f7f6-433d-858e-bd4728c794c1 div.sk-parallel {display: flex;align-items: stretch;justify-content: center;background-color: white;}#sk-12ddf820-f7f6-433d-858e-bd4728c794c1 div.sk-parallel::before {content: \"\";position: absolute;border-left: 1px solid gray;box-sizing: border-box;top: 2em;bottom: 0;left: 50%;}#sk-12ddf820-f7f6-433d-858e-bd4728c794c1 div.sk-parallel-item {display: flex;flex-direction: column;position: relative;background-color: white;}#sk-12ddf820-f7f6-433d-858e-bd4728c794c1 div.sk-parallel-item:first-child::after {align-self: flex-end;width: 50%;}#sk-12ddf820-f7f6-433d-858e-bd4728c794c1 div.sk-parallel-item:last-child::after {align-self: flex-start;width: 50%;}#sk-12ddf820-f7f6-433d-858e-bd4728c794c1 div.sk-parallel-item:only-child::after {width: 0;}#sk-12ddf820-f7f6-433d-858e-bd4728c794c1 div.sk-dashed-wrapped {border: 1px dashed gray;margin: 0 0.4em 0.5em 0.4em;box-sizing: border-box;padding-bottom: 0.4em;background-color: white;position: relative;}#sk-12ddf820-f7f6-433d-858e-bd4728c794c1 div.sk-label label {font-family: monospace;font-weight: bold;background-color: white;display: inline-block;line-height: 1.2em;}#sk-12ddf820-f7f6-433d-858e-bd4728c794c1 div.sk-label-container {position: relative;z-index: 2;text-align: center;}#sk-12ddf820-f7f6-433d-858e-bd4728c794c1 div.sk-container {/* jupyter's `normalize.less` sets `[hidden] { display: none; }` but bootstrap.min.css set `[hidden] { display: none !important; }` so we also need the `!important` here to be able to override the default hidden behavior on the sphinx rendered scikit-learn.org. See: https://github.com/scikit-learn/scikit-learn/issues/21755 */display: inline-block !important;position: relative;}#sk-12ddf820-f7f6-433d-858e-bd4728c794c1 div.sk-text-repr-fallback {display: none;}</style><div id=\"sk-12ddf820-f7f6-433d-858e-bd4728c794c1\" class=\"sk-top-container\"><div class=\"sk-text-repr-fallback\"><pre>GridSearchCV(cv=5,\n",
       "             estimator=Pipeline(steps=[(&#x27;fu&#x27;,\n",
       "                                        FeatureUnion(transformer_list=[(&#x27;num_pipeline&#x27;,\n",
       "                                                                        Pipeline(steps=[(&#x27;selector&#x27;,\n",
       "                                                                                         DataFrameSelector(attribute_names=[&#x27;NUM_PASSENGERS&#x27;,\n",
       "                                                                                                                            &#x27;SUN_GLARE&#x27;])),\n",
       "                                                                                        (&#x27;imputer&#x27;,\n",
       "                                                                                         SimpleImputer(fill_value=0,\n",
       "                                                                                                       strategy=&#x27;constant&#x27;))])),\n",
       "                                                                       (&#x27;cat_pipeline&#x27;,\n",
       "                                                                        Pipeline(steps=[(&#x27;selector&#x27;,\n",
       "                                                                                         DataFrameSelector(attribute_names=[&#x27;DEVICE_CONDITIO...\n",
       "                                                                                                                            &#x27;FIRST_CONTACT_POINT&#x27;,\n",
       "                                                                                                                            &#x27;TRAFFICWAY_TYPE&#x27;,\n",
       "                                                                                                                            &#x27;ROADWAY_SURFACE_COND&#x27;,\n",
       "                                                                                                                            &#x27;VEHICLE_DEFECT&#x27;,\n",
       "                                                                                                                            &#x27;DRIVERS_LICENSE_CLASS&#x27;,\n",
       "                                                                                                                            &#x27;AGE_GROUP&#x27;,\n",
       "                                                                                                                            &#x27;VEHICLE_AGE&#x27;,\n",
       "                                                                                                                            &#x27;AIRBAG_DEPLOYED&#x27;,\n",
       "                                                                                                                            &#x27;PHYSICAL_CONDITION&#x27;,\n",
       "                                                                                                                            &#x27;MANEUVER&#x27;,\n",
       "                                                                                                                            &#x27;DRIVER_VISION&#x27;,\n",
       "                                                                                                                            &#x27;ALIGNMENT&#x27;,\n",
       "                                                                                                                            &#x27;TRAFFIC_CONTROL_DEVICE&#x27;]))]))])),\n",
       "                                       (&#x27;model&#x27;,\n",
       "                                        BaggingClassifier(base_estimator=QuadraticDiscriminantAnalysis(),\n",
       "                                                          n_estimators=100))]),\n",
       "             param_grid={})</pre><b>Please rerun this cell to show the HTML repr or trust the notebook.</b></div><div class=\"sk-container\" hidden><div class=\"sk-item sk-dashed-wrapped\"><div class=\"sk-label-container\"><div class=\"sk-label sk-toggleable\"><input class=\"sk-toggleable__control sk-hidden--visually\" id=\"32e41699-f200-4a6c-9d64-3afedb0799b6\" type=\"checkbox\" ><label for=\"32e41699-f200-4a6c-9d64-3afedb0799b6\" class=\"sk-toggleable__label sk-toggleable__label-arrow\">GridSearchCV</label><div class=\"sk-toggleable__content\"><pre>GridSearchCV(cv=5,\n",
       "             estimator=Pipeline(steps=[(&#x27;fu&#x27;,\n",
       "                                        FeatureUnion(transformer_list=[(&#x27;num_pipeline&#x27;,\n",
       "                                                                        Pipeline(steps=[(&#x27;selector&#x27;,\n",
       "                                                                                         DataFrameSelector(attribute_names=[&#x27;NUM_PASSENGERS&#x27;,\n",
       "                                                                                                                            &#x27;SUN_GLARE&#x27;])),\n",
       "                                                                                        (&#x27;imputer&#x27;,\n",
       "                                                                                         SimpleImputer(fill_value=0,\n",
       "                                                                                                       strategy=&#x27;constant&#x27;))])),\n",
       "                                                                       (&#x27;cat_pipeline&#x27;,\n",
       "                                                                        Pipeline(steps=[(&#x27;selector&#x27;,\n",
       "                                                                                         DataFrameSelector(attribute_names=[&#x27;DEVICE_CONDITIO...\n",
       "                                                                                                                            &#x27;FIRST_CONTACT_POINT&#x27;,\n",
       "                                                                                                                            &#x27;TRAFFICWAY_TYPE&#x27;,\n",
       "                                                                                                                            &#x27;ROADWAY_SURFACE_COND&#x27;,\n",
       "                                                                                                                            &#x27;VEHICLE_DEFECT&#x27;,\n",
       "                                                                                                                            &#x27;DRIVERS_LICENSE_CLASS&#x27;,\n",
       "                                                                                                                            &#x27;AGE_GROUP&#x27;,\n",
       "                                                                                                                            &#x27;VEHICLE_AGE&#x27;,\n",
       "                                                                                                                            &#x27;AIRBAG_DEPLOYED&#x27;,\n",
       "                                                                                                                            &#x27;PHYSICAL_CONDITION&#x27;,\n",
       "                                                                                                                            &#x27;MANEUVER&#x27;,\n",
       "                                                                                                                            &#x27;DRIVER_VISION&#x27;,\n",
       "                                                                                                                            &#x27;ALIGNMENT&#x27;,\n",
       "                                                                                                                            &#x27;TRAFFIC_CONTROL_DEVICE&#x27;]))]))])),\n",
       "                                       (&#x27;model&#x27;,\n",
       "                                        BaggingClassifier(base_estimator=QuadraticDiscriminantAnalysis(),\n",
       "                                                          n_estimators=100))]),\n",
       "             param_grid={})</pre></div></div></div><div class=\"sk-parallel\"><div class=\"sk-parallel-item\"><div class=\"sk-item\"><div class=\"sk-serial\"><div class=\"sk-item\"><div class=\"sk-serial\"><div class=\"sk-item sk-dashed-wrapped\"><div class=\"sk-label-container\"><div class=\"sk-label sk-toggleable\"><input class=\"sk-toggleable__control sk-hidden--visually\" id=\"33b30b59-3e02-46fe-a674-f238a2e76e5d\" type=\"checkbox\" ><label for=\"33b30b59-3e02-46fe-a674-f238a2e76e5d\" class=\"sk-toggleable__label sk-toggleable__label-arrow\">fu: FeatureUnion</label><div class=\"sk-toggleable__content\"><pre>FeatureUnion(transformer_list=[(&#x27;num_pipeline&#x27;,\n",
       "                                Pipeline(steps=[(&#x27;selector&#x27;,\n",
       "                                                 DataFrameSelector(attribute_names=[&#x27;NUM_PASSENGERS&#x27;,\n",
       "                                                                                    &#x27;SUN_GLARE&#x27;])),\n",
       "                                                (&#x27;imputer&#x27;,\n",
       "                                                 SimpleImputer(fill_value=0,\n",
       "                                                               strategy=&#x27;constant&#x27;))])),\n",
       "                               (&#x27;cat_pipeline&#x27;,\n",
       "                                Pipeline(steps=[(&#x27;selector&#x27;,\n",
       "                                                 DataFrameSelector(attribute_names=[&#x27;DEVICE_CONDITION&#x27;,\n",
       "                                                                                    &#x27;FIRST_CRASH_TYPE&#x27;,\n",
       "                                                                                    &#x27;FIRST_CONTACT_POINT&#x27;,\n",
       "                                                                                    &#x27;TRAFFICWAY_TYPE&#x27;,\n",
       "                                                                                    &#x27;ROADWAY_SURFACE_COND&#x27;,\n",
       "                                                                                    &#x27;VEHICLE_DEFECT&#x27;,\n",
       "                                                                                    &#x27;DRIVERS_LICENSE_CLASS&#x27;,\n",
       "                                                                                    &#x27;AGE_GROUP&#x27;,\n",
       "                                                                                    &#x27;VEHICLE_AGE&#x27;,\n",
       "                                                                                    &#x27;AIRBAG_DEPLOYED&#x27;,\n",
       "                                                                                    &#x27;PHYSICAL_CONDITION&#x27;,\n",
       "                                                                                    &#x27;MANEUVER&#x27;,\n",
       "                                                                                    &#x27;DRIVER_VISION&#x27;,\n",
       "                                                                                    &#x27;ALIGNMENT&#x27;,\n",
       "                                                                                    &#x27;TRAFFIC_CONTROL_DEVICE&#x27;]))]))])</pre></div></div></div><div class=\"sk-parallel\"><div class=\"sk-parallel-item\"><div class=\"sk-item\"><div class=\"sk-label-container\"><div class=\"sk-label sk-toggleable\"><label>num_pipeline</label></div></div><div class=\"sk-serial\"><div class=\"sk-item\"><div class=\"sk-serial\"><div class=\"sk-item\"><div class=\"sk-estimator sk-toggleable\"><input class=\"sk-toggleable__control sk-hidden--visually\" id=\"52a20cc5-93bd-49b4-a72e-59facc8eaf8c\" type=\"checkbox\" ><label for=\"52a20cc5-93bd-49b4-a72e-59facc8eaf8c\" class=\"sk-toggleable__label sk-toggleable__label-arrow\">DataFrameSelector</label><div class=\"sk-toggleable__content\"><pre>DataFrameSelector(attribute_names=[&#x27;NUM_PASSENGERS&#x27;, &#x27;SUN_GLARE&#x27;])</pre></div></div></div><div class=\"sk-item\"><div class=\"sk-estimator sk-toggleable\"><input class=\"sk-toggleable__control sk-hidden--visually\" id=\"53cb6a09-7299-4b68-9e88-02d30cea07ea\" type=\"checkbox\" ><label for=\"53cb6a09-7299-4b68-9e88-02d30cea07ea\" class=\"sk-toggleable__label sk-toggleable__label-arrow\">SimpleImputer</label><div class=\"sk-toggleable__content\"><pre>SimpleImputer(fill_value=0, strategy=&#x27;constant&#x27;)</pre></div></div></div></div></div></div></div></div><div class=\"sk-parallel-item\"><div class=\"sk-item\"><div class=\"sk-label-container\"><div class=\"sk-label sk-toggleable\"><label>cat_pipeline</label></div></div><div class=\"sk-serial\"><div class=\"sk-item\"><div class=\"sk-serial\"><div class=\"sk-item\"><div class=\"sk-estimator sk-toggleable\"><input class=\"sk-toggleable__control sk-hidden--visually\" id=\"9707bfe0-0d44-4f7a-8821-dee8b4472f1c\" type=\"checkbox\" ><label for=\"9707bfe0-0d44-4f7a-8821-dee8b4472f1c\" class=\"sk-toggleable__label sk-toggleable__label-arrow\">DataFrameSelector</label><div class=\"sk-toggleable__content\"><pre>DataFrameSelector(attribute_names=[&#x27;DEVICE_CONDITION&#x27;, &#x27;FIRST_CRASH_TYPE&#x27;,\n",
       "                                   &#x27;FIRST_CONTACT_POINT&#x27;, &#x27;TRAFFICWAY_TYPE&#x27;,\n",
       "                                   &#x27;ROADWAY_SURFACE_COND&#x27;, &#x27;VEHICLE_DEFECT&#x27;,\n",
       "                                   &#x27;DRIVERS_LICENSE_CLASS&#x27;, &#x27;AGE_GROUP&#x27;,\n",
       "                                   &#x27;VEHICLE_AGE&#x27;, &#x27;AIRBAG_DEPLOYED&#x27;,\n",
       "                                   &#x27;PHYSICAL_CONDITION&#x27;, &#x27;MANEUVER&#x27;,\n",
       "                                   &#x27;DRIVER_VISION&#x27;, &#x27;ALIGNMENT&#x27;,\n",
       "                                   &#x27;TRAFFIC_CONTROL_DEVICE&#x27;])</pre></div></div></div></div></div></div></div></div></div></div><div class=\"sk-item sk-dashed-wrapped\"><div class=\"sk-label-container\"><div class=\"sk-label sk-toggleable\"><input class=\"sk-toggleable__control sk-hidden--visually\" id=\"132f7249-aa12-41d4-aa68-5f01a6fb6876\" type=\"checkbox\" ><label for=\"132f7249-aa12-41d4-aa68-5f01a6fb6876\" class=\"sk-toggleable__label sk-toggleable__label-arrow\">model: BaggingClassifier</label><div class=\"sk-toggleable__content\"><pre>BaggingClassifier(base_estimator=QuadraticDiscriminantAnalysis(),\n",
       "                  n_estimators=100)</pre></div></div></div><div class=\"sk-parallel\"><div class=\"sk-parallel-item\"><div class=\"sk-item\"><div class=\"sk-serial\"><div class=\"sk-item\"><div class=\"sk-estimator sk-toggleable\"><input class=\"sk-toggleable__control sk-hidden--visually\" id=\"aefb6977-880c-4bd5-a3b9-f2454db05a6f\" type=\"checkbox\" ><label for=\"aefb6977-880c-4bd5-a3b9-f2454db05a6f\" class=\"sk-toggleable__label sk-toggleable__label-arrow\">QuadraticDiscriminantAnalysis</label><div class=\"sk-toggleable__content\"><pre>QuadraticDiscriminantAnalysis()</pre></div></div></div></div></div></div></div></div></div></div></div></div></div></div></div></div></div>"
      ],
      "text/plain": [
       "GridSearchCV(cv=5,\n",
       "             estimator=Pipeline(steps=[('fu',\n",
       "                                        FeatureUnion(transformer_list=[('num_pipeline',\n",
       "                                                                        Pipeline(steps=[('selector',\n",
       "                                                                                         DataFrameSelector(attribute_names=['NUM_PASSENGERS',\n",
       "                                                                                                                            'SUN_GLARE'])),\n",
       "                                                                                        ('imputer',\n",
       "                                                                                         SimpleImputer(fill_value=0,\n",
       "                                                                                                       strategy='constant'))])),\n",
       "                                                                       ('cat_pipeline',\n",
       "                                                                        Pipeline(steps=[('selector',\n",
       "                                                                                         DataFrameSelector(attribute_names=['DEVICE_CONDITIO...\n",
       "                                                                                                                            'FIRST_CONTACT_POINT',\n",
       "                                                                                                                            'TRAFFICWAY_TYPE',\n",
       "                                                                                                                            'ROADWAY_SURFACE_COND',\n",
       "                                                                                                                            'VEHICLE_DEFECT',\n",
       "                                                                                                                            'DRIVERS_LICENSE_CLASS',\n",
       "                                                                                                                            'AGE_GROUP',\n",
       "                                                                                                                            'VEHICLE_AGE',\n",
       "                                                                                                                            'AIRBAG_DEPLOYED',\n",
       "                                                                                                                            'PHYSICAL_CONDITION',\n",
       "                                                                                                                            'MANEUVER',\n",
       "                                                                                                                            'DRIVER_VISION',\n",
       "                                                                                                                            'ALIGNMENT',\n",
       "                                                                                                                            'TRAFFIC_CONTROL_DEVICE']))]))])),\n",
       "                                       ('model',\n",
       "                                        BaggingClassifier(base_estimator=QuadraticDiscriminantAnalysis(),\n",
       "                                                          n_estimators=100))]),\n",
       "             param_grid={})"
      ]
     },
     "execution_count": 120,
     "metadata": {},
     "output_type": "execute_result"
    }
   ],
   "source": [
    "gs_pipe.fit(X_train, y_train)"
   ]
  },
  {
   "cell_type": "code",
   "execution_count": 121,
   "id": "8cb65859",
   "metadata": {},
   "outputs": [],
   "source": [
    "y_pred_train=gs_pipe.predict(X_train)\n",
    "y_pred_test=gs_pipe.predict(X_test)"
   ]
  },
  {
   "cell_type": "code",
   "execution_count": 122,
   "id": "6046a1de",
   "metadata": {},
   "outputs": [
    {
     "data": {
      "text/plain": [
       "{}"
      ]
     },
     "execution_count": 122,
     "metadata": {},
     "output_type": "execute_result"
    }
   ],
   "source": [
    "gs_pipe.best_params_\n"
   ]
  },
  {
   "cell_type": "code",
   "execution_count": 123,
   "id": "6e60211c",
   "metadata": {},
   "outputs": [
    {
     "name": "stdout",
     "output_type": "stream",
     "text": [
      "0.7036666666666667\n",
      "              precision    recall  f1-score   support\n",
      "\n",
      "           0       0.72      0.90      0.80      3951\n",
      "           1       0.63      0.32      0.42      2049\n",
      "\n",
      "    accuracy                           0.70      6000\n",
      "   macro avg       0.67      0.61      0.61      6000\n",
      "weighted avg       0.69      0.70      0.67      6000\n",
      "\n",
      "------------\n",
      "              precision    recall  f1-score   support\n",
      "\n",
      "           0       0.00      0.00      0.00      1317\n",
      "           1       0.34      1.00      0.51       683\n",
      "\n",
      "    accuracy                           0.34      2000\n",
      "   macro avg       0.17      0.50      0.25      2000\n",
      "weighted avg       0.12      0.34      0.17      2000\n",
      "\n"
     ]
    },
    {
     "name": "stderr",
     "output_type": "stream",
     "text": [
      "C:\\anaconda3\\lib\\site-packages\\sklearn\\metrics\\_classification.py:1318: UndefinedMetricWarning: Precision and F-score are ill-defined and being set to 0.0 in labels with no predicted samples. Use `zero_division` parameter to control this behavior.\n",
      "  _warn_prf(average, modifier, msg_start, len(result))\n",
      "C:\\anaconda3\\lib\\site-packages\\sklearn\\metrics\\_classification.py:1318: UndefinedMetricWarning: Precision and F-score are ill-defined and being set to 0.0 in labels with no predicted samples. Use `zero_division` parameter to control this behavior.\n",
      "  _warn_prf(average, modifier, msg_start, len(result))\n",
      "C:\\anaconda3\\lib\\site-packages\\sklearn\\metrics\\_classification.py:1318: UndefinedMetricWarning: Precision and F-score are ill-defined and being set to 0.0 in labels with no predicted samples. Use `zero_division` parameter to control this behavior.\n",
      "  _warn_prf(average, modifier, msg_start, len(result))\n"
     ]
    }
   ],
   "source": [
    "print(gs_pipe.score(X_train, y_train ))\n",
    "print(classification_report(y_train, y_pred_train))\n",
    "print('------------')\n",
    "print(classification_report(y_test, y_pred_test))"
   ]
  },
  {
   "cell_type": "code",
   "execution_count": null,
   "id": "b7edebf5",
   "metadata": {},
   "outputs": [],
   "source": []
  }
 ],
 "metadata": {
  "kernelspec": {
   "display_name": "Python 3 (ipykernel)",
   "language": "python",
   "name": "python3"
  },
  "language_info": {
   "codemirror_mode": {
    "name": "ipython",
    "version": 3
   },
   "file_extension": ".py",
   "mimetype": "text/x-python",
   "name": "python",
   "nbconvert_exporter": "python",
   "pygments_lexer": "ipython3",
   "version": "3.9.7"
  }
 },
 "nbformat": 4,
 "nbformat_minor": 5
}
