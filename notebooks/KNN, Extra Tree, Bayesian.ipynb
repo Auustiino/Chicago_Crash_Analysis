{
 "cells": [
  {
   "cell_type": "code",
   "execution_count": 40,
   "id": "fe8c18a2",
   "metadata": {},
   "outputs": [],
   "source": [
    "# Uncomment only if you want to reprocess the raw data using initial_prep.py\n",
    "# The script will re-create crashes.gz, comma separated gzipped file in ../data/processed\n",
    "\n",
    "## %run ../src/preprocessing/initial_prep.py"
   ]
  },
  {
   "cell_type": "code",
   "execution_count": 41,
   "id": "bdd7f0a4",
   "metadata": {},
   "outputs": [],
   "source": [
    "%run ../src/import_libraries.py\n",
    "\n",
    "%matplotlib inline"
   ]
  },
  {
   "cell_type": "code",
   "execution_count": 42,
   "id": "4457d4f8",
   "metadata": {},
   "outputs": [],
   "source": [
    "\n",
    "full_df=pd.read_csv('../data/processed/crashes.gz', compression='gzip', low_memory=False)"
   ]
  },
  {
   "cell_type": "code",
   "execution_count": 43,
   "id": "9df39de9",
   "metadata": {},
   "outputs": [],
   "source": [
    "sample_df=full_df.sample(80000, random_state=100)\n",
    "#sample_df=full_df.copy()\n",
    "\n",
    "y = sample_df['GUILTY']\n",
    "x = sample_df.drop(['GUILTY'],axis=1)\n",
    "\n",
    "X_train, X_test, y_train, y_test = train_test_split(x, y, random_state=100, test_size=0.25, stratify=y)\n",
    "\n",
    "nominal_columns = [ 'FIRST_CRASH_TYPE', 'FIRST_CONTACT_POINT', 'MANEUVER']\n",
    "\n",
    "X_train = X_train[nominal_columns]\n",
    "X_test = X_test[nominal_columns]\n"
   ]
  },
  {
   "cell_type": "markdown",
   "id": "43e59fff",
   "metadata": {},
   "source": [
    "# bagging KNN"
   ]
  },
  {
   "cell_type": "code",
   "execution_count": 44,
   "id": "fc23606f",
   "metadata": {},
   "outputs": [],
   "source": [
    "\n",
    "\n",
    "X_train=X_train.apply(LabelEncoder().fit_transform)\n",
    "X_test=X_test.apply(LabelEncoder().fit_transform)"
   ]
  },
  {
   "cell_type": "code",
   "execution_count": 45,
   "id": "e919d0b5",
   "metadata": {},
   "outputs": [
    {
     "data": {
      "text/html": [
       "<style>#sk-260b05de-b4c8-45e5-acd9-369f7e4a07e1 {color: black;background-color: white;}#sk-260b05de-b4c8-45e5-acd9-369f7e4a07e1 pre{padding: 0;}#sk-260b05de-b4c8-45e5-acd9-369f7e4a07e1 div.sk-toggleable {background-color: white;}#sk-260b05de-b4c8-45e5-acd9-369f7e4a07e1 label.sk-toggleable__label {cursor: pointer;display: block;width: 100%;margin-bottom: 0;padding: 0.3em;box-sizing: border-box;text-align: center;}#sk-260b05de-b4c8-45e5-acd9-369f7e4a07e1 label.sk-toggleable__label-arrow:before {content: \"▸\";float: left;margin-right: 0.25em;color: #696969;}#sk-260b05de-b4c8-45e5-acd9-369f7e4a07e1 label.sk-toggleable__label-arrow:hover:before {color: black;}#sk-260b05de-b4c8-45e5-acd9-369f7e4a07e1 div.sk-estimator:hover label.sk-toggleable__label-arrow:before {color: black;}#sk-260b05de-b4c8-45e5-acd9-369f7e4a07e1 div.sk-toggleable__content {max-height: 0;max-width: 0;overflow: hidden;text-align: left;background-color: #f0f8ff;}#sk-260b05de-b4c8-45e5-acd9-369f7e4a07e1 div.sk-toggleable__content pre {margin: 0.2em;color: black;border-radius: 0.25em;background-color: #f0f8ff;}#sk-260b05de-b4c8-45e5-acd9-369f7e4a07e1 input.sk-toggleable__control:checked~div.sk-toggleable__content {max-height: 200px;max-width: 100%;overflow: auto;}#sk-260b05de-b4c8-45e5-acd9-369f7e4a07e1 input.sk-toggleable__control:checked~label.sk-toggleable__label-arrow:before {content: \"▾\";}#sk-260b05de-b4c8-45e5-acd9-369f7e4a07e1 div.sk-estimator input.sk-toggleable__control:checked~label.sk-toggleable__label {background-color: #d4ebff;}#sk-260b05de-b4c8-45e5-acd9-369f7e4a07e1 div.sk-label input.sk-toggleable__control:checked~label.sk-toggleable__label {background-color: #d4ebff;}#sk-260b05de-b4c8-45e5-acd9-369f7e4a07e1 input.sk-hidden--visually {border: 0;clip: rect(1px 1px 1px 1px);clip: rect(1px, 1px, 1px, 1px);height: 1px;margin: -1px;overflow: hidden;padding: 0;position: absolute;width: 1px;}#sk-260b05de-b4c8-45e5-acd9-369f7e4a07e1 div.sk-estimator {font-family: monospace;background-color: #f0f8ff;border: 1px dotted black;border-radius: 0.25em;box-sizing: border-box;margin-bottom: 0.5em;}#sk-260b05de-b4c8-45e5-acd9-369f7e4a07e1 div.sk-estimator:hover {background-color: #d4ebff;}#sk-260b05de-b4c8-45e5-acd9-369f7e4a07e1 div.sk-parallel-item::after {content: \"\";width: 100%;border-bottom: 1px solid gray;flex-grow: 1;}#sk-260b05de-b4c8-45e5-acd9-369f7e4a07e1 div.sk-label:hover label.sk-toggleable__label {background-color: #d4ebff;}#sk-260b05de-b4c8-45e5-acd9-369f7e4a07e1 div.sk-serial::before {content: \"\";position: absolute;border-left: 1px solid gray;box-sizing: border-box;top: 2em;bottom: 0;left: 50%;}#sk-260b05de-b4c8-45e5-acd9-369f7e4a07e1 div.sk-serial {display: flex;flex-direction: column;align-items: center;background-color: white;padding-right: 0.2em;padding-left: 0.2em;}#sk-260b05de-b4c8-45e5-acd9-369f7e4a07e1 div.sk-item {z-index: 1;}#sk-260b05de-b4c8-45e5-acd9-369f7e4a07e1 div.sk-parallel {display: flex;align-items: stretch;justify-content: center;background-color: white;}#sk-260b05de-b4c8-45e5-acd9-369f7e4a07e1 div.sk-parallel::before {content: \"\";position: absolute;border-left: 1px solid gray;box-sizing: border-box;top: 2em;bottom: 0;left: 50%;}#sk-260b05de-b4c8-45e5-acd9-369f7e4a07e1 div.sk-parallel-item {display: flex;flex-direction: column;position: relative;background-color: white;}#sk-260b05de-b4c8-45e5-acd9-369f7e4a07e1 div.sk-parallel-item:first-child::after {align-self: flex-end;width: 50%;}#sk-260b05de-b4c8-45e5-acd9-369f7e4a07e1 div.sk-parallel-item:last-child::after {align-self: flex-start;width: 50%;}#sk-260b05de-b4c8-45e5-acd9-369f7e4a07e1 div.sk-parallel-item:only-child::after {width: 0;}#sk-260b05de-b4c8-45e5-acd9-369f7e4a07e1 div.sk-dashed-wrapped {border: 1px dashed gray;margin: 0 0.4em 0.5em 0.4em;box-sizing: border-box;padding-bottom: 0.4em;background-color: white;position: relative;}#sk-260b05de-b4c8-45e5-acd9-369f7e4a07e1 div.sk-label label {font-family: monospace;font-weight: bold;background-color: white;display: inline-block;line-height: 1.2em;}#sk-260b05de-b4c8-45e5-acd9-369f7e4a07e1 div.sk-label-container {position: relative;z-index: 2;text-align: center;}#sk-260b05de-b4c8-45e5-acd9-369f7e4a07e1 div.sk-container {/* jupyter's `normalize.less` sets `[hidden] { display: none; }` but bootstrap.min.css set `[hidden] { display: none !important; }` so we also need the `!important` here to be able to override the default hidden behavior on the sphinx rendered scikit-learn.org. See: https://github.com/scikit-learn/scikit-learn/issues/21755 */display: inline-block !important;position: relative;}#sk-260b05de-b4c8-45e5-acd9-369f7e4a07e1 div.sk-text-repr-fallback {display: none;}</style><div id=\"sk-260b05de-b4c8-45e5-acd9-369f7e4a07e1\" class=\"sk-top-container\"><div class=\"sk-text-repr-fallback\"><pre>Pipeline(steps=[(&#x27;std_scaler&#x27;, StandardScaler()),\n",
       "                (&#x27;model&#x27;,\n",
       "                 KNeighborsClassifier(n_jobs=-1, n_neighbors=100, p=1))])</pre><b>Please rerun this cell to show the HTML repr or trust the notebook.</b></div><div class=\"sk-container\" hidden><div class=\"sk-item sk-dashed-wrapped\"><div class=\"sk-label-container\"><div class=\"sk-label sk-toggleable\"><input class=\"sk-toggleable__control sk-hidden--visually\" id=\"96f63bef-9e8c-416e-87ad-ea64ad560835\" type=\"checkbox\" ><label for=\"96f63bef-9e8c-416e-87ad-ea64ad560835\" class=\"sk-toggleable__label sk-toggleable__label-arrow\">Pipeline</label><div class=\"sk-toggleable__content\"><pre>Pipeline(steps=[(&#x27;std_scaler&#x27;, StandardScaler()),\n",
       "                (&#x27;model&#x27;,\n",
       "                 KNeighborsClassifier(n_jobs=-1, n_neighbors=100, p=1))])</pre></div></div></div><div class=\"sk-serial\"><div class=\"sk-item\"><div class=\"sk-estimator sk-toggleable\"><input class=\"sk-toggleable__control sk-hidden--visually\" id=\"fe10057c-7310-4b59-b182-312bf07a0f12\" type=\"checkbox\" ><label for=\"fe10057c-7310-4b59-b182-312bf07a0f12\" class=\"sk-toggleable__label sk-toggleable__label-arrow\">StandardScaler</label><div class=\"sk-toggleable__content\"><pre>StandardScaler()</pre></div></div></div><div class=\"sk-item\"><div class=\"sk-estimator sk-toggleable\"><input class=\"sk-toggleable__control sk-hidden--visually\" id=\"9e6a02a4-0d2e-4e9e-a31d-23af6d43bbdb\" type=\"checkbox\" ><label for=\"9e6a02a4-0d2e-4e9e-a31d-23af6d43bbdb\" class=\"sk-toggleable__label sk-toggleable__label-arrow\">KNeighborsClassifier</label><div class=\"sk-toggleable__content\"><pre>KNeighborsClassifier(n_jobs=-1, n_neighbors=100, p=1)</pre></div></div></div></div></div></div></div>"
      ],
      "text/plain": [
       "Pipeline(steps=[('std_scaler', StandardScaler()),\n",
       "                ('model',\n",
       "                 KNeighborsClassifier(n_jobs=-1, n_neighbors=100, p=1))])"
      ]
     },
     "execution_count": 45,
     "metadata": {},
     "output_type": "execute_result"
    }
   ],
   "source": [
    "knn_bag_pipe = Pipeline([\n",
    "                          ('std_scaler', StandardScaler()),\n",
    "                          ('model', KNeighborsClassifier( n_jobs=-1 , \n",
    "                                        n_neighbors=100, weights='uniform', p=1))\n",
    "                              ])\n",
    "knn_bag_pipe"
   ]
  },
  {
   "cell_type": "code",
   "execution_count": 46,
   "id": "b140fb67",
   "metadata": {},
   "outputs": [],
   "source": [
    "\n",
    "pipe_grid = {}\n",
    "gs_pipe = GridSearchCV(estimator=knn_bag_pipe, \n",
    "                       param_grid=pipe_grid, cv=2, scoring='roc_auc')\n",
    "\n"
   ]
  },
  {
   "cell_type": "code",
   "execution_count": 47,
   "id": "be49a0ca",
   "metadata": {},
   "outputs": [],
   "source": [
    "gs_pipe.fit(X_train, y_train)\n",
    "y_pred_train=gs_pipe.predict(X_train)\n",
    "y_pred_test=gs_pipe.predict(X_test)"
   ]
  },
  {
   "cell_type": "code",
   "execution_count": 48,
   "id": "6046a1de",
   "metadata": {},
   "outputs": [
    {
     "data": {
      "text/plain": [
       "0.8418251411474823"
      ]
     },
     "execution_count": 48,
     "metadata": {},
     "output_type": "execute_result"
    }
   ],
   "source": [
    "gs_pipe.score(X_train, y_train)"
   ]
  },
  {
   "cell_type": "code",
   "execution_count": 49,
   "id": "6e60211c",
   "metadata": {},
   "outputs": [
    {
     "name": "stdout",
     "output_type": "stream",
     "text": [
      "              precision    recall  f1-score   support\n",
      "\n",
      "           0       0.82      0.86      0.84     38701\n",
      "           1       0.71      0.65      0.68     21299\n",
      "\n",
      "    accuracy                           0.78     60000\n",
      "   macro avg       0.77      0.75      0.76     60000\n",
      "weighted avg       0.78      0.78      0.78     60000\n",
      "\n",
      "------------\n",
      "              precision    recall  f1-score   support\n",
      "\n",
      "           0       0.82      0.85      0.83     12900\n",
      "           1       0.71      0.65      0.68      7100\n",
      "\n",
      "    accuracy                           0.78     20000\n",
      "   macro avg       0.76      0.75      0.76     20000\n",
      "weighted avg       0.78      0.78      0.78     20000\n",
      "\n"
     ]
    }
   ],
   "source": [
    "print(classification_report(y_train, y_pred_train))\n",
    "print('------------')\n",
    "print(classification_report(y_test, y_pred_test))"
   ]
  },
  {
   "cell_type": "code",
   "execution_count": 50,
   "id": "b2ccba24",
   "metadata": {},
   "outputs": [
    {
     "data": {
      "image/png": "[encoded data removed]",
      "text/plain": [
       "<Figure size 936x432 with 4 Axes>"
      ]
     },
     "metadata": {
      "needs_background": "light"
     },
     "output_type": "display_data"
    }
   ],
   "source": [
    "fig, ax = plt.subplots(figsize=(13,6), ncols=2)\n",
    "\n",
    "ConfusionMatrixDisplay.from_predictions(y_test, y_pred_test, normalize='pred', \n",
    "                                        display_labels=[1,0],cmap='pink', ax=ax[0])\n",
    "\n",
    "\n",
    "ConfusionMatrixDisplay.from_predictions(y_test, y_pred_test, normalize='true', \n",
    "                                        display_labels=[1,0],cmap='pink', ax=ax[1]);\n",
    "\n",
    "ax[0].set_title(\"Precision for predictions\")\n",
    "ax[1].set_title(\"Recall for true cases\")\n",
    "\n",
    "ax[0].set_xlabel('Predicted Cases')\n",
    "ax[0].set_ylabel('True Cases')\n",
    "ax[1].set_xlabel('Predicted Cases')\n",
    "ax[1].set_ylabel('True Cases');"
   ]
  },
  {
   "cell_type": "markdown",
   "id": "62fa5dea",
   "metadata": {},
   "source": [
    "# Bayesian"
   ]
  },
  {
   "cell_type": "code",
   "execution_count": 51,
   "id": "c11ac81c",
   "metadata": {},
   "outputs": [],
   "source": [
    "\n",
    "\n",
    "cat_pipeline = Pipeline([\n",
    "        ('cat_encoder', OneHotEncoder(sparse=False, handle_unknown =  'ignore' )),\n",
    "         ('std_scaler', StandardScaler()),\n",
    "    \n",
    "    ])\n",
    "\n",
    "\n",
    "fu = FeatureUnion(transformer_list=[\n",
    "        (\"cat_pipeline\", cat_pipeline),\n",
    "    ])"
   ]
  },
  {
   "cell_type": "code",
   "execution_count": 52,
   "id": "9c761608",
   "metadata": {},
   "outputs": [
    {
     "data": {
      "text/html": [
       "<style>#sk-d26b9cc3-2168-4649-9a25-192605046a69 {color: black;background-color: white;}#sk-d26b9cc3-2168-4649-9a25-192605046a69 pre{padding: 0;}#sk-d26b9cc3-2168-4649-9a25-192605046a69 div.sk-toggleable {background-color: white;}#sk-d26b9cc3-2168-4649-9a25-192605046a69 label.sk-toggleable__label {cursor: pointer;display: block;width: 100%;margin-bottom: 0;padding: 0.3em;box-sizing: border-box;text-align: center;}#sk-d26b9cc3-2168-4649-9a25-192605046a69 label.sk-toggleable__label-arrow:before {content: \"▸\";float: left;margin-right: 0.25em;color: #696969;}#sk-d26b9cc3-2168-4649-9a25-192605046a69 label.sk-toggleable__label-arrow:hover:before {color: black;}#sk-d26b9cc3-2168-4649-9a25-192605046a69 div.sk-estimator:hover label.sk-toggleable__label-arrow:before {color: black;}#sk-d26b9cc3-2168-4649-9a25-192605046a69 div.sk-toggleable__content {max-height: 0;max-width: 0;overflow: hidden;text-align: left;background-color: #f0f8ff;}#sk-d26b9cc3-2168-4649-9a25-192605046a69 div.sk-toggleable__content pre {margin: 0.2em;color: black;border-radius: 0.25em;background-color: #f0f8ff;}#sk-d26b9cc3-2168-4649-9a25-192605046a69 input.sk-toggleable__control:checked~div.sk-toggleable__content {max-height: 200px;max-width: 100%;overflow: auto;}#sk-d26b9cc3-2168-4649-9a25-192605046a69 input.sk-toggleable__control:checked~label.sk-toggleable__label-arrow:before {content: \"▾\";}#sk-d26b9cc3-2168-4649-9a25-192605046a69 div.sk-estimator input.sk-toggleable__control:checked~label.sk-toggleable__label {background-color: #d4ebff;}#sk-d26b9cc3-2168-4649-9a25-192605046a69 div.sk-label input.sk-toggleable__control:checked~label.sk-toggleable__label {background-color: #d4ebff;}#sk-d26b9cc3-2168-4649-9a25-192605046a69 input.sk-hidden--visually {border: 0;clip: rect(1px 1px 1px 1px);clip: rect(1px, 1px, 1px, 1px);height: 1px;margin: -1px;overflow: hidden;padding: 0;position: absolute;width: 1px;}#sk-d26b9cc3-2168-4649-9a25-192605046a69 div.sk-estimator {font-family: monospace;background-color: #f0f8ff;border: 1px dotted black;border-radius: 0.25em;box-sizing: border-box;margin-bottom: 0.5em;}#sk-d26b9cc3-2168-4649-9a25-192605046a69 div.sk-estimator:hover {background-color: #d4ebff;}#sk-d26b9cc3-2168-4649-9a25-192605046a69 div.sk-parallel-item::after {content: \"\";width: 100%;border-bottom: 1px solid gray;flex-grow: 1;}#sk-d26b9cc3-2168-4649-9a25-192605046a69 div.sk-label:hover label.sk-toggleable__label {background-color: #d4ebff;}#sk-d26b9cc3-2168-4649-9a25-192605046a69 div.sk-serial::before {content: \"\";position: absolute;border-left: 1px solid gray;box-sizing: border-box;top: 2em;bottom: 0;left: 50%;}#sk-d26b9cc3-2168-4649-9a25-192605046a69 div.sk-serial {display: flex;flex-direction: column;align-items: center;background-color: white;padding-right: 0.2em;padding-left: 0.2em;}#sk-d26b9cc3-2168-4649-9a25-192605046a69 div.sk-item {z-index: 1;}#sk-d26b9cc3-2168-4649-9a25-192605046a69 div.sk-parallel {display: flex;align-items: stretch;justify-content: center;background-color: white;}#sk-d26b9cc3-2168-4649-9a25-192605046a69 div.sk-parallel::before {content: \"\";position: absolute;border-left: 1px solid gray;box-sizing: border-box;top: 2em;bottom: 0;left: 50%;}#sk-d26b9cc3-2168-4649-9a25-192605046a69 div.sk-parallel-item {display: flex;flex-direction: column;position: relative;background-color: white;}#sk-d26b9cc3-2168-4649-9a25-192605046a69 div.sk-parallel-item:first-child::after {align-self: flex-end;width: 50%;}#sk-d26b9cc3-2168-4649-9a25-192605046a69 div.sk-parallel-item:last-child::after {align-self: flex-start;width: 50%;}#sk-d26b9cc3-2168-4649-9a25-192605046a69 div.sk-parallel-item:only-child::after {width: 0;}#sk-d26b9cc3-2168-4649-9a25-192605046a69 div.sk-dashed-wrapped {border: 1px dashed gray;margin: 0 0.4em 0.5em 0.4em;box-sizing: border-box;padding-bottom: 0.4em;background-color: white;position: relative;}#sk-d26b9cc3-2168-4649-9a25-192605046a69 div.sk-label label {font-family: monospace;font-weight: bold;background-color: white;display: inline-block;line-height: 1.2em;}#sk-d26b9cc3-2168-4649-9a25-192605046a69 div.sk-label-container {position: relative;z-index: 2;text-align: center;}#sk-d26b9cc3-2168-4649-9a25-192605046a69 div.sk-container {/* jupyter's `normalize.less` sets `[hidden] { display: none; }` but bootstrap.min.css set `[hidden] { display: none !important; }` so we also need the `!important` here to be able to override the default hidden behavior on the sphinx rendered scikit-learn.org. See: https://github.com/scikit-learn/scikit-learn/issues/21755 */display: inline-block !important;position: relative;}#sk-d26b9cc3-2168-4649-9a25-192605046a69 div.sk-text-repr-fallback {display: none;}</style><div id=\"sk-d26b9cc3-2168-4649-9a25-192605046a69\" class=\"sk-top-container\"><div class=\"sk-text-repr-fallback\"><pre>GridSearchCV(cv=5,\n",
       "             estimator=Pipeline(steps=[(&#x27;fu&#x27;,\n",
       "                                        FeatureUnion(transformer_list=[(&#x27;cat_pipeline&#x27;,\n",
       "                                                                        Pipeline(steps=[(&#x27;cat_encoder&#x27;,\n",
       "                                                                                         OneHotEncoder(handle_unknown=&#x27;ignore&#x27;,\n",
       "                                                                                                       sparse=False)),\n",
       "                                                                                        (&#x27;std_scaler&#x27;,\n",
       "                                                                                         StandardScaler())]))])),\n",
       "                                       (&#x27;model&#x27;,\n",
       "                                        BaggingClassifier(base_estimator=QuadraticDiscriminantAnalysis(),\n",
       "                                                          n_estimators=100))]),\n",
       "             param_grid={})</pre><b>Please rerun this cell to show the HTML repr or trust the notebook.</b></div><div class=\"sk-container\" hidden><div class=\"sk-item sk-dashed-wrapped\"><div class=\"sk-label-container\"><div class=\"sk-label sk-toggleable\"><input class=\"sk-toggleable__control sk-hidden--visually\" id=\"1d361ae0-5662-4221-b995-8f5c704f3972\" type=\"checkbox\" ><label for=\"1d361ae0-5662-4221-b995-8f5c704f3972\" class=\"sk-toggleable__label sk-toggleable__label-arrow\">GridSearchCV</label><div class=\"sk-toggleable__content\"><pre>GridSearchCV(cv=5,\n",
       "             estimator=Pipeline(steps=[(&#x27;fu&#x27;,\n",
       "                                        FeatureUnion(transformer_list=[(&#x27;cat_pipeline&#x27;,\n",
       "                                                                        Pipeline(steps=[(&#x27;cat_encoder&#x27;,\n",
       "                                                                                         OneHotEncoder(handle_unknown=&#x27;ignore&#x27;,\n",
       "                                                                                                       sparse=False)),\n",
       "                                                                                        (&#x27;std_scaler&#x27;,\n",
       "                                                                                         StandardScaler())]))])),\n",
       "                                       (&#x27;model&#x27;,\n",
       "                                        BaggingClassifier(base_estimator=QuadraticDiscriminantAnalysis(),\n",
       "                                                          n_estimators=100))]),\n",
       "             param_grid={})</pre></div></div></div><div class=\"sk-parallel\"><div class=\"sk-parallel-item\"><div class=\"sk-item\"><div class=\"sk-serial\"><div class=\"sk-item\"><div class=\"sk-serial\"><div class=\"sk-item sk-dashed-wrapped\"><div class=\"sk-label-container\"><div class=\"sk-label sk-toggleable\"><input class=\"sk-toggleable__control sk-hidden--visually\" id=\"2c7c596a-e6a5-46f5-bd29-5b61698dd212\" type=\"checkbox\" ><label for=\"2c7c596a-e6a5-46f5-bd29-5b61698dd212\" class=\"sk-toggleable__label sk-toggleable__label-arrow\">fu: FeatureUnion</label><div class=\"sk-toggleable__content\"><pre>FeatureUnion(transformer_list=[(&#x27;cat_pipeline&#x27;,\n",
       "                                Pipeline(steps=[(&#x27;cat_encoder&#x27;,\n",
       "                                                 OneHotEncoder(handle_unknown=&#x27;ignore&#x27;,\n",
       "                                                               sparse=False)),\n",
       "                                                (&#x27;std_scaler&#x27;,\n",
       "                                                 StandardScaler())]))])</pre></div></div></div><div class=\"sk-parallel\"><div class=\"sk-parallel-item\"><div class=\"sk-item\"><div class=\"sk-label-container\"><div class=\"sk-label sk-toggleable\"><label>cat_pipeline</label></div></div><div class=\"sk-serial\"><div class=\"sk-item\"><div class=\"sk-serial\"><div class=\"sk-item\"><div class=\"sk-estimator sk-toggleable\"><input class=\"sk-toggleable__control sk-hidden--visually\" id=\"042be059-91dd-40e0-b859-67282840b5a0\" type=\"checkbox\" ><label for=\"042be059-91dd-40e0-b859-67282840b5a0\" class=\"sk-toggleable__label sk-toggleable__label-arrow\">OneHotEncoder</label><div class=\"sk-toggleable__content\"><pre>OneHotEncoder(handle_unknown=&#x27;ignore&#x27;, sparse=False)</pre></div></div></div><div class=\"sk-item\"><div class=\"sk-estimator sk-toggleable\"><input class=\"sk-toggleable__control sk-hidden--visually\" id=\"a398e76a-1fa8-4501-b110-ad8de265f277\" type=\"checkbox\" ><label for=\"a398e76a-1fa8-4501-b110-ad8de265f277\" class=\"sk-toggleable__label sk-toggleable__label-arrow\">StandardScaler</label><div class=\"sk-toggleable__content\"><pre>StandardScaler()</pre></div></div></div></div></div></div></div></div></div></div><div class=\"sk-item sk-dashed-wrapped\"><div class=\"sk-label-container\"><div class=\"sk-label sk-toggleable\"><input class=\"sk-toggleable__control sk-hidden--visually\" id=\"13e41f76-fced-44ca-b91e-1192452acdec\" type=\"checkbox\" ><label for=\"13e41f76-fced-44ca-b91e-1192452acdec\" class=\"sk-toggleable__label sk-toggleable__label-arrow\">model: BaggingClassifier</label><div class=\"sk-toggleable__content\"><pre>BaggingClassifier(base_estimator=QuadraticDiscriminantAnalysis(),\n",
       "                  n_estimators=100)</pre></div></div></div><div class=\"sk-parallel\"><div class=\"sk-parallel-item\"><div class=\"sk-item\"><div class=\"sk-serial\"><div class=\"sk-item\"><div class=\"sk-estimator sk-toggleable\"><input class=\"sk-toggleable__control sk-hidden--visually\" id=\"dd04c206-1099-42da-b0c4-20f4ae4f197b\" type=\"checkbox\" ><label for=\"dd04c206-1099-42da-b0c4-20f4ae4f197b\" class=\"sk-toggleable__label sk-toggleable__label-arrow\">QuadraticDiscriminantAnalysis</label><div class=\"sk-toggleable__content\"><pre>QuadraticDiscriminantAnalysis()</pre></div></div></div></div></div></div></div></div></div></div></div></div></div></div></div></div></div>"
      ],
      "text/plain": [
       "GridSearchCV(cv=5,\n",
       "             estimator=Pipeline(steps=[('fu',\n",
       "                                        FeatureUnion(transformer_list=[('cat_pipeline',\n",
       "                                                                        Pipeline(steps=[('cat_encoder',\n",
       "                                                                                         OneHotEncoder(handle_unknown='ignore',\n",
       "                                                                                                       sparse=False)),\n",
       "                                                                                        ('std_scaler',\n",
       "                                                                                         StandardScaler())]))])),\n",
       "                                       ('model',\n",
       "                                        BaggingClassifier(base_estimator=QuadraticDiscriminantAnalysis(),\n",
       "                                                          n_estimators=100))]),\n",
       "             param_grid={})"
      ]
     },
     "execution_count": 52,
     "metadata": {},
     "output_type": "execute_result"
    }
   ],
   "source": [
    "bayesian_pipe = Pipeline([\n",
    "                          ('fu', fu),\n",
    "                          ('model', BaggingClassifier(QuadraticDiscriminantAnalysis(), \n",
    "                                                      n_estimators=100, ))\n",
    " \n",
    "                              ])\n",
    "pipe_grid = {}\n",
    "\n",
    "gs_pipe = GridSearchCV(estimator=bayesian_pipe,\n",
    "                       param_grid=pipe_grid, cv=5)\n",
    "gs_pipe.fit(X_train, y_train)"
   ]
  },
  {
   "cell_type": "code",
   "execution_count": 53,
   "id": "1673b7cf",
   "metadata": {},
   "outputs": [],
   "source": [
    "y_pred_train=gs_pipe.predict(X_train)\n",
    "y_pred_test=gs_pipe.predict(X_test)"
   ]
  },
  {
   "cell_type": "code",
   "execution_count": 54,
   "id": "09bc84cc",
   "metadata": {},
   "outputs": [
    {
     "name": "stdout",
     "output_type": "stream",
     "text": [
      "0.36846666666666666\n",
      "              precision    recall  f1-score   support\n",
      "\n",
      "           0       0.82      0.03      0.05     38701\n",
      "           1       0.36      0.99      0.53     21299\n",
      "\n",
      "    accuracy                           0.37     60000\n",
      "   macro avg       0.59      0.51      0.29     60000\n",
      "weighted avg       0.66      0.37      0.22     60000\n",
      "\n",
      "------------\n",
      "              precision    recall  f1-score   support\n",
      "\n",
      "           0       0.61      0.20      0.31     12900\n",
      "           1       0.35      0.77      0.48      7100\n",
      "\n",
      "    accuracy                           0.40     20000\n",
      "   macro avg       0.48      0.49      0.39     20000\n",
      "weighted avg       0.52      0.40      0.37     20000\n",
      "\n"
     ]
    }
   ],
   "source": [
    "print(gs_pipe.score(X_train, y_train ))\n",
    "print(classification_report(y_train, y_pred_train))\n",
    "print('------------')\n",
    "print(classification_report(y_test, y_pred_test))"
   ]
  },
  {
   "cell_type": "code",
   "execution_count": 55,
   "id": "4d8f7518",
   "metadata": {},
   "outputs": [
    {
     "data": {
      "image/png": "[encoded data removed]",
      "text/plain": [
       "<Figure size 936x432 with 4 Axes>"
      ]
     },
     "metadata": {
      "needs_background": "light"
     },
     "output_type": "display_data"
    }
   ],
   "source": [
    "fig, ax = plt.subplots(figsize=(13,6), ncols=2)\n",
    "\n",
    "ConfusionMatrixDisplay.from_predictions(y_test, y_pred_test, normalize='pred', \n",
    "                                        display_labels=[1,0],cmap='pink', ax=ax[0])\n",
    "\n",
    "\n",
    "ConfusionMatrixDisplay.from_predictions(y_test, y_pred_test, normalize='true', \n",
    "                                        display_labels=[1,0],cmap='pink', ax=ax[1]);\n",
    "\n",
    "ax[0].set_title(\"Precision for predictions\")\n",
    "ax[1].set_title(\"Recall for true cases\")\n",
    "\n",
    "ax[0].set_xlabel('Predicted Cases')\n",
    "ax[0].set_ylabel('True Cases')\n",
    "ax[1].set_xlabel('Predicted Cases')\n",
    "ax[1].set_ylabel('True Cases');"
   ]
  },
  {
   "cell_type": "markdown",
   "id": "a9c51ea6",
   "metadata": {},
   "source": [
    "### Bayesian Model demonstrated a poor performance possibly because the correlation between predictors"
   ]
  },
  {
   "cell_type": "markdown",
   "id": "7fb4fe76",
   "metadata": {},
   "source": [
    "# Extra Tree Forest"
   ]
  },
  {
   "cell_type": "code",
   "execution_count": 56,
   "id": "05946a54",
   "metadata": {},
   "outputs": [],
   "source": [
    "#sample_df=selected_df.sample(200000, random_state=100)\n",
    "sample_df=full_df.copy()\n",
    "\n",
    "\n",
    "y = sample_df['GUILTY']\n",
    "x = sample_df.drop(['GUILTY'],axis=1)\n",
    "\n",
    "X_train, X_test, y_train, y_test = train_test_split(x, y, random_state=100, test_size=0.25, stratify=y)\n",
    "\n",
    "\n",
    "nominal_columns = [ 'FIRST_CRASH_TYPE', 'FIRST_CONTACT_POINT', 'MANEUVER']\n",
    "\n",
    "X_train = X_train[nominal_columns]\n",
    "X_test = X_test[nominal_columns]"
   ]
  },
  {
   "cell_type": "code",
   "execution_count": 57,
   "id": "089bb975",
   "metadata": {},
   "outputs": [],
   "source": [
    "from sklearn.base import BaseEstimator, TransformerMixin\n",
    "\n",
    "class DataFrameSelector(BaseEstimator, TransformerMixin):\n",
    "    def __init__(self, attribute_names):\n",
    "        self.attribute_names=attribute_names\n",
    "    def fit(self, X, y=None):\n",
    "        return self\n",
    "    def transform(self, X):\n",
    "        return X[self.attribute_names].values\n",
    "\n",
    "cat_pipeline = Pipeline([\n",
    "        ('selector', DataFrameSelector(nominal_columns)),\n",
    "        ('cat_encoder', OneHotEncoder(sparse=False, handle_unknown =  'ignore' )),\n",
    "    ])\n",
    "\n",
    "\n",
    "fu = FeatureUnion(transformer_list=[\n",
    "        (\"cat_pipeline\", cat_pipeline),\n",
    "    ])\n"
   ]
  },
  {
   "cell_type": "code",
   "execution_count": 58,
   "id": "4ed77f0b",
   "metadata": {},
   "outputs": [],
   "source": [
    "extra_tree_pipe = Pipeline([\n",
    "                          ('fu', fu),\n",
    "                          ('model', ExtraTreesClassifier( max_depth=13, min_samples_leaf=3, \n",
    "                                                         min_samples_split=6, n_estimators=150 )),\n",
    "                              ])\n",
    "\n",
    "pipe_grid = {}\n",
    "\n",
    "gs_pipe = GridSearchCV(estimator=extra_tree_pipe, \n",
    "                       param_grid=pipe_grid, cv=2, scoring='roc_auc')"
   ]
  },
  {
   "cell_type": "code",
   "execution_count": 59,
   "id": "38225b62",
   "metadata": {},
   "outputs": [
    {
     "data": {
      "text/html": [
       "<style>#sk-28348be9-2f76-413b-b028-e66e0f1e7aea {color: black;background-color: white;}#sk-28348be9-2f76-413b-b028-e66e0f1e7aea pre{padding: 0;}#sk-28348be9-2f76-413b-b028-e66e0f1e7aea div.sk-toggleable {background-color: white;}#sk-28348be9-2f76-413b-b028-e66e0f1e7aea label.sk-toggleable__label {cursor: pointer;display: block;width: 100%;margin-bottom: 0;padding: 0.3em;box-sizing: border-box;text-align: center;}#sk-28348be9-2f76-413b-b028-e66e0f1e7aea label.sk-toggleable__label-arrow:before {content: \"▸\";float: left;margin-right: 0.25em;color: #696969;}#sk-28348be9-2f76-413b-b028-e66e0f1e7aea label.sk-toggleable__label-arrow:hover:before {color: black;}#sk-28348be9-2f76-413b-b028-e66e0f1e7aea div.sk-estimator:hover label.sk-toggleable__label-arrow:before {color: black;}#sk-28348be9-2f76-413b-b028-e66e0f1e7aea div.sk-toggleable__content {max-height: 0;max-width: 0;overflow: hidden;text-align: left;background-color: #f0f8ff;}#sk-28348be9-2f76-413b-b028-e66e0f1e7aea div.sk-toggleable__content pre {margin: 0.2em;color: black;border-radius: 0.25em;background-color: #f0f8ff;}#sk-28348be9-2f76-413b-b028-e66e0f1e7aea input.sk-toggleable__control:checked~div.sk-toggleable__content {max-height: 200px;max-width: 100%;overflow: auto;}#sk-28348be9-2f76-413b-b028-e66e0f1e7aea input.sk-toggleable__control:checked~label.sk-toggleable__label-arrow:before {content: \"▾\";}#sk-28348be9-2f76-413b-b028-e66e0f1e7aea div.sk-estimator input.sk-toggleable__control:checked~label.sk-toggleable__label {background-color: #d4ebff;}#sk-28348be9-2f76-413b-b028-e66e0f1e7aea div.sk-label input.sk-toggleable__control:checked~label.sk-toggleable__label {background-color: #d4ebff;}#sk-28348be9-2f76-413b-b028-e66e0f1e7aea input.sk-hidden--visually {border: 0;clip: rect(1px 1px 1px 1px);clip: rect(1px, 1px, 1px, 1px);height: 1px;margin: -1px;overflow: hidden;padding: 0;position: absolute;width: 1px;}#sk-28348be9-2f76-413b-b028-e66e0f1e7aea div.sk-estimator {font-family: monospace;background-color: #f0f8ff;border: 1px dotted black;border-radius: 0.25em;box-sizing: border-box;margin-bottom: 0.5em;}#sk-28348be9-2f76-413b-b028-e66e0f1e7aea div.sk-estimator:hover {background-color: #d4ebff;}#sk-28348be9-2f76-413b-b028-e66e0f1e7aea div.sk-parallel-item::after {content: \"\";width: 100%;border-bottom: 1px solid gray;flex-grow: 1;}#sk-28348be9-2f76-413b-b028-e66e0f1e7aea div.sk-label:hover label.sk-toggleable__label {background-color: #d4ebff;}#sk-28348be9-2f76-413b-b028-e66e0f1e7aea div.sk-serial::before {content: \"\";position: absolute;border-left: 1px solid gray;box-sizing: border-box;top: 2em;bottom: 0;left: 50%;}#sk-28348be9-2f76-413b-b028-e66e0f1e7aea div.sk-serial {display: flex;flex-direction: column;align-items: center;background-color: white;padding-right: 0.2em;padding-left: 0.2em;}#sk-28348be9-2f76-413b-b028-e66e0f1e7aea div.sk-item {z-index: 1;}#sk-28348be9-2f76-413b-b028-e66e0f1e7aea div.sk-parallel {display: flex;align-items: stretch;justify-content: center;background-color: white;}#sk-28348be9-2f76-413b-b028-e66e0f1e7aea div.sk-parallel::before {content: \"\";position: absolute;border-left: 1px solid gray;box-sizing: border-box;top: 2em;bottom: 0;left: 50%;}#sk-28348be9-2f76-413b-b028-e66e0f1e7aea div.sk-parallel-item {display: flex;flex-direction: column;position: relative;background-color: white;}#sk-28348be9-2f76-413b-b028-e66e0f1e7aea div.sk-parallel-item:first-child::after {align-self: flex-end;width: 50%;}#sk-28348be9-2f76-413b-b028-e66e0f1e7aea div.sk-parallel-item:last-child::after {align-self: flex-start;width: 50%;}#sk-28348be9-2f76-413b-b028-e66e0f1e7aea div.sk-parallel-item:only-child::after {width: 0;}#sk-28348be9-2f76-413b-b028-e66e0f1e7aea div.sk-dashed-wrapped {border: 1px dashed gray;margin: 0 0.4em 0.5em 0.4em;box-sizing: border-box;padding-bottom: 0.4em;background-color: white;position: relative;}#sk-28348be9-2f76-413b-b028-e66e0f1e7aea div.sk-label label {font-family: monospace;font-weight: bold;background-color: white;display: inline-block;line-height: 1.2em;}#sk-28348be9-2f76-413b-b028-e66e0f1e7aea div.sk-label-container {position: relative;z-index: 2;text-align: center;}#sk-28348be9-2f76-413b-b028-e66e0f1e7aea div.sk-container {/* jupyter's `normalize.less` sets `[hidden] { display: none; }` but bootstrap.min.css set `[hidden] { display: none !important; }` so we also need the `!important` here to be able to override the default hidden behavior on the sphinx rendered scikit-learn.org. See: https://github.com/scikit-learn/scikit-learn/issues/21755 */display: inline-block !important;position: relative;}#sk-28348be9-2f76-413b-b028-e66e0f1e7aea div.sk-text-repr-fallback {display: none;}</style><div id=\"sk-28348be9-2f76-413b-b028-e66e0f1e7aea\" class=\"sk-top-container\"><div class=\"sk-text-repr-fallback\"><pre>GridSearchCV(cv=2,\n",
       "             estimator=Pipeline(steps=[(&#x27;fu&#x27;,\n",
       "                                        FeatureUnion(transformer_list=[(&#x27;cat_pipeline&#x27;,\n",
       "                                                                        Pipeline(steps=[(&#x27;selector&#x27;,\n",
       "                                                                                         DataFrameSelector(attribute_names=[&#x27;FIRST_CRASH_TYPE&#x27;,\n",
       "                                                                                                                            &#x27;FIRST_CONTACT_POINT&#x27;,\n",
       "                                                                                                                            &#x27;MANEUVER&#x27;])),\n",
       "                                                                                        (&#x27;cat_encoder&#x27;,\n",
       "                                                                                         OneHotEncoder(handle_unknown=&#x27;ignore&#x27;,\n",
       "                                                                                                       sparse=False))]))])),\n",
       "                                       (&#x27;model&#x27;,\n",
       "                                        ExtraTreesClassifier(max_depth=13,\n",
       "                                                             min_samples_leaf=3,\n",
       "                                                             min_samples_split=6,\n",
       "                                                             n_estimators=150))]),\n",
       "             param_grid={}, scoring=&#x27;roc_auc&#x27;)</pre><b>Please rerun this cell to show the HTML repr or trust the notebook.</b></div><div class=\"sk-container\" hidden><div class=\"sk-item sk-dashed-wrapped\"><div class=\"sk-label-container\"><div class=\"sk-label sk-toggleable\"><input class=\"sk-toggleable__control sk-hidden--visually\" id=\"9d6f0ebe-7321-4088-ba0b-8b8968ff8d30\" type=\"checkbox\" ><label for=\"9d6f0ebe-7321-4088-ba0b-8b8968ff8d30\" class=\"sk-toggleable__label sk-toggleable__label-arrow\">GridSearchCV</label><div class=\"sk-toggleable__content\"><pre>GridSearchCV(cv=2,\n",
       "             estimator=Pipeline(steps=[(&#x27;fu&#x27;,\n",
       "                                        FeatureUnion(transformer_list=[(&#x27;cat_pipeline&#x27;,\n",
       "                                                                        Pipeline(steps=[(&#x27;selector&#x27;,\n",
       "                                                                                         DataFrameSelector(attribute_names=[&#x27;FIRST_CRASH_TYPE&#x27;,\n",
       "                                                                                                                            &#x27;FIRST_CONTACT_POINT&#x27;,\n",
       "                                                                                                                            &#x27;MANEUVER&#x27;])),\n",
       "                                                                                        (&#x27;cat_encoder&#x27;,\n",
       "                                                                                         OneHotEncoder(handle_unknown=&#x27;ignore&#x27;,\n",
       "                                                                                                       sparse=False))]))])),\n",
       "                                       (&#x27;model&#x27;,\n",
       "                                        ExtraTreesClassifier(max_depth=13,\n",
       "                                                             min_samples_leaf=3,\n",
       "                                                             min_samples_split=6,\n",
       "                                                             n_estimators=150))]),\n",
       "             param_grid={}, scoring=&#x27;roc_auc&#x27;)</pre></div></div></div><div class=\"sk-parallel\"><div class=\"sk-parallel-item\"><div class=\"sk-item\"><div class=\"sk-serial\"><div class=\"sk-item\"><div class=\"sk-serial\"><div class=\"sk-item sk-dashed-wrapped\"><div class=\"sk-label-container\"><div class=\"sk-label sk-toggleable\"><input class=\"sk-toggleable__control sk-hidden--visually\" id=\"f9368e9b-d063-468f-a5bf-7e27efc9dae5\" type=\"checkbox\" ><label for=\"f9368e9b-d063-468f-a5bf-7e27efc9dae5\" class=\"sk-toggleable__label sk-toggleable__label-arrow\">fu: FeatureUnion</label><div class=\"sk-toggleable__content\"><pre>FeatureUnion(transformer_list=[(&#x27;cat_pipeline&#x27;,\n",
       "                                Pipeline(steps=[(&#x27;selector&#x27;,\n",
       "                                                 DataFrameSelector(attribute_names=[&#x27;FIRST_CRASH_TYPE&#x27;,\n",
       "                                                                                    &#x27;FIRST_CONTACT_POINT&#x27;,\n",
       "                                                                                    &#x27;MANEUVER&#x27;])),\n",
       "                                                (&#x27;cat_encoder&#x27;,\n",
       "                                                 OneHotEncoder(handle_unknown=&#x27;ignore&#x27;,\n",
       "                                                               sparse=False))]))])</pre></div></div></div><div class=\"sk-parallel\"><div class=\"sk-parallel-item\"><div class=\"sk-item\"><div class=\"sk-label-container\"><div class=\"sk-label sk-toggleable\"><label>cat_pipeline</label></div></div><div class=\"sk-serial\"><div class=\"sk-item\"><div class=\"sk-serial\"><div class=\"sk-item\"><div class=\"sk-estimator sk-toggleable\"><input class=\"sk-toggleable__control sk-hidden--visually\" id=\"ede57e50-5632-49a2-9d1c-107987f03310\" type=\"checkbox\" ><label for=\"ede57e50-5632-49a2-9d1c-107987f03310\" class=\"sk-toggleable__label sk-toggleable__label-arrow\">DataFrameSelector</label><div class=\"sk-toggleable__content\"><pre>DataFrameSelector(attribute_names=[&#x27;FIRST_CRASH_TYPE&#x27;, &#x27;FIRST_CONTACT_POINT&#x27;,\n",
       "                                   &#x27;MANEUVER&#x27;])</pre></div></div></div><div class=\"sk-item\"><div class=\"sk-estimator sk-toggleable\"><input class=\"sk-toggleable__control sk-hidden--visually\" id=\"2bf8f14a-92f8-4a03-acad-c5fb1d1c70b7\" type=\"checkbox\" ><label for=\"2bf8f14a-92f8-4a03-acad-c5fb1d1c70b7\" class=\"sk-toggleable__label sk-toggleable__label-arrow\">OneHotEncoder</label><div class=\"sk-toggleable__content\"><pre>OneHotEncoder(handle_unknown=&#x27;ignore&#x27;, sparse=False)</pre></div></div></div></div></div></div></div></div></div></div><div class=\"sk-item\"><div class=\"sk-estimator sk-toggleable\"><input class=\"sk-toggleable__control sk-hidden--visually\" id=\"4c7c0b76-bc52-41f8-b98c-3eb7d7c2713c\" type=\"checkbox\" ><label for=\"4c7c0b76-bc52-41f8-b98c-3eb7d7c2713c\" class=\"sk-toggleable__label sk-toggleable__label-arrow\">ExtraTreesClassifier</label><div class=\"sk-toggleable__content\"><pre>ExtraTreesClassifier(max_depth=13, min_samples_leaf=3, min_samples_split=6,\n",
       "                     n_estimators=150)</pre></div></div></div></div></div></div></div></div></div></div></div></div>"
      ],
      "text/plain": [
       "GridSearchCV(cv=2,\n",
       "             estimator=Pipeline(steps=[('fu',\n",
       "                                        FeatureUnion(transformer_list=[('cat_pipeline',\n",
       "                                                                        Pipeline(steps=[('selector',\n",
       "                                                                                         DataFrameSelector(attribute_names=['FIRST_CRASH_TYPE',\n",
       "                                                                                                                            'FIRST_CONTACT_POINT',\n",
       "                                                                                                                            'MANEUVER'])),\n",
       "                                                                                        ('cat_encoder',\n",
       "                                                                                         OneHotEncoder(handle_unknown='ignore',\n",
       "                                                                                                       sparse=False))]))])),\n",
       "                                       ('model',\n",
       "                                        ExtraTreesClassifier(max_depth=13,\n",
       "                                                             min_samples_leaf=3,\n",
       "                                                             min_samples_split=6,\n",
       "                                                             n_estimators=150))]),\n",
       "             param_grid={}, scoring='roc_auc')"
      ]
     },
     "execution_count": 59,
     "metadata": {},
     "output_type": "execute_result"
    }
   ],
   "source": [
    "gs_pipe.fit(X_train, y_train)\n",
    "#gs_pipe.best_params_"
   ]
  },
  {
   "cell_type": "code",
   "execution_count": 60,
   "id": "53456ccf",
   "metadata": {},
   "outputs": [],
   "source": [
    "y_pred_train=gs_pipe.predict(X_train)\n",
    "y_pred_test=gs_pipe.predict(X_test)"
   ]
  },
  {
   "cell_type": "code",
   "execution_count": 61,
   "id": "dadd3bca",
   "metadata": {},
   "outputs": [
    {
     "data": {
      "text/plain": [
       "0.846530375410339"
      ]
     },
     "execution_count": 61,
     "metadata": {},
     "output_type": "execute_result"
    }
   ],
   "source": [
    "gs_pipe.score(X_train, y_train)"
   ]
  },
  {
   "cell_type": "code",
   "execution_count": 62,
   "id": "156d74e8",
   "metadata": {},
   "outputs": [
    {
     "name": "stdout",
     "output_type": "stream",
     "text": [
      "              precision    recall  f1-score   support\n",
      "\n",
      "           0       0.81      0.88      0.84    167884\n",
      "           1       0.74      0.62      0.67     93447\n",
      "\n",
      "    accuracy                           0.79    261331\n",
      "   macro avg       0.77      0.75      0.76    261331\n",
      "weighted avg       0.78      0.79      0.78    261331\n",
      "\n",
      "------------\n",
      "              precision    recall  f1-score   support\n",
      "\n",
      "           0       0.80      0.88      0.84     55962\n",
      "           1       0.73      0.62      0.67     31149\n",
      "\n",
      "    accuracy                           0.78     87111\n",
      "   macro avg       0.77      0.75      0.75     87111\n",
      "weighted avg       0.78      0.78      0.78     87111\n",
      "\n"
     ]
    }
   ],
   "source": [
    "print(classification_report(y_train, y_pred_train))\n",
    "print('------------')\n",
    "print(classification_report(y_test, y_pred_test))"
   ]
  },
  {
   "cell_type": "code",
   "execution_count": 63,
   "id": "fe0a9a55",
   "metadata": {},
   "outputs": [
    {
     "data": {
      "image/png": "[encoded data removed]",
      "text/plain": [
       "<Figure size 936x432 with 4 Axes>"
      ]
     },
     "metadata": {
      "needs_background": "light"
     },
     "output_type": "display_data"
    }
   ],
   "source": [
    "fig, ax = plt.subplots(figsize=(13,6), ncols=2)\n",
    "\n",
    "ConfusionMatrixDisplay.from_predictions(y_test, y_pred_test, normalize='pred', \n",
    "                                        display_labels=[1,0],cmap='pink', ax=ax[0])\n",
    "\n",
    "\n",
    "ConfusionMatrixDisplay.from_predictions(y_test, y_pred_test, normalize='true', \n",
    "                                        display_labels=[1,0],cmap='pink', ax=ax[1]);\n",
    "\n",
    "ax[0].set_title(\"Precision for predictions\")\n",
    "ax[1].set_title(\"Recall for true cases\")\n",
    "\n",
    "ax[0].set_xlabel('Predicted Cases')\n",
    "ax[0].set_ylabel('True Cases')\n",
    "ax[1].set_xlabel('Predicted Cases')\n",
    "ax[1].set_ylabel('True Cases');"
   ]
  },
  {
   "cell_type": "code",
   "execution_count": 64,
   "id": "ac36ae03",
   "metadata": {},
   "outputs": [],
   "source": [
    "# KNN and ExtraForest marginally worse than LogisticRegression and Random Forest, but very similar"
   ]
  },
  {
   "cell_type": "code",
   "execution_count": 65,
   "id": "e3ab955f",
   "metadata": {},
   "outputs": [],
   "source": [
    "## Bayesian is much worse, most likely because of correlation between predictors"
   ]
  }
 ],
 "metadata": {
  "kernelspec": {
   "display_name": "Python 3 (ipykernel)",
   "language": "python",
   "name": "python3"
  },
  "language_info": {
   "codemirror_mode": {
    "name": "ipython",
    "version": 3
   },
   "file_extension": ".py",
   "mimetype": "text/x-python",
   "name": "python",
   "nbconvert_exporter": "python",
   "pygments_lexer": "ipython3",
   "version": "3.7.9"
  }
 },
 "nbformat": 4,
 "nbformat_minor": 5
}
