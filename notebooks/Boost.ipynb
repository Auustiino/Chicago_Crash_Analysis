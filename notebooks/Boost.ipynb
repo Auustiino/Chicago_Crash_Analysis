{
 "cells": [
  {
   "cell_type": "code",
   "execution_count": 1,
   "id": "bdd7f0a4",
   "metadata": {},
   "outputs": [],
   "source": [
    "#from sklearn.experimental import enable_iterative_imputer\n",
    "#from sklearn.preprocessing import FunctionTransformer\n",
    "import pandas as pd\n",
    "import numpy as np\n",
    "\n",
    "from sklearn.impute import SimpleImputer #, IterativeImputer\n",
    "from sklearn.preprocessing import LabelEncoder, OrdinalEncoder, OneHotEncoder, StandardScaler, MaxAbsScaler\n",
    "\n",
    "from sklearn.metrics import precision_score, recall_score, accuracy_score, classification_report, ConfusionMatrixDisplay\n",
    "from sklearn.metrics import roc_auc_score, roc_curve, auc, SCORERS\n",
    "from sklearn.linear_model import LogisticRegression\n",
    "from sklearn.compose import ColumnTransformer\n",
    "from sklearn.pipeline import FeatureUnion, Pipeline\n",
    "from sklearn.model_selection import GridSearchCV, train_test_split\n",
    "from sklearn.tree import DecisionTreeClassifier\n",
    "from sklearn.ensemble import BaggingClassifier, RandomForestClassifier, ExtraTreesClassifier, AdaBoostClassifier\n",
    "from xgboost import XGBClassifier\n",
    "\n",
    "from sklearn import set_config\n",
    "set_config(display =\"diagram\")\n",
    "\n",
    "import matplotlib.pyplot as plt\n",
    "%matplotlib inline"
   ]
  },
  {
   "cell_type": "code",
   "execution_count": 94,
   "id": "4457d4f8",
   "metadata": {},
   "outputs": [],
   "source": [
    "\n",
    "full_df=pd.read_csv('../data/processed/crashes.gz', compression='gzip', low_memory=False)\n",
    "\n"
   ]
  },
  {
   "cell_type": "code",
   "execution_count": 95,
   "id": "95d0b163",
   "metadata": {},
   "outputs": [],
   "source": [
    "selected_df=full_df.dropna(subset=['SAFETY_EQUIPMENT'], axis=0)\n",
    "selected_df=selected_df[full_df['SAFETY_EQUIPMENT'] != 'UNKNOWN']\n",
    "\n",
    "selected_df=full_df[['GUILTY','DEVICE_CONDITION', 'FIRST_CRASH_TYPE', 'FIRST_CONTACT_POINT', \n",
    "           'TRAFFICWAY_TYPE','ROADWAY_SURFACE_COND','VEHICLE_DEFECT',\n",
    "             'DRIVERS_LICENSE_CLASS', 'AGE_GROUP', 'VEHICLE_AGE', 'AIRBAG_DEPLOYED',\n",
    "            'PHYSICAL_CONDITION', 'MANEUVER',  'DRIVER_VISION',  'ALIGNMENT' ,  'TRAFFIC_CONTROL_DEVICE',\n",
    "                    'NUM_PASSENGERS','SUN_GLARE','VEHICLE_YEAR','AGE','SAFETY_EQUIPMENT']]\n",
    "\n",
    "#SAFETY_EQUIPMENT\n",
    "\n",
    "#explore_cat_vars(full_df, 42)"
   ]
  },
  {
   "cell_type": "code",
   "execution_count": 110,
   "id": "9df39de9",
   "metadata": {},
   "outputs": [],
   "source": [
    "sample_df=selected_df.sample(100000, random_state=100)\n",
    "#sample_df=selected_df.copy()\n",
    "\n",
    "y = sample_df['GUILTY']\n",
    "x = sample_df.drop(['GUILTY'],axis=1)\n",
    "\n",
    "X_train, X_test, y_train, y_test = train_test_split(x, y, random_state=100, test_size=0.25, stratify=y)\n",
    "\n"
   ]
  },
  {
   "cell_type": "code",
   "execution_count": 111,
   "id": "fc23606f",
   "metadata": {},
   "outputs": [],
   "source": [
    "numeric_columns = ['AGE']\n",
    "\n",
    "nominal_columns = [ 'FIRST_CRASH_TYPE', 'FIRST_CONTACT_POINT', \n",
    "           'ROADWAY_SURFACE_COND','VEHICLE_DEFECT', \n",
    "           'MANEUVER',   'TRAFFIC_CONTROL_DEVICE', 'SAFETY_EQUIPMENT']\n",
    "\n",
    "# 'AIRBAG_DEPLOYED',  'PHYSICAL_CONDITION', 'AGE_GROUP', 'VEHICLE_AGE', 'DRIVERS_LICENSE_CLASS', \n",
    "#, 'TRAFFICWAY_TYPE', ,'SUN_GLARE' , 'AGE',\n",
    "#'ALIGNMENT' ,  'DEVICE_CONDITION','DRIVER_VISION',\n",
    "#'NUM_PASSENGERS'\n",
    "\n",
    "X_train = X_train[numeric_columns+nominal_columns]\n",
    "X_test = X_test[numeric_columns+nominal_columns]\n",
    "\n",
    "#X_train.info()"
   ]
  },
  {
   "cell_type": "code",
   "execution_count": 112,
   "id": "5250519d",
   "metadata": {},
   "outputs": [],
   "source": [
    "from sklearn.preprocessing import PolynomialFeatures\n",
    "from sklearn.base import BaseEstimator, TransformerMixin\n",
    "\n",
    "class DataFrameSelector(BaseEstimator, TransformerMixin):\n",
    "    def __init__(self, attribute_names):\n",
    "        self.attribute_names=attribute_names\n",
    "    def fit(self, X, y=None):\n",
    "        return self\n",
    "    def transform(self, X):\n",
    "        return X[self.attribute_names].values\n",
    "    \n",
    "\n",
    "num_pipeline = Pipeline([\n",
    "        ('selector', DataFrameSelector(numeric_columns)),\n",
    "#        ('imputer', SimpleImputer(strategy = 'constant', fill_value=0))\n",
    " #       ('std_scaler', StandardScaler())\n",
    " #        ( 'polynomial', PolynomialFeatures(degree = 3, include_bias = False ))\n",
    "        \n",
    "    ])\n",
    "\n",
    "cat_pipeline = Pipeline([\n",
    "        ('selector', DataFrameSelector(nominal_columns)),\n",
    "#        ('imputer', SimpleImputer(strategy = 'most_frequent')),\n",
    "        ('cat_encoder', OneHotEncoder(sparse=False, handle_unknown =  'ignore' )),\n",
    "    ])\n",
    "\n",
    "\n",
    "fu = FeatureUnion(transformer_list=[\n",
    "        (\"num_pipeline\", num_pipeline),\n",
    "        (\"cat_pipeline\", cat_pipeline),\n",
    "    ])\n",
    "\n",
    "\n"
   ]
  },
  {
   "cell_type": "code",
   "execution_count": 113,
   "id": "af5566be",
   "metadata": {
    "scrolled": true
   },
   "outputs": [],
   "source": [
    "#X_train_transformed = fu.fit_transform(X_train[numeric_columns+nominal_columns])\n",
    "#X_train.info(verbose=True, show_counts=True)\n",
    "\n",
    "#columns=fu.transformer_list[1][1][2].get_feature_names_out()\n",
    "#columns=np.insert(columns, 0, 'Intercept')\n",
    "#transformed_df=pd.DataFrame(X_train_transformed, columns=X_train[numeric_columns+nominal_columns].columns)\n",
    "#transformed_df=pd.DataFrame(X_train_transformed)\n",
    "\n",
    "#transformed_df.info()\n",
    "#transformed_df.info(verbose=True, show_counts=True)\n"
   ]
  },
  {
   "cell_type": "code",
   "execution_count": 114,
   "id": "e9429fb2",
   "metadata": {},
   "outputs": [],
   "source": [
    "XGB_pipeline = Pipeline([ ( 'fu', fu ),\n",
    "                  ('boost', XGBClassifier(use_label_encoder=False, \n",
    "                                          eval_metric='auc', gamma= 0.02, max_depth=3, n_estimators=90, n_jobs=-1))\n",
    "                 ])\n",
    "\n"
   ]
  },
  {
   "cell_type": "code",
   "execution_count": 115,
   "id": "b140fb67",
   "metadata": {},
   "outputs": [],
   "source": [
    "pipe_grid={}\n",
    "#pipe_grid={'boost__gamma':[0.01,0.015], 'boost__n_estimators':[110,130,150]}\n",
    "\n",
    "gs_pipe = GridSearchCV(estimator=XGB_pipeline, param_grid=pipe_grid,  cv=2, scoring='roc_auc')\n",
    "\n",
    "#pd.DataFrame(SCORERS.keys())"
   ]
  },
  {
   "cell_type": "code",
   "execution_count": 116,
   "id": "be49a0ca",
   "metadata": {},
   "outputs": [
    {
     "data": {
      "text/html": [
       "<style>#sk-aa8ed60c-9166-407b-a6af-237b67876992 {color: black;background-color: white;}#sk-aa8ed60c-9166-407b-a6af-237b67876992 pre{padding: 0;}#sk-aa8ed60c-9166-407b-a6af-237b67876992 div.sk-toggleable {background-color: white;}#sk-aa8ed60c-9166-407b-a6af-237b67876992 label.sk-toggleable__label {cursor: pointer;display: block;width: 100%;margin-bottom: 0;padding: 0.3em;box-sizing: border-box;text-align: center;}#sk-aa8ed60c-9166-407b-a6af-237b67876992 label.sk-toggleable__label-arrow:before {content: \"▸\";float: left;margin-right: 0.25em;color: #696969;}#sk-aa8ed60c-9166-407b-a6af-237b67876992 label.sk-toggleable__label-arrow:hover:before {color: black;}#sk-aa8ed60c-9166-407b-a6af-237b67876992 div.sk-estimator:hover label.sk-toggleable__label-arrow:before {color: black;}#sk-aa8ed60c-9166-407b-a6af-237b67876992 div.sk-toggleable__content {max-height: 0;max-width: 0;overflow: hidden;text-align: left;background-color: #f0f8ff;}#sk-aa8ed60c-9166-407b-a6af-237b67876992 div.sk-toggleable__content pre {margin: 0.2em;color: black;border-radius: 0.25em;background-color: #f0f8ff;}#sk-aa8ed60c-9166-407b-a6af-237b67876992 input.sk-toggleable__control:checked~div.sk-toggleable__content {max-height: 200px;max-width: 100%;overflow: auto;}#sk-aa8ed60c-9166-407b-a6af-237b67876992 input.sk-toggleable__control:checked~label.sk-toggleable__label-arrow:before {content: \"▾\";}#sk-aa8ed60c-9166-407b-a6af-237b67876992 div.sk-estimator input.sk-toggleable__control:checked~label.sk-toggleable__label {background-color: #d4ebff;}#sk-aa8ed60c-9166-407b-a6af-237b67876992 div.sk-label input.sk-toggleable__control:checked~label.sk-toggleable__label {background-color: #d4ebff;}#sk-aa8ed60c-9166-407b-a6af-237b67876992 input.sk-hidden--visually {border: 0;clip: rect(1px 1px 1px 1px);clip: rect(1px, 1px, 1px, 1px);height: 1px;margin: -1px;overflow: hidden;padding: 0;position: absolute;width: 1px;}#sk-aa8ed60c-9166-407b-a6af-237b67876992 div.sk-estimator {font-family: monospace;background-color: #f0f8ff;border: 1px dotted black;border-radius: 0.25em;box-sizing: border-box;margin-bottom: 0.5em;}#sk-aa8ed60c-9166-407b-a6af-237b67876992 div.sk-estimator:hover {background-color: #d4ebff;}#sk-aa8ed60c-9166-407b-a6af-237b67876992 div.sk-parallel-item::after {content: \"\";width: 100%;border-bottom: 1px solid gray;flex-grow: 1;}#sk-aa8ed60c-9166-407b-a6af-237b67876992 div.sk-label:hover label.sk-toggleable__label {background-color: #d4ebff;}#sk-aa8ed60c-9166-407b-a6af-237b67876992 div.sk-serial::before {content: \"\";position: absolute;border-left: 1px solid gray;box-sizing: border-box;top: 2em;bottom: 0;left: 50%;}#sk-aa8ed60c-9166-407b-a6af-237b67876992 div.sk-serial {display: flex;flex-direction: column;align-items: center;background-color: white;padding-right: 0.2em;padding-left: 0.2em;}#sk-aa8ed60c-9166-407b-a6af-237b67876992 div.sk-item {z-index: 1;}#sk-aa8ed60c-9166-407b-a6af-237b67876992 div.sk-parallel {display: flex;align-items: stretch;justify-content: center;background-color: white;}#sk-aa8ed60c-9166-407b-a6af-237b67876992 div.sk-parallel::before {content: \"\";position: absolute;border-left: 1px solid gray;box-sizing: border-box;top: 2em;bottom: 0;left: 50%;}#sk-aa8ed60c-9166-407b-a6af-237b67876992 div.sk-parallel-item {display: flex;flex-direction: column;position: relative;background-color: white;}#sk-aa8ed60c-9166-407b-a6af-237b67876992 div.sk-parallel-item:first-child::after {align-self: flex-end;width: 50%;}#sk-aa8ed60c-9166-407b-a6af-237b67876992 div.sk-parallel-item:last-child::after {align-self: flex-start;width: 50%;}#sk-aa8ed60c-9166-407b-a6af-237b67876992 div.sk-parallel-item:only-child::after {width: 0;}#sk-aa8ed60c-9166-407b-a6af-237b67876992 div.sk-dashed-wrapped {border: 1px dashed gray;margin: 0 0.4em 0.5em 0.4em;box-sizing: border-box;padding-bottom: 0.4em;background-color: white;position: relative;}#sk-aa8ed60c-9166-407b-a6af-237b67876992 div.sk-label label {font-family: monospace;font-weight: bold;background-color: white;display: inline-block;line-height: 1.2em;}#sk-aa8ed60c-9166-407b-a6af-237b67876992 div.sk-label-container {position: relative;z-index: 2;text-align: center;}#sk-aa8ed60c-9166-407b-a6af-237b67876992 div.sk-container {/* jupyter's `normalize.less` sets `[hidden] { display: none; }` but bootstrap.min.css set `[hidden] { display: none !important; }` so we also need the `!important` here to be able to override the default hidden behavior on the sphinx rendered scikit-learn.org. See: https://github.com/scikit-learn/scikit-learn/issues/21755 */display: inline-block !important;position: relative;}#sk-aa8ed60c-9166-407b-a6af-237b67876992 div.sk-text-repr-fallback {display: none;}</style><div id=\"sk-aa8ed60c-9166-407b-a6af-237b67876992\" class=\"sk-top-container\"><div class=\"sk-text-repr-fallback\"><pre>GridSearchCV(cv=2,\n",
       "             estimator=Pipeline(steps=[(&#x27;fu&#x27;,\n",
       "                                        FeatureUnion(transformer_list=[(&#x27;num_pipeline&#x27;,\n",
       "                                                                        Pipeline(steps=[(&#x27;selector&#x27;,\n",
       "                                                                                         DataFrameSelector(attribute_names=[&#x27;AGE&#x27;]))])),\n",
       "                                                                       (&#x27;cat_pipeline&#x27;,\n",
       "                                                                        Pipeline(steps=[(&#x27;selector&#x27;,\n",
       "                                                                                         DataFrameSelector(attribute_names=[&#x27;FIRST_CRASH_TYPE&#x27;,\n",
       "                                                                                                                            &#x27;FIRST_CONTACT_POINT&#x27;,\n",
       "                                                                                                                            &#x27;ROADWAY_SURFACE_COND&#x27;,\n",
       "                                                                                                                            &#x27;VEHICLE_DEFECT&#x27;,\n",
       "                                                                                                                            &#x27;MANEUVER&#x27;,\n",
       "                                                                                                                            &#x27;TRAFFI...\n",
       "                                                      max_delta_step=None,\n",
       "                                                      max_depth=3,\n",
       "                                                      min_child_weight=None,\n",
       "                                                      missing=nan,\n",
       "                                                      monotone_constraints=None,\n",
       "                                                      n_estimators=90,\n",
       "                                                      n_jobs=-1,\n",
       "                                                      num_parallel_tree=None,\n",
       "                                                      predictor=None,\n",
       "                                                      random_state=None,\n",
       "                                                      reg_alpha=None,\n",
       "                                                      reg_lambda=None,\n",
       "                                                      scale_pos_weight=None,\n",
       "                                                      subsample=None,\n",
       "                                                      tree_method=None,\n",
       "                                                      use_label_encoder=False,\n",
       "                                                      validate_parameters=None,\n",
       "                                                      verbosity=None))]),\n",
       "             param_grid={}, scoring=&#x27;roc_auc&#x27;)</pre><b>Please rerun this cell to show the HTML repr or trust the notebook.</b></div><div class=\"sk-container\" hidden><div class=\"sk-item sk-dashed-wrapped\"><div class=\"sk-label-container\"><div class=\"sk-label sk-toggleable\"><input class=\"sk-toggleable__control sk-hidden--visually\" id=\"90dc445b-4b79-45d6-a982-da7f07c4c65b\" type=\"checkbox\" ><label for=\"90dc445b-4b79-45d6-a982-da7f07c4c65b\" class=\"sk-toggleable__label sk-toggleable__label-arrow\">GridSearchCV</label><div class=\"sk-toggleable__content\"><pre>GridSearchCV(cv=2,\n",
       "             estimator=Pipeline(steps=[(&#x27;fu&#x27;,\n",
       "                                        FeatureUnion(transformer_list=[(&#x27;num_pipeline&#x27;,\n",
       "                                                                        Pipeline(steps=[(&#x27;selector&#x27;,\n",
       "                                                                                         DataFrameSelector(attribute_names=[&#x27;AGE&#x27;]))])),\n",
       "                                                                       (&#x27;cat_pipeline&#x27;,\n",
       "                                                                        Pipeline(steps=[(&#x27;selector&#x27;,\n",
       "                                                                                         DataFrameSelector(attribute_names=[&#x27;FIRST_CRASH_TYPE&#x27;,\n",
       "                                                                                                                            &#x27;FIRST_CONTACT_POINT&#x27;,\n",
       "                                                                                                                            &#x27;ROADWAY_SURFACE_COND&#x27;,\n",
       "                                                                                                                            &#x27;VEHICLE_DEFECT&#x27;,\n",
       "                                                                                                                            &#x27;MANEUVER&#x27;,\n",
       "                                                                                                                            &#x27;TRAFFI...\n",
       "                                                      max_delta_step=None,\n",
       "                                                      max_depth=3,\n",
       "                                                      min_child_weight=None,\n",
       "                                                      missing=nan,\n",
       "                                                      monotone_constraints=None,\n",
       "                                                      n_estimators=90,\n",
       "                                                      n_jobs=-1,\n",
       "                                                      num_parallel_tree=None,\n",
       "                                                      predictor=None,\n",
       "                                                      random_state=None,\n",
       "                                                      reg_alpha=None,\n",
       "                                                      reg_lambda=None,\n",
       "                                                      scale_pos_weight=None,\n",
       "                                                      subsample=None,\n",
       "                                                      tree_method=None,\n",
       "                                                      use_label_encoder=False,\n",
       "                                                      validate_parameters=None,\n",
       "                                                      verbosity=None))]),\n",
       "             param_grid={}, scoring=&#x27;roc_auc&#x27;)</pre></div></div></div><div class=\"sk-parallel\"><div class=\"sk-parallel-item\"><div class=\"sk-item\"><div class=\"sk-serial\"><div class=\"sk-item\"><div class=\"sk-serial\"><div class=\"sk-item sk-dashed-wrapped\"><div class=\"sk-label-container\"><div class=\"sk-label sk-toggleable\"><input class=\"sk-toggleable__control sk-hidden--visually\" id=\"a766a88a-9a1f-4f21-8965-40af724a03d6\" type=\"checkbox\" ><label for=\"a766a88a-9a1f-4f21-8965-40af724a03d6\" class=\"sk-toggleable__label sk-toggleable__label-arrow\">fu: FeatureUnion</label><div class=\"sk-toggleable__content\"><pre>FeatureUnion(transformer_list=[(&#x27;num_pipeline&#x27;,\n",
       "                                Pipeline(steps=[(&#x27;selector&#x27;,\n",
       "                                                 DataFrameSelector(attribute_names=[&#x27;AGE&#x27;]))])),\n",
       "                               (&#x27;cat_pipeline&#x27;,\n",
       "                                Pipeline(steps=[(&#x27;selector&#x27;,\n",
       "                                                 DataFrameSelector(attribute_names=[&#x27;FIRST_CRASH_TYPE&#x27;,\n",
       "                                                                                    &#x27;FIRST_CONTACT_POINT&#x27;,\n",
       "                                                                                    &#x27;ROADWAY_SURFACE_COND&#x27;,\n",
       "                                                                                    &#x27;VEHICLE_DEFECT&#x27;,\n",
       "                                                                                    &#x27;MANEUVER&#x27;,\n",
       "                                                                                    &#x27;TRAFFIC_CONTROL_DEVICE&#x27;,\n",
       "                                                                                    &#x27;SAFETY_EQUIPMENT&#x27;])),\n",
       "                                                (&#x27;cat_encoder&#x27;,\n",
       "                                                 OneHotEncoder(handle_unknown=&#x27;ignore&#x27;,\n",
       "                                                               sparse=False))]))])</pre></div></div></div><div class=\"sk-parallel\"><div class=\"sk-parallel-item\"><div class=\"sk-item\"><div class=\"sk-label-container\"><div class=\"sk-label sk-toggleable\"><label>num_pipeline</label></div></div><div class=\"sk-serial\"><div class=\"sk-item\"><div class=\"sk-serial\"><div class=\"sk-item\"><div class=\"sk-estimator sk-toggleable\"><input class=\"sk-toggleable__control sk-hidden--visually\" id=\"2c16bd4d-27cc-4940-b93a-691983b75a77\" type=\"checkbox\" ><label for=\"2c16bd4d-27cc-4940-b93a-691983b75a77\" class=\"sk-toggleable__label sk-toggleable__label-arrow\">DataFrameSelector</label><div class=\"sk-toggleable__content\"><pre>DataFrameSelector(attribute_names=[&#x27;AGE&#x27;])</pre></div></div></div></div></div></div></div></div><div class=\"sk-parallel-item\"><div class=\"sk-item\"><div class=\"sk-label-container\"><div class=\"sk-label sk-toggleable\"><label>cat_pipeline</label></div></div><div class=\"sk-serial\"><div class=\"sk-item\"><div class=\"sk-serial\"><div class=\"sk-item\"><div class=\"sk-estimator sk-toggleable\"><input class=\"sk-toggleable__control sk-hidden--visually\" id=\"094c856b-7e10-4657-addb-400507899a1a\" type=\"checkbox\" ><label for=\"094c856b-7e10-4657-addb-400507899a1a\" class=\"sk-toggleable__label sk-toggleable__label-arrow\">DataFrameSelector</label><div class=\"sk-toggleable__content\"><pre>DataFrameSelector(attribute_names=[&#x27;FIRST_CRASH_TYPE&#x27;, &#x27;FIRST_CONTACT_POINT&#x27;,\n",
       "                                   &#x27;ROADWAY_SURFACE_COND&#x27;, &#x27;VEHICLE_DEFECT&#x27;,\n",
       "                                   &#x27;MANEUVER&#x27;, &#x27;TRAFFIC_CONTROL_DEVICE&#x27;,\n",
       "                                   &#x27;SAFETY_EQUIPMENT&#x27;])</pre></div></div></div><div class=\"sk-item\"><div class=\"sk-estimator sk-toggleable\"><input class=\"sk-toggleable__control sk-hidden--visually\" id=\"68b16705-645d-4376-b393-eaae31e3397c\" type=\"checkbox\" ><label for=\"68b16705-645d-4376-b393-eaae31e3397c\" class=\"sk-toggleable__label sk-toggleable__label-arrow\">OneHotEncoder</label><div class=\"sk-toggleable__content\"><pre>OneHotEncoder(handle_unknown=&#x27;ignore&#x27;, sparse=False)</pre></div></div></div></div></div></div></div></div></div></div><div class=\"sk-item\"><div class=\"sk-estimator sk-toggleable\"><input class=\"sk-toggleable__control sk-hidden--visually\" id=\"ef679faf-6f51-4056-b52e-15ce133a147c\" type=\"checkbox\" ><label for=\"ef679faf-6f51-4056-b52e-15ce133a147c\" class=\"sk-toggleable__label sk-toggleable__label-arrow\">XGBClassifier</label><div class=\"sk-toggleable__content\"><pre>XGBClassifier(base_score=None, booster=None, colsample_bylevel=None,\n",
       "              colsample_bynode=None, colsample_bytree=None,\n",
       "              enable_categorical=False, eval_metric=&#x27;auc&#x27;, gamma=0.02,\n",
       "              gpu_id=None, importance_type=None, interaction_constraints=None,\n",
       "              learning_rate=None, max_delta_step=None, max_depth=3,\n",
       "              min_child_weight=None, missing=nan, monotone_constraints=None,\n",
       "              n_estimators=90, n_jobs=-1, num_parallel_tree=None,\n",
       "              predictor=None, random_state=None, reg_alpha=None,\n",
       "              reg_lambda=None, scale_pos_weight=None, subsample=None,\n",
       "              tree_method=None, use_label_encoder=False,\n",
       "              validate_parameters=None, verbosity=None)</pre></div></div></div></div></div></div></div></div></div></div></div></div>"
      ],
      "text/plain": [
       "GridSearchCV(cv=2,\n",
       "             estimator=Pipeline(steps=[('fu',\n",
       "                                        FeatureUnion(transformer_list=[('num_pipeline',\n",
       "                                                                        Pipeline(steps=[('selector',\n",
       "                                                                                         DataFrameSelector(attribute_names=['AGE']))])),\n",
       "                                                                       ('cat_pipeline',\n",
       "                                                                        Pipeline(steps=[('selector',\n",
       "                                                                                         DataFrameSelector(attribute_names=['FIRST_CRASH_TYPE',\n",
       "                                                                                                                            'FIRST_CONTACT_POINT',\n",
       "                                                                                                                            'ROADWAY_SURFACE_COND',\n",
       "                                                                                                                            'VEHICLE_DEFECT',\n",
       "                                                                                                                            'MANEUVER',\n",
       "                                                                                                                            'TRAFFI...\n",
       "                                                      max_delta_step=None,\n",
       "                                                      max_depth=3,\n",
       "                                                      min_child_weight=None,\n",
       "                                                      missing=nan,\n",
       "                                                      monotone_constraints=None,\n",
       "                                                      n_estimators=90,\n",
       "                                                      n_jobs=-1,\n",
       "                                                      num_parallel_tree=None,\n",
       "                                                      predictor=None,\n",
       "                                                      random_state=None,\n",
       "                                                      reg_alpha=None,\n",
       "                                                      reg_lambda=None,\n",
       "                                                      scale_pos_weight=None,\n",
       "                                                      subsample=None,\n",
       "                                                      tree_method=None,\n",
       "                                                      use_label_encoder=False,\n",
       "                                                      validate_parameters=None,\n",
       "                                                      verbosity=None))]),\n",
       "             param_grid={}, scoring='roc_auc')"
      ]
     },
     "execution_count": 116,
     "metadata": {},
     "output_type": "execute_result"
    }
   ],
   "source": [
    "gs_pipe.fit(X_train, y_train)\n",
    "#XGB_pipeline.fit(X_train, y_train)"
   ]
  },
  {
   "cell_type": "code",
   "execution_count": 117,
   "id": "8cb65859",
   "metadata": {},
   "outputs": [],
   "source": [
    "y_pred_train=gs_pipe.predict(X_train)\n",
    "y_pred_test=gs_pipe.predict(X_test)\n",
    "\n",
    "#y_pred_train=XGB_pipeline.predict(X_train)\n",
    "#y_pred_test=XGB_pipeline.predict(X_test)"
   ]
  },
  {
   "cell_type": "code",
   "execution_count": 118,
   "id": "6046a1de",
   "metadata": {},
   "outputs": [
    {
     "data": {
      "text/plain": [
       "{}"
      ]
     },
     "execution_count": 118,
     "metadata": {},
     "output_type": "execute_result"
    }
   ],
   "source": [
    "gs_pipe.best_params_\n",
    "\n"
   ]
  },
  {
   "cell_type": "code",
   "execution_count": 119,
   "id": "6e60211c",
   "metadata": {
    "scrolled": true
   },
   "outputs": [
    {
     "name": "stdout",
     "output_type": "stream",
     "text": [
      "0.855586760303131\n",
      "              precision    recall  f1-score   support\n",
      "\n",
      "           0       0.82      0.87      0.85     48863\n",
      "           1       0.73      0.65      0.69     26137\n",
      "\n",
      "    accuracy                           0.80     75000\n",
      "   macro avg       0.78      0.76      0.77     75000\n",
      "weighted avg       0.79      0.80      0.79     75000\n",
      "\n",
      "------------\n",
      "              precision    recall  f1-score   support\n",
      "\n",
      "           0       0.82      0.87      0.85     16288\n",
      "           1       0.73      0.65      0.69      8712\n",
      "\n",
      "    accuracy                           0.79     25000\n",
      "   macro avg       0.78      0.76      0.77     25000\n",
      "weighted avg       0.79      0.79      0.79     25000\n",
      "\n"
     ]
    }
   ],
   "source": [
    "#print(XGB_pipeline.score(X_train, y_train ))\n",
    "print(gs_pipe.score(X_train, y_train ))\n",
    "print(classification_report(y_train, y_pred_train))\n",
    "print('------------')\n",
    "print(classification_report(y_test, y_pred_test))"
   ]
  },
  {
   "cell_type": "code",
   "execution_count": 616,
   "id": "b7edebf5",
   "metadata": {},
   "outputs": [
    {
     "ename": "IndentationError",
     "evalue": "unindent does not match any outer indentation level (<tokenize>, line 4)",
     "output_type": "error",
     "traceback": [
      "\u001b[1;36m  File \u001b[1;32m\"<tokenize>\"\u001b[1;36m, line \u001b[1;32m4\u001b[0m\n\u001b[1;33m    0       0.84      0.89      0.86      3951\u001b[0m\n\u001b[1;37m    ^\u001b[0m\n\u001b[1;31mIndentationError\u001b[0m\u001b[1;31m:\u001b[0m unindent does not match any outer indentation level\n"
     ]
    }
   ],
   "source": [
    "0.8773987570283558\n",
    "              precision    recall  f1-score   support\n",
    "\n",
    "           0       0.84      0.89      0.86      3951\n",
    "           1       0.76      0.68      0.72      2049\n",
    "\n",
    "    accuracy                           0.82      6000\n",
    "   macro avg       0.80      0.78      0.79      6000\n",
    "weighted avg       0.81      0.82      0.81      6000\n",
    "\n",
    "------------\n",
    "              precision    recall  f1-score   support\n",
    "\n",
    "           0       0.82      0.88      0.85      1317\n",
    "           1       0.73      0.62      0.67       683\n",
    "\n",
    "    accuracy                           0.79      2000\n",
    "   macro avg       0.78      0.75      0.76      2000\n",
    "weighted avg       0.79      0.79      0.79      2000"
   ]
  },
  {
   "cell_type": "code",
   "execution_count": 41,
   "id": "42e2f4b3",
   "metadata": {},
   "outputs": [],
   "source": [
    "def explore_cat_vars(df, n):\n",
    "    col_counts=pd.DataFrame(df.nunique(),).reset_index()\n",
    "    col_counts.columns=([\"Col_Name\", \"Count\"])\n",
    "    for col in col_counts[col_counts['Count'] < n]['Col_Name']:\n",
    "        print('--------------------------------------')\n",
    "        print(col)\n",
    "        print('--------------------------------------')\n",
    "        print(df[col].value_counts())\n",
    "    print(\"=================================================================================================\")\n",
    "    print(col_counts[col_counts['Count'] >= n])"
   ]
  }
 ],
 "metadata": {
  "kernelspec": {
   "display_name": "Python 3 (ipykernel)",
   "language": "python",
   "name": "python3"
  },
  "language_info": {
   "codemirror_mode": {
    "name": "ipython",
    "version": 3
   },
   "file_extension": ".py",
   "mimetype": "text/x-python",
   "name": "python",
   "nbconvert_exporter": "python",
   "pygments_lexer": "ipython3",
   "version": "3.9.7"
  }
 },
 "nbformat": 4,
 "nbformat_minor": 5
}
