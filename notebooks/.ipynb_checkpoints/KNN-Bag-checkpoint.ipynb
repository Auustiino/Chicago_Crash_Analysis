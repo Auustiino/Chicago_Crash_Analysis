{
 "cells": [
  {
   "cell_type": "code",
   "execution_count": 2,
   "id": "bdd7f0a4",
   "metadata": {},
   "outputs": [],
   "source": [
    "#from sklearn.experimental import enable_iterative_imputer\n",
    "#from sklearn.preprocessing import FunctionTransformer\n",
    "import pandas as pd\n",
    "import numpy as np\n",
    "\n",
    "from sklearn.impute import SimpleImputer #, IterativeImputer\n",
    "from sklearn.preprocessing import LabelEncoder, OrdinalEncoder, OneHotEncoder, StandardScaler, MaxAbsScaler\n",
    "from sklearn.metrics import precision_score, recall_score, accuracy_score, classification_report, ConfusionMatrixDisplay\n",
    "from sklearn.metrics import roc_auc_score, roc_curve, auc\n",
    "\n",
    "from sklearn.linear_model import LogisticRegression\n",
    "from sklearn.neighbors import KNeighborsClassifier\n",
    "from sklearn.tree import DecisionTreeClassifier\n",
    "from sklearn.ensemble import BaggingClassifier, RandomForestClassifier, ExtraTreesClassifier, AdaBoostClassifier\n",
    "from sklearn.model_selection import GridSearchCV, train_test_split\n",
    "\n",
    "from sklearn.compose import ColumnTransformer\n",
    "from sklearn.pipeline import FeatureUnion, Pipeline\n",
    "\n",
    "\n",
    "from sklearn import set_config\n",
    "set_config(display =\"diagram\")\n",
    "\n",
    "import matplotlib.pyplot as plt\n",
    "%matplotlib inline"
   ]
  },
  {
   "cell_type": "code",
   "execution_count": 3,
   "id": "4457d4f8",
   "metadata": {},
   "outputs": [],
   "source": [
    "\n",
    "full_df=pd.read_csv('../data/processed/crashes.gz', compression='gzip', low_memory=False)"
   ]
  },
  {
   "cell_type": "code",
   "execution_count": 118,
   "id": "57c929aa",
   "metadata": {},
   "outputs": [],
   "source": [
    "selected_df=full_df[['GUILTY','DEVICE_CONDITION', 'FIRST_CRASH_TYPE', 'FIRST_CONTACT_POINT', \n",
    "           'TRAFFICWAY_TYPE','ROADWAY_SURFACE_COND','VEHICLE_DEFECT',\n",
    "             'DRIVERS_LICENSE_CLASS', 'AGE_GROUP', 'VEHICLE_AGE', 'AIRBAG_DEPLOYED',\n",
    "            'PHYSICAL_CONDITION', 'MANEUVER',  'DRIVER_VISION',  'ALIGNMENT' ,  'TRAFFIC_CONTROL_DEVICE',\n",
    "                    'NUM_PASSENGERS','SUN_GLARE','VEHICLE_YEAR']]\n"
   ]
  },
  {
   "cell_type": "code",
   "execution_count": 119,
   "id": "9df39de9",
   "metadata": {},
   "outputs": [],
   "source": [
    "#sample_df=selected_df.sample(80000, random_state=100)\n",
    "sample_df=selected_df.copy()\n",
    "\n",
    "\n",
    "y = sample_df['GUILTY']\n",
    "x = sample_df.drop(['GUILTY'],axis=1)\n",
    "\n",
    "X_train, X_test, y_train, y_test = train_test_split(x, y, random_state=100, test_size=0.25, stratify=y)\n"
   ]
  },
  {
   "cell_type": "code",
   "execution_count": 120,
   "id": "fc23606f",
   "metadata": {},
   "outputs": [],
   "source": [
    "numeric_columns = []\n",
    "\n",
    "#nominal_columns = [ 'FIRST_CRASH_TYPE', 'FIRST_CONTACT_POINT', \n",
    "#           'ROADWAY_SURFACE_COND','VEHICLE_DEFECT', 'AIRBAG_DEPLOYED',\n",
    "#             'DRIVERS_LICENSE_CLASS',  'VEHICLE_AGE', \n",
    "#            'PHYSICAL_CONDITION', 'MANEUVER',   'TRAFFIC_CONTROL_DEVICE']\n",
    "\n",
    "nominal_columns = [ 'FIRST_CRASH_TYPE', 'FIRST_CONTACT_POINT', 'MANEUVER']\n",
    "\n",
    "#'AGE_GROUP', 'TRAFFICWAY_TYPE', ,'SUN_GLARE'\n",
    "#'ALIGNMENT' ,  'DEVICE_CONDITION','DRIVER_VISION', \n",
    "\n",
    "X_train = X_train[numeric_columns+nominal_columns]\n",
    "X_test = X_test[numeric_columns+nominal_columns]\n",
    "\n",
    "X_train=X_train.apply(LabelEncoder().fit_transform)\n",
    "X_test=X_test.apply(LabelEncoder().fit_transform)"
   ]
  },
  {
   "cell_type": "code",
   "execution_count": 121,
   "id": "5250519d",
   "metadata": {},
   "outputs": [],
   "source": [
    "from sklearn.base import BaseEstimator, TransformerMixin\n",
    "\n",
    "class DataFrameSelector(BaseEstimator, TransformerMixin):\n",
    "    def __init__(self, attribute_names):\n",
    "        self.attribute_names=attribute_names\n",
    "    def fit(self, X, y=None):\n",
    "        return self\n",
    "    def transform(self, X):\n",
    "        return X[self.attribute_names].values\n",
    "    \n",
    "\n",
    "num_pipeline = Pipeline([\n",
    "        ('selector', DataFrameSelector(numeric_columns)),\n",
    "        ('imputer', SimpleImputer(strategy = 'constant', fill_value=0))\n",
    " #       ('std_scaler', StandardScaler())\n",
    "    ])\n",
    "\n",
    "cat_pipeline = Pipeline([\n",
    "        ('selector', DataFrameSelector(nominal_columns)),\n",
    "#        ('imputer', SimpleImputer(strategy = 'constant', fill_value='NA')),\n",
    "#        ('cat_encoder', OneHotEncoder(sparse=False, handle_unknown =  'ignore' )),\n",
    "    ])\n",
    "\n",
    "\n",
    "fu = FeatureUnion(transformer_list=[\n",
    "#        (\"num_pipeline\", num_pipeline),\n",
    "        (\"cat_pipeline\", cat_pipeline),\n",
    "    ])\n",
    "\n",
    "\n"
   ]
  },
  {
   "cell_type": "code",
   "execution_count": 122,
   "id": "af5566be",
   "metadata": {
    "scrolled": true
   },
   "outputs": [],
   "source": [
    "X_train_transformed = fu.fit_transform(X_train)\n",
    "#X_train.info(verbose=True, show_counts=True)\n",
    "\n",
    "#columns=fu.transformer_list[1][1][2].get_feature_names_out()\n",
    "#columns=np.insert(columns, 0, 'Intercept')\n",
    "#transformed_df=pd.DataFrame(X_train_transformed, columns=X_train[numeric_columns+nominal_columns].columns)\n",
    "transformed_df=pd.DataFrame(X_train_transformed)\n",
    "\n",
    "#transformed_df.info(verbose=True, show_counts=True)\n",
    "#transformed_df.info()"
   ]
  },
  {
   "cell_type": "code",
   "execution_count": 123,
   "id": "e919d0b5",
   "metadata": {},
   "outputs": [],
   "source": [
    "extra_tree_pipe = Pipeline([\n",
    "                          ('fu', fu),\n",
    "                          ('model',KNeighborsClassifier( n_jobs=-1 , n_neighbors=34, weights='uniform', p=1)),\n",
    "                              ])\n"
   ]
  },
  {
   "cell_type": "code",
   "execution_count": 124,
   "id": "b140fb67",
   "metadata": {},
   "outputs": [],
   "source": [
    "#pipe_grid = { 'model__min_samples_split':[4,6,8,12,24]}\n",
    "\n",
    "#pipe_grid = {'model__n_neighbors':[33,34,35,36,37], 'model__weights': ['uniform'],\n",
    "#             'model__p':[1] }\n",
    "\n",
    "\n",
    "gs_pipe = GridSearchCV(estimator=extra_tree_pipe, \n",
    "                       param_grid=pipe_grid, cv=2, scoring='roc_auc')\n",
    "\n",
    "pipe_grid = {}"
   ]
  },
  {
   "cell_type": "code",
   "execution_count": 125,
   "id": "be49a0ca",
   "metadata": {},
   "outputs": [
    {
     "data": {
      "text/plain": [
       "{}"
      ]
     },
     "execution_count": 125,
     "metadata": {},
     "output_type": "execute_result"
    }
   ],
   "source": [
    "gs_pipe.fit(X_train, y_train)\n",
    "gs_pipe.best_params_"
   ]
  },
  {
   "cell_type": "code",
   "execution_count": 126,
   "id": "8cb65859",
   "metadata": {},
   "outputs": [],
   "source": [
    "y_pred_train=gs_pipe.predict(X_train)\n",
    "y_pred_test=gs_pipe.predict(X_test)"
   ]
  },
  {
   "cell_type": "code",
   "execution_count": 127,
   "id": "6046a1de",
   "metadata": {},
   "outputs": [
    {
     "data": {
      "text/plain": [
       "0.8433031851506004"
      ]
     },
     "execution_count": 127,
     "metadata": {},
     "output_type": "execute_result"
    }
   ],
   "source": [
    "gs_pipe.score(X_train, y_train)"
   ]
  },
  {
   "cell_type": "code",
   "execution_count": 128,
   "id": "6e60211c",
   "metadata": {},
   "outputs": [
    {
     "name": "stdout",
     "output_type": "stream",
     "text": [
      "              precision    recall  f1-score   support\n",
      "\n",
      "           0       0.83      0.86      0.84    149107\n",
      "           1       0.71      0.67      0.69     79432\n",
      "\n",
      "    accuracy                           0.79    228539\n",
      "   macro avg       0.77      0.76      0.77    228539\n",
      "weighted avg       0.79      0.79      0.79    228539\n",
      "\n",
      "------------\n",
      "              precision    recall  f1-score   support\n",
      "\n",
      "           0       0.82      0.85      0.84     49703\n",
      "           1       0.70      0.66      0.68     26477\n",
      "\n",
      "    accuracy                           0.79     76180\n",
      "   macro avg       0.76      0.76      0.76     76180\n",
      "weighted avg       0.78      0.79      0.78     76180\n",
      "\n"
     ]
    }
   ],
   "source": [
    "print(classification_report(y_train, y_pred_train))\n",
    "print('------------')\n",
    "print(classification_report(y_test, y_pred_test))"
   ]
  },
  {
   "cell_type": "code",
   "execution_count": null,
   "id": "b7edebf5",
   "metadata": {},
   "outputs": [],
   "source": []
  },
  {
   "cell_type": "code",
   "execution_count": 77,
   "id": "d1bc3048",
   "metadata": {},
   "outputs": [],
   "source": [
    "#bagged_tree_pipe.fit(X_train, y_train)\n",
    "#y_pred_test = bagged_tree_pipe.predict(X_test)\n",
    "#y_pred_train = bagged_tree_pipe.predict(X_train)\n",
    "\n",
    "#print(classification_report(y_train, y_pred_train))\n",
    "#print('------------')\n",
    "#print(classification_report(y_test, y_pred_test))\n"
   ]
  }
 ],
 "metadata": {
  "kernelspec": {
   "display_name": "Python 3 (ipykernel)",
   "language": "python",
   "name": "python3"
  },
  "language_info": {
   "codemirror_mode": {
    "name": "ipython",
    "version": 3
   },
   "file_extension": ".py",
   "mimetype": "text/x-python",
   "name": "python",
   "nbconvert_exporter": "python",
   "pygments_lexer": "ipython3",
   "version": "3.9.7"
  }
 },
 "nbformat": 4,
 "nbformat_minor": 5
}
