{
 "cells": [
  {
   "cell_type": "code",
   "execution_count": 1,
   "id": "12f7b9dc",
   "metadata": {},
   "outputs": [],
   "source": [
    "import pandas as pd\n",
    "import numpy as np\n",
    "from datetime import datetime, timedelta, timezone, date\n",
    "from pysolar.solar import *\n",
    "from zoneinfo import ZoneInfo\n",
    "from dateutil import tz\n",
    "#import datetime\n",
    "#import zoneinfo\n",
    "\n",
    "pd.set_option('display.max_columns', 80)\n",
    "pd.set_option('display.max_rows', 200)\n",
    "\n",
    "People_df=pd.read_csv(\"../data/raw/Traffic_Crashes_-_People.csv.gz\", low_memory=False, compression='gzip')\n",
    "Crashes_df=pd.read_csv(\"../data/raw/Traffic_Crashes_-_Crashes.csv.gz\",low_memory=False, compression='gzip')\n",
    "Vehicle_df=pd.read_csv(\"../data/raw/Traffic_Crashes_-_Vehicles.csv.gz\",low_memory=False, compression='gzip')\n"
   ]
  },
  {
   "cell_type": "code",
   "execution_count": 174,
   "id": "294993a9",
   "metadata": {},
   "outputs": [],
   "source": [
    "Crashes=Crashes_df.copy()\n",
    "People=People_df.copy()\n",
    "Vehicle=Vehicle_df.copy()\n",
    "\n",
    "# INITIAL FILTERING BEFORE the JOIN, FOR PERFORMANCE REASONS:\n",
    "\n",
    "Crashes=Crashes[Crashes['REPORT_TYPE']=='ON SCENE']\n",
    "#Crashes=Crashes.query('INJURIES_FATAL>0 or INJURIES_INCAPACITATING>0 or INJURIES_NON_INCAPACITATING>0')\n",
    "\n",
    "Crashes=Crashes.query(\"CRASH_TYPE == 'INJURY AND / OR TOW DUE TO CRASH'\")\n",
    "Crashes.dropna(subset=['FIRST_CONTACT_POINT'], inplace=True)\n",
    "\n",
    "\n",
    "#Vehicle = Vehicle[Vehicle_df['UNIT_NO']>1]\n",
    "veh_type=['PASSENGER','SPORT UTILITY VEHICLE (SUV)','VAN/MINI-VAN','PICKUP','TRUCK - SINGLE UNIT','BUS OVER 15 PASS.']\n",
    "Vehicle=Vehicle[Vehicle['VEHICLE_TYPE'].isin(veh_type)]\n",
    "\n",
    "Vehicle = Vehicle[Vehicle['VEHICLE_YEAR']<=date.today().year]  # ALSO REMOVES ALL THE NaN\n",
    "Vehicle = Vehicle[Vehicle['VEHICLE_YEAR']>1900]\n",
    "\n",
    "People = People.query('PERSON_TYPE == \"DRIVER\"')\n",
    "People = People.query('(AGE > 14 and AGE < 101) | AGE.isnull()', engine='python')  #\n",
    "People = People.query('DRIVERS_LICENSE_CLASS in (\"A\",\"B\",\"C\",\"D\",\"DM\",\"AM\",\"BM\",\"CD\") | DRIVERS_LICENSE_CLASS.isnull()', engine='python')\n",
    "\n",
    "temp_df1=pd.merge(People, Vehicle, on=['CRASH_RECORD_ID','VEHICLE_ID'])\n",
    "ALL_df=pd.merge(temp_df1, Crashes, on='CRASH_RECORD_ID')"
   ]
  },
  {
   "cell_type": "code",
   "execution_count": null,
   "id": "05235be8",
   "metadata": {},
   "outputs": [],
   "source": []
  },
  {
   "cell_type": "code",
   "execution_count": 29,
   "id": "8f3600f3",
   "metadata": {},
   "outputs": [],
   "source": [
    "# GENERATING TARGET THROUGH binning and combining sec and prim causes:\n",
    "\n",
    "targ_map ={ 'IMPROPER OVERTAKING/PASSING':'YES', 'UNABLE TO DETERMINE':'UNKNOWN',\n",
    "       'IMPROPER BACKING':'YES', 'IMPROPER LANE USAGE':'YES',\n",
    "       'UNDER THE INFLUENCE OF ALCOHOL/DRUGS (USE WHEN ARREST IS EFFECTED)':'YES',\n",
    "       'DISREGARDING TRAFFIC SIGNALS':'YES',\n",
    "       'FAILING TO REDUCE SPEED TO AVOID CRASH':'YES',\n",
    "       'OPERATING VEHICLE IN ERRATIC, RECKLESS, CARELESS, NEGLIGENT OR AGGRESSIVE MANNER':'YES',\n",
    "       'FAILING TO YIELD RIGHT-OF-WAY':'YES', 'EQUIPMENT - VEHICLE CONDITION':'NO',\n",
    "       'VISION OBSCURED (SIGNS, TREE LIMBS, BUILDINGS, ETC.)':'NO',\n",
    "       'IMPROPER TURNING/NO SIGNAL':'YES', 'FOLLOWING TOO CLOSELY':'YES',\n",
    "       'DRIVING SKILLS/KNOWLEDGE/EXPERIENCE':'YES', 'DISREGARDING STOP SIGN':'YES',\n",
    "       'NOT APPLICABLE':'UNKNOWN', 'DISTRACTION - FROM INSIDE VEHICLE':'NO',\n",
    "       'DISTRACTION - FROM OUTSIDE VEHICLE':'NO',\n",
    "       'HAD BEEN DRINKING (USE WHEN ARREST IS NOT MADE)':'YES',\n",
    "       'ROAD ENGINEERING/SURFACE/MARKING DEFECTS':'NO',\n",
    "       'DISREGARDING OTHER TRAFFIC SIGNS':'YES', 'TEXTING':'YES',\n",
    "       'DRIVING ON WRONG SIDE/WRONG WAY':'YES', 'PHYSICAL CONDITION OF DRIVER':'YES',\n",
    "       'ANIMAL':'NO', 'WEATHER':'NO', 'ROAD CONSTRUCTION/MAINTENANCE':'NO',\n",
    "       'DISREGARDING YIELD SIGN':'YES', 'CELL PHONE USE OTHER THAN TEXTING':'YES',\n",
    "       'EVASIVE ACTION DUE TO ANIMAL, OBJECT, NONMOTORIST':'NO',\n",
    "       'TURNING RIGHT ON RED':'YES', 'RELATED TO BUS STOP':'NO',\n",
    "       'DISTRACTION - OTHER ELECTRONIC DEVICE (NAVIGATION DEVICE, DVD PLAYER, ETC.)':'YES',\n",
    "       'DISREGARDING ROAD MARKINGS':'YES', 'OBSTRUCTED CROSSWALKS':'NO',\n",
    "       'PASSING STOPPED SCHOOL BUS':'YES',\n",
    "       'EXCEEDING SAFE SPEED FOR CONDITIONS':'YES',\n",
    "       'EXCEEDING AUTHORIZED SPEED LIMIT':'YES',\n",
    "       'MOTORCYCLE ADVANCING LEGALLY ON RED LIGHT':'NO',\n",
    "       'BICYCLE ADVANCING LEGALLY ON RED LIGHT':'NO'}\n",
    "\n",
    "def create_target(this_driver_action, driver_error, driver_sec_error, phys_condition):\n",
    "    if this_driver_action not in ['NONE','OTHER','UNKNOWN']:\n",
    "        guilty='YES'\n",
    "    elif this_driver_action == 'NONE':\n",
    "        guilty='NO'\n",
    "    elif this_driver_action in ['OTHER','UNKNOWN'] and phys_condition in ['MEDICATED','FATIGUED/ASLEEP','ILLNESS/FAINTED'] :\n",
    "        guilty='NO'        \n",
    "    else: \n",
    "        guilty = driver_error\n",
    "\n",
    "    if guilty == 'UNKNOWN' and driver_error == 'UNKNOWN' and driver_sec_error == 'NO':\n",
    "        guilty='NO'\n",
    "    return guilty\n",
    "\n",
    "ALL_df['SOME_DRIVER_ERROR']=ALL_df['PRIM_CONTRIBUTORY_CAUSE'].replace(targ_map)\n",
    "ALL_df['SOME_DRIVER_SEC_ERROR']=ALL_df['SEC_CONTRIBUTORY_CAUSE'].replace(targ_map)\n",
    "\n",
    "ALL_df['GUILTY']=ALL_df.apply(lambda row: create_target(row['DRIVER_ACTION'], row['SOME_DRIVER_ERROR'], \n",
    "                                                        row['SOME_DRIVER_SEC_ERROR'],row['PHYSICAL_CONDITION']), axis=1)\n",
    "\n",
    "ALL_df = ALL_df[ALL_df['GUILTY']!='UNKNOWN']"
   ]
  },
  {
   "cell_type": "code",
   "execution_count": 30,
   "id": "741a7183",
   "metadata": {},
   "outputs": [
    {
     "data": {
      "text/plain": [
       "(143909, 151)"
      ]
     },
     "execution_count": 30,
     "metadata": {},
     "output_type": "execute_result"
    }
   ],
   "source": [
    "ALL_df.shape"
   ]
  },
  {
   "cell_type": "code",
   "execution_count": 31,
   "id": "a5260a72",
   "metadata": {},
   "outputs": [],
   "source": [
    "# Dividing on training and testing sets\n",
    "\n",
    "y=ALL_df['GUILTY']\n",
    "ALL_COL=ALL_df.drop(['GUILTY'],axis=1)\n",
    "from sklearn.model_selection import train_test_split\n",
    "\n",
    "X_train, X_test, Y_train, Y_test = train_test_split(ALL_COL, y, random_state=100, stratify=y)\n",
    "\n",
    "train_df=pd.concat([X_train,Y_train], axis=1)\n",
    "test_df=pd.concat([X_test,Y_test], axis=1)"
   ]
  },
  {
   "cell_type": "code",
   "execution_count": 101,
   "id": "19f4c89f",
   "metadata": {},
   "outputs": [],
   "source": [
    "df=train_df.copy()"
   ]
  },
  {
   "cell_type": "code",
   "execution_count": 124,
   "id": "c18ffe70",
   "metadata": {},
   "outputs": [
    {
     "data": {
      "text/plain": [
       "[(16, 21]]\n",
       "Categories (8, interval[int64, right]): [(0, 16] < (16, 21] < (21, 24] < (24, 35] < (35, 55] < (55, 70] < (70, 80] < (80, 100]]"
      ]
     },
     "execution_count": 124,
     "metadata": {},
     "output_type": "execute_result"
    }
   ],
   "source": [
    "def age_categories (age, age_groups=[0, 16, 21, 24, 35, 55, 70, 80, 100]):\n",
    "    bins=[x for x in age_groups]\n",
    "    age_group=pd.cut(x=[age], bins=bins)\n",
    "    return age_group\n",
    "\n",
    "age_categories(18)\n",
    "\n"
   ]
  },
  {
   "cell_type": "code",
   "execution_count": 115,
   "id": "934e96e3",
   "metadata": {},
   "outputs": [
    {
     "data": {
      "text/plain": [
       "[(2019, 2022]]\n",
       "Categories (5, interval[int64, right]): [(1900, 1997] < (1997, 2007] < (2007, 2014] < (2014, 2019] < (2019, 2022]]"
      ]
     },
     "execution_count": 115,
     "metadata": {},
     "output_type": "execute_result"
    }
   ],
   "source": [
    "def car_age_categories (year, age_groups=[0,3,8,15,25]):    \n",
    "    latest=date.today().year\n",
    "\n",
    "    oldest=1900\n",
    "    bins=[x for x in age_groups]\n",
    "    bins=np.sort(np.abs(np.array(bins)-latest))\n",
    "    bins=np.insert(bins, 0, oldest)\n",
    "    \n",
    "    car_age_cat=pd.cut(x=[year], bins=bins)\n",
    "    return car_age_cat\n",
    "    \n",
    "    \n",
    "car_age_categories(2022)"
   ]
  },
  {
   "cell_type": "code",
   "execution_count": 129,
   "id": "f108eb9b",
   "metadata": {},
   "outputs": [
    {
     "data": {
      "text/plain": [
       "nan"
      ]
     },
     "execution_count": 129,
     "metadata": {},
     "output_type": "execute_result"
    }
   ],
   "source": [
    "def select_license_class(dl_code):\n",
    "    dl = np.NaN\n",
    "    if dl_code in [\"A\",\"B\",\"C\",\"AM\",\"BM\",\"CD\",\"S\"]:\n",
    "        dl='Commercial'\n",
    "    elif dl_code in ('DM','D'):\n",
    "        dl='Regular'\n",
    "    return dl\n",
    "\n",
    "select_license_class('AB')"
   ]
  },
  {
   "cell_type": "code",
   "execution_count": 104,
   "id": "edf1ea2b",
   "metadata": {},
   "outputs": [],
   "source": [
    "df['NUM_PASSENGERS']=df['NUM_PASSENGERS'].fillna(0)"
   ]
  },
  {
   "cell_type": "code",
   "execution_count": 171,
   "id": "cb2e408d",
   "metadata": {},
   "outputs": [
    {
     "data": {
      "text/plain": [
       "14758"
      ]
     },
     "execution_count": 171,
     "metadata": {},
     "output_type": "execute_result"
    }
   ],
   "source": [
    "col=['GUILTY','DEVICE_CONDITION', 'FIRST_CRASH_TYPE', 'FIRST_CONTACT_POINT', \n",
    "           'TRAFFICWAY_TYPE','ROADWAY_SURFACE_COND','ROAD_DEFECT','POSTED_SPEED_LIMIT','VEHICLE_DEFECT',\n",
    "            'ALIGNMENT', 'LIGHTING_CONDITION', 'WEATHER_CONDITION','SEX','DRIVERS_LICENSE_CLASS',  \n",
    "            'PHYSICAL_CONDITION', 'MANEUVER','NUM_PASSENGERS',  'DRIVER_VISION']\n",
    "\n",
    "#df[col].info(verbose=True, show_counts=True)\n",
    "\n",
    "#df=df[df['DRIVERS_LICENSE_CLASS'].isin([\"A\",\"B\",\"C\",\"D\",\"DM\",\"AM\",\"BM\",\"CD\"])]\n",
    "#df[~df['DRIVERS_LICENSE_CLASS']]\n",
    "\n"
   ]
  },
  {
   "cell_type": "code",
   "execution_count": null,
   "id": "19f4038d",
   "metadata": {},
   "outputs": [],
   "source": [
    "#df['INTERSECTION_RELATED_I']=df['INTERSECTION_RELATED_I'].fillna('UNKNOWN')\n",
    "\n",
    "#df['FIRST_CONTACT_POINT']=df['FIRST_CONTACT_POINT'].fillna('UNKNOWN')\n",
    "\n",
    "driver_license_pipeline = Pipeline([\n",
    "('dl_imputer', SimpleImputer(strategy = 'most_frequent')),\n",
    "(\"select_license_class\", FunctionTransformer(select_license_class))\n",
    "('dl_ord_encoder', OrdinalEncoder(categories = ['Regular','Commercial']))\n",
    " ])\n",
    "\n",
    "feature_eng = ColumnTransformer(transformers=[\n",
    "    (\"car_age_categories\", FunctionTransformer(car_age_categories), ['VEHICLE_YEAR']),\n",
    "    (\"age_categories\", FunctionTransformer(age_categories), [\"AGE\"]),\n",
    "    ( \"passeng_imputer\", SimpleImputer(strategy = 'constant', fill_value=0)),\n",
    "], remainder=\"drop\")\n",
    "\n",
    "#feature_eng2 = ColumnTransformer(transformers=[\n",
    "#    (\"age_categories\", FunctionTransformer(age_categories), [\"AGE\"])\n",
    "#], remainder=\"drop\")\n",
    "\n",
    "\n"
   ]
  },
  {
   "cell_type": "code",
   "execution_count": 188,
   "id": "92682eda",
   "metadata": {
    "scrolled": true
   },
   "outputs": [
    {
     "data": {
      "text/plain": [
       "0"
      ]
     },
     "execution_count": 188,
     "metadata": {},
     "output_type": "execute_result"
    }
   ],
   "source": [
    "\n",
    "df['FIRST_CONTACT_POINT'].isna().sum()"
   ]
  }
 ],
 "metadata": {
  "kernelspec": {
   "display_name": "Python 3 (ipykernel)",
   "language": "python",
   "name": "python3"
  },
  "language_info": {
   "codemirror_mode": {
    "name": "ipython",
    "version": 3
   },
   "file_extension": ".py",
   "mimetype": "text/x-python",
   "name": "python",
   "nbconvert_exporter": "python",
   "pygments_lexer": "ipython3",
   "version": "3.9.7"
  }
 },
 "nbformat": 4,
 "nbformat_minor": 5
}
